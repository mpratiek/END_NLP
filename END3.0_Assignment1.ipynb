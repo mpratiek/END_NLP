{
  "nbformat": 4,
  "nbformat_minor": 0,
  "metadata": {
    "colab": {
      "name": "Untitled48.ipynb",
      "provenance": [],
      "authorship_tag": "ABX9TyM/k8PIaCNCzF1IKhT9xjXF",
      "include_colab_link": true
    },
    "kernelspec": {
      "name": "python3",
      "display_name": "Python 3"
    },
    "language_info": {
      "name": "python"
    }
  },
  "cells": [
    {
      "cell_type": "markdown",
      "metadata": {
        "id": "view-in-github",
        "colab_type": "text"
      },
      "source": [
        "<a href=\"https://colab.research.google.com/github/mpratiek/END_NLP/blob/main/END3.0_Assignment1.ipynb\" target=\"_parent\"><img src=\"https://colab.research.google.com/assets/colab-badge.svg\" alt=\"Open In Colab\"/></a>"
      ]
    },
    {
      "cell_type": "code",
      "metadata": {
        "colab": {
          "base_uri": "https://localhost:8080/"
        },
        "id": "Ed85i1s1GhO3",
        "outputId": "12a8da2d-55dc-4dc5-ae6e-816b6aa729be"
      },
      "source": [
        "import torch\n",
        "from torch.autograd import Variable\n",
        "import torch.nn as nn\n",
        "import torch.nn.functional as F\n",
        "import torch.optim as optim\n",
        "import numpy as np\n",
        "import matplotlib.pyplot as plt\n",
        "%matplotlib inline\n",
        "torch.manual_seed(2)"
      ],
      "execution_count": 1,
      "outputs": [
        {
          "output_type": "execute_result",
          "data": {
            "text/plain": [
              "<torch._C.Generator at 0x7fc58a85ab90>"
            ]
          },
          "metadata": {},
          "execution_count": 1
        }
      ]
    },
    {
      "cell_type": "code",
      "metadata": {
        "colab": {
          "base_uri": "https://localhost:8080/"
        },
        "id": "4T5Vx0uQsWoH",
        "outputId": "c0225e52-da9f-46ea-fcc5-3de0908eefb3"
      },
      "source": [
        "print(torch.__version__)"
      ],
      "execution_count": 2,
      "outputs": [
        {
          "output_type": "stream",
          "name": "stdout",
          "text": [
            "1.9.0+cu102\n"
          ]
        }
      ]
    },
    {
      "cell_type": "code",
      "metadata": {
        "id": "svE5WiswGjPm"
      },
      "source": [
        "X = torch.Tensor([[0,0], [0,1], [1,0], [1,1]])\n",
        "Y = torch.Tensor([0, 1, 1, 0]).view(-1,1)"
      ],
      "execution_count": 3,
      "outputs": []
    },
    {
      "cell_type": "code",
      "metadata": {
        "id": "WvuIeGgxGldk"
      },
      "source": [
        "# XOR_method1 : Uses 3 Linear layers to get the total parameters 44, changed activations from \"tanh\" to \"sigmoid\", removed activation from last layer\n",
        "class XOR_method1(nn.Module):\n",
        "    def __init__(self, input_dim = 2, output_dim=1):\n",
        "        super(XOR_method1, self).__init__()\n",
        "        self.lin1 = nn.Linear(input_dim, 5)\n",
        "        self.lin2 = nn.Linear(5, 4)\n",
        "        self.lin3 = nn.Linear(4, output_dim)\n",
        "    \n",
        "    def forward(self, x):\n",
        "        x = self.lin1(x)\n",
        "        x = F.sigmoid(x)      # Changed activation from tanh to sigmoid for better predictions\n",
        "        x = self.lin2(x)\n",
        "        x = F.sigmoid(x)\n",
        "        x = self.lin3(x)\n",
        "        return x"
      ],
      "execution_count": 4,
      "outputs": []
    },
    {
      "cell_type": "code",
      "metadata": {
        "id": "CekqgkguGou4"
      },
      "source": [
        "# XOR_method2 : Uses 2 Linear layers to get the total parameters 44, changed activations from \"tanh\" to \"sigmoid\", removed activation from last layer\n",
        "class XOR_method2(nn.Module):\n",
        "    def __init__(self, input_dim = 2, output_dim=1):\n",
        "        super(XOR_method2, self).__init__()\n",
        "        self.lin1 = nn.Linear(input_dim, 11)\n",
        "        self.lin2 = nn.Linear(11, output_dim, bias = False)\n",
        "    \n",
        "    def forward(self, x):\n",
        "        x = self.lin1(x)\n",
        "        x = F.sigmoid(x)      # Changed activation from tanh to sigmoid for better predictions\n",
        "        x = self.lin2(x)\n",
        "        return x"
      ],
      "execution_count": 5,
      "outputs": []
    },
    {
      "cell_type": "code",
      "metadata": {
        "id": "_TdktUMeXTCQ"
      },
      "source": [
        "class XOR_method3(nn.Module):\n",
        "    def __init__(self, input_dim = 2, output_dim=1):\n",
        "        super(XOR_method3, self).__init__()\n",
        "        self.lin1 = nn.Linear(input_dim, 2)\n",
        "        self.lin2 = nn.Linear(2, 2)\n",
        "        self.lin3 = nn.Linear(2, 2)\n",
        "        self.lin4 = nn.Linear(2, 2)\n",
        "        self.lin5 = nn.Linear(2, 2)\n",
        "        self.lin6 = nn.Linear(2, 2)\n",
        "        self.lin7 = nn.Linear(2, 2)\n",
        "        self.lin8 = nn.Linear(2, 2)\n",
        "        \n",
        "\n",
        "        self.lin9 = nn.Linear(2, output_dim, bias = False)\n",
        "    \n",
        "    def forward(self, x):\n",
        "        x = self.lin1(x)\n",
        "        x = F.sigmoid(x)      # Changed activation from tanh to sigmoid for better predictions\n",
        "        x = self.lin3(x)\n",
        "        x = F.sigmoid(x)      # Changed activation from tanh to sigmoid for better predictions\n",
        "        x = self.lin4(x)\n",
        "        x = F.sigmoid(x)      # Changed activation from tanh to sigmoid for better predictions\n",
        "        x = self.lin5(x)\n",
        "        x = F.sigmoid(x)      # Changed activation from tanh to sigmoid for better predictions\n",
        "        x = self.lin6(x)\n",
        "        x = F.sigmoid(x)\n",
        "        x = self.lin7(x)\n",
        "        x = F.sigmoid(x)\n",
        "        x = self.lin8(x)\n",
        "        x = F.sigmoid(x)\n",
        "       \n",
        "        x = self.lin9(x)\n",
        "        \n",
        "    \n",
        "        return x"
      ],
      "execution_count": 6,
      "outputs": []
    },
    {
      "cell_type": "code",
      "metadata": {
        "id": "bpRBRuLWX661"
      },
      "source": [
        ""
      ],
      "execution_count": 6,
      "outputs": []
    },
    {
      "cell_type": "code",
      "metadata": {
        "colab": {
          "base_uri": "https://localhost:8080/"
        },
        "id": "xbLIYkl1Gtet",
        "outputId": "3460c74f-fbc2-4e9d-9ecb-d9258111f1c7"
      },
      "source": [
        "# Model Summary for XOR_Method1\n",
        "model_1 = XOR_method1()\n",
        "print(model_1)\n",
        "from torchsummary import summary\n",
        "summary(model_1, (2,2))"
      ],
      "execution_count": 7,
      "outputs": [
        {
          "output_type": "stream",
          "name": "stdout",
          "text": [
            "XOR_method1(\n",
            "  (lin1): Linear(in_features=2, out_features=5, bias=True)\n",
            "  (lin2): Linear(in_features=5, out_features=4, bias=True)\n",
            "  (lin3): Linear(in_features=4, out_features=1, bias=True)\n",
            ")\n",
            "----------------------------------------------------------------\n",
            "        Layer (type)               Output Shape         Param #\n",
            "================================================================\n",
            "            Linear-1                 [-1, 2, 5]              15\n",
            "            Linear-2                 [-1, 2, 4]              24\n",
            "            Linear-3                 [-1, 2, 1]               5\n",
            "================================================================\n",
            "Total params: 44\n",
            "Trainable params: 44\n",
            "Non-trainable params: 0\n",
            "----------------------------------------------------------------\n",
            "Input size (MB): 0.00\n",
            "Forward/backward pass size (MB): 0.00\n",
            "Params size (MB): 0.00\n",
            "Estimated Total Size (MB): 0.00\n",
            "----------------------------------------------------------------\n"
          ]
        },
        {
          "output_type": "stream",
          "name": "stderr",
          "text": [
            "/usr/local/lib/python3.7/dist-packages/torch/nn/functional.py:1805: UserWarning: nn.functional.sigmoid is deprecated. Use torch.sigmoid instead.\n",
            "  warnings.warn(\"nn.functional.sigmoid is deprecated. Use torch.sigmoid instead.\")\n"
          ]
        }
      ]
    },
    {
      "cell_type": "code",
      "metadata": {
        "colab": {
          "base_uri": "https://localhost:8080/"
        },
        "id": "uXrjlX-_GwJj",
        "outputId": "20320701-187e-4fbe-e087-14a8bcf99998"
      },
      "source": [
        "## Model Summary for XOR_Method2\n",
        "model_2 = XOR_method2()\n",
        "print(model_2)\n",
        "from torchsummary import summary\n",
        "summary(model_2, (2,2))"
      ],
      "execution_count": 8,
      "outputs": [
        {
          "output_type": "stream",
          "name": "stdout",
          "text": [
            "XOR_method2(\n",
            "  (lin1): Linear(in_features=2, out_features=11, bias=True)\n",
            "  (lin2): Linear(in_features=11, out_features=1, bias=False)\n",
            ")\n",
            "----------------------------------------------------------------\n",
            "        Layer (type)               Output Shape         Param #\n",
            "================================================================\n",
            "            Linear-1                [-1, 2, 11]              33\n",
            "            Linear-2                 [-1, 2, 1]              11\n",
            "================================================================\n",
            "Total params: 44\n",
            "Trainable params: 44\n",
            "Non-trainable params: 0\n",
            "----------------------------------------------------------------\n",
            "Input size (MB): 0.00\n",
            "Forward/backward pass size (MB): 0.00\n",
            "Params size (MB): 0.00\n",
            "Estimated Total Size (MB): 0.00\n",
            "----------------------------------------------------------------\n"
          ]
        },
        {
          "output_type": "stream",
          "name": "stderr",
          "text": [
            "/usr/local/lib/python3.7/dist-packages/torch/nn/functional.py:1805: UserWarning: nn.functional.sigmoid is deprecated. Use torch.sigmoid instead.\n",
            "  warnings.warn(\"nn.functional.sigmoid is deprecated. Use torch.sigmoid instead.\")\n"
          ]
        }
      ]
    },
    {
      "cell_type": "code",
      "metadata": {
        "colab": {
          "base_uri": "https://localhost:8080/"
        },
        "id": "D1rN-w_QCgIP",
        "outputId": "d5fbe80a-4457-4f4d-9583-6af4b3e71dab"
      },
      "source": [
        "# Model Summary for XOR_Method1\n",
        "model_3 = XOR_method3()\n",
        "print(model_3)\n",
        "from torchsummary import summary\n",
        "summary(model_3, (2,2))"
      ],
      "execution_count": 9,
      "outputs": [
        {
          "output_type": "stream",
          "name": "stdout",
          "text": [
            "XOR_method3(\n",
            "  (lin1): Linear(in_features=2, out_features=2, bias=True)\n",
            "  (lin2): Linear(in_features=2, out_features=2, bias=True)\n",
            "  (lin3): Linear(in_features=2, out_features=2, bias=True)\n",
            "  (lin4): Linear(in_features=2, out_features=2, bias=True)\n",
            "  (lin5): Linear(in_features=2, out_features=2, bias=True)\n",
            "  (lin6): Linear(in_features=2, out_features=2, bias=True)\n",
            "  (lin7): Linear(in_features=2, out_features=2, bias=True)\n",
            "  (lin8): Linear(in_features=2, out_features=2, bias=True)\n",
            "  (lin9): Linear(in_features=2, out_features=1, bias=False)\n",
            ")\n",
            "----------------------------------------------------------------\n",
            "        Layer (type)               Output Shape         Param #\n",
            "================================================================\n",
            "            Linear-1                 [-1, 2, 2]               6\n",
            "            Linear-2                 [-1, 2, 2]               6\n",
            "            Linear-3                 [-1, 2, 2]               6\n",
            "            Linear-4                 [-1, 2, 2]               6\n",
            "            Linear-5                 [-1, 2, 2]               6\n",
            "            Linear-6                 [-1, 2, 2]               6\n",
            "            Linear-7                 [-1, 2, 2]               6\n",
            "            Linear-8                 [-1, 2, 1]               2\n",
            "================================================================\n",
            "Total params: 44\n",
            "Trainable params: 44\n",
            "Non-trainable params: 0\n",
            "----------------------------------------------------------------\n",
            "Input size (MB): 0.00\n",
            "Forward/backward pass size (MB): 0.00\n",
            "Params size (MB): 0.00\n",
            "Estimated Total Size (MB): 0.00\n",
            "----------------------------------------------------------------\n"
          ]
        },
        {
          "output_type": "stream",
          "name": "stderr",
          "text": [
            "/usr/local/lib/python3.7/dist-packages/torch/nn/functional.py:1805: UserWarning: nn.functional.sigmoid is deprecated. Use torch.sigmoid instead.\n",
            "  warnings.warn(\"nn.functional.sigmoid is deprecated. Use torch.sigmoid instead.\")\n"
          ]
        }
      ]
    },
    {
      "cell_type": "code",
      "metadata": {
        "id": "DOPgRhofG2wC"
      },
      "source": [
        "############### This is automatically taken care by Pytorch.. Since we are not using this function in below code ###################3\n",
        "def weights_init(model):\n",
        "    for m in model.modules():\n",
        "        if isinstance(m, nn.Linear):\n",
        "            # initialize the weight tensor, here we use a normal distribution\n",
        "            m.weight.data.normal_(0, 1)\n",
        "\n",
        "weights_init(model_1)\n",
        "weights_init(model_2)\n",
        "weights_init(model_3)"
      ],
      "execution_count": 10,
      "outputs": []
    },
    {
      "cell_type": "code",
      "metadata": {
        "id": "ND4Y9McBQFIZ"
      },
      "source": [
        "# for param in model_1.parameters():\n",
        "#   print(param.data)"
      ],
      "execution_count": 11,
      "outputs": []
    },
    {
      "cell_type": "code",
      "metadata": {
        "id": "uvYN_TE5RwCq"
      },
      "source": [
        "# for param in model_2.parameters():\n",
        "#   print(param.data)"
      ],
      "execution_count": 12,
      "outputs": []
    },
    {
      "cell_type": "code",
      "metadata": {
        "id": "XOowZMjxG5Ou"
      },
      "source": [
        "loss_func = nn.MSELoss() #nn.L1Loss() # Modified loss function to get better predictions"
      ],
      "execution_count": 13,
      "outputs": []
    },
    {
      "cell_type": "code",
      "metadata": {
        "id": "Kf30xZnVG8MJ"
      },
      "source": [
        "# Modified optimizer from SGD to Adam since its considered to include benefits of SGD \n",
        "optimizer_1 = optim.Adam(model_1.parameters(), lr=0.02) #optim.SGD(model_1.parameters(), lr=0.02, momentum=0.9)\n",
        "optimizer_2 = optim.Adam(model_2.parameters(), lr=0.02) #optim.SGD(model_2.parameters(), lr=0.02, momentum=0.9)\n",
        "optimizer_3 = optim.Adam(model_3.parameters(), lr=0.02) #optim.SGD(model_2.parameters(), lr=0.02, momentum=0.9)"
      ],
      "execution_count": 14,
      "outputs": []
    },
    {
      "cell_type": "code",
      "metadata": {
        "id": "-oW7GVCBuH6m"
      },
      "source": [
        "def plot_grad_flow(named_parameters):\n",
        "    ave_grads = []\n",
        "    layers = []\n",
        "    for n, p in named_parameters:\n",
        "        if(p.requires_grad) and (\"bias\" not in n):\n",
        "            layers.append(n)\n",
        "            if p.grad == None:\n",
        "              continue\n",
        "            else:\n",
        "              ave_grads.append(p.grad.abs().mean())\n",
        "            \n",
        "    plt.plot(ave_grads, alpha=0.3)#, color=\"b\")\n",
        "    plt.hlines(0, 0, len(ave_grads)+1, linewidth=1, color=\"k\" )\n",
        "    plt.xticks(range(0,len(ave_grads), 1), layers, rotation=\"vertical\")\n",
        "    plt.xlim(xmin=0, xmax=len(ave_grads))\n",
        "    plt.xlabel(\"Layers\")\n",
        "    plt.ylabel(\"average gradient\")\n",
        "    plt.title(\"Gradient flow\")\n",
        "    plt.grid(True)\n",
        "    return ave_grads"
      ],
      "execution_count": 15,
      "outputs": []
    },
    {
      "cell_type": "code",
      "metadata": {
        "colab": {
          "base_uri": "https://localhost:8080/",
          "height": 229
        },
        "id": "1xLhDkMTNdQO",
        "outputId": "c983ce9d-28da-4076-acbb-39b048167fde"
      },
      "source": [
        "for n, p in model_1.named_parameters():\n",
        "  print(n)\n",
        "  print(p.grad)\n",
        "  print(p.grad.abs().mean())"
      ],
      "execution_count": 16,
      "outputs": [
        {
          "output_type": "stream",
          "name": "stdout",
          "text": [
            "lin1.weight\n",
            "None\n"
          ]
        },
        {
          "output_type": "error",
          "ename": "AttributeError",
          "evalue": "ignored",
          "traceback": [
            "\u001b[0;31m---------------------------------------------------------------------------\u001b[0m",
            "\u001b[0;31mAttributeError\u001b[0m                            Traceback (most recent call last)",
            "\u001b[0;32m<ipython-input-16-f1578a70db09>\u001b[0m in \u001b[0;36m<module>\u001b[0;34m()\u001b[0m\n\u001b[1;32m      2\u001b[0m   \u001b[0mprint\u001b[0m\u001b[0;34m(\u001b[0m\u001b[0mn\u001b[0m\u001b[0;34m)\u001b[0m\u001b[0;34m\u001b[0m\u001b[0;34m\u001b[0m\u001b[0m\n\u001b[1;32m      3\u001b[0m   \u001b[0mprint\u001b[0m\u001b[0;34m(\u001b[0m\u001b[0mp\u001b[0m\u001b[0;34m.\u001b[0m\u001b[0mgrad\u001b[0m\u001b[0;34m)\u001b[0m\u001b[0;34m\u001b[0m\u001b[0;34m\u001b[0m\u001b[0m\n\u001b[0;32m----> 4\u001b[0;31m   \u001b[0mprint\u001b[0m\u001b[0;34m(\u001b[0m\u001b[0mp\u001b[0m\u001b[0;34m.\u001b[0m\u001b[0mgrad\u001b[0m\u001b[0;34m.\u001b[0m\u001b[0mabs\u001b[0m\u001b[0;34m(\u001b[0m\u001b[0;34m)\u001b[0m\u001b[0;34m.\u001b[0m\u001b[0mmean\u001b[0m\u001b[0;34m(\u001b[0m\u001b[0;34m)\u001b[0m\u001b[0;34m)\u001b[0m\u001b[0;34m\u001b[0m\u001b[0;34m\u001b[0m\u001b[0m\n\u001b[0m",
            "\u001b[0;31mAttributeError\u001b[0m: 'NoneType' object has no attribute 'abs'"
          ]
        }
      ]
    },
    {
      "cell_type": "code",
      "metadata": {
        "colab": {
          "base_uri": "https://localhost:8080/",
          "height": 1000
        },
        "id": "MxYRhBFwG-_y",
        "outputId": "18d01fbe-c321-4cc1-c259-3b2cb2924542"
      },
      "source": [
        "epochs = 2100          # Number of epochs changed to 2100\n",
        "steps = X.size(0)\n",
        "Loss_method1 = []\n",
        "Loss_method2 = []\n",
        "Loss_method3 = []\n",
        "\n",
        "\n",
        "for i in range(epochs):\n",
        "    for j in range(steps):\n",
        "        data_point = np.random.randint(X.size(0))\n",
        "        x_var = Variable(X[data_point], requires_grad=False)\n",
        "        y_var = Variable(Y[data_point], requires_grad=False)\n",
        "        \n",
        "        ########### Training Method-1 Model ###################################\n",
        "        optimizer_1.zero_grad()\n",
        "        y_hat_1 = model_1(x_var)\n",
        "        loss_1 = loss_func.forward(y_hat_1, y_var)\n",
        "        loss_1.backward()\n",
        "        if i==2000:\n",
        "          ave_grad_2000 = plot_grad_flow(model_1.named_parameters())\n",
        "        if i==0:\n",
        "          ave_grad_0 = plot_grad_flow(model_1.named_parameters())\n",
        "        optimizer_1.step()\n",
        "\n",
        "    \n",
        "    ## Collecting losses separately for each method\n",
        "    Loss_method1.append(loss_1) \n",
        "    \n",
        "\n",
        "    # Printing out Loss values for every 50 epochs for both the methods\n",
        "    # if i % 50 == 0:\n",
        "    #     print( \"Epoch: {0}, Loss_method1: {1}, Loss_method2: {2},Loss_method3: {3} \".format(i, loss_1.data.numpy(), loss_2.data.numpy(),loss_3.data.numpy()))\n",
        "    if i % 50 == 0:\n",
        "        print( \"Epoch: {0}, Loss_method1: {1} \".format(i, loss_1.data.numpy()))"
      ],
      "execution_count": 17,
      "outputs": [
        {
          "output_type": "stream",
          "name": "stderr",
          "text": [
            "/usr/local/lib/python3.7/dist-packages/torch/nn/functional.py:1805: UserWarning: nn.functional.sigmoid is deprecated. Use torch.sigmoid instead.\n",
            "  warnings.warn(\"nn.functional.sigmoid is deprecated. Use torch.sigmoid instead.\")\n"
          ]
        },
        {
          "output_type": "stream",
          "name": "stdout",
          "text": [
            "Epoch: 0, Loss_method1: 0.03706923872232437 \n",
            "Epoch: 50, Loss_method1: 0.0414612703025341 \n",
            "Epoch: 100, Loss_method1: 0.5823915004730225 \n",
            "Epoch: 150, Loss_method1: 0.38133856654167175 \n",
            "Epoch: 200, Loss_method1: 0.019543210044503212 \n",
            "Epoch: 250, Loss_method1: 0.012194725684821606 \n",
            "Epoch: 300, Loss_method1: 3.573240519472165e-06 \n",
            "Epoch: 350, Loss_method1: 3.2741809263825417e-09 \n",
            "Epoch: 400, Loss_method1: 1.9453239019640023e-10 \n",
            "Epoch: 450, Loss_method1: 9.672262990534364e-13 \n",
            "Epoch: 500, Loss_method1: 5.684341886080802e-14 \n",
            "Epoch: 550, Loss_method1: 5.684341886080802e-14 \n",
            "Epoch: 600, Loss_method1: 0.0 \n",
            "Epoch: 650, Loss_method1: 1.4210854715202004e-14 \n",
            "Epoch: 700, Loss_method1: 1.4210854715202004e-14 \n",
            "Epoch: 750, Loss_method1: 0.0 \n",
            "Epoch: 800, Loss_method1: 0.0 \n",
            "Epoch: 850, Loss_method1: 4.3520742565306136e-14 \n",
            "Epoch: 900, Loss_method1: 8.881784197001252e-16 \n",
            "Epoch: 950, Loss_method1: 0.0 \n",
            "Epoch: 1000, Loss_method1: 1.4210854715202004e-14 \n",
            "Epoch: 1050, Loss_method1: 0.0 \n",
            "Epoch: 1100, Loss_method1: 0.0 \n",
            "Epoch: 1150, Loss_method1: 8.881784197001252e-16 \n",
            "Epoch: 1200, Loss_method1: 3.197442310920451e-14 \n",
            "Epoch: 1250, Loss_method1: 3.206324095117452e-13 \n",
            "Epoch: 1300, Loss_method1: 1.3509193763638905e-12 \n",
            "Epoch: 1350, Loss_method1: 3.842615114990622e-11 \n",
            "Epoch: 1400, Loss_method1: 1.3183496321289567e-06 \n",
            "Epoch: 1450, Loss_method1: 9.18703808565624e-05 \n",
            "Epoch: 1500, Loss_method1: 0.00046327925520017743 \n",
            "Epoch: 1550, Loss_method1: 0.0001471894938731566 \n",
            "Epoch: 1600, Loss_method1: 7.65618324294337e-09 \n",
            "Epoch: 1650, Loss_method1: 3.197442310920451e-12 \n",
            "Epoch: 1700, Loss_method1: 9.094947017729282e-13 \n",
            "Epoch: 1750, Loss_method1: 8.881784197001252e-16 \n",
            "Epoch: 1800, Loss_method1: 1.4210854715202004e-12 \n",
            "Epoch: 1850, Loss_method1: 1.035971308738226e-11 \n",
            "Epoch: 1900, Loss_method1: 1.1141310096718371e-11 \n",
            "Epoch: 1950, Loss_method1: 1.5475620784854982e-09 \n",
            "Epoch: 2000, Loss_method1: 1.3785792361886706e-05 \n",
            "Epoch: 2050, Loss_method1: 0.00376718956977129 \n"
          ]
        },
        {
          "output_type": "display_data",
          "data": {
            "image/png": "[encoded data removed]",
            "text/plain": [
              "<Figure size 432x288 with 1 Axes>"
            ]
          },
          "metadata": {
            "needs_background": "light"
          }
        }
      ]
    },
    {
      "cell_type": "code",
      "metadata": {
        "id": "ASl0JBO3HIsL"
      },
      "source": [
        "  for i in range(epochs):\n",
        "    for j in range(steps):\n",
        "        data_point = np.random.randint(X.size(0))\n",
        "        x_var = Variable(X[data_point], requires_grad=False)\n",
        "        y_var = Variable(Y[data_point], requires_grad=False)\n",
        "  \n",
        "  ########### Training Method-2 Model ###################################\n",
        "        optimizer_2.zero_grad()\n",
        "        y_hat_2 = model_2(x_var)\n",
        "        loss_2 = loss_func.forward(y_hat_2, y_var)\n",
        "        loss_2.backward()\n",
        "        if i == 0 or i ==2099:\n",
        "          plot_grad_flow(model_2.named_parameters())\n",
        "        optimizer_2.step()   \n",
        "\n",
        "        \n",
        "\n",
        "  Loss_method2.append(loss_2)\n",
        "  \n",
        "\n",
        "  if i % 50 == 0:\n",
        "    print( \"Epoch: {0}, Loss_method2: {1} \".format(i, loss_2.data.numpy()))"
      ],
      "execution_count": null,
      "outputs": []
    },
    {
      "cell_type": "code",
      "metadata": {
        "colab": {
          "base_uri": "https://localhost:8080/"
        },
        "id": "FwHhuQ1rSOHu",
        "outputId": "23188363-6201-4ead-cf2f-4b60b21a4791"
      },
      "source": [
        "# ave_grad_0"
      ],
      "execution_count": 18,
      "outputs": [
        {
          "output_type": "execute_result",
          "data": {
            "text/plain": [
              "[tensor(0.0160), tensor(0.0264), tensor(0.2111)]"
            ]
          },
          "metadata": {},
          "execution_count": 18
        }
      ]
    },
    {
      "cell_type": "code",
      "metadata": {
        "colab": {
          "base_uri": "https://localhost:8080/"
        },
        "id": "d7psB7n_SQ-K",
        "outputId": "77dba122-d51e-4b9d-b528-49c3f0bf5e98"
      },
      "source": [
        "# ave_grad_2000"
      ],
      "execution_count": 19,
      "outputs": [
        {
          "output_type": "execute_result",
          "data": {
            "text/plain": [
              "[tensor(0.), tensor(0.0005), tensor(0.0032)]"
            ]
          },
          "metadata": {},
          "execution_count": 19
        }
      ]
    },
    {
      "cell_type": "code",
      "metadata": {
        "colab": {
          "base_uri": "https://localhost:8080/",
          "height": 1000
        },
        "id": "LiVyZSqyHIu7",
        "outputId": "3643ace6-c2b6-49b4-921d-30ee5d1971dd"
      },
      "source": [
        "for i in range(epochs):\n",
        "  for j in range(steps):\n",
        "    data_point = np.random.randint(X.size(0))\n",
        "    x_var = Variable(X[data_point], requires_grad=False)\n",
        "    y_var = Variable(Y[data_point], requires_grad=False)\n",
        "\n",
        "    ########### Training Method-3 Model ###################################\n",
        "    optimizer_3.zero_grad()\n",
        "    y_hat_3 = model_3(x_var)\n",
        "    loss_3 = loss_func.forward(y_hat_3, y_var)\n",
        "    loss_3.backward()\n",
        "    if i == 0:\n",
        "      ave_grad_3_0 = plot_grad_flow(model_3.named_parameters())\n",
        "    if i == 100:\n",
        "      ave_grad_3_100 = plot_grad_flow(model_3.named_parameters())\n",
        "    optimizer_3.step()\n",
        "\n",
        "  Loss_method3.append(loss_3)\n",
        "  if i % 50 == 0:\n",
        "    print( \"Epoch: {0}, Loss_method3: {1} \".format(i, loss_3.data.numpy()))"
      ],
      "execution_count": 20,
      "outputs": [
        {
          "output_type": "stream",
          "name": "stderr",
          "text": [
            "/usr/local/lib/python3.7/dist-packages/torch/nn/functional.py:1805: UserWarning: nn.functional.sigmoid is deprecated. Use torch.sigmoid instead.\n",
            "  warnings.warn(\"nn.functional.sigmoid is deprecated. Use torch.sigmoid instead.\")\n"
          ]
        },
        {
          "output_type": "stream",
          "name": "stdout",
          "text": [
            "Epoch: 0, Loss_method3: 1.1641627550125122 \n",
            "Epoch: 50, Loss_method3: 0.1746538281440735 \n",
            "Epoch: 100, Loss_method3: 0.2654074728488922 \n",
            "Epoch: 150, Loss_method3: 0.3574441075325012 \n",
            "Epoch: 200, Loss_method3: 0.17480149865150452 \n",
            "Epoch: 250, Loss_method3: 0.3631850779056549 \n",
            "Epoch: 300, Loss_method3: 0.3576180338859558 \n",
            "Epoch: 350, Loss_method3: 0.29753172397613525 \n",
            "Epoch: 400, Loss_method3: 0.2557584047317505 \n",
            "Epoch: 450, Loss_method3: 0.00783529318869114 \n",
            "Epoch: 500, Loss_method3: 0.4169952869415283 \n",
            "Epoch: 550, Loss_method3: 2.1018106053816155e-05 \n",
            "Epoch: 600, Loss_method3: 0.09963507950305939 \n",
            "Epoch: 650, Loss_method3: 0.0018035674002021551 \n",
            "Epoch: 700, Loss_method3: 0.12069109082221985 \n",
            "Epoch: 750, Loss_method3: 0.4601738750934601 \n",
            "Epoch: 800, Loss_method3: 0.3694269359111786 \n",
            "Epoch: 850, Loss_method3: 0.09259588271379471 \n",
            "Epoch: 900, Loss_method3: 0.10205225646495819 \n",
            "Epoch: 950, Loss_method3: 0.1690533459186554 \n",
            "Epoch: 1000, Loss_method3: 0.05421644449234009 \n",
            "Epoch: 1050, Loss_method3: 0.3842439353466034 \n",
            "Epoch: 1100, Loss_method3: 0.1383160501718521 \n",
            "Epoch: 1150, Loss_method3: 0.07665473967790604 \n",
            "Epoch: 1200, Loss_method3: 0.6374517679214478 \n",
            "Epoch: 1250, Loss_method3: 0.10083959251642227 \n",
            "Epoch: 1300, Loss_method3: 0.0013701029820367694 \n",
            "Epoch: 1350, Loss_method3: 0.4038224518299103 \n",
            "Epoch: 1400, Loss_method3: 0.07593708485364914 \n",
            "Epoch: 1450, Loss_method3: 0.48000410199165344 \n",
            "Epoch: 1500, Loss_method3: 0.08074342459440231 \n",
            "Epoch: 1550, Loss_method3: 0.0013997862115502357 \n",
            "Epoch: 1600, Loss_method3: 0.16533000767230988 \n",
            "Epoch: 1650, Loss_method3: 0.06051155924797058 \n",
            "Epoch: 1700, Loss_method3: 0.5157178640365601 \n",
            "Epoch: 1750, Loss_method3: 0.10371357947587967 \n",
            "Epoch: 1800, Loss_method3: 0.0032720870804041624 \n",
            "Epoch: 1850, Loss_method3: 0.09091930091381073 \n",
            "Epoch: 1900, Loss_method3: 0.07112199068069458 \n",
            "Epoch: 1950, Loss_method3: 0.1801183670759201 \n",
            "Epoch: 2000, Loss_method3: 0.08253514021635056 \n",
            "Epoch: 2050, Loss_method3: 0.47860968112945557 \n"
          ]
        },
        {
          "output_type": "display_data",
          "data": {
            "image/png": "[encoded data removed]",
            "text/plain": [
              "<Figure size 432x288 with 1 Axes>"
            ]
          },
          "metadata": {
            "needs_background": "light"
          }
        }
      ]
    },
    {
      "cell_type": "code",
      "metadata": {
        "id": "IMyzz3XqICv_"
      },
      "source": [
        "# Plotting - Loss Vs Epochs\n",
        "import matplotlib.pyplot as plt\n",
        "plt.rcParams['figure.figsize'] = [20, 5]\n",
        "plt.plot(range(0,2100,50), [x for x in Loss_method1[0::50]],label='Method_1 - 3 Linear Layers')\n",
        "# plt.plot(range(0,2100,50), [x for x in Loss_method2[0::50]],label='Method_2 - 2 Linear Layers')\n",
        "plt.plot(range(0,2100,50), [x for x in Loss_method3[0::50]],label='Method_3 - 9 Linear Layers')\n",
        "plt.legend()\n",
        "plt.title(\"Method1-3Linear layers Vs Method2-2Linear Layers --> Loss Vs Epochs\")\n",
        "plt.xlabel(\"Epochs\")\n",
        "plt.ylabel(\"Loss\")"
      ],
      "execution_count": null,
      "outputs": []
    },
    {
      "cell_type": "code",
      "metadata": {
        "colab": {
          "base_uri": "https://localhost:8080/"
        },
        "id": "HxkVtg6LSqvu",
        "outputId": "f1041a44-fa49-4424-a340-eded739ae524"
      },
      "source": [
        "ave_grad_3_0"
      ],
      "execution_count": 21,
      "outputs": [
        {
          "output_type": "execute_result",
          "data": {
            "text/plain": [
              "[tensor(2.1316e-05),\n",
              " tensor(9.4437e-05),\n",
              " tensor(0.0006),\n",
              " tensor(0.0018),\n",
              " tensor(0.0136),\n",
              " tensor(0.0509),\n",
              " tensor(0.3232),\n",
              " tensor(1.3267)]"
            ]
          },
          "metadata": {},
          "execution_count": 21
        }
      ]
    },
    {
      "cell_type": "code",
      "metadata": {
        "colab": {
          "base_uri": "https://localhost:8080/"
        },
        "id": "CFbRnFj-n__t",
        "outputId": "1b97e0bf-9660-4770-bb6e-512fb305e8a5"
      },
      "source": [
        "ave_grad_3_100"
      ],
      "execution_count": 22,
      "outputs": [
        {
          "output_type": "execute_result",
          "data": {
            "text/plain": [
              "[tensor(1.2294e-06),\n",
              " tensor(1.6722e-05),\n",
              " tensor(4.9914e-05),\n",
              " tensor(0.0006),\n",
              " tensor(0.0022),\n",
              " tensor(0.0076),\n",
              " tensor(0.0959),\n",
              " tensor(0.3862)]"
            ]
          },
          "metadata": {},
          "execution_count": 22
        }
      ]
    },
    {
      "cell_type": "code",
      "metadata": {
        "id": "B8O234C5bttq"
      },
      "source": [
        "# ave_grads = []\n",
        "# layers = []\n",
        "# for n,p in model_3.named_parameters():\n",
        "#   if(p.requires_grad) and (\"bias\" not in n):\n",
        "#     layers.append(n)\n",
        "#     if p.grad == None:\n",
        "#       continue\n",
        "#     else:\n",
        "#       ave_grads.append(p.grad.abs().mean())\n",
        "\n",
        "      \n",
        "      \n"
      ],
      "execution_count": null,
      "outputs": []
    },
    {
      "cell_type": "code",
      "metadata": {
        "id": "4CX_btCBhIgH"
      },
      "source": [
        ""
      ],
      "execution_count": null,
      "outputs": []
    },
    {
      "cell_type": "code",
      "metadata": {
        "colab": {
          "base_uri": "https://localhost:8080/"
        },
        "id": "Wxn6fu96IIiR",
        "outputId": "88ea19cf-21f1-4297-9125-0ad0caca490a"
      },
      "source": [
        "### Predictions ##########################\n",
        "y_hat_method1 = model_1(X)\n",
        "y_hat_method2 = model_2(X)\n",
        "y_hat_method3 = model_3(X)\n",
        "y_hat_method1"
      ],
      "execution_count": 23,
      "outputs": [
        {
          "output_type": "stream",
          "name": "stderr",
          "text": [
            "/usr/local/lib/python3.7/dist-packages/torch/nn/functional.py:1805: UserWarning: nn.functional.sigmoid is deprecated. Use torch.sigmoid instead.\n",
            "  warnings.warn(\"nn.functional.sigmoid is deprecated. Use torch.sigmoid instead.\")\n"
          ]
        },
        {
          "output_type": "execute_result",
          "data": {
            "text/plain": [
              "tensor([[-2.5815e-04],\n",
              "        [ 1.0000e+00],\n",
              "        [ 1.0001e+00],\n",
              "        [ 8.1480e-05]], grad_fn=<AddmmBackward>)"
            ]
          },
          "metadata": {},
          "execution_count": 23
        }
      ]
    },
    {
      "cell_type": "code",
      "metadata": {
        "colab": {
          "base_uri": "https://localhost:8080/"
        },
        "id": "UB4U1gVJIO5i",
        "outputId": "795ed91f-04f8-4194-84c8-b9d43435b5c8"
      },
      "source": [
        "y_hat_method3"
      ],
      "execution_count": 24,
      "outputs": [
        {
          "output_type": "execute_result",
          "data": {
            "text/plain": [
              "tensor([[0.3402],\n",
              "        [0.3402],\n",
              "        [1.0106],\n",
              "        [0.3402]], grad_fn=<MmBackward>)"
            ]
          },
          "metadata": {},
          "execution_count": 24
        }
      ]
    },
    {
      "cell_type": "code",
      "metadata": {
        "colab": {
          "base_uri": "https://localhost:8080/",
          "height": 172
        },
        "id": "p8PdaI2CIRpL",
        "outputId": "a0204e97-e97b-447e-8b60-11df3709ae4b"
      },
      "source": [
        "# Final Predictions comparison\n",
        "y_hat_method1_n,y_hat_method2_n,y_hat_method3_n,Y_actual = y_hat_method1.detach().cpu().numpy(),y_hat_method2.detach().cpu().numpy(),y_hat_method3.detach().cpu().numpy(), Y.detach().cpu().numpy() # Detaching to convert to array and send it to Dataframe\n",
        "\n",
        "import pandas as pd\n",
        "predictions_df = pd.DataFrame(data = [Y_actual.reshape(-1), y_hat_method1_n.reshape(-1),y_hat_method2_n.reshape(-1),y_hat_method3_n.reshape(-1)]).T\n",
        "predictions_df.columns=['Y_Actual','Y_method1_predi','Y_method2_predi','Y_method3_predi']\n",
        "predictions_df"
      ],
      "execution_count": 25,
      "outputs": [
        {
          "output_type": "execute_result",
          "data": {
            "text/html": [
              "<div>\n",
              "<style scoped>\n",
              "    .dataframe tbody tr th:only-of-type {\n",
              "        vertical-align: middle;\n",
              "    }\n",
              "\n",
              "    .dataframe tbody tr th {\n",
              "        vertical-align: top;\n",
              "    }\n",
              "\n",
              "    .dataframe thead th {\n",
              "        text-align: right;\n",
              "    }\n",
              "</style>\n",
              "<table border=\"1\" class=\"dataframe\">\n",
              "  <thead>\n",
              "    <tr style=\"text-align: right;\">\n",
              "      <th></th>\n",
              "      <th>Y_Actual</th>\n",
              "      <th>Y_method1_predi</th>\n",
              "      <th>Y_method2_predi</th>\n",
              "      <th>Y_method3_predi</th>\n",
              "    </tr>\n",
              "  </thead>\n",
              "  <tbody>\n",
              "    <tr>\n",
              "      <th>0</th>\n",
              "      <td>0.0</td>\n",
              "      <td>-0.000258</td>\n",
              "      <td>1.589797</td>\n",
              "      <td>0.340242</td>\n",
              "    </tr>\n",
              "    <tr>\n",
              "      <th>1</th>\n",
              "      <td>1.0</td>\n",
              "      <td>1.000005</td>\n",
              "      <td>1.284229</td>\n",
              "      <td>0.340242</td>\n",
              "    </tr>\n",
              "    <tr>\n",
              "      <th>2</th>\n",
              "      <td>1.0</td>\n",
              "      <td>1.000098</td>\n",
              "      <td>1.236380</td>\n",
              "      <td>1.010553</td>\n",
              "    </tr>\n",
              "    <tr>\n",
              "      <th>3</th>\n",
              "      <td>0.0</td>\n",
              "      <td>0.000081</td>\n",
              "      <td>0.973256</td>\n",
              "      <td>0.340242</td>\n",
              "    </tr>\n",
              "  </tbody>\n",
              "</table>\n",
              "</div>"
            ],
            "text/plain": [
              "   Y_Actual  Y_method1_predi  Y_method2_predi  Y_method3_predi\n",
              "0       0.0        -0.000258         1.589797         0.340242\n",
              "1       1.0         1.000005         1.284229         0.340242\n",
              "2       1.0         1.000098         1.236380         1.010553\n",
              "3       0.0         0.000081         0.973256         0.340242"
            ]
          },
          "metadata": {},
          "execution_count": 25
        }
      ]
    },
    {
      "cell_type": "code",
      "metadata": {
        "id": "PkftWX5ZIVXM"
      },
      "source": [
        ""
      ],
      "execution_count": null,
      "outputs": []
    }
  ]
}