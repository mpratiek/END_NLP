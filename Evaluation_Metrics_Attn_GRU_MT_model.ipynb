{
  "nbformat": 4,
  "nbformat_minor": 0,
  "metadata": {
    "accelerator": "GPU",
    "colab": {
      "name": "Evaluation_Metrics_Attn_GRU_MT_model.ipynb",
      "provenance": [],
      "include_colab_link": true
    },
    "kernelspec": {
      "display_name": "Python 3",
      "name": "python3"
    },
    "language_info": {
      "name": "python"
    },
    "widgets": {
      "application/vnd.jupyter.widget-state+json": {
        "5ce2851e297c465496ec23f1b38a2468": {
          "model_module": "@jupyter-widgets/controls",
          "model_name": "HBoxModel",
          "model_module_version": "1.5.0",
          "state": {
            "_view_name": "HBoxView",
            "_dom_classes": [],
            "_model_name": "HBoxModel",
            "_view_module": "@jupyter-widgets/controls",
            "_model_module_version": "1.5.0",
            "_view_count": null,
            "_view_module_version": "1.5.0",
            "box_style": "",
            "layout": "IPY_MODEL_7d68f67876fd43079a2dc0ebe5b9952c",
            "_model_module": "@jupyter-widgets/controls",
            "children": [
              "IPY_MODEL_730007aa155f4587b0414151c2755499",
              "IPY_MODEL_d6422ecfb2c746ea8783deb3991cdf66",
              "IPY_MODEL_69f1bd973c48409b9b18d95fa22b7dd9"
            ]
          }
        },
        "7d68f67876fd43079a2dc0ebe5b9952c": {
          "model_module": "@jupyter-widgets/base",
          "model_name": "LayoutModel",
          "model_module_version": "1.2.0",
          "state": {
            "_view_name": "LayoutView",
            "grid_template_rows": null,
            "right": null,
            "justify_content": null,
            "_view_module": "@jupyter-widgets/base",
            "overflow": null,
            "_model_module_version": "1.2.0",
            "_view_count": null,
            "flex_flow": null,
            "width": null,
            "min_width": null,
            "border": null,
            "align_items": null,
            "bottom": null,
            "_model_module": "@jupyter-widgets/base",
            "top": null,
            "grid_column": null,
            "overflow_y": null,
            "overflow_x": null,
            "grid_auto_flow": null,
            "grid_area": null,
            "grid_template_columns": null,
            "flex": null,
            "_model_name": "LayoutModel",
            "justify_items": null,
            "grid_row": null,
            "max_height": null,
            "align_content": null,
            "visibility": null,
            "align_self": null,
            "height": null,
            "min_height": null,
            "padding": null,
            "grid_auto_rows": null,
            "grid_gap": null,
            "max_width": null,
            "order": null,
            "_view_module_version": "1.2.0",
            "grid_template_areas": null,
            "object_position": null,
            "object_fit": null,
            "grid_auto_columns": null,
            "margin": null,
            "display": null,
            "left": null
          }
        },
        "730007aa155f4587b0414151c2755499": {
          "model_module": "@jupyter-widgets/controls",
          "model_name": "HTMLModel",
          "model_module_version": "1.5.0",
          "state": {
            "_view_name": "HTMLView",
            "style": "IPY_MODEL_98eacbfa1cbb43688f70d56f97f38292",
            "_dom_classes": [],
            "description": "",
            "_model_name": "HTMLModel",
            "placeholder": "​",
            "_view_module": "@jupyter-widgets/controls",
            "_model_module_version": "1.5.0",
            "value": "Downloading: 100%",
            "_view_count": null,
            "_view_module_version": "1.5.0",
            "description_tooltip": null,
            "_model_module": "@jupyter-widgets/controls",
            "layout": "IPY_MODEL_9b89619b0ca24707a46477311023883e"
          }
        },
        "d6422ecfb2c746ea8783deb3991cdf66": {
          "model_module": "@jupyter-widgets/controls",
          "model_name": "FloatProgressModel",
          "model_module_version": "1.5.0",
          "state": {
            "_view_name": "ProgressView",
            "style": "IPY_MODEL_5c2a55f0f29941949142635a6ee8b01c",
            "_dom_classes": [],
            "description": "",
            "_model_name": "FloatProgressModel",
            "bar_style": "success",
            "max": 482,
            "_view_module": "@jupyter-widgets/controls",
            "_model_module_version": "1.5.0",
            "value": 482,
            "_view_count": null,
            "_view_module_version": "1.5.0",
            "orientation": "horizontal",
            "min": 0,
            "description_tooltip": null,
            "_model_module": "@jupyter-widgets/controls",
            "layout": "IPY_MODEL_b1e5c5b948cc42ecb755e88316562ef0"
          }
        },
        "69f1bd973c48409b9b18d95fa22b7dd9": {
          "model_module": "@jupyter-widgets/controls",
          "model_name": "HTMLModel",
          "model_module_version": "1.5.0",
          "state": {
            "_view_name": "HTMLView",
            "style": "IPY_MODEL_e6a60cc4abb54ee4ba86744b4d412dd3",
            "_dom_classes": [],
            "description": "",
            "_model_name": "HTMLModel",
            "placeholder": "​",
            "_view_module": "@jupyter-widgets/controls",
            "_model_module_version": "1.5.0",
            "value": " 482/482 [00:00&lt;00:00, 10.4kB/s]",
            "_view_count": null,
            "_view_module_version": "1.5.0",
            "description_tooltip": null,
            "_model_module": "@jupyter-widgets/controls",
            "layout": "IPY_MODEL_9f84c4349e7141d2916ed0bef3220211"
          }
        },
        "98eacbfa1cbb43688f70d56f97f38292": {
          "model_module": "@jupyter-widgets/controls",
          "model_name": "DescriptionStyleModel",
          "model_module_version": "1.5.0",
          "state": {
            "_view_name": "StyleView",
            "_model_name": "DescriptionStyleModel",
            "description_width": "",
            "_view_module": "@jupyter-widgets/base",
            "_model_module_version": "1.5.0",
            "_view_count": null,
            "_view_module_version": "1.2.0",
            "_model_module": "@jupyter-widgets/controls"
          }
        },
        "9b89619b0ca24707a46477311023883e": {
          "model_module": "@jupyter-widgets/base",
          "model_name": "LayoutModel",
          "model_module_version": "1.2.0",
          "state": {
            "_view_name": "LayoutView",
            "grid_template_rows": null,
            "right": null,
            "justify_content": null,
            "_view_module": "@jupyter-widgets/base",
            "overflow": null,
            "_model_module_version": "1.2.0",
            "_view_count": null,
            "flex_flow": null,
            "width": null,
            "min_width": null,
            "border": null,
            "align_items": null,
            "bottom": null,
            "_model_module": "@jupyter-widgets/base",
            "top": null,
            "grid_column": null,
            "overflow_y": null,
            "overflow_x": null,
            "grid_auto_flow": null,
            "grid_area": null,
            "grid_template_columns": null,
            "flex": null,
            "_model_name": "LayoutModel",
            "justify_items": null,
            "grid_row": null,
            "max_height": null,
            "align_content": null,
            "visibility": null,
            "align_self": null,
            "height": null,
            "min_height": null,
            "padding": null,
            "grid_auto_rows": null,
            "grid_gap": null,
            "max_width": null,
            "order": null,
            "_view_module_version": "1.2.0",
            "grid_template_areas": null,
            "object_position": null,
            "object_fit": null,
            "grid_auto_columns": null,
            "margin": null,
            "display": null,
            "left": null
          }
        },
        "5c2a55f0f29941949142635a6ee8b01c": {
          "model_module": "@jupyter-widgets/controls",
          "model_name": "ProgressStyleModel",
          "model_module_version": "1.5.0",
          "state": {
            "_view_name": "StyleView",
            "_model_name": "ProgressStyleModel",
            "description_width": "",
            "_view_module": "@jupyter-widgets/base",
            "_model_module_version": "1.5.0",
            "_view_count": null,
            "_view_module_version": "1.2.0",
            "bar_color": null,
            "_model_module": "@jupyter-widgets/controls"
          }
        },
        "b1e5c5b948cc42ecb755e88316562ef0": {
          "model_module": "@jupyter-widgets/base",
          "model_name": "LayoutModel",
          "model_module_version": "1.2.0",
          "state": {
            "_view_name": "LayoutView",
            "grid_template_rows": null,
            "right": null,
            "justify_content": null,
            "_view_module": "@jupyter-widgets/base",
            "overflow": null,
            "_model_module_version": "1.2.0",
            "_view_count": null,
            "flex_flow": null,
            "width": null,
            "min_width": null,
            "border": null,
            "align_items": null,
            "bottom": null,
            "_model_module": "@jupyter-widgets/base",
            "top": null,
            "grid_column": null,
            "overflow_y": null,
            "overflow_x": null,
            "grid_auto_flow": null,
            "grid_area": null,
            "grid_template_columns": null,
            "flex": null,
            "_model_name": "LayoutModel",
            "justify_items": null,
            "grid_row": null,
            "max_height": null,
            "align_content": null,
            "visibility": null,
            "align_self": null,
            "height": null,
            "min_height": null,
            "padding": null,
            "grid_auto_rows": null,
            "grid_gap": null,
            "max_width": null,
            "order": null,
            "_view_module_version": "1.2.0",
            "grid_template_areas": null,
            "object_position": null,
            "object_fit": null,
            "grid_auto_columns": null,
            "margin": null,
            "display": null,
            "left": null
          }
        },
        "e6a60cc4abb54ee4ba86744b4d412dd3": {
          "model_module": "@jupyter-widgets/controls",
          "model_name": "DescriptionStyleModel",
          "model_module_version": "1.5.0",
          "state": {
            "_view_name": "StyleView",
            "_model_name": "DescriptionStyleModel",
            "description_width": "",
            "_view_module": "@jupyter-widgets/base",
            "_model_module_version": "1.5.0",
            "_view_count": null,
            "_view_module_version": "1.2.0",
            "_model_module": "@jupyter-widgets/controls"
          }
        },
        "9f84c4349e7141d2916ed0bef3220211": {
          "model_module": "@jupyter-widgets/base",
          "model_name": "LayoutModel",
          "model_module_version": "1.2.0",
          "state": {
            "_view_name": "LayoutView",
            "grid_template_rows": null,
            "right": null,
            "justify_content": null,
            "_view_module": "@jupyter-widgets/base",
            "overflow": null,
            "_model_module_version": "1.2.0",
            "_view_count": null,
            "flex_flow": null,
            "width": null,
            "min_width": null,
            "border": null,
            "align_items": null,
            "bottom": null,
            "_model_module": "@jupyter-widgets/base",
            "top": null,
            "grid_column": null,
            "overflow_y": null,
            "overflow_x": null,
            "grid_auto_flow": null,
            "grid_area": null,
            "grid_template_columns": null,
            "flex": null,
            "_model_name": "LayoutModel",
            "justify_items": null,
            "grid_row": null,
            "max_height": null,
            "align_content": null,
            "visibility": null,
            "align_self": null,
            "height": null,
            "min_height": null,
            "padding": null,
            "grid_auto_rows": null,
            "grid_gap": null,
            "max_width": null,
            "order": null,
            "_view_module_version": "1.2.0",
            "grid_template_areas": null,
            "object_position": null,
            "object_fit": null,
            "grid_auto_columns": null,
            "margin": null,
            "display": null,
            "left": null
          }
        },
        "cccf48b50cf14a51bbd768a3dad13fd8": {
          "model_module": "@jupyter-widgets/controls",
          "model_name": "HBoxModel",
          "model_module_version": "1.5.0",
          "state": {
            "_view_name": "HBoxView",
            "_dom_classes": [],
            "_model_name": "HBoxModel",
            "_view_module": "@jupyter-widgets/controls",
            "_model_module_version": "1.5.0",
            "_view_count": null,
            "_view_module_version": "1.5.0",
            "box_style": "",
            "layout": "IPY_MODEL_c132088252194929a5aec9bed41f954a",
            "_model_module": "@jupyter-widgets/controls",
            "children": [
              "IPY_MODEL_1d520fc45d7e4f4885c9745fcc73aa22",
              "IPY_MODEL_b1dfc4020d8c4c058a22931f5fca818c",
              "IPY_MODEL_2be6639cf5264a0b991669f281417688"
            ]
          }
        },
        "c132088252194929a5aec9bed41f954a": {
          "model_module": "@jupyter-widgets/base",
          "model_name": "LayoutModel",
          "model_module_version": "1.2.0",
          "state": {
            "_view_name": "LayoutView",
            "grid_template_rows": null,
            "right": null,
            "justify_content": null,
            "_view_module": "@jupyter-widgets/base",
            "overflow": null,
            "_model_module_version": "1.2.0",
            "_view_count": null,
            "flex_flow": null,
            "width": null,
            "min_width": null,
            "border": null,
            "align_items": null,
            "bottom": null,
            "_model_module": "@jupyter-widgets/base",
            "top": null,
            "grid_column": null,
            "overflow_y": null,
            "overflow_x": null,
            "grid_auto_flow": null,
            "grid_area": null,
            "grid_template_columns": null,
            "flex": null,
            "_model_name": "LayoutModel",
            "justify_items": null,
            "grid_row": null,
            "max_height": null,
            "align_content": null,
            "visibility": null,
            "align_self": null,
            "height": null,
            "min_height": null,
            "padding": null,
            "grid_auto_rows": null,
            "grid_gap": null,
            "max_width": null,
            "order": null,
            "_view_module_version": "1.2.0",
            "grid_template_areas": null,
            "object_position": null,
            "object_fit": null,
            "grid_auto_columns": null,
            "margin": null,
            "display": null,
            "left": null
          }
        },
        "1d520fc45d7e4f4885c9745fcc73aa22": {
          "model_module": "@jupyter-widgets/controls",
          "model_name": "HTMLModel",
          "model_module_version": "1.5.0",
          "state": {
            "_view_name": "HTMLView",
            "style": "IPY_MODEL_2122fa3c714d488b980dbc025c7a7c9f",
            "_dom_classes": [],
            "description": "",
            "_model_name": "HTMLModel",
            "placeholder": "​",
            "_view_module": "@jupyter-widgets/controls",
            "_model_module_version": "1.5.0",
            "value": "Downloading: 100%",
            "_view_count": null,
            "_view_module_version": "1.5.0",
            "description_tooltip": null,
            "_model_module": "@jupyter-widgets/controls",
            "layout": "IPY_MODEL_b95c888daefe4625ac08c0b1d6205981"
          }
        },
        "b1dfc4020d8c4c058a22931f5fca818c": {
          "model_module": "@jupyter-widgets/controls",
          "model_name": "FloatProgressModel",
          "model_module_version": "1.5.0",
          "state": {
            "_view_name": "ProgressView",
            "style": "IPY_MODEL_024a66726d674c57b04166e20d37d9bc",
            "_dom_classes": [],
            "description": "",
            "_model_name": "FloatProgressModel",
            "bar_style": "success",
            "max": 898823,
            "_view_module": "@jupyter-widgets/controls",
            "_model_module_version": "1.5.0",
            "value": 898823,
            "_view_count": null,
            "_view_module_version": "1.5.0",
            "orientation": "horizontal",
            "min": 0,
            "description_tooltip": null,
            "_model_module": "@jupyter-widgets/controls",
            "layout": "IPY_MODEL_5b9a93a038424a688a407252813f53e7"
          }
        },
        "2be6639cf5264a0b991669f281417688": {
          "model_module": "@jupyter-widgets/controls",
          "model_name": "HTMLModel",
          "model_module_version": "1.5.0",
          "state": {
            "_view_name": "HTMLView",
            "style": "IPY_MODEL_d0b5e57f553b4f4697c3e629d8c09e1f",
            "_dom_classes": [],
            "description": "",
            "_model_name": "HTMLModel",
            "placeholder": "​",
            "_view_module": "@jupyter-widgets/controls",
            "_model_module_version": "1.5.0",
            "value": " 899k/899k [00:00&lt;00:00, 3.18MB/s]",
            "_view_count": null,
            "_view_module_version": "1.5.0",
            "description_tooltip": null,
            "_model_module": "@jupyter-widgets/controls",
            "layout": "IPY_MODEL_025dcd25bbb044debaac48e87937a73c"
          }
        },
        "2122fa3c714d488b980dbc025c7a7c9f": {
          "model_module": "@jupyter-widgets/controls",
          "model_name": "DescriptionStyleModel",
          "model_module_version": "1.5.0",
          "state": {
            "_view_name": "StyleView",
            "_model_name": "DescriptionStyleModel",
            "description_width": "",
            "_view_module": "@jupyter-widgets/base",
            "_model_module_version": "1.5.0",
            "_view_count": null,
            "_view_module_version": "1.2.0",
            "_model_module": "@jupyter-widgets/controls"
          }
        },
        "b95c888daefe4625ac08c0b1d6205981": {
          "model_module": "@jupyter-widgets/base",
          "model_name": "LayoutModel",
          "model_module_version": "1.2.0",
          "state": {
            "_view_name": "LayoutView",
            "grid_template_rows": null,
            "right": null,
            "justify_content": null,
            "_view_module": "@jupyter-widgets/base",
            "overflow": null,
            "_model_module_version": "1.2.0",
            "_view_count": null,
            "flex_flow": null,
            "width": null,
            "min_width": null,
            "border": null,
            "align_items": null,
            "bottom": null,
            "_model_module": "@jupyter-widgets/base",
            "top": null,
            "grid_column": null,
            "overflow_y": null,
            "overflow_x": null,
            "grid_auto_flow": null,
            "grid_area": null,
            "grid_template_columns": null,
            "flex": null,
            "_model_name": "LayoutModel",
            "justify_items": null,
            "grid_row": null,
            "max_height": null,
            "align_content": null,
            "visibility": null,
            "align_self": null,
            "height": null,
            "min_height": null,
            "padding": null,
            "grid_auto_rows": null,
            "grid_gap": null,
            "max_width": null,
            "order": null,
            "_view_module_version": "1.2.0",
            "grid_template_areas": null,
            "object_position": null,
            "object_fit": null,
            "grid_auto_columns": null,
            "margin": null,
            "display": null,
            "left": null
          }
        },
        "024a66726d674c57b04166e20d37d9bc": {
          "model_module": "@jupyter-widgets/controls",
          "model_name": "ProgressStyleModel",
          "model_module_version": "1.5.0",
          "state": {
            "_view_name": "StyleView",
            "_model_name": "ProgressStyleModel",
            "description_width": "",
            "_view_module": "@jupyter-widgets/base",
            "_model_module_version": "1.5.0",
            "_view_count": null,
            "_view_module_version": "1.2.0",
            "bar_color": null,
            "_model_module": "@jupyter-widgets/controls"
          }
        },
        "5b9a93a038424a688a407252813f53e7": {
          "model_module": "@jupyter-widgets/base",
          "model_name": "LayoutModel",
          "model_module_version": "1.2.0",
          "state": {
            "_view_name": "LayoutView",
            "grid_template_rows": null,
            "right": null,
            "justify_content": null,
            "_view_module": "@jupyter-widgets/base",
            "overflow": null,
            "_model_module_version": "1.2.0",
            "_view_count": null,
            "flex_flow": null,
            "width": null,
            "min_width": null,
            "border": null,
            "align_items": null,
            "bottom": null,
            "_model_module": "@jupyter-widgets/base",
            "top": null,
            "grid_column": null,
            "overflow_y": null,
            "overflow_x": null,
            "grid_auto_flow": null,
            "grid_area": null,
            "grid_template_columns": null,
            "flex": null,
            "_model_name": "LayoutModel",
            "justify_items": null,
            "grid_row": null,
            "max_height": null,
            "align_content": null,
            "visibility": null,
            "align_self": null,
            "height": null,
            "min_height": null,
            "padding": null,
            "grid_auto_rows": null,
            "grid_gap": null,
            "max_width": null,
            "order": null,
            "_view_module_version": "1.2.0",
            "grid_template_areas": null,
            "object_position": null,
            "object_fit": null,
            "grid_auto_columns": null,
            "margin": null,
            "display": null,
            "left": null
          }
        },
        "d0b5e57f553b4f4697c3e629d8c09e1f": {
          "model_module": "@jupyter-widgets/controls",
          "model_name": "DescriptionStyleModel",
          "model_module_version": "1.5.0",
          "state": {
            "_view_name": "StyleView",
            "_model_name": "DescriptionStyleModel",
            "description_width": "",
            "_view_module": "@jupyter-widgets/base",
            "_model_module_version": "1.5.0",
            "_view_count": null,
            "_view_module_version": "1.2.0",
            "_model_module": "@jupyter-widgets/controls"
          }
        },
        "025dcd25bbb044debaac48e87937a73c": {
          "model_module": "@jupyter-widgets/base",
          "model_name": "LayoutModel",
          "model_module_version": "1.2.0",
          "state": {
            "_view_name": "LayoutView",
            "grid_template_rows": null,
            "right": null,
            "justify_content": null,
            "_view_module": "@jupyter-widgets/base",
            "overflow": null,
            "_model_module_version": "1.2.0",
            "_view_count": null,
            "flex_flow": null,
            "width": null,
            "min_width": null,
            "border": null,
            "align_items": null,
            "bottom": null,
            "_model_module": "@jupyter-widgets/base",
            "top": null,
            "grid_column": null,
            "overflow_y": null,
            "overflow_x": null,
            "grid_auto_flow": null,
            "grid_area": null,
            "grid_template_columns": null,
            "flex": null,
            "_model_name": "LayoutModel",
            "justify_items": null,
            "grid_row": null,
            "max_height": null,
            "align_content": null,
            "visibility": null,
            "align_self": null,
            "height": null,
            "min_height": null,
            "padding": null,
            "grid_auto_rows": null,
            "grid_gap": null,
            "max_width": null,
            "order": null,
            "_view_module_version": "1.2.0",
            "grid_template_areas": null,
            "object_position": null,
            "object_fit": null,
            "grid_auto_columns": null,
            "margin": null,
            "display": null,
            "left": null
          }
        },
        "b9c85cb035ac4c7ebe55a2d7c06c558b": {
          "model_module": "@jupyter-widgets/controls",
          "model_name": "HBoxModel",
          "model_module_version": "1.5.0",
          "state": {
            "_view_name": "HBoxView",
            "_dom_classes": [],
            "_model_name": "HBoxModel",
            "_view_module": "@jupyter-widgets/controls",
            "_model_module_version": "1.5.0",
            "_view_count": null,
            "_view_module_version": "1.5.0",
            "box_style": "",
            "layout": "IPY_MODEL_4380aba5627242d584ab1f2f3d3e1ead",
            "_model_module": "@jupyter-widgets/controls",
            "children": [
              "IPY_MODEL_28e5d6833bfe4a6091d53e40495498f0",
              "IPY_MODEL_ac4c846c7a7243b6b30d8c60e77423e4",
              "IPY_MODEL_9d7972dd8dca4e7d81e32e2e60b9bc55"
            ]
          }
        },
        "4380aba5627242d584ab1f2f3d3e1ead": {
          "model_module": "@jupyter-widgets/base",
          "model_name": "LayoutModel",
          "model_module_version": "1.2.0",
          "state": {
            "_view_name": "LayoutView",
            "grid_template_rows": null,
            "right": null,
            "justify_content": null,
            "_view_module": "@jupyter-widgets/base",
            "overflow": null,
            "_model_module_version": "1.2.0",
            "_view_count": null,
            "flex_flow": null,
            "width": null,
            "min_width": null,
            "border": null,
            "align_items": null,
            "bottom": null,
            "_model_module": "@jupyter-widgets/base",
            "top": null,
            "grid_column": null,
            "overflow_y": null,
            "overflow_x": null,
            "grid_auto_flow": null,
            "grid_area": null,
            "grid_template_columns": null,
            "flex": null,
            "_model_name": "LayoutModel",
            "justify_items": null,
            "grid_row": null,
            "max_height": null,
            "align_content": null,
            "visibility": null,
            "align_self": null,
            "height": null,
            "min_height": null,
            "padding": null,
            "grid_auto_rows": null,
            "grid_gap": null,
            "max_width": null,
            "order": null,
            "_view_module_version": "1.2.0",
            "grid_template_areas": null,
            "object_position": null,
            "object_fit": null,
            "grid_auto_columns": null,
            "margin": null,
            "display": null,
            "left": null
          }
        },
        "28e5d6833bfe4a6091d53e40495498f0": {
          "model_module": "@jupyter-widgets/controls",
          "model_name": "HTMLModel",
          "model_module_version": "1.5.0",
          "state": {
            "_view_name": "HTMLView",
            "style": "IPY_MODEL_6cb7d243099a4ef0b419862f1f497772",
            "_dom_classes": [],
            "description": "",
            "_model_name": "HTMLModel",
            "placeholder": "​",
            "_view_module": "@jupyter-widgets/controls",
            "_model_module_version": "1.5.0",
            "value": "Downloading: 100%",
            "_view_count": null,
            "_view_module_version": "1.5.0",
            "description_tooltip": null,
            "_model_module": "@jupyter-widgets/controls",
            "layout": "IPY_MODEL_ce6eba2fa5084554b3b9b81f85018440"
          }
        },
        "ac4c846c7a7243b6b30d8c60e77423e4": {
          "model_module": "@jupyter-widgets/controls",
          "model_name": "FloatProgressModel",
          "model_module_version": "1.5.0",
          "state": {
            "_view_name": "ProgressView",
            "style": "IPY_MODEL_ab6f8caa83ce429ca0d744443062e440",
            "_dom_classes": [],
            "description": "",
            "_model_name": "FloatProgressModel",
            "bar_style": "success",
            "max": 456318,
            "_view_module": "@jupyter-widgets/controls",
            "_model_module_version": "1.5.0",
            "value": 456318,
            "_view_count": null,
            "_view_module_version": "1.5.0",
            "orientation": "horizontal",
            "min": 0,
            "description_tooltip": null,
            "_model_module": "@jupyter-widgets/controls",
            "layout": "IPY_MODEL_924218b6f1c949408a04cc356cf37278"
          }
        },
        "9d7972dd8dca4e7d81e32e2e60b9bc55": {
          "model_module": "@jupyter-widgets/controls",
          "model_name": "HTMLModel",
          "model_module_version": "1.5.0",
          "state": {
            "_view_name": "HTMLView",
            "style": "IPY_MODEL_2a5b2931091147de968424c92340ceff",
            "_dom_classes": [],
            "description": "",
            "_model_name": "HTMLModel",
            "placeholder": "​",
            "_view_module": "@jupyter-widgets/controls",
            "_model_module_version": "1.5.0",
            "value": " 456k/456k [00:00&lt;00:00, 785kB/s]",
            "_view_count": null,
            "_view_module_version": "1.5.0",
            "description_tooltip": null,
            "_model_module": "@jupyter-widgets/controls",
            "layout": "IPY_MODEL_7eca0d5d492f408cb9f3f10233f6e863"
          }
        },
        "6cb7d243099a4ef0b419862f1f497772": {
          "model_module": "@jupyter-widgets/controls",
          "model_name": "DescriptionStyleModel",
          "model_module_version": "1.5.0",
          "state": {
            "_view_name": "StyleView",
            "_model_name": "DescriptionStyleModel",
            "description_width": "",
            "_view_module": "@jupyter-widgets/base",
            "_model_module_version": "1.5.0",
            "_view_count": null,
            "_view_module_version": "1.2.0",
            "_model_module": "@jupyter-widgets/controls"
          }
        },
        "ce6eba2fa5084554b3b9b81f85018440": {
          "model_module": "@jupyter-widgets/base",
          "model_name": "LayoutModel",
          "model_module_version": "1.2.0",
          "state": {
            "_view_name": "LayoutView",
            "grid_template_rows": null,
            "right": null,
            "justify_content": null,
            "_view_module": "@jupyter-widgets/base",
            "overflow": null,
            "_model_module_version": "1.2.0",
            "_view_count": null,
            "flex_flow": null,
            "width": null,
            "min_width": null,
            "border": null,
            "align_items": null,
            "bottom": null,
            "_model_module": "@jupyter-widgets/base",
            "top": null,
            "grid_column": null,
            "overflow_y": null,
            "overflow_x": null,
            "grid_auto_flow": null,
            "grid_area": null,
            "grid_template_columns": null,
            "flex": null,
            "_model_name": "LayoutModel",
            "justify_items": null,
            "grid_row": null,
            "max_height": null,
            "align_content": null,
            "visibility": null,
            "align_self": null,
            "height": null,
            "min_height": null,
            "padding": null,
            "grid_auto_rows": null,
            "grid_gap": null,
            "max_width": null,
            "order": null,
            "_view_module_version": "1.2.0",
            "grid_template_areas": null,
            "object_position": null,
            "object_fit": null,
            "grid_auto_columns": null,
            "margin": null,
            "display": null,
            "left": null
          }
        },
        "ab6f8caa83ce429ca0d744443062e440": {
          "model_module": "@jupyter-widgets/controls",
          "model_name": "ProgressStyleModel",
          "model_module_version": "1.5.0",
          "state": {
            "_view_name": "StyleView",
            "_model_name": "ProgressStyleModel",
            "description_width": "",
            "_view_module": "@jupyter-widgets/base",
            "_model_module_version": "1.5.0",
            "_view_count": null,
            "_view_module_version": "1.2.0",
            "bar_color": null,
            "_model_module": "@jupyter-widgets/controls"
          }
        },
        "924218b6f1c949408a04cc356cf37278": {
          "model_module": "@jupyter-widgets/base",
          "model_name": "LayoutModel",
          "model_module_version": "1.2.0",
          "state": {
            "_view_name": "LayoutView",
            "grid_template_rows": null,
            "right": null,
            "justify_content": null,
            "_view_module": "@jupyter-widgets/base",
            "overflow": null,
            "_model_module_version": "1.2.0",
            "_view_count": null,
            "flex_flow": null,
            "width": null,
            "min_width": null,
            "border": null,
            "align_items": null,
            "bottom": null,
            "_model_module": "@jupyter-widgets/base",
            "top": null,
            "grid_column": null,
            "overflow_y": null,
            "overflow_x": null,
            "grid_auto_flow": null,
            "grid_area": null,
            "grid_template_columns": null,
            "flex": null,
            "_model_name": "LayoutModel",
            "justify_items": null,
            "grid_row": null,
            "max_height": null,
            "align_content": null,
            "visibility": null,
            "align_self": null,
            "height": null,
            "min_height": null,
            "padding": null,
            "grid_auto_rows": null,
            "grid_gap": null,
            "max_width": null,
            "order": null,
            "_view_module_version": "1.2.0",
            "grid_template_areas": null,
            "object_position": null,
            "object_fit": null,
            "grid_auto_columns": null,
            "margin": null,
            "display": null,
            "left": null
          }
        },
        "2a5b2931091147de968424c92340ceff": {
          "model_module": "@jupyter-widgets/controls",
          "model_name": "DescriptionStyleModel",
          "model_module_version": "1.5.0",
          "state": {
            "_view_name": "StyleView",
            "_model_name": "DescriptionStyleModel",
            "description_width": "",
            "_view_module": "@jupyter-widgets/base",
            "_model_module_version": "1.5.0",
            "_view_count": null,
            "_view_module_version": "1.2.0",
            "_model_module": "@jupyter-widgets/controls"
          }
        },
        "7eca0d5d492f408cb9f3f10233f6e863": {
          "model_module": "@jupyter-widgets/base",
          "model_name": "LayoutModel",
          "model_module_version": "1.2.0",
          "state": {
            "_view_name": "LayoutView",
            "grid_template_rows": null,
            "right": null,
            "justify_content": null,
            "_view_module": "@jupyter-widgets/base",
            "overflow": null,
            "_model_module_version": "1.2.0",
            "_view_count": null,
            "flex_flow": null,
            "width": null,
            "min_width": null,
            "border": null,
            "align_items": null,
            "bottom": null,
            "_model_module": "@jupyter-widgets/base",
            "top": null,
            "grid_column": null,
            "overflow_y": null,
            "overflow_x": null,
            "grid_auto_flow": null,
            "grid_area": null,
            "grid_template_columns": null,
            "flex": null,
            "_model_name": "LayoutModel",
            "justify_items": null,
            "grid_row": null,
            "max_height": null,
            "align_content": null,
            "visibility": null,
            "align_self": null,
            "height": null,
            "min_height": null,
            "padding": null,
            "grid_auto_rows": null,
            "grid_gap": null,
            "max_width": null,
            "order": null,
            "_view_module_version": "1.2.0",
            "grid_template_areas": null,
            "object_position": null,
            "object_fit": null,
            "grid_auto_columns": null,
            "margin": null,
            "display": null,
            "left": null
          }
        },
        "eaca9c153a6344898fc4b725e2f84cb3": {
          "model_module": "@jupyter-widgets/controls",
          "model_name": "HBoxModel",
          "model_module_version": "1.5.0",
          "state": {
            "_view_name": "HBoxView",
            "_dom_classes": [],
            "_model_name": "HBoxModel",
            "_view_module": "@jupyter-widgets/controls",
            "_model_module_version": "1.5.0",
            "_view_count": null,
            "_view_module_version": "1.5.0",
            "box_style": "",
            "layout": "IPY_MODEL_50978f292ba941d2b147899ef9e1f1fd",
            "_model_module": "@jupyter-widgets/controls",
            "children": [
              "IPY_MODEL_dfcf8458fcd842e69c34b87ea6caa04a",
              "IPY_MODEL_b39b4dd6b7a7444e9a8096b97b78cc37",
              "IPY_MODEL_51c35ae52e284d46b04de845e65552db"
            ]
          }
        },
        "50978f292ba941d2b147899ef9e1f1fd": {
          "model_module": "@jupyter-widgets/base",
          "model_name": "LayoutModel",
          "model_module_version": "1.2.0",
          "state": {
            "_view_name": "LayoutView",
            "grid_template_rows": null,
            "right": null,
            "justify_content": null,
            "_view_module": "@jupyter-widgets/base",
            "overflow": null,
            "_model_module_version": "1.2.0",
            "_view_count": null,
            "flex_flow": null,
            "width": null,
            "min_width": null,
            "border": null,
            "align_items": null,
            "bottom": null,
            "_model_module": "@jupyter-widgets/base",
            "top": null,
            "grid_column": null,
            "overflow_y": null,
            "overflow_x": null,
            "grid_auto_flow": null,
            "grid_area": null,
            "grid_template_columns": null,
            "flex": null,
            "_model_name": "LayoutModel",
            "justify_items": null,
            "grid_row": null,
            "max_height": null,
            "align_content": null,
            "visibility": null,
            "align_self": null,
            "height": null,
            "min_height": null,
            "padding": null,
            "grid_auto_rows": null,
            "grid_gap": null,
            "max_width": null,
            "order": null,
            "_view_module_version": "1.2.0",
            "grid_template_areas": null,
            "object_position": null,
            "object_fit": null,
            "grid_auto_columns": null,
            "margin": null,
            "display": null,
            "left": null
          }
        },
        "dfcf8458fcd842e69c34b87ea6caa04a": {
          "model_module": "@jupyter-widgets/controls",
          "model_name": "HTMLModel",
          "model_module_version": "1.5.0",
          "state": {
            "_view_name": "HTMLView",
            "style": "IPY_MODEL_b9acfefe59f24246aa75d7c61699dab6",
            "_dom_classes": [],
            "description": "",
            "_model_name": "HTMLModel",
            "placeholder": "​",
            "_view_module": "@jupyter-widgets/controls",
            "_model_module_version": "1.5.0",
            "value": "Downloading: 100%",
            "_view_count": null,
            "_view_module_version": "1.5.0",
            "description_tooltip": null,
            "_model_module": "@jupyter-widgets/controls",
            "layout": "IPY_MODEL_7f4b5f709b454d4abc43a8437fca52da"
          }
        },
        "b39b4dd6b7a7444e9a8096b97b78cc37": {
          "model_module": "@jupyter-widgets/controls",
          "model_name": "FloatProgressModel",
          "model_module_version": "1.5.0",
          "state": {
            "_view_name": "ProgressView",
            "style": "IPY_MODEL_c41e9909d5bd43fd8c5d8ce74cf6a30c",
            "_dom_classes": [],
            "description": "",
            "_model_name": "FloatProgressModel",
            "bar_style": "success",
            "max": 1425941629,
            "_view_module": "@jupyter-widgets/controls",
            "_model_module_version": "1.5.0",
            "value": 1425941629,
            "_view_count": null,
            "_view_module_version": "1.5.0",
            "orientation": "horizontal",
            "min": 0,
            "description_tooltip": null,
            "_model_module": "@jupyter-widgets/controls",
            "layout": "IPY_MODEL_204b0d95754b4f86ba281a4788d5c86b"
          }
        },
        "51c35ae52e284d46b04de845e65552db": {
          "model_module": "@jupyter-widgets/controls",
          "model_name": "HTMLModel",
          "model_module_version": "1.5.0",
          "state": {
            "_view_name": "HTMLView",
            "style": "IPY_MODEL_0fd12e2410314f468b5e5cbc0ea6c5f0",
            "_dom_classes": [],
            "description": "",
            "_model_name": "HTMLModel",
            "placeholder": "​",
            "_view_module": "@jupyter-widgets/controls",
            "_model_module_version": "1.5.0",
            "value": " 1.43G/1.43G [01:17&lt;00:00, 17.4MB/s]",
            "_view_count": null,
            "_view_module_version": "1.5.0",
            "description_tooltip": null,
            "_model_module": "@jupyter-widgets/controls",
            "layout": "IPY_MODEL_c7326eaef86649cb9f1e1361ddfb4970"
          }
        },
        "b9acfefe59f24246aa75d7c61699dab6": {
          "model_module": "@jupyter-widgets/controls",
          "model_name": "DescriptionStyleModel",
          "model_module_version": "1.5.0",
          "state": {
            "_view_name": "StyleView",
            "_model_name": "DescriptionStyleModel",
            "description_width": "",
            "_view_module": "@jupyter-widgets/base",
            "_model_module_version": "1.5.0",
            "_view_count": null,
            "_view_module_version": "1.2.0",
            "_model_module": "@jupyter-widgets/controls"
          }
        },
        "7f4b5f709b454d4abc43a8437fca52da": {
          "model_module": "@jupyter-widgets/base",
          "model_name": "LayoutModel",
          "model_module_version": "1.2.0",
          "state": {
            "_view_name": "LayoutView",
            "grid_template_rows": null,
            "right": null,
            "justify_content": null,
            "_view_module": "@jupyter-widgets/base",
            "overflow": null,
            "_model_module_version": "1.2.0",
            "_view_count": null,
            "flex_flow": null,
            "width": null,
            "min_width": null,
            "border": null,
            "align_items": null,
            "bottom": null,
            "_model_module": "@jupyter-widgets/base",
            "top": null,
            "grid_column": null,
            "overflow_y": null,
            "overflow_x": null,
            "grid_auto_flow": null,
            "grid_area": null,
            "grid_template_columns": null,
            "flex": null,
            "_model_name": "LayoutModel",
            "justify_items": null,
            "grid_row": null,
            "max_height": null,
            "align_content": null,
            "visibility": null,
            "align_self": null,
            "height": null,
            "min_height": null,
            "padding": null,
            "grid_auto_rows": null,
            "grid_gap": null,
            "max_width": null,
            "order": null,
            "_view_module_version": "1.2.0",
            "grid_template_areas": null,
            "object_position": null,
            "object_fit": null,
            "grid_auto_columns": null,
            "margin": null,
            "display": null,
            "left": null
          }
        },
        "c41e9909d5bd43fd8c5d8ce74cf6a30c": {
          "model_module": "@jupyter-widgets/controls",
          "model_name": "ProgressStyleModel",
          "model_module_version": "1.5.0",
          "state": {
            "_view_name": "StyleView",
            "_model_name": "ProgressStyleModel",
            "description_width": "",
            "_view_module": "@jupyter-widgets/base",
            "_model_module_version": "1.5.0",
            "_view_count": null,
            "_view_module_version": "1.2.0",
            "bar_color": null,
            "_model_module": "@jupyter-widgets/controls"
          }
        },
        "204b0d95754b4f86ba281a4788d5c86b": {
          "model_module": "@jupyter-widgets/base",
          "model_name": "LayoutModel",
          "model_module_version": "1.2.0",
          "state": {
            "_view_name": "LayoutView",
            "grid_template_rows": null,
            "right": null,
            "justify_content": null,
            "_view_module": "@jupyter-widgets/base",
            "overflow": null,
            "_model_module_version": "1.2.0",
            "_view_count": null,
            "flex_flow": null,
            "width": null,
            "min_width": null,
            "border": null,
            "align_items": null,
            "bottom": null,
            "_model_module": "@jupyter-widgets/base",
            "top": null,
            "grid_column": null,
            "overflow_y": null,
            "overflow_x": null,
            "grid_auto_flow": null,
            "grid_area": null,
            "grid_template_columns": null,
            "flex": null,
            "_model_name": "LayoutModel",
            "justify_items": null,
            "grid_row": null,
            "max_height": null,
            "align_content": null,
            "visibility": null,
            "align_self": null,
            "height": null,
            "min_height": null,
            "padding": null,
            "grid_auto_rows": null,
            "grid_gap": null,
            "max_width": null,
            "order": null,
            "_view_module_version": "1.2.0",
            "grid_template_areas": null,
            "object_position": null,
            "object_fit": null,
            "grid_auto_columns": null,
            "margin": null,
            "display": null,
            "left": null
          }
        },
        "0fd12e2410314f468b5e5cbc0ea6c5f0": {
          "model_module": "@jupyter-widgets/controls",
          "model_name": "DescriptionStyleModel",
          "model_module_version": "1.5.0",
          "state": {
            "_view_name": "StyleView",
            "_model_name": "DescriptionStyleModel",
            "description_width": "",
            "_view_module": "@jupyter-widgets/base",
            "_model_module_version": "1.5.0",
            "_view_count": null,
            "_view_module_version": "1.2.0",
            "_model_module": "@jupyter-widgets/controls"
          }
        },
        "c7326eaef86649cb9f1e1361ddfb4970": {
          "model_module": "@jupyter-widgets/base",
          "model_name": "LayoutModel",
          "model_module_version": "1.2.0",
          "state": {
            "_view_name": "LayoutView",
            "grid_template_rows": null,
            "right": null,
            "justify_content": null,
            "_view_module": "@jupyter-widgets/base",
            "overflow": null,
            "_model_module_version": "1.2.0",
            "_view_count": null,
            "flex_flow": null,
            "width": null,
            "min_width": null,
            "border": null,
            "align_items": null,
            "bottom": null,
            "_model_module": "@jupyter-widgets/base",
            "top": null,
            "grid_column": null,
            "overflow_y": null,
            "overflow_x": null,
            "grid_auto_flow": null,
            "grid_area": null,
            "grid_template_columns": null,
            "flex": null,
            "_model_name": "LayoutModel",
            "justify_items": null,
            "grid_row": null,
            "max_height": null,
            "align_content": null,
            "visibility": null,
            "align_self": null,
            "height": null,
            "min_height": null,
            "padding": null,
            "grid_auto_rows": null,
            "grid_gap": null,
            "max_width": null,
            "order": null,
            "_view_module_version": "1.2.0",
            "grid_template_areas": null,
            "object_position": null,
            "object_fit": null,
            "grid_auto_columns": null,
            "margin": null,
            "display": null,
            "left": null
          }
        },
        "b2f3b2351f634328b4f049b61659645d": {
          "model_module": "@jupyter-widgets/controls",
          "model_name": "HBoxModel",
          "model_module_version": "1.5.0",
          "state": {
            "_view_name": "HBoxView",
            "_dom_classes": [],
            "_model_name": "HBoxModel",
            "_view_module": "@jupyter-widgets/controls",
            "_model_module_version": "1.5.0",
            "_view_count": null,
            "_view_module_version": "1.5.0",
            "box_style": "",
            "layout": "IPY_MODEL_87ce616d6bea4246a3017b412c4ff088",
            "_model_module": "@jupyter-widgets/controls",
            "children": [
              "IPY_MODEL_2e32ce8fedce4a3badcd9599ac35e595",
              "IPY_MODEL_e26a730c2b7344eb9d0de99ddab2556c",
              "IPY_MODEL_d17cf0d81bf640588fbbd954b7bed0f2"
            ]
          }
        },
        "87ce616d6bea4246a3017b412c4ff088": {
          "model_module": "@jupyter-widgets/base",
          "model_name": "LayoutModel",
          "model_module_version": "1.2.0",
          "state": {
            "_view_name": "LayoutView",
            "grid_template_rows": null,
            "right": null,
            "justify_content": null,
            "_view_module": "@jupyter-widgets/base",
            "overflow": null,
            "_model_module_version": "1.2.0",
            "_view_count": null,
            "flex_flow": null,
            "width": null,
            "min_width": null,
            "border": null,
            "align_items": null,
            "bottom": null,
            "_model_module": "@jupyter-widgets/base",
            "top": null,
            "grid_column": null,
            "overflow_y": null,
            "overflow_x": null,
            "grid_auto_flow": null,
            "grid_area": null,
            "grid_template_columns": null,
            "flex": null,
            "_model_name": "LayoutModel",
            "justify_items": null,
            "grid_row": null,
            "max_height": null,
            "align_content": null,
            "visibility": null,
            "align_self": null,
            "height": null,
            "min_height": null,
            "padding": null,
            "grid_auto_rows": null,
            "grid_gap": null,
            "max_width": null,
            "order": null,
            "_view_module_version": "1.2.0",
            "grid_template_areas": null,
            "object_position": null,
            "object_fit": null,
            "grid_auto_columns": null,
            "margin": null,
            "display": null,
            "left": null
          }
        },
        "2e32ce8fedce4a3badcd9599ac35e595": {
          "model_module": "@jupyter-widgets/controls",
          "model_name": "HTMLModel",
          "model_module_version": "1.5.0",
          "state": {
            "_view_name": "HTMLView",
            "style": "IPY_MODEL_12ed44a503c0423abab1c10d07abc2bb",
            "_dom_classes": [],
            "description": "",
            "_model_name": "HTMLModel",
            "placeholder": "​",
            "_view_module": "@jupyter-widgets/controls",
            "_model_module_version": "1.5.0",
            "value": "100%",
            "_view_count": null,
            "_view_module_version": "1.5.0",
            "description_tooltip": null,
            "_model_module": "@jupyter-widgets/controls",
            "layout": "IPY_MODEL_62455929fea44ebca426124f0abd9d7c"
          }
        },
        "e26a730c2b7344eb9d0de99ddab2556c": {
          "model_module": "@jupyter-widgets/controls",
          "model_name": "FloatProgressModel",
          "model_module_version": "1.5.0",
          "state": {
            "_view_name": "ProgressView",
            "style": "IPY_MODEL_83e25f8f3cba4ebc96f733de90c22b72",
            "_dom_classes": [],
            "description": "",
            "_model_name": "FloatProgressModel",
            "bar_style": "success",
            "max": 1,
            "_view_module": "@jupyter-widgets/controls",
            "_model_module_version": "1.5.0",
            "value": 1,
            "_view_count": null,
            "_view_module_version": "1.5.0",
            "orientation": "horizontal",
            "min": 0,
            "description_tooltip": null,
            "_model_module": "@jupyter-widgets/controls",
            "layout": "IPY_MODEL_aeabde4e7c0d4ae698c6ebee8ea60720"
          }
        },
        "d17cf0d81bf640588fbbd954b7bed0f2": {
          "model_module": "@jupyter-widgets/controls",
          "model_name": "HTMLModel",
          "model_module_version": "1.5.0",
          "state": {
            "_view_name": "HTMLView",
            "style": "IPY_MODEL_a870c6a734a647e0a73ab976c49aff20",
            "_dom_classes": [],
            "description": "",
            "_model_name": "HTMLModel",
            "placeholder": "​",
            "_view_module": "@jupyter-widgets/controls",
            "_model_module_version": "1.5.0",
            "value": " 1/1 [00:00&lt;00:00,  4.94it/s]",
            "_view_count": null,
            "_view_module_version": "1.5.0",
            "description_tooltip": null,
            "_model_module": "@jupyter-widgets/controls",
            "layout": "IPY_MODEL_4d020efbbfbc498c856432168bb6e3ad"
          }
        },
        "12ed44a503c0423abab1c10d07abc2bb": {
          "model_module": "@jupyter-widgets/controls",
          "model_name": "DescriptionStyleModel",
          "model_module_version": "1.5.0",
          "state": {
            "_view_name": "StyleView",
            "_model_name": "DescriptionStyleModel",
            "description_width": "",
            "_view_module": "@jupyter-widgets/base",
            "_model_module_version": "1.5.0",
            "_view_count": null,
            "_view_module_version": "1.2.0",
            "_model_module": "@jupyter-widgets/controls"
          }
        },
        "62455929fea44ebca426124f0abd9d7c": {
          "model_module": "@jupyter-widgets/base",
          "model_name": "LayoutModel",
          "model_module_version": "1.2.0",
          "state": {
            "_view_name": "LayoutView",
            "grid_template_rows": null,
            "right": null,
            "justify_content": null,
            "_view_module": "@jupyter-widgets/base",
            "overflow": null,
            "_model_module_version": "1.2.0",
            "_view_count": null,
            "flex_flow": null,
            "width": null,
            "min_width": null,
            "border": null,
            "align_items": null,
            "bottom": null,
            "_model_module": "@jupyter-widgets/base",
            "top": null,
            "grid_column": null,
            "overflow_y": null,
            "overflow_x": null,
            "grid_auto_flow": null,
            "grid_area": null,
            "grid_template_columns": null,
            "flex": null,
            "_model_name": "LayoutModel",
            "justify_items": null,
            "grid_row": null,
            "max_height": null,
            "align_content": null,
            "visibility": null,
            "align_self": null,
            "height": null,
            "min_height": null,
            "padding": null,
            "grid_auto_rows": null,
            "grid_gap": null,
            "max_width": null,
            "order": null,
            "_view_module_version": "1.2.0",
            "grid_template_areas": null,
            "object_position": null,
            "object_fit": null,
            "grid_auto_columns": null,
            "margin": null,
            "display": null,
            "left": null
          }
        },
        "83e25f8f3cba4ebc96f733de90c22b72": {
          "model_module": "@jupyter-widgets/controls",
          "model_name": "ProgressStyleModel",
          "model_module_version": "1.5.0",
          "state": {
            "_view_name": "StyleView",
            "_model_name": "ProgressStyleModel",
            "description_width": "",
            "_view_module": "@jupyter-widgets/base",
            "_model_module_version": "1.5.0",
            "_view_count": null,
            "_view_module_version": "1.2.0",
            "bar_color": null,
            "_model_module": "@jupyter-widgets/controls"
          }
        },
        "aeabde4e7c0d4ae698c6ebee8ea60720": {
          "model_module": "@jupyter-widgets/base",
          "model_name": "LayoutModel",
          "model_module_version": "1.2.0",
          "state": {
            "_view_name": "LayoutView",
            "grid_template_rows": null,
            "right": null,
            "justify_content": null,
            "_view_module": "@jupyter-widgets/base",
            "overflow": null,
            "_model_module_version": "1.2.0",
            "_view_count": null,
            "flex_flow": null,
            "width": null,
            "min_width": null,
            "border": null,
            "align_items": null,
            "bottom": null,
            "_model_module": "@jupyter-widgets/base",
            "top": null,
            "grid_column": null,
            "overflow_y": null,
            "overflow_x": null,
            "grid_auto_flow": null,
            "grid_area": null,
            "grid_template_columns": null,
            "flex": null,
            "_model_name": "LayoutModel",
            "justify_items": null,
            "grid_row": null,
            "max_height": null,
            "align_content": null,
            "visibility": null,
            "align_self": null,
            "height": null,
            "min_height": null,
            "padding": null,
            "grid_auto_rows": null,
            "grid_gap": null,
            "max_width": null,
            "order": null,
            "_view_module_version": "1.2.0",
            "grid_template_areas": null,
            "object_position": null,
            "object_fit": null,
            "grid_auto_columns": null,
            "margin": null,
            "display": null,
            "left": null
          }
        },
        "a870c6a734a647e0a73ab976c49aff20": {
          "model_module": "@jupyter-widgets/controls",
          "model_name": "DescriptionStyleModel",
          "model_module_version": "1.5.0",
          "state": {
            "_view_name": "StyleView",
            "_model_name": "DescriptionStyleModel",
            "description_width": "",
            "_view_module": "@jupyter-widgets/base",
            "_model_module_version": "1.5.0",
            "_view_count": null,
            "_view_module_version": "1.2.0",
            "_model_module": "@jupyter-widgets/controls"
          }
        },
        "4d020efbbfbc498c856432168bb6e3ad": {
          "model_module": "@jupyter-widgets/base",
          "model_name": "LayoutModel",
          "model_module_version": "1.2.0",
          "state": {
            "_view_name": "LayoutView",
            "grid_template_rows": null,
            "right": null,
            "justify_content": null,
            "_view_module": "@jupyter-widgets/base",
            "overflow": null,
            "_model_module_version": "1.2.0",
            "_view_count": null,
            "flex_flow": null,
            "width": null,
            "min_width": null,
            "border": null,
            "align_items": null,
            "bottom": null,
            "_model_module": "@jupyter-widgets/base",
            "top": null,
            "grid_column": null,
            "overflow_y": null,
            "overflow_x": null,
            "grid_auto_flow": null,
            "grid_area": null,
            "grid_template_columns": null,
            "flex": null,
            "_model_name": "LayoutModel",
            "justify_items": null,
            "grid_row": null,
            "max_height": null,
            "align_content": null,
            "visibility": null,
            "align_self": null,
            "height": null,
            "min_height": null,
            "padding": null,
            "grid_auto_rows": null,
            "grid_gap": null,
            "max_width": null,
            "order": null,
            "_view_module_version": "1.2.0",
            "grid_template_areas": null,
            "object_position": null,
            "object_fit": null,
            "grid_auto_columns": null,
            "margin": null,
            "display": null,
            "left": null
          }
        },
        "70ab70e2f74647ff8dac4cf671b34b49": {
          "model_module": "@jupyter-widgets/controls",
          "model_name": "HBoxModel",
          "model_module_version": "1.5.0",
          "state": {
            "_view_name": "HBoxView",
            "_dom_classes": [],
            "_model_name": "HBoxModel",
            "_view_module": "@jupyter-widgets/controls",
            "_model_module_version": "1.5.0",
            "_view_count": null,
            "_view_module_version": "1.5.0",
            "box_style": "",
            "layout": "IPY_MODEL_855db00c38ef47f2903e3259e1cffb45",
            "_model_module": "@jupyter-widgets/controls",
            "children": [
              "IPY_MODEL_3e08cd71f5a243b58f276ad0a2bbda8f",
              "IPY_MODEL_9cc9e85bcdc9420d82adf829c4bf23de",
              "IPY_MODEL_f6bfccba11bf44cb9505d7297afa9fca"
            ]
          }
        },
        "855db00c38ef47f2903e3259e1cffb45": {
          "model_module": "@jupyter-widgets/base",
          "model_name": "LayoutModel",
          "model_module_version": "1.2.0",
          "state": {
            "_view_name": "LayoutView",
            "grid_template_rows": null,
            "right": null,
            "justify_content": null,
            "_view_module": "@jupyter-widgets/base",
            "overflow": null,
            "_model_module_version": "1.2.0",
            "_view_count": null,
            "flex_flow": null,
            "width": null,
            "min_width": null,
            "border": null,
            "align_items": null,
            "bottom": null,
            "_model_module": "@jupyter-widgets/base",
            "top": null,
            "grid_column": null,
            "overflow_y": null,
            "overflow_x": null,
            "grid_auto_flow": null,
            "grid_area": null,
            "grid_template_columns": null,
            "flex": null,
            "_model_name": "LayoutModel",
            "justify_items": null,
            "grid_row": null,
            "max_height": null,
            "align_content": null,
            "visibility": null,
            "align_self": null,
            "height": null,
            "min_height": null,
            "padding": null,
            "grid_auto_rows": null,
            "grid_gap": null,
            "max_width": null,
            "order": null,
            "_view_module_version": "1.2.0",
            "grid_template_areas": null,
            "object_position": null,
            "object_fit": null,
            "grid_auto_columns": null,
            "margin": null,
            "display": null,
            "left": null
          }
        },
        "3e08cd71f5a243b58f276ad0a2bbda8f": {
          "model_module": "@jupyter-widgets/controls",
          "model_name": "HTMLModel",
          "model_module_version": "1.5.0",
          "state": {
            "_view_name": "HTMLView",
            "style": "IPY_MODEL_b472bd778b0142549d42c453b260cf33",
            "_dom_classes": [],
            "description": "",
            "_model_name": "HTMLModel",
            "placeholder": "​",
            "_view_module": "@jupyter-widgets/controls",
            "_model_module_version": "1.5.0",
            "value": "100%",
            "_view_count": null,
            "_view_module_version": "1.5.0",
            "description_tooltip": null,
            "_model_module": "@jupyter-widgets/controls",
            "layout": "IPY_MODEL_1d81a856cede482db2ebff025ec75f0b"
          }
        },
        "9cc9e85bcdc9420d82adf829c4bf23de": {
          "model_module": "@jupyter-widgets/controls",
          "model_name": "FloatProgressModel",
          "model_module_version": "1.5.0",
          "state": {
            "_view_name": "ProgressView",
            "style": "IPY_MODEL_157580ab639c4d379abe1f26fb75719a",
            "_dom_classes": [],
            "description": "",
            "_model_name": "FloatProgressModel",
            "bar_style": "success",
            "max": 1,
            "_view_module": "@jupyter-widgets/controls",
            "_model_module_version": "1.5.0",
            "value": 1,
            "_view_count": null,
            "_view_module_version": "1.5.0",
            "orientation": "horizontal",
            "min": 0,
            "description_tooltip": null,
            "_model_module": "@jupyter-widgets/controls",
            "layout": "IPY_MODEL_4d91c9bacc384ea183630b685d37ae13"
          }
        },
        "f6bfccba11bf44cb9505d7297afa9fca": {
          "model_module": "@jupyter-widgets/controls",
          "model_name": "HTMLModel",
          "model_module_version": "1.5.0",
          "state": {
            "_view_name": "HTMLView",
            "style": "IPY_MODEL_634f3ce417f846299ceb27ce553c573c",
            "_dom_classes": [],
            "description": "",
            "_model_name": "HTMLModel",
            "placeholder": "​",
            "_view_module": "@jupyter-widgets/controls",
            "_model_module_version": "1.5.0",
            "value": " 1/1 [00:00&lt;00:00, 19.06it/s]",
            "_view_count": null,
            "_view_module_version": "1.5.0",
            "description_tooltip": null,
            "_model_module": "@jupyter-widgets/controls",
            "layout": "IPY_MODEL_1da79b4bf45b4df2b5434589dad792e1"
          }
        },
        "b472bd778b0142549d42c453b260cf33": {
          "model_module": "@jupyter-widgets/controls",
          "model_name": "DescriptionStyleModel",
          "model_module_version": "1.5.0",
          "state": {
            "_view_name": "StyleView",
            "_model_name": "DescriptionStyleModel",
            "description_width": "",
            "_view_module": "@jupyter-widgets/base",
            "_model_module_version": "1.5.0",
            "_view_count": null,
            "_view_module_version": "1.2.0",
            "_model_module": "@jupyter-widgets/controls"
          }
        },
        "1d81a856cede482db2ebff025ec75f0b": {
          "model_module": "@jupyter-widgets/base",
          "model_name": "LayoutModel",
          "model_module_version": "1.2.0",
          "state": {
            "_view_name": "LayoutView",
            "grid_template_rows": null,
            "right": null,
            "justify_content": null,
            "_view_module": "@jupyter-widgets/base",
            "overflow": null,
            "_model_module_version": "1.2.0",
            "_view_count": null,
            "flex_flow": null,
            "width": null,
            "min_width": null,
            "border": null,
            "align_items": null,
            "bottom": null,
            "_model_module": "@jupyter-widgets/base",
            "top": null,
            "grid_column": null,
            "overflow_y": null,
            "overflow_x": null,
            "grid_auto_flow": null,
            "grid_area": null,
            "grid_template_columns": null,
            "flex": null,
            "_model_name": "LayoutModel",
            "justify_items": null,
            "grid_row": null,
            "max_height": null,
            "align_content": null,
            "visibility": null,
            "align_self": null,
            "height": null,
            "min_height": null,
            "padding": null,
            "grid_auto_rows": null,
            "grid_gap": null,
            "max_width": null,
            "order": null,
            "_view_module_version": "1.2.0",
            "grid_template_areas": null,
            "object_position": null,
            "object_fit": null,
            "grid_auto_columns": null,
            "margin": null,
            "display": null,
            "left": null
          }
        },
        "157580ab639c4d379abe1f26fb75719a": {
          "model_module": "@jupyter-widgets/controls",
          "model_name": "ProgressStyleModel",
          "model_module_version": "1.5.0",
          "state": {
            "_view_name": "StyleView",
            "_model_name": "ProgressStyleModel",
            "description_width": "",
            "_view_module": "@jupyter-widgets/base",
            "_model_module_version": "1.5.0",
            "_view_count": null,
            "_view_module_version": "1.2.0",
            "bar_color": null,
            "_model_module": "@jupyter-widgets/controls"
          }
        },
        "4d91c9bacc384ea183630b685d37ae13": {
          "model_module": "@jupyter-widgets/base",
          "model_name": "LayoutModel",
          "model_module_version": "1.2.0",
          "state": {
            "_view_name": "LayoutView",
            "grid_template_rows": null,
            "right": null,
            "justify_content": null,
            "_view_module": "@jupyter-widgets/base",
            "overflow": null,
            "_model_module_version": "1.2.0",
            "_view_count": null,
            "flex_flow": null,
            "width": null,
            "min_width": null,
            "border": null,
            "align_items": null,
            "bottom": null,
            "_model_module": "@jupyter-widgets/base",
            "top": null,
            "grid_column": null,
            "overflow_y": null,
            "overflow_x": null,
            "grid_auto_flow": null,
            "grid_area": null,
            "grid_template_columns": null,
            "flex": null,
            "_model_name": "LayoutModel",
            "justify_items": null,
            "grid_row": null,
            "max_height": null,
            "align_content": null,
            "visibility": null,
            "align_self": null,
            "height": null,
            "min_height": null,
            "padding": null,
            "grid_auto_rows": null,
            "grid_gap": null,
            "max_width": null,
            "order": null,
            "_view_module_version": "1.2.0",
            "grid_template_areas": null,
            "object_position": null,
            "object_fit": null,
            "grid_auto_columns": null,
            "margin": null,
            "display": null,
            "left": null
          }
        },
        "634f3ce417f846299ceb27ce553c573c": {
          "model_module": "@jupyter-widgets/controls",
          "model_name": "DescriptionStyleModel",
          "model_module_version": "1.5.0",
          "state": {
            "_view_name": "StyleView",
            "_model_name": "DescriptionStyleModel",
            "description_width": "",
            "_view_module": "@jupyter-widgets/base",
            "_model_module_version": "1.5.0",
            "_view_count": null,
            "_view_module_version": "1.2.0",
            "_model_module": "@jupyter-widgets/controls"
          }
        },
        "1da79b4bf45b4df2b5434589dad792e1": {
          "model_module": "@jupyter-widgets/base",
          "model_name": "LayoutModel",
          "model_module_version": "1.2.0",
          "state": {
            "_view_name": "LayoutView",
            "grid_template_rows": null,
            "right": null,
            "justify_content": null,
            "_view_module": "@jupyter-widgets/base",
            "overflow": null,
            "_model_module_version": "1.2.0",
            "_view_count": null,
            "flex_flow": null,
            "width": null,
            "min_width": null,
            "border": null,
            "align_items": null,
            "bottom": null,
            "_model_module": "@jupyter-widgets/base",
            "top": null,
            "grid_column": null,
            "overflow_y": null,
            "overflow_x": null,
            "grid_auto_flow": null,
            "grid_area": null,
            "grid_template_columns": null,
            "flex": null,
            "_model_name": "LayoutModel",
            "justify_items": null,
            "grid_row": null,
            "max_height": null,
            "align_content": null,
            "visibility": null,
            "align_self": null,
            "height": null,
            "min_height": null,
            "padding": null,
            "grid_auto_rows": null,
            "grid_gap": null,
            "max_width": null,
            "order": null,
            "_view_module_version": "1.2.0",
            "grid_template_areas": null,
            "object_position": null,
            "object_fit": null,
            "grid_auto_columns": null,
            "margin": null,
            "display": null,
            "left": null
          }
        },
        "3142881e0acf460398a7ff2a89d185db": {
          "model_module": "@jupyter-widgets/controls",
          "model_name": "HBoxModel",
          "model_module_version": "1.5.0",
          "state": {
            "_view_name": "HBoxView",
            "_dom_classes": [],
            "_model_name": "HBoxModel",
            "_view_module": "@jupyter-widgets/controls",
            "_model_module_version": "1.5.0",
            "_view_count": null,
            "_view_module_version": "1.5.0",
            "box_style": "",
            "layout": "IPY_MODEL_3c1e5fb9b1914b05b909ca716515fa84",
            "_model_module": "@jupyter-widgets/controls",
            "children": [
              "IPY_MODEL_1cfa7139e1044c3492ac344aba34b446",
              "IPY_MODEL_bdab62b37edd4cb1b52890a15bff3a5b",
              "IPY_MODEL_78b7aad9f60b404c9386e2162c716f87"
            ]
          }
        },
        "3c1e5fb9b1914b05b909ca716515fa84": {
          "model_module": "@jupyter-widgets/base",
          "model_name": "LayoutModel",
          "model_module_version": "1.2.0",
          "state": {
            "_view_name": "LayoutView",
            "grid_template_rows": null,
            "right": null,
            "justify_content": null,
            "_view_module": "@jupyter-widgets/base",
            "overflow": null,
            "_model_module_version": "1.2.0",
            "_view_count": null,
            "flex_flow": null,
            "width": null,
            "min_width": null,
            "border": null,
            "align_items": null,
            "bottom": null,
            "_model_module": "@jupyter-widgets/base",
            "top": null,
            "grid_column": null,
            "overflow_y": null,
            "overflow_x": null,
            "grid_auto_flow": null,
            "grid_area": null,
            "grid_template_columns": null,
            "flex": null,
            "_model_name": "LayoutModel",
            "justify_items": null,
            "grid_row": null,
            "max_height": null,
            "align_content": null,
            "visibility": null,
            "align_self": null,
            "height": null,
            "min_height": null,
            "padding": null,
            "grid_auto_rows": null,
            "grid_gap": null,
            "max_width": null,
            "order": null,
            "_view_module_version": "1.2.0",
            "grid_template_areas": null,
            "object_position": null,
            "object_fit": null,
            "grid_auto_columns": null,
            "margin": null,
            "display": null,
            "left": null
          }
        },
        "1cfa7139e1044c3492ac344aba34b446": {
          "model_module": "@jupyter-widgets/controls",
          "model_name": "HTMLModel",
          "model_module_version": "1.5.0",
          "state": {
            "_view_name": "HTMLView",
            "style": "IPY_MODEL_3ed27577b48d415cb3488dbabca25e89",
            "_dom_classes": [],
            "description": "",
            "_model_name": "HTMLModel",
            "placeholder": "​",
            "_view_module": "@jupyter-widgets/controls",
            "_model_module_version": "1.5.0",
            "value": "100%",
            "_view_count": null,
            "_view_module_version": "1.5.0",
            "description_tooltip": null,
            "_model_module": "@jupyter-widgets/controls",
            "layout": "IPY_MODEL_3d0f4e30c4904879b129d75fcba2fbd3"
          }
        },
        "bdab62b37edd4cb1b52890a15bff3a5b": {
          "model_module": "@jupyter-widgets/controls",
          "model_name": "FloatProgressModel",
          "model_module_version": "1.5.0",
          "state": {
            "_view_name": "ProgressView",
            "style": "IPY_MODEL_721df92b105e4608a9fe41faf8d57668",
            "_dom_classes": [],
            "description": "",
            "_model_name": "FloatProgressModel",
            "bar_style": "success",
            "max": 1,
            "_view_module": "@jupyter-widgets/controls",
            "_model_module_version": "1.5.0",
            "value": 1,
            "_view_count": null,
            "_view_module_version": "1.5.0",
            "orientation": "horizontal",
            "min": 0,
            "description_tooltip": null,
            "_model_module": "@jupyter-widgets/controls",
            "layout": "IPY_MODEL_31384c97b380439f9c896cc0c32ffe8d"
          }
        },
        "78b7aad9f60b404c9386e2162c716f87": {
          "model_module": "@jupyter-widgets/controls",
          "model_name": "HTMLModel",
          "model_module_version": "1.5.0",
          "state": {
            "_view_name": "HTMLView",
            "style": "IPY_MODEL_92a34c264fcd4421b89667154b1157e4",
            "_dom_classes": [],
            "description": "",
            "_model_name": "HTMLModel",
            "placeholder": "​",
            "_view_module": "@jupyter-widgets/controls",
            "_model_module_version": "1.5.0",
            "value": " 1/1 [00:00&lt;00:00,  9.23it/s]",
            "_view_count": null,
            "_view_module_version": "1.5.0",
            "description_tooltip": null,
            "_model_module": "@jupyter-widgets/controls",
            "layout": "IPY_MODEL_8ae6d315f4f94661aa9076d4e912eb1e"
          }
        },
        "3ed27577b48d415cb3488dbabca25e89": {
          "model_module": "@jupyter-widgets/controls",
          "model_name": "DescriptionStyleModel",
          "model_module_version": "1.5.0",
          "state": {
            "_view_name": "StyleView",
            "_model_name": "DescriptionStyleModel",
            "description_width": "",
            "_view_module": "@jupyter-widgets/base",
            "_model_module_version": "1.5.0",
            "_view_count": null,
            "_view_module_version": "1.2.0",
            "_model_module": "@jupyter-widgets/controls"
          }
        },
        "3d0f4e30c4904879b129d75fcba2fbd3": {
          "model_module": "@jupyter-widgets/base",
          "model_name": "LayoutModel",
          "model_module_version": "1.2.0",
          "state": {
            "_view_name": "LayoutView",
            "grid_template_rows": null,
            "right": null,
            "justify_content": null,
            "_view_module": "@jupyter-widgets/base",
            "overflow": null,
            "_model_module_version": "1.2.0",
            "_view_count": null,
            "flex_flow": null,
            "width": null,
            "min_width": null,
            "border": null,
            "align_items": null,
            "bottom": null,
            "_model_module": "@jupyter-widgets/base",
            "top": null,
            "grid_column": null,
            "overflow_y": null,
            "overflow_x": null,
            "grid_auto_flow": null,
            "grid_area": null,
            "grid_template_columns": null,
            "flex": null,
            "_model_name": "LayoutModel",
            "justify_items": null,
            "grid_row": null,
            "max_height": null,
            "align_content": null,
            "visibility": null,
            "align_self": null,
            "height": null,
            "min_height": null,
            "padding": null,
            "grid_auto_rows": null,
            "grid_gap": null,
            "max_width": null,
            "order": null,
            "_view_module_version": "1.2.0",
            "grid_template_areas": null,
            "object_position": null,
            "object_fit": null,
            "grid_auto_columns": null,
            "margin": null,
            "display": null,
            "left": null
          }
        },
        "721df92b105e4608a9fe41faf8d57668": {
          "model_module": "@jupyter-widgets/controls",
          "model_name": "ProgressStyleModel",
          "model_module_version": "1.5.0",
          "state": {
            "_view_name": "StyleView",
            "_model_name": "ProgressStyleModel",
            "description_width": "",
            "_view_module": "@jupyter-widgets/base",
            "_model_module_version": "1.5.0",
            "_view_count": null,
            "_view_module_version": "1.2.0",
            "bar_color": null,
            "_model_module": "@jupyter-widgets/controls"
          }
        },
        "31384c97b380439f9c896cc0c32ffe8d": {
          "model_module": "@jupyter-widgets/base",
          "model_name": "LayoutModel",
          "model_module_version": "1.2.0",
          "state": {
            "_view_name": "LayoutView",
            "grid_template_rows": null,
            "right": null,
            "justify_content": null,
            "_view_module": "@jupyter-widgets/base",
            "overflow": null,
            "_model_module_version": "1.2.0",
            "_view_count": null,
            "flex_flow": null,
            "width": null,
            "min_width": null,
            "border": null,
            "align_items": null,
            "bottom": null,
            "_model_module": "@jupyter-widgets/base",
            "top": null,
            "grid_column": null,
            "overflow_y": null,
            "overflow_x": null,
            "grid_auto_flow": null,
            "grid_area": null,
            "grid_template_columns": null,
            "flex": null,
            "_model_name": "LayoutModel",
            "justify_items": null,
            "grid_row": null,
            "max_height": null,
            "align_content": null,
            "visibility": null,
            "align_self": null,
            "height": null,
            "min_height": null,
            "padding": null,
            "grid_auto_rows": null,
            "grid_gap": null,
            "max_width": null,
            "order": null,
            "_view_module_version": "1.2.0",
            "grid_template_areas": null,
            "object_position": null,
            "object_fit": null,
            "grid_auto_columns": null,
            "margin": null,
            "display": null,
            "left": null
          }
        },
        "92a34c264fcd4421b89667154b1157e4": {
          "model_module": "@jupyter-widgets/controls",
          "model_name": "DescriptionStyleModel",
          "model_module_version": "1.5.0",
          "state": {
            "_view_name": "StyleView",
            "_model_name": "DescriptionStyleModel",
            "description_width": "",
            "_view_module": "@jupyter-widgets/base",
            "_model_module_version": "1.5.0",
            "_view_count": null,
            "_view_module_version": "1.2.0",
            "_model_module": "@jupyter-widgets/controls"
          }
        },
        "8ae6d315f4f94661aa9076d4e912eb1e": {
          "model_module": "@jupyter-widgets/base",
          "model_name": "LayoutModel",
          "model_module_version": "1.2.0",
          "state": {
            "_view_name": "LayoutView",
            "grid_template_rows": null,
            "right": null,
            "justify_content": null,
            "_view_module": "@jupyter-widgets/base",
            "overflow": null,
            "_model_module_version": "1.2.0",
            "_view_count": null,
            "flex_flow": null,
            "width": null,
            "min_width": null,
            "border": null,
            "align_items": null,
            "bottom": null,
            "_model_module": "@jupyter-widgets/base",
            "top": null,
            "grid_column": null,
            "overflow_y": null,
            "overflow_x": null,
            "grid_auto_flow": null,
            "grid_area": null,
            "grid_template_columns": null,
            "flex": null,
            "_model_name": "LayoutModel",
            "justify_items": null,
            "grid_row": null,
            "max_height": null,
            "align_content": null,
            "visibility": null,
            "align_self": null,
            "height": null,
            "min_height": null,
            "padding": null,
            "grid_auto_rows": null,
            "grid_gap": null,
            "max_width": null,
            "order": null,
            "_view_module_version": "1.2.0",
            "grid_template_areas": null,
            "object_position": null,
            "object_fit": null,
            "grid_auto_columns": null,
            "margin": null,
            "display": null,
            "left": null
          }
        },
        "b25a2376d727495197f59599d1b66cca": {
          "model_module": "@jupyter-widgets/controls",
          "model_name": "HBoxModel",
          "model_module_version": "1.5.0",
          "state": {
            "_view_name": "HBoxView",
            "_dom_classes": [],
            "_model_name": "HBoxModel",
            "_view_module": "@jupyter-widgets/controls",
            "_model_module_version": "1.5.0",
            "_view_count": null,
            "_view_module_version": "1.5.0",
            "box_style": "",
            "layout": "IPY_MODEL_f7dfa27c60f84fff852f22aa9243660f",
            "_model_module": "@jupyter-widgets/controls",
            "children": [
              "IPY_MODEL_2d892a4045b44119bd8fe93e244c9cfb",
              "IPY_MODEL_1c099481f6ed4619a3c1ef1d707f7e1a",
              "IPY_MODEL_e07f0e7d366c4fdfa1c1a539c650482c"
            ]
          }
        },
        "f7dfa27c60f84fff852f22aa9243660f": {
          "model_module": "@jupyter-widgets/base",
          "model_name": "LayoutModel",
          "model_module_version": "1.2.0",
          "state": {
            "_view_name": "LayoutView",
            "grid_template_rows": null,
            "right": null,
            "justify_content": null,
            "_view_module": "@jupyter-widgets/base",
            "overflow": null,
            "_model_module_version": "1.2.0",
            "_view_count": null,
            "flex_flow": null,
            "width": null,
            "min_width": null,
            "border": null,
            "align_items": null,
            "bottom": null,
            "_model_module": "@jupyter-widgets/base",
            "top": null,
            "grid_column": null,
            "overflow_y": null,
            "overflow_x": null,
            "grid_auto_flow": null,
            "grid_area": null,
            "grid_template_columns": null,
            "flex": null,
            "_model_name": "LayoutModel",
            "justify_items": null,
            "grid_row": null,
            "max_height": null,
            "align_content": null,
            "visibility": null,
            "align_self": null,
            "height": null,
            "min_height": null,
            "padding": null,
            "grid_auto_rows": null,
            "grid_gap": null,
            "max_width": null,
            "order": null,
            "_view_module_version": "1.2.0",
            "grid_template_areas": null,
            "object_position": null,
            "object_fit": null,
            "grid_auto_columns": null,
            "margin": null,
            "display": null,
            "left": null
          }
        },
        "2d892a4045b44119bd8fe93e244c9cfb": {
          "model_module": "@jupyter-widgets/controls",
          "model_name": "HTMLModel",
          "model_module_version": "1.5.0",
          "state": {
            "_view_name": "HTMLView",
            "style": "IPY_MODEL_2c23940cdb864f069edc4d83eef39569",
            "_dom_classes": [],
            "description": "",
            "_model_name": "HTMLModel",
            "placeholder": "​",
            "_view_module": "@jupyter-widgets/controls",
            "_model_module_version": "1.5.0",
            "value": "100%",
            "_view_count": null,
            "_view_module_version": "1.5.0",
            "description_tooltip": null,
            "_model_module": "@jupyter-widgets/controls",
            "layout": "IPY_MODEL_5fe69b2c9a654a2088712093ff5a2cd6"
          }
        },
        "1c099481f6ed4619a3c1ef1d707f7e1a": {
          "model_module": "@jupyter-widgets/controls",
          "model_name": "FloatProgressModel",
          "model_module_version": "1.5.0",
          "state": {
            "_view_name": "ProgressView",
            "style": "IPY_MODEL_b381f58c76414fcdadadf99316ca39cf",
            "_dom_classes": [],
            "description": "",
            "_model_name": "FloatProgressModel",
            "bar_style": "success",
            "max": 1,
            "_view_module": "@jupyter-widgets/controls",
            "_model_module_version": "1.5.0",
            "value": 1,
            "_view_count": null,
            "_view_module_version": "1.5.0",
            "orientation": "horizontal",
            "min": 0,
            "description_tooltip": null,
            "_model_module": "@jupyter-widgets/controls",
            "layout": "IPY_MODEL_5cb57f2a9bd14dfc87cac798f2d97f2d"
          }
        },
        "e07f0e7d366c4fdfa1c1a539c650482c": {
          "model_module": "@jupyter-widgets/controls",
          "model_name": "HTMLModel",
          "model_module_version": "1.5.0",
          "state": {
            "_view_name": "HTMLView",
            "style": "IPY_MODEL_02bda5ae9427425b905a1e3a15b0842e",
            "_dom_classes": [],
            "description": "",
            "_model_name": "HTMLModel",
            "placeholder": "​",
            "_view_module": "@jupyter-widgets/controls",
            "_model_module_version": "1.5.0",
            "value": " 1/1 [00:00&lt;00:00, 23.87it/s]",
            "_view_count": null,
            "_view_module_version": "1.5.0",
            "description_tooltip": null,
            "_model_module": "@jupyter-widgets/controls",
            "layout": "IPY_MODEL_83ed75c121674b9482c36de91b67153a"
          }
        },
        "2c23940cdb864f069edc4d83eef39569": {
          "model_module": "@jupyter-widgets/controls",
          "model_name": "DescriptionStyleModel",
          "model_module_version": "1.5.0",
          "state": {
            "_view_name": "StyleView",
            "_model_name": "DescriptionStyleModel",
            "description_width": "",
            "_view_module": "@jupyter-widgets/base",
            "_model_module_version": "1.5.0",
            "_view_count": null,
            "_view_module_version": "1.2.0",
            "_model_module": "@jupyter-widgets/controls"
          }
        },
        "5fe69b2c9a654a2088712093ff5a2cd6": {
          "model_module": "@jupyter-widgets/base",
          "model_name": "LayoutModel",
          "model_module_version": "1.2.0",
          "state": {
            "_view_name": "LayoutView",
            "grid_template_rows": null,
            "right": null,
            "justify_content": null,
            "_view_module": "@jupyter-widgets/base",
            "overflow": null,
            "_model_module_version": "1.2.0",
            "_view_count": null,
            "flex_flow": null,
            "width": null,
            "min_width": null,
            "border": null,
            "align_items": null,
            "bottom": null,
            "_model_module": "@jupyter-widgets/base",
            "top": null,
            "grid_column": null,
            "overflow_y": null,
            "overflow_x": null,
            "grid_auto_flow": null,
            "grid_area": null,
            "grid_template_columns": null,
            "flex": null,
            "_model_name": "LayoutModel",
            "justify_items": null,
            "grid_row": null,
            "max_height": null,
            "align_content": null,
            "visibility": null,
            "align_self": null,
            "height": null,
            "min_height": null,
            "padding": null,
            "grid_auto_rows": null,
            "grid_gap": null,
            "max_width": null,
            "order": null,
            "_view_module_version": "1.2.0",
            "grid_template_areas": null,
            "object_position": null,
            "object_fit": null,
            "grid_auto_columns": null,
            "margin": null,
            "display": null,
            "left": null
          }
        },
        "b381f58c76414fcdadadf99316ca39cf": {
          "model_module": "@jupyter-widgets/controls",
          "model_name": "ProgressStyleModel",
          "model_module_version": "1.5.0",
          "state": {
            "_view_name": "StyleView",
            "_model_name": "ProgressStyleModel",
            "description_width": "",
            "_view_module": "@jupyter-widgets/base",
            "_model_module_version": "1.5.0",
            "_view_count": null,
            "_view_module_version": "1.2.0",
            "bar_color": null,
            "_model_module": "@jupyter-widgets/controls"
          }
        },
        "5cb57f2a9bd14dfc87cac798f2d97f2d": {
          "model_module": "@jupyter-widgets/base",
          "model_name": "LayoutModel",
          "model_module_version": "1.2.0",
          "state": {
            "_view_name": "LayoutView",
            "grid_template_rows": null,
            "right": null,
            "justify_content": null,
            "_view_module": "@jupyter-widgets/base",
            "overflow": null,
            "_model_module_version": "1.2.0",
            "_view_count": null,
            "flex_flow": null,
            "width": null,
            "min_width": null,
            "border": null,
            "align_items": null,
            "bottom": null,
            "_model_module": "@jupyter-widgets/base",
            "top": null,
            "grid_column": null,
            "overflow_y": null,
            "overflow_x": null,
            "grid_auto_flow": null,
            "grid_area": null,
            "grid_template_columns": null,
            "flex": null,
            "_model_name": "LayoutModel",
            "justify_items": null,
            "grid_row": null,
            "max_height": null,
            "align_content": null,
            "visibility": null,
            "align_self": null,
            "height": null,
            "min_height": null,
            "padding": null,
            "grid_auto_rows": null,
            "grid_gap": null,
            "max_width": null,
            "order": null,
            "_view_module_version": "1.2.0",
            "grid_template_areas": null,
            "object_position": null,
            "object_fit": null,
            "grid_auto_columns": null,
            "margin": null,
            "display": null,
            "left": null
          }
        },
        "02bda5ae9427425b905a1e3a15b0842e": {
          "model_module": "@jupyter-widgets/controls",
          "model_name": "DescriptionStyleModel",
          "model_module_version": "1.5.0",
          "state": {
            "_view_name": "StyleView",
            "_model_name": "DescriptionStyleModel",
            "description_width": "",
            "_view_module": "@jupyter-widgets/base",
            "_model_module_version": "1.5.0",
            "_view_count": null,
            "_view_module_version": "1.2.0",
            "_model_module": "@jupyter-widgets/controls"
          }
        },
        "83ed75c121674b9482c36de91b67153a": {
          "model_module": "@jupyter-widgets/base",
          "model_name": "LayoutModel",
          "model_module_version": "1.2.0",
          "state": {
            "_view_name": "LayoutView",
            "grid_template_rows": null,
            "right": null,
            "justify_content": null,
            "_view_module": "@jupyter-widgets/base",
            "overflow": null,
            "_model_module_version": "1.2.0",
            "_view_count": null,
            "flex_flow": null,
            "width": null,
            "min_width": null,
            "border": null,
            "align_items": null,
            "bottom": null,
            "_model_module": "@jupyter-widgets/base",
            "top": null,
            "grid_column": null,
            "overflow_y": null,
            "overflow_x": null,
            "grid_auto_flow": null,
            "grid_area": null,
            "grid_template_columns": null,
            "flex": null,
            "_model_name": "LayoutModel",
            "justify_items": null,
            "grid_row": null,
            "max_height": null,
            "align_content": null,
            "visibility": null,
            "align_self": null,
            "height": null,
            "min_height": null,
            "padding": null,
            "grid_auto_rows": null,
            "grid_gap": null,
            "max_width": null,
            "order": null,
            "_view_module_version": "1.2.0",
            "grid_template_areas": null,
            "object_position": null,
            "object_fit": null,
            "grid_auto_columns": null,
            "margin": null,
            "display": null,
            "left": null
          }
        }
      }
    }
  },
  "cells": [
    {
      "cell_type": "markdown",
      "metadata": {
        "id": "view-in-github",
        "colab_type": "text"
      },
      "source": [
        "<a href=\"https://colab.research.google.com/github/mpratiek/END_NLP/blob/main/Evaluation_Metrics_Attn_GRU_MT_model.ipynb\" target=\"_parent\"><img src=\"https://colab.research.google.com/assets/colab-badge.svg\" alt=\"Open In Colab\"/></a>"
      ]
    },
    {
      "cell_type": "code",
      "metadata": {
        "id": "bBbYgWWWk_Pu"
      },
      "source": [
        ""
      ],
      "execution_count": null,
      "outputs": []
    },
    {
      "cell_type": "markdown",
      "metadata": {
        "id": "5DfVnbuslPVU"
      },
      "source": [
        "## Libraries"
      ]
    },
    {
      "cell_type": "code",
      "metadata": {
        "id": "4DjAkKfglMXs"
      },
      "source": [
        "from __future__ import unicode_literals, print_function, division\n",
        "from io import open\n",
        "import unicodedata\n",
        "import string\n",
        "import re\n",
        "import random\n",
        "\n",
        "import torch\n",
        "import torch.nn as nn\n",
        "from torch import optim\n",
        "import torch.nn.functional as F\n",
        "\n",
        "device = torch.device(\"cuda\" if torch.cuda.is_available() else \"cpu\")"
      ],
      "execution_count": 1,
      "outputs": []
    },
    {
      "cell_type": "markdown",
      "metadata": {
        "id": "b5EwiX0llo8T"
      },
      "source": [
        "## Downloading Data"
      ]
    },
    {
      "cell_type": "code",
      "metadata": {
        "colab": {
          "base_uri": "https://localhost:8080/"
        },
        "id": "30YRnF1AlMTn",
        "outputId": "4ee59245-7710-4ed8-a684-c36e302a52da"
      },
      "source": [
        "!wget https://download.pytorch.org/tutorial/data.zip\n",
        "\n",
        "!unzip data.zip"
      ],
      "execution_count": 3,
      "outputs": [
        {
          "output_type": "stream",
          "name": "stdout",
          "text": [
            "--2021-12-09 13:07:52--  https://download.pytorch.org/tutorial/data.zip\n",
            "Resolving download.pytorch.org (download.pytorch.org)... 52.85.79.74, 52.85.79.49, 52.85.79.23, ...\n",
            "Connecting to download.pytorch.org (download.pytorch.org)|52.85.79.74|:443... connected.\n",
            "HTTP request sent, awaiting response... 200 OK\n",
            "Length: 2882130 (2.7M) [application/zip]\n",
            "Saving to: ‘data.zip’\n",
            "\n",
            "\rdata.zip              0%[                    ]       0  --.-KB/s               \rdata.zip            100%[===================>]   2.75M  --.-KB/s    in 0.07s   \n",
            "\n",
            "2021-12-09 13:07:53 (37.5 MB/s) - ‘data.zip’ saved [2882130/2882130]\n",
            "\n",
            "Archive:  data.zip\n",
            "   creating: data/\n",
            "  inflating: data/eng-fra.txt        \n",
            "   creating: data/names/\n",
            "  inflating: data/names/Arabic.txt   \n",
            "  inflating: data/names/Chinese.txt  \n",
            "  inflating: data/names/Czech.txt    \n",
            "  inflating: data/names/Dutch.txt    \n",
            "  inflating: data/names/English.txt  \n",
            "  inflating: data/names/French.txt   \n",
            "  inflating: data/names/German.txt   \n",
            "  inflating: data/names/Greek.txt    \n",
            "  inflating: data/names/Irish.txt    \n",
            "  inflating: data/names/Italian.txt  \n",
            "  inflating: data/names/Japanese.txt  \n",
            "  inflating: data/names/Korean.txt   \n",
            "  inflating: data/names/Polish.txt   \n",
            "  inflating: data/names/Portuguese.txt  \n",
            "  inflating: data/names/Russian.txt  \n",
            "  inflating: data/names/Scottish.txt  \n",
            "  inflating: data/names/Spanish.txt  \n",
            "  inflating: data/names/Vietnamese.txt  \n"
          ]
        }
      ]
    },
    {
      "cell_type": "code",
      "metadata": {
        "id": "y1djiUuwlMPx"
      },
      "source": [
        "SOS_token = 0\n",
        "EOS_token = 1\n",
        "\n",
        "\n",
        "class Lang:\n",
        "    def __init__(self, name):\n",
        "        self.name = name\n",
        "        self.word2index = {}\n",
        "        self.word2count = {}\n",
        "        self.index2word = {0: \"SOS\", 1: \"EOS\"}\n",
        "        self.n_words = 2  # Count SOS and EOS\n",
        "\n",
        "    def addSentence(self, sentence):\n",
        "        for word in sentence.split(' '):\n",
        "            self.addWord(word)\n",
        "\n",
        "    def addWord(self, word):\n",
        "        if word not in self.word2index:\n",
        "            self.word2index[word] = self.n_words\n",
        "            self.word2count[word] = 1\n",
        "            self.index2word[self.n_words] = word\n",
        "            self.n_words += 1\n",
        "        else:\n",
        "            self.word2count[word] += 1"
      ],
      "execution_count": 8,
      "outputs": []
    },
    {
      "cell_type": "code",
      "metadata": {
        "id": "krzPIIb1lML1"
      },
      "source": [
        "# Turn a Unicode string to plain ASCII, thanks to\n",
        "# https://stackoverflow.com/a/518232/2809427\n",
        "def unicodeToAscii(s):\n",
        "    return ''.join(\n",
        "        c for c in unicodedata.normalize('NFD', s)\n",
        "        if unicodedata.category(c) != 'Mn'\n",
        "    )\n",
        "\n",
        "# Lowercase, trim, and remove non-letter characters\n",
        "\n",
        "\n",
        "def normalizeString(s):\n",
        "    s = unicodeToAscii(s.lower().strip())\n",
        "    s = re.sub(r\"([.!?])\", r\" \\1\", s)\n",
        "    s = re.sub(r\"[^a-zA-Z.!?]+\", r\" \", s)\n",
        "    return s"
      ],
      "execution_count": 9,
      "outputs": []
    },
    {
      "cell_type": "code",
      "metadata": {
        "id": "-y13FNAOlMHs"
      },
      "source": [
        "def readLangs(lang1, lang2, reverse=False):\n",
        "    print(\"Reading lines...\")\n",
        "\n",
        "    # Read the file and split into lines\n",
        "    lines = open('data/%s-%s.txt' % (lang1, lang2), encoding='utf-8').\\\n",
        "        read().strip().split('\\n')\n",
        "\n",
        "    # Split every line into pairs and normalize\n",
        "    pairs = [[normalizeString(s) for s in l.split('\\t')] for l in lines]\n",
        "\n",
        "    # Reverse pairs, make Lang instances\n",
        "    if reverse:\n",
        "        pairs = [list(reversed(p)) for p in pairs]\n",
        "        input_lang = Lang(lang2)\n",
        "        output_lang = Lang(lang1)\n",
        "    else:\n",
        "        input_lang = Lang(lang1)\n",
        "        output_lang = Lang(lang2)\n",
        "\n",
        "    return input_lang, output_lang, pairs"
      ],
      "execution_count": 10,
      "outputs": []
    },
    {
      "cell_type": "code",
      "metadata": {
        "id": "UL9OAd42lMD1"
      },
      "source": [
        "MAX_LENGTH = 10\n",
        "\n",
        "eng_prefixes = (\n",
        "    \"i am \", \"i m \",\n",
        "    \"he is\", \"he s \",\n",
        "    \"she is\", \"she s \",\n",
        "    \"you are\", \"you re \",\n",
        "    \"we are\", \"we re \",\n",
        "    \"they are\", \"they re \"\n",
        ")\n",
        "\n",
        "\n",
        "def filterPair(p):\n",
        "    return len(p[0].split(' ')) < MAX_LENGTH and \\\n",
        "        len(p[1].split(' ')) < MAX_LENGTH and \\\n",
        "        p[1].startswith(eng_prefixes)\n",
        "\n",
        "\n",
        "def filterPairs(pairs):\n",
        "    return [pair for pair in pairs if filterPair(pair)]"
      ],
      "execution_count": 11,
      "outputs": []
    },
    {
      "cell_type": "code",
      "metadata": {
        "colab": {
          "base_uri": "https://localhost:8080/"
        },
        "id": "8Agl-sz5lMAH",
        "outputId": "9b0e91fd-c112-49ae-cfcd-edc516258ee5"
      },
      "source": [
        "def prepareData(lang1, lang2, reverse=False):\n",
        "    input_lang, output_lang, pairs = readLangs(lang1, lang2, reverse)\n",
        "    print(\"Read %s sentence pairs\" % len(pairs))\n",
        "    pairs = filterPairs(pairs)\n",
        "    print(\"Trimmed to %s sentence pairs\" % len(pairs))\n",
        "    print(\"Counting words...\")\n",
        "    for pair in pairs:\n",
        "        input_lang.addSentence(pair[0])\n",
        "        output_lang.addSentence(pair[1])\n",
        "    print(\"Counted words:\")\n",
        "    print(input_lang.name, input_lang.n_words)\n",
        "    print(output_lang.name, output_lang.n_words)\n",
        "    return input_lang, output_lang, pairs\n",
        "\n",
        "\n",
        "input_lang, output_lang, pairs = prepareData('eng', 'fra', True)\n",
        "print(random.choice(pairs))"
      ],
      "execution_count": 12,
      "outputs": [
        {
          "output_type": "stream",
          "name": "stdout",
          "text": [
            "Reading lines...\n",
            "Read 135842 sentence pairs\n",
            "Trimmed to 10599 sentence pairs\n",
            "Counting words...\n",
            "Counted words:\n",
            "fra 4345\n",
            "eng 2803\n",
            "['tu es toute seule .', 'you re all alone .']\n"
          ]
        }
      ]
    },
    {
      "cell_type": "code",
      "metadata": {
        "id": "sJyhz7EelL8S"
      },
      "source": [
        "class EncoderRNN(nn.Module):\n",
        "    def __init__(self, input_size, hidden_size):\n",
        "        super(EncoderRNN, self).__init__()\n",
        "        self.hidden_size = hidden_size\n",
        "\n",
        "        self.embedding = nn.Embedding(input_size, hidden_size)\n",
        "        self.gru = nn.GRU(hidden_size, hidden_size)\n",
        "\n",
        "    def forward(self, input, hidden):\n",
        "        embedded = self.embedding(input).view(1, 1, -1)\n",
        "        output = embedded\n",
        "        output, hidden = self.gru(output, hidden)\n",
        "        return output, hidden\n",
        "\n",
        "    def initHidden(self):\n",
        "        return torch.zeros(1, 1, self.hidden_size, device=device)"
      ],
      "execution_count": 13,
      "outputs": []
    },
    {
      "cell_type": "code",
      "metadata": {
        "id": "hSIVQs7MlL4v"
      },
      "source": [
        "class AttnDecoderRNN(nn.Module):\n",
        "    def __init__(self, hidden_size, output_size, dropout_p=0.1, max_length=MAX_LENGTH):\n",
        "        super(AttnDecoderRNN, self).__init__()\n",
        "        self.hidden_size = hidden_size\n",
        "        self.output_size = output_size\n",
        "        self.dropout_p = dropout_p\n",
        "        self.max_length = max_length\n",
        "\n",
        "        self.embedding = nn.Embedding(self.output_size, self.hidden_size)\n",
        "        self.attn = nn.Linear(self.hidden_size * 2, self.max_length)\n",
        "        self.attn_combine = nn.Linear(self.hidden_size * 2, self.hidden_size)\n",
        "        self.dropout = nn.Dropout(self.dropout_p)\n",
        "        self.gru = nn.GRU(self.hidden_size, self.hidden_size)\n",
        "        self.out = nn.Linear(self.hidden_size, self.output_size)\n",
        "\n",
        "    def forward(self, input, hidden, encoder_outputs):\n",
        "        embedded = self.embedding(input).view(1, 1, -1)\n",
        "        embedded = self.dropout(embedded)\n",
        "\n",
        "        attn_weights = F.softmax(\n",
        "            self.attn(torch.cat((embedded[0], hidden[0]), 1)), dim=1)\n",
        "        attn_applied = torch.bmm(attn_weights.unsqueeze(0),\n",
        "                                 encoder_outputs.unsqueeze(0))\n",
        "\n",
        "        output = torch.cat((embedded[0], attn_applied[0]), 1)\n",
        "        output = self.attn_combine(output).unsqueeze(0)\n",
        "\n",
        "        output = F.relu(output)\n",
        "        output, hidden = self.gru(output, hidden)\n",
        "\n",
        "        output = F.log_softmax(self.out(output[0]), dim=1)\n",
        "        return output, hidden, attn_weights\n",
        "\n",
        "    def initHidden(self):\n",
        "        return torch.zeros(1, 1, self.hidden_size, device=device)"
      ],
      "execution_count": 14,
      "outputs": []
    },
    {
      "cell_type": "code",
      "metadata": {
        "id": "5-JffbQUlL1K"
      },
      "source": [
        "def indexesFromSentence(lang, sentence):\n",
        "    return [lang.word2index[word] for word in sentence.split(' ')]\n",
        "\n",
        "\n",
        "def tensorFromSentence(lang, sentence):\n",
        "    indexes = indexesFromSentence(lang, sentence)\n",
        "    indexes.append(EOS_token)\n",
        "    return torch.tensor(indexes, dtype=torch.long, device=device).view(-1, 1)\n",
        "\n",
        "\n",
        "def tensorsFromPair(pair):\n",
        "    input_tensor = tensorFromSentence(input_lang, pair[0])\n",
        "    target_tensor = tensorFromSentence(output_lang, pair[1])\n",
        "    return (input_tensor, target_tensor)"
      ],
      "execution_count": 15,
      "outputs": []
    },
    {
      "cell_type": "code",
      "metadata": {
        "id": "hRtcX52qlLxU"
      },
      "source": [
        "teacher_forcing_ratio = 0.5\n",
        "\n",
        "\n",
        "def train(input_tensor, target_tensor, encoder, decoder, encoder_optimizer, decoder_optimizer, criterion, max_length=MAX_LENGTH):\n",
        "    encoder_hidden = encoder.initHidden()\n",
        "\n",
        "    encoder_optimizer.zero_grad()\n",
        "    decoder_optimizer.zero_grad()\n",
        "\n",
        "    input_length = input_tensor.size(0)\n",
        "    target_length = target_tensor.size(0)\n",
        "\n",
        "    encoder_outputs = torch.zeros(max_length, encoder.hidden_size, device=device)\n",
        "\n",
        "    loss = 0\n",
        "\n",
        "    for ei in range(input_length):\n",
        "        encoder_output, encoder_hidden = encoder(\n",
        "            input_tensor[ei], encoder_hidden)\n",
        "        encoder_outputs[ei] = encoder_output[0, 0]\n",
        "\n",
        "    decoder_input = torch.tensor([[SOS_token]], device=device)\n",
        "\n",
        "    decoder_hidden = encoder_hidden\n",
        "\n",
        "    use_teacher_forcing = True if random.random() < teacher_forcing_ratio else False\n",
        "\n",
        "    if use_teacher_forcing:\n",
        "        # Teacher forcing: Feed the target as the next input\n",
        "        for di in range(target_length):\n",
        "            decoder_output, decoder_hidden, decoder_attention = decoder(\n",
        "                decoder_input, decoder_hidden, encoder_outputs)\n",
        "            loss += criterion(decoder_output, target_tensor[di])\n",
        "            decoder_input = target_tensor[di]  # Teacher forcing\n",
        "\n",
        "    else:\n",
        "        # Without teacher forcing: use its own predictions as the next input\n",
        "        for di in range(target_length):\n",
        "            decoder_output, decoder_hidden, decoder_attention = decoder(\n",
        "                decoder_input, decoder_hidden, encoder_outputs)\n",
        "            topv, topi = decoder_output.topk(1)\n",
        "            decoder_input = topi.squeeze().detach()  # detach from history as input\n",
        "\n",
        "            loss += criterion(decoder_output, target_tensor[di])\n",
        "            if decoder_input.item() == EOS_token:\n",
        "                break\n",
        "\n",
        "    loss.backward()\n",
        "\n",
        "    encoder_optimizer.step()\n",
        "    decoder_optimizer.step()\n",
        "\n",
        "    return loss.item() / target_length"
      ],
      "execution_count": 16,
      "outputs": []
    },
    {
      "cell_type": "code",
      "metadata": {
        "id": "bcO4uJj8lLta"
      },
      "source": [
        "import time\n",
        "import math\n",
        "\n",
        "\n",
        "def asMinutes(s):\n",
        "    m = math.floor(s / 60)\n",
        "    s -= m * 60\n",
        "    return '%dm %ds' % (m, s)\n",
        "\n",
        "\n",
        "def timeSince(since, percent):\n",
        "    now = time.time()\n",
        "    s = now - since\n",
        "    es = s / (percent)\n",
        "    rs = es - s\n",
        "    return '%s (- %s)' % (asMinutes(s), asMinutes(rs))"
      ],
      "execution_count": 17,
      "outputs": []
    },
    {
      "cell_type": "code",
      "metadata": {
        "id": "7P0IElF3mqGN"
      },
      "source": [
        "def trainIters(encoder, decoder, n_iters, print_every=1000, plot_every=100, learning_rate=0.01):\n",
        "    start = time.time()\n",
        "    plot_losses = []\n",
        "    print_loss_total = 0  # Reset every print_every\n",
        "    plot_loss_total = 0  # Reset every plot_every\n",
        "\n",
        "    encoder_optimizer = optim.SGD(encoder.parameters(), lr=learning_rate)\n",
        "    decoder_optimizer = optim.SGD(decoder.parameters(), lr=learning_rate)\n",
        "    training_pairs = [tensorsFromPair(random.choice(pairs))\n",
        "                      for i in range(n_iters)]\n",
        "    criterion = nn.NLLLoss()\n",
        "\n",
        "    for iter in range(1, n_iters + 1):\n",
        "        training_pair = training_pairs[iter - 1]\n",
        "        input_tensor = training_pair[0]\n",
        "        target_tensor = training_pair[1]\n",
        "\n",
        "        loss = train(input_tensor, target_tensor, encoder,\n",
        "                     decoder, encoder_optimizer, decoder_optimizer, criterion)\n",
        "        print_loss_total += loss\n",
        "        plot_loss_total += loss\n",
        "\n",
        "        if iter % print_every == 0:\n",
        "            print_loss_avg = print_loss_total / print_every\n",
        "            print_loss_total = 0\n",
        "            print('%s (%d %d%%) %.4f' % (timeSince(start, iter / n_iters),\n",
        "                                         iter, iter / n_iters * 100, print_loss_avg))\n",
        "\n",
        "        if iter % plot_every == 0:\n",
        "            plot_loss_avg = plot_loss_total / plot_every\n",
        "            plot_losses.append(plot_loss_avg)\n",
        "            plot_loss_total = 0\n",
        "\n",
        "    showPlot(plot_losses)"
      ],
      "execution_count": 18,
      "outputs": []
    },
    {
      "cell_type": "code",
      "metadata": {
        "id": "1Iu_jBXwmqCW"
      },
      "source": [
        "import matplotlib.pyplot as plt\n",
        "plt.switch_backend('agg')\n",
        "import matplotlib.ticker as ticker\n",
        "import numpy as np\n",
        "\n",
        "\n",
        "def showPlot(points):\n",
        "    plt.figure()\n",
        "    fig, ax = plt.subplots()\n",
        "    # this locator puts ticks at regular intervals\n",
        "    loc = ticker.MultipleLocator(base=0.2)\n",
        "    ax.yaxis.set_major_locator(loc)\n",
        "    plt.plot(points)"
      ],
      "execution_count": 19,
      "outputs": []
    },
    {
      "cell_type": "code",
      "metadata": {
        "id": "Nacp1wKpmp-Y"
      },
      "source": [
        "def evaluate(encoder, decoder, sentence, max_length=MAX_LENGTH):\n",
        "    with torch.no_grad():\n",
        "        input_tensor = tensorFromSentence(input_lang, sentence)\n",
        "        input_length = input_tensor.size()[0]\n",
        "        encoder_hidden = encoder.initHidden()\n",
        "\n",
        "        encoder_outputs = torch.zeros(max_length, encoder.hidden_size, device=device)\n",
        "\n",
        "        for ei in range(input_length):\n",
        "            encoder_output, encoder_hidden = encoder(input_tensor[ei],\n",
        "                                                     encoder_hidden)\n",
        "            encoder_outputs[ei] += encoder_output[0, 0]\n",
        "\n",
        "        decoder_input = torch.tensor([[SOS_token]], device=device)  # SOS\n",
        "\n",
        "        decoder_hidden = encoder_hidden\n",
        "\n",
        "        decoded_words = []\n",
        "        decoder_attentions = torch.zeros(max_length, max_length)\n",
        "\n",
        "        for di in range(max_length):\n",
        "            decoder_output, decoder_hidden, decoder_attention = decoder(\n",
        "                decoder_input, decoder_hidden, encoder_outputs)\n",
        "            decoder_attentions[di] = decoder_attention.data\n",
        "            topv, topi = decoder_output.data.topk(1)\n",
        "            if topi.item() == EOS_token:\n",
        "                decoded_words.append('<EOS>')\n",
        "                break\n",
        "            else:\n",
        "                decoded_words.append(output_lang.index2word[topi.item()])\n",
        "\n",
        "            decoder_input = topi.squeeze().detach()\n",
        "\n",
        "        return decoded_words, decoder_attentions[:di + 1]"
      ],
      "execution_count": 20,
      "outputs": []
    },
    {
      "cell_type": "code",
      "metadata": {
        "id": "CgNxn6Akmp6s"
      },
      "source": [
        "def evaluateRandomly(encoder, decoder, n=10):\n",
        "    for i in range(n):\n",
        "        pair = random.choice(pairs)\n",
        "        print('>', pair[0])\n",
        "        print('=', pair[1])\n",
        "        output_words, attentions = evaluate(encoder, decoder, pair[0])\n",
        "        output_sentence = ' '.join(output_words)\n",
        "        print('<', output_sentence)\n",
        "        print('')"
      ],
      "execution_count": 21,
      "outputs": []
    },
    {
      "cell_type": "code",
      "metadata": {
        "colab": {
          "base_uri": "https://localhost:8080/",
          "height": 380
        },
        "id": "bpmKhhsrmp3e",
        "outputId": "20692b33-5a54-4931-9664-c5d971321786"
      },
      "source": [
        "hidden_size = 256\n",
        "encoder1 = EncoderRNN(input_lang.n_words, hidden_size).to(device)\n",
        "attn_decoder1 = AttnDecoderRNN(hidden_size, output_lang.n_words, dropout_p=0.1).to(device)\n",
        "\n",
        "trainIters(encoder1, attn_decoder1, 75000, print_every=5000)"
      ],
      "execution_count": 22,
      "outputs": [
        {
          "output_type": "stream",
          "name": "stdout",
          "text": [
            "2m 5s (- 29m 21s) (5000 6%) 2.8802\n",
            "4m 5s (- 26m 37s) (10000 13%) 2.2883\n"
          ]
        },
        {
          "output_type": "error",
          "ename": "KeyboardInterrupt",
          "evalue": "ignored",
          "traceback": [
            "\u001b[0;31m---------------------------------------------------------------------------\u001b[0m",
            "\u001b[0;31mKeyboardInterrupt\u001b[0m                         Traceback (most recent call last)",
            "\u001b[0;32m<ipython-input-22-7ea4b06f8a39>\u001b[0m in \u001b[0;36m<module>\u001b[0;34m()\u001b[0m\n\u001b[1;32m      3\u001b[0m \u001b[0mattn_decoder1\u001b[0m \u001b[0;34m=\u001b[0m \u001b[0mAttnDecoderRNN\u001b[0m\u001b[0;34m(\u001b[0m\u001b[0mhidden_size\u001b[0m\u001b[0;34m,\u001b[0m \u001b[0moutput_lang\u001b[0m\u001b[0;34m.\u001b[0m\u001b[0mn_words\u001b[0m\u001b[0;34m,\u001b[0m \u001b[0mdropout_p\u001b[0m\u001b[0;34m=\u001b[0m\u001b[0;36m0.1\u001b[0m\u001b[0;34m)\u001b[0m\u001b[0;34m.\u001b[0m\u001b[0mto\u001b[0m\u001b[0;34m(\u001b[0m\u001b[0mdevice\u001b[0m\u001b[0;34m)\u001b[0m\u001b[0;34m\u001b[0m\u001b[0;34m\u001b[0m\u001b[0m\n\u001b[1;32m      4\u001b[0m \u001b[0;34m\u001b[0m\u001b[0m\n\u001b[0;32m----> 5\u001b[0;31m \u001b[0mtrainIters\u001b[0m\u001b[0;34m(\u001b[0m\u001b[0mencoder1\u001b[0m\u001b[0;34m,\u001b[0m \u001b[0mattn_decoder1\u001b[0m\u001b[0;34m,\u001b[0m \u001b[0;36m75000\u001b[0m\u001b[0;34m,\u001b[0m \u001b[0mprint_every\u001b[0m\u001b[0;34m=\u001b[0m\u001b[0;36m5000\u001b[0m\u001b[0;34m)\u001b[0m\u001b[0;34m\u001b[0m\u001b[0;34m\u001b[0m\u001b[0m\n\u001b[0m",
            "\u001b[0;32m<ipython-input-18-29eaa6fdc28a>\u001b[0m in \u001b[0;36mtrainIters\u001b[0;34m(encoder, decoder, n_iters, print_every, plot_every, learning_rate)\u001b[0m\n\u001b[1;32m     17\u001b[0m \u001b[0;34m\u001b[0m\u001b[0m\n\u001b[1;32m     18\u001b[0m         loss = train(input_tensor, target_tensor, encoder,\n\u001b[0;32m---> 19\u001b[0;31m                      decoder, encoder_optimizer, decoder_optimizer, criterion)\n\u001b[0m\u001b[1;32m     20\u001b[0m         \u001b[0mprint_loss_total\u001b[0m \u001b[0;34m+=\u001b[0m \u001b[0mloss\u001b[0m\u001b[0;34m\u001b[0m\u001b[0;34m\u001b[0m\u001b[0m\n\u001b[1;32m     21\u001b[0m         \u001b[0mplot_loss_total\u001b[0m \u001b[0;34m+=\u001b[0m \u001b[0mloss\u001b[0m\u001b[0;34m\u001b[0m\u001b[0;34m\u001b[0m\u001b[0m\n",
            "\u001b[0;32m<ipython-input-16-77785d753587>\u001b[0m in \u001b[0;36mtrain\u001b[0;34m(input_tensor, target_tensor, encoder, decoder, encoder_optimizer, decoder_optimizer, criterion, max_length)\u001b[0m\n\u001b[1;32m     46\u001b[0m                 \u001b[0;32mbreak\u001b[0m\u001b[0;34m\u001b[0m\u001b[0;34m\u001b[0m\u001b[0m\n\u001b[1;32m     47\u001b[0m \u001b[0;34m\u001b[0m\u001b[0m\n\u001b[0;32m---> 48\u001b[0;31m     \u001b[0mloss\u001b[0m\u001b[0;34m.\u001b[0m\u001b[0mbackward\u001b[0m\u001b[0;34m(\u001b[0m\u001b[0;34m)\u001b[0m\u001b[0;34m\u001b[0m\u001b[0;34m\u001b[0m\u001b[0m\n\u001b[0m\u001b[1;32m     49\u001b[0m \u001b[0;34m\u001b[0m\u001b[0m\n\u001b[1;32m     50\u001b[0m     \u001b[0mencoder_optimizer\u001b[0m\u001b[0;34m.\u001b[0m\u001b[0mstep\u001b[0m\u001b[0;34m(\u001b[0m\u001b[0;34m)\u001b[0m\u001b[0;34m\u001b[0m\u001b[0;34m\u001b[0m\u001b[0m\n",
            "\u001b[0;32m/usr/local/lib/python3.7/dist-packages/torch/_tensor.py\u001b[0m in \u001b[0;36mbackward\u001b[0;34m(self, gradient, retain_graph, create_graph, inputs)\u001b[0m\n\u001b[1;32m    305\u001b[0m                 \u001b[0mcreate_graph\u001b[0m\u001b[0;34m=\u001b[0m\u001b[0mcreate_graph\u001b[0m\u001b[0;34m,\u001b[0m\u001b[0;34m\u001b[0m\u001b[0;34m\u001b[0m\u001b[0m\n\u001b[1;32m    306\u001b[0m                 inputs=inputs)\n\u001b[0;32m--> 307\u001b[0;31m         \u001b[0mtorch\u001b[0m\u001b[0;34m.\u001b[0m\u001b[0mautograd\u001b[0m\u001b[0;34m.\u001b[0m\u001b[0mbackward\u001b[0m\u001b[0;34m(\u001b[0m\u001b[0mself\u001b[0m\u001b[0;34m,\u001b[0m \u001b[0mgradient\u001b[0m\u001b[0;34m,\u001b[0m \u001b[0mretain_graph\u001b[0m\u001b[0;34m,\u001b[0m \u001b[0mcreate_graph\u001b[0m\u001b[0;34m,\u001b[0m \u001b[0minputs\u001b[0m\u001b[0;34m=\u001b[0m\u001b[0minputs\u001b[0m\u001b[0;34m)\u001b[0m\u001b[0;34m\u001b[0m\u001b[0;34m\u001b[0m\u001b[0m\n\u001b[0m\u001b[1;32m    308\u001b[0m \u001b[0;34m\u001b[0m\u001b[0m\n\u001b[1;32m    309\u001b[0m     \u001b[0;32mdef\u001b[0m \u001b[0mregister_hook\u001b[0m\u001b[0;34m(\u001b[0m\u001b[0mself\u001b[0m\u001b[0;34m,\u001b[0m \u001b[0mhook\u001b[0m\u001b[0;34m)\u001b[0m\u001b[0;34m:\u001b[0m\u001b[0;34m\u001b[0m\u001b[0;34m\u001b[0m\u001b[0m\n",
            "\u001b[0;32m/usr/local/lib/python3.7/dist-packages/torch/autograd/__init__.py\u001b[0m in \u001b[0;36mbackward\u001b[0;34m(tensors, grad_tensors, retain_graph, create_graph, grad_variables, inputs)\u001b[0m\n\u001b[1;32m    154\u001b[0m     Variable._execution_engine.run_backward(\n\u001b[1;32m    155\u001b[0m         \u001b[0mtensors\u001b[0m\u001b[0;34m,\u001b[0m \u001b[0mgrad_tensors_\u001b[0m\u001b[0;34m,\u001b[0m \u001b[0mretain_graph\u001b[0m\u001b[0;34m,\u001b[0m \u001b[0mcreate_graph\u001b[0m\u001b[0;34m,\u001b[0m \u001b[0minputs\u001b[0m\u001b[0;34m,\u001b[0m\u001b[0;34m\u001b[0m\u001b[0;34m\u001b[0m\u001b[0m\n\u001b[0;32m--> 156\u001b[0;31m         allow_unreachable=True, accumulate_grad=True)  # allow_unreachable flag\n\u001b[0m\u001b[1;32m    157\u001b[0m \u001b[0;34m\u001b[0m\u001b[0m\n\u001b[1;32m    158\u001b[0m \u001b[0;34m\u001b[0m\u001b[0m\n",
            "\u001b[0;31mKeyboardInterrupt\u001b[0m: "
          ]
        }
      ]
    },
    {
      "cell_type": "code",
      "source": [
        "torch.save(model, PATH)"
      ],
      "metadata": {
        "id": "MJ7bW9AEUwRV"
      },
      "execution_count": null,
      "outputs": []
    },
    {
      "cell_type": "code",
      "metadata": {
        "colab": {
          "base_uri": "https://localhost:8080/"
        },
        "id": "T6kgf-fpmp0Y",
        "outputId": "31020466-8570-4420-a05c-87167fcd5e5e"
      },
      "source": [
        "evaluateRandomly(encoder1, attn_decoder1)"
      ],
      "execution_count": 23,
      "outputs": [
        {
          "output_type": "stream",
          "name": "stdout",
          "text": [
            "> je suis simplement franche .\n",
            "= i m just being honest .\n",
            "< i m a . . <EOS>\n",
            "\n",
            "> vous prechez un convaincu .\n",
            "= you re preaching to the choir .\n",
            "< you re a liar . <EOS>\n",
            "\n",
            "> vous etes veinarde .\n",
            "= you re in luck .\n",
            "< you re being . <EOS>\n",
            "\n",
            "> c est pour vous que je suis venu .\n",
            "= you re the reason i came .\n",
            "< i m as i i am . <EOS>\n",
            "\n",
            "> nous sommes tous deux celibataires .\n",
            "= we re both single .\n",
            "< we re both . <EOS>\n",
            "\n",
            "> je vais avoir besoin de plus d argent .\n",
            "= i m going to need some more money .\n",
            "< i m going to as a . . . <EOS>\n",
            "\n",
            "> tu es tres comprehensive .\n",
            "= you re very understanding .\n",
            "< you re very wise . <EOS>\n",
            "\n",
            "> je suis epuise .\n",
            "= i m exhausted .\n",
            "< i m a . <EOS>\n",
            "\n",
            "> vous etes tellement difficile !\n",
            "= you re so picky .\n",
            "< you re so sweet . <EOS>\n",
            "\n",
            "> nous sommes sauvees .\n",
            "= we re saved .\n",
            "< we re being . <EOS>\n",
            "\n"
          ]
        }
      ]
    },
    {
      "cell_type": "code",
      "metadata": {
        "colab": {
          "base_uri": "https://localhost:8080/"
        },
        "id": "Ozn7B9XU91R5",
        "outputId": "08f34c6b-fc68-4dd9-afb7-7532279c4cbc"
      },
      "source": [
        "def evaluateRandomly_scoring(encoder, decoder, n=10):\n",
        "  actual_output = []\n",
        "  predicted_output = []\n",
        "  for i in range(n):\n",
        "      pair = random.choice(pairs)\n",
        "      print('>', pair[0])\n",
        "      print('=', pair[1])\n",
        "      output_words, attentions = evaluate(encoder, decoder, pair[0])\n",
        "      output_sentence = ' '.join(output_words)\n",
        "      print('<', output_sentence)\n",
        "      print('')\n",
        "      actual_output.append(pair[1])\n",
        "      predicted_output.append(output_sentence.rstrip('<EOS>'))\n",
        "  return actual_output,predicted_output\n",
        "\n",
        "actual_output, predicted_output = evaluateRandomly_scoring(encoder1, attn_decoder1, n=10)"
      ],
      "execution_count": 24,
      "outputs": [
        {
          "output_type": "stream",
          "name": "stdout",
          "text": [
            "> tu es gentil .\n",
            "= you re kind .\n",
            "< you re being . <EOS>\n",
            "\n",
            "> je suis promue .\n",
            "= i m being promoted .\n",
            "< i m a . <EOS>\n",
            "\n",
            "> ils ne viennent pas .\n",
            "= they re not coming .\n",
            "< they re not tired . <EOS>\n",
            "\n",
            "> je suis trop vieux pour vous .\n",
            "= i m too old for you .\n",
            "< i m too old you . <EOS>\n",
            "\n",
            "> il se plaint toujours de quelque chose .\n",
            "= he s always complaining about something .\n",
            "< he is always afraid of . . . <EOS>\n",
            "\n",
            "> il s amuse .\n",
            "= he s enjoying himself .\n",
            "< he is a . <EOS>\n",
            "\n",
            "> vous etes un bon garcon .\n",
            "= you are a good boy .\n",
            "< you re a very . <EOS>\n",
            "\n",
            "> je ne suis pas desespere .\n",
            "= i m not desperate .\n",
            "< i m not tired . <EOS>\n",
            "\n",
            "> je me rejouis que vous soyez mon ami .\n",
            "= i m glad you re my friend .\n",
            "< i m glad you are my my . <EOS>\n",
            "\n",
            "> je ne suis pas ton petit ami .\n",
            "= i m not your boyfriend .\n",
            "< i m not your friend . <EOS>\n",
            "\n"
          ]
        }
      ]
    },
    {
      "cell_type": "markdown",
      "source": [
        "# Exploring different Metrics for Language Translation"
      ],
      "metadata": {
        "id": "_vIVYlVEA433"
      }
    },
    {
      "cell_type": "markdown",
      "source": [
        "# 0. Preparing the data to Calculate Metrics"
      ],
      "metadata": {
        "id": "lpjKeXL7BE_o"
      }
    },
    {
      "cell_type": "code",
      "source": [
        "def actual_pred_output(encoder, decoder, pairs):\n",
        "  actual_output_bleu = []\n",
        "  actual_output_bertscore = []\n",
        "  predicted_output_bleu = []\n",
        "  predicted_output_bertscore = []\n",
        "  actual_blue = []\n",
        "\n",
        "  for i in range(10):#len(pairs)):\n",
        "    output_words, attention = evaluate(encoder, decoder, pairs[i][0]) #evaluate(encoder1, attn_decoder1, pairs[i][0])\n",
        "    # Removing EOS at the end\n",
        "    output_words.pop(-1)\n",
        "    # Converting actual sentence in to a list of tokens\n",
        "    actual_output_bleu.append([pairs[i][1].split()])\n",
        "    predicted_output_bleu.append(output_words)\n",
        "    # inputs to bertscore\n",
        "    actual_output_bertscore.append(pairs[i][1])\n",
        "    predicted_output_bertscore.append(' '.join(output_words))\n",
        "\n",
        "  # actual_blue.append(actual_output_bleu)\n",
        "\n",
        "  return actual_output_bleu, predicted_output_bleu, actual_output_bertscore, predicted_output_bertscore#, actual_blue\n",
        "\n",
        "actual_output_bleu, predicted_output_bleu, actual_output_bertscore, predicted_output_bertscore = actual_pred_output(encoder1, attn_decoder1, pairs)\n",
        "\n",
        "print(f'total number of samples in predicted_output : {len(predicted_output_bleu)}')\n",
        "print(f'total number of samples in actual output : {len(actual_output_bleu)}')\n",
        "# actual_blue\n",
        "# predicted_output_bleu\n",
        "### Q. Not including numbers --> Does the algorithms capable of generating realistic numbers in generated text?"
      ],
      "metadata": {
        "id": "CqwMoLrgBLgF",
        "outputId": "f82ac3d2-0d48-4b2d-c0ab-7f229507a40f",
        "colab": {
          "base_uri": "https://localhost:8080/"
        }
      },
      "execution_count": 50,
      "outputs": [
        {
          "output_type": "stream",
          "name": "stdout",
          "text": [
            "total number of samples in predicted_output : 10\n",
            "total number of samples in actual output : 10\n"
          ]
        }
      ]
    },
    {
      "cell_type": "code",
      "source": [
        "predicted_output_bleu"
      ],
      "metadata": {
        "id": "0fqP-YzTdz0g",
        "outputId": "ce3b4047-350d-4757-ceb1-071bf4b84db1",
        "colab": {
          "base_uri": "https://localhost:8080/"
        }
      },
      "execution_count": 53,
      "outputs": [
        {
          "output_type": "execute_result",
          "data": {
            "text/plain": [
              "[['i', 'm', 'a', '.'],\n",
              " ['i', 'm', 'going', 'to'],\n",
              " ['i', 'm', 'going', 'to', 'go', '.'],\n",
              " ['i', 'm', 'exhausted', '.'],\n",
              " ['i', 'm', 'a', '.'],\n",
              " ['i', 'm', 'in', 'a', '.'],\n",
              " ['i', 'm', 'so', '!'],\n",
              " ['i', 'm', 'so', '!'],\n",
              " ['i', 'm', 'exhausted', '.'],\n",
              " ['i', 'm', 'a', '.']]"
            ]
          },
          "metadata": {},
          "execution_count": 53
        }
      ]
    },
    {
      "cell_type": "code",
      "source": [
        "actual_output_bertscore[:10], predicted_output_bertscore[:10]"
      ],
      "metadata": {
        "id": "kcPfXe20RVse",
        "outputId": "6285561d-98bc-4dd7-8041-db674ab9fce0",
        "colab": {
          "base_uri": "https://localhost:8080/"
        }
      },
      "execution_count": 42,
      "outputs": [
        {
          "output_type": "execute_result",
          "data": {
            "text/plain": [
              "(['i m .',\n",
              "  'i m ok .',\n",
              "  'i m ok .',\n",
              "  'i m fat .',\n",
              "  'i m fat .',\n",
              "  'i m fit .',\n",
              "  'i m hit !',\n",
              "  'i m hit !',\n",
              "  'i m ill .',\n",
              "  'i m sad .'],\n",
              " ['i am a .',\n",
              "  'i m going to',\n",
              "  'i m going to go .',\n",
              "  'i m exhausted .',\n",
              "  'i m a .',\n",
              "  'i m in a .',\n",
              "  'i m so !',\n",
              "  'i m so !',\n",
              "  'i m exhausted .',\n",
              "  'i m a .'])"
            ]
          },
          "metadata": {},
          "execution_count": 42
        }
      ]
    },
    {
      "cell_type": "code",
      "source": [
        "actual_output_bleu"
      ],
      "metadata": {
        "id": "oSWrlmMjWT3e",
        "outputId": "5a9b23bc-6f58-4453-c59b-953bcabcc667",
        "colab": {
          "base_uri": "https://localhost:8080/"
        }
      },
      "execution_count": 52,
      "outputs": [
        {
          "output_type": "execute_result",
          "data": {
            "text/plain": [
              "[[['i', 'm', '.']],\n",
              " [['i', 'm', 'ok', '.']],\n",
              " [['i', 'm', 'ok', '.']],\n",
              " [['i', 'm', 'fat', '.']],\n",
              " [['i', 'm', 'fat', '.']],\n",
              " [['i', 'm', 'fit', '.']],\n",
              " [['i', 'm', 'hit', '!']],\n",
              " [['i', 'm', 'hit', '!']],\n",
              " [['i', 'm', 'ill', '.']],\n",
              " [['i', 'm', 'sad', '.']]]"
            ]
          },
          "metadata": {},
          "execution_count": 52
        }
      ]
    },
    {
      "cell_type": "markdown",
      "source": [
        "## 1. BLEU SCORE\n",
        "> 1. Bilingual Evaluation Understudy   \n",
        "> 2. Measures what percentage of n-grams are present both in candidate corpus and reference corpus   \n",
        "> 3. BLEU1 --> counts n-grams up to a length of 1, BLEU4 --> counts n-grams up to a length of 4.   \n",
        "> 4. BLEU score is not only used as a metric for Machine Translation but also for other NLG tasks. "
      ],
      "metadata": {
        "id": "U5RToERPA-ZF"
      }
    },
    {
      "cell_type": "code",
      "source": [
        "from torchtext.data.metrics import bleu_score\n",
        "print(f'Bleu score when n_grams = 1, BLEU1 : {bleu_score(predicted_output_bleu,actual_output_bleu,max_n=1,weights = [1])}') # pred_output and actual_output --> should a list of lists with lists containing tokens of sentence\n",
        "print(f'Bleu score when n_grams = 2, BLEU2 : {bleu_score(predicted_output_bleu,actual_output_bleu,max_n=2,weights = [0.5]*2)}')\n",
        "print(f'Bleu score when n_grams = 3, BLEU3 : {bleu_score(predicted_output_bleu,actual_output_bleu,max_n=3,weights = [0.333]*3)}')\n",
        "print(f'Bleu score when n_grams = 4, BLEU4 : {bleu_score(predicted_output_bleu,actual_output_bleu,max_n=4,weights = [0.25]*4)}') # default value of max_ngrams = 4"
      ],
      "metadata": {
        "id": "7C_AglZ3A4iM",
        "outputId": "c58a9902-4ffb-4c7f-8fa7-3fe0bf526cb3",
        "colab": {
          "base_uri": "https://localhost:8080/"
        }
      },
      "execution_count": 54,
      "outputs": [
        {
          "output_type": "stream",
          "name": "stdout",
          "text": [
            "Bleu score when n_grams = 1, BLEU1 : 0.6744186282157898\n",
            "Bleu score when n_grams = 2, BLEU2 : 0.45207223296165466\n",
            "Bleu score when n_grams = 3, BLEU3 : 0.0\n",
            "Bleu score when n_grams = 4, BLEU4 : 0.0\n"
          ]
        }
      ]
    },
    {
      "cell_type": "code",
      "source": [
        "i=8\n",
        "print(f'Actual/Reference sentence, Predicted sentence : {actual_output_bleu[i]}, {predicted_output_bleu[i]}')\n",
        "print(f'Bleu score when n_grams = 1, BLEU1 : {bleu_score(predicted_output_bleu,actual_output_bleu)}') #,max_n=1,weights = [1])}')\n",
        "# a = [['i', 'am', 'fat', '.']]\n",
        "# b = [[['i', 'm', 'fat', '.']]]\n",
        "# print(f'Bleu score when n_grams = 1, BLEU1 list of tokens : {bleu_score(a,b)}')"
      ],
      "metadata": {
        "id": "KWQwE75GS7Bd",
        "outputId": "73cbdf28-e4d9-4f59-efb8-bee44d759496",
        "colab": {
          "base_uri": "https://localhost:8080/"
        }
      },
      "execution_count": 69,
      "outputs": [
        {
          "output_type": "stream",
          "name": "stdout",
          "text": [
            "Actual/Reference sentence, Predicted sentence : [['i', 'm', 'ill', '.']], ['i', 'm', 'exhausted', '.']\n",
            "Bleu score when n_grams = 1, BLEU1 : 0.0\n"
          ]
        }
      ]
    },
    {
      "cell_type": "code",
      "source": [
        "candidate_corpus = [['i', 'am', 'fat', '.']]\n",
        "references_corpus = [[['i', 'm', 'fat', '.']]] \n",
        "candidate_corpus1 = ['i', 'am', 'fat', '.']\n",
        "references_corpus1 = ['i', 'm', 'fat', '.'] \n",
        "print(f'BLEU1_withbracket: {bleu_score(candidate_corpus, references_corpus,max_n=1,weights=[1])}')\n",
        "print(f'BLEU2_withbracket: {bleu_score(candidate_corpus, references_corpus,max_n=2,weights=[0.5]*2)}')\n",
        "print(f'BLEU1_nobracket: {bleu_score(candidate_corpus1, references_corpus1,max_n=1,weights=[1])}')\n",
        "print(f'BLEU2_nobracket: {bleu_score(candidate_corpus1, references_corpus1,max_n=2,weights=[0.5]*2)}')"
      ],
      "metadata": {
        "id": "M7OPEkLaVZIR",
        "outputId": "fea2d2b4-6db4-4185-dae4-ee0cc1781bf0",
        "colab": {
          "base_uri": "https://localhost:8080/"
        }
      },
      "execution_count": 30,
      "outputs": [
        {
          "output_type": "stream",
          "name": "stdout",
          "text": [
            "BLEU1_withbracket: 0.75\n",
            "BLEU2_withbracket: 0.5\n",
            "BLEU1_nobracket: 0.8571428656578064\n",
            "BLEU2_nobracket: 0.0\n"
          ]
        }
      ]
    },
    {
      "cell_type": "code",
      "source": [
        "candidate_corpus = [['My', 'full', 'pytorch', 'test']] #, ['Another', 'Sentence']]\n",
        "references_corpus = [[['My', 'full', 'pytorch', 'test']]] #, ['Completely', 'Different']], [['No', 'Match']]]\n",
        "bleu_score(candidate_corpus, references_corpus)\n"
      ],
      "metadata": {
        "id": "pdEQWW6BUyX3",
        "outputId": "85ce05b6-289a-4674-b759-07d0792e960d",
        "colab": {
          "base_uri": "https://localhost:8080/"
        }
      },
      "execution_count": 31,
      "outputs": [
        {
          "output_type": "execute_result",
          "data": {
            "text/plain": [
              "1.0"
            ]
          },
          "metadata": {},
          "execution_count": 31
        }
      ]
    },
    {
      "cell_type": "markdown",
      "source": [
        "# PERPLEXITY "
      ],
      "metadata": {
        "id": "LZyt0xh3ne6f"
      }
    },
    {
      "cell_type": "code",
      "source": [
        "import math\n",
        "\n",
        "def evaluate_ppl(encoder, decoder, sentence, max_length=MAX_LENGTH):\n",
        "\n",
        "    with torch.no_grad():\n",
        "\n",
        "        input_tensor = tensorFromSentence(input_lang, sentence)\n",
        "\n",
        "        input_length = input_tensor.size()[0]\n",
        "\n",
        "        encoder_hidden = encoder.initHidden()\n",
        "        encoder_outputs = torch.zeros(max_length, encoder.hidden_size, device=device)\n",
        "\n",
        "\n",
        "\n",
        "        for ei in range(input_length):\n",
        "\n",
        "            encoder_output, encoder_hidden = encoder(input_tensor[ei],encoder_hidden)\n",
        "\n",
        "            encoder_outputs[ei] += encoder_output[0, 0]\n",
        "        decoder_input = torch.tensor([[SOS_token]], device=device)  # SOS\n",
        "        decoder_hidden = encoder_hidden\n",
        "        decoded_words = []\n",
        "        decoder_attentions = torch.zeros(max_length, max_length)\n",
        "        ppl = []\n",
        "\n",
        "        dec_out = 0\n",
        "\n",
        "        count=0\n",
        "\n",
        "        for di in range(max_length):\n",
        "\n",
        "            decoder_output, decoder_hidden, decoder_attention = decoder(\n",
        "\n",
        "                decoder_input, decoder_hidden, encoder_outputs)\n",
        "\n",
        "            decoder_attentions[di] = decoder_attention.data\n",
        "\n",
        "            topv, topi = decoder_output.data.topk(1)\n",
        "\n",
        "            ppl.append(max(decoder_output.squeeze()))\n",
        "\n",
        "            count+=1\n",
        "\n",
        "            if topi.item() == EOS_token:\n",
        "\n",
        "                decoded_words.append('<EOS>')\n",
        "\n",
        "                break\n",
        "\n",
        "            else:\n",
        "\n",
        "                decoded_words.append(output_lang.index2word[topi.item()])\n",
        "\n",
        "            \n",
        "\n",
        "            decoder_input = topi.squeeze().detach()\n",
        "\n",
        "\n",
        "\n",
        "        perplexity = math.exp(-1/count * sum(ppl))\n",
        "\n",
        "        return perplexity, decoder_output"
      ],
      "metadata": {
        "id": "UL_3yi0GEgGk"
      },
      "execution_count": 32,
      "outputs": []
    },
    {
      "cell_type": "code",
      "source": [
        "len(pairs[1][1].split(' '))"
      ],
      "metadata": {
        "id": "ov8uyJqQePqo",
        "outputId": "beea98c7-158c-429a-d38b-75718e3c3930",
        "colab": {
          "base_uri": "https://localhost:8080/"
        }
      },
      "execution_count": 33,
      "outputs": [
        {
          "output_type": "execute_result",
          "data": {
            "text/plain": [
              "4"
            ]
          },
          "metadata": {},
          "execution_count": 33
        }
      ]
    },
    {
      "cell_type": "code",
      "source": [
        "for i in range(0,1000):\n",
        "  if len(pairs[i][1].split(' '))>5:\n",
        "    sample_num = i\n",
        "    sentence = pairs[sample_num][0]\n",
        "    print(f'Input french sentence : {sentence}')\n",
        "    print(f'Reference english sentence : {pairs[sample_num][1]}')\n",
        "    output_words, attention = evaluate(encoder1, attn_decoder1, pairs[sample_num][0])\n",
        "    output_words.pop(-1)\n",
        "    print(f'Predicted english sentence : {output_words}')\n",
        "    perplexity, decoder_output = evaluate_ppl(encoder1, attn_decoder1, sentence, max_length=MAX_LENGTH)\n",
        "    print(f'Perplexity : {perplexity}')\n",
        "    print('***************************************************************************************************')"
      ],
      "metadata": {
        "id": "XCEFEB7KTbsu",
        "outputId": "d64d29c7-a4ce-4461-c9b6-a0479afc144e",
        "colab": {
          "base_uri": "https://localhost:8080/"
        }
      },
      "execution_count": 34,
      "outputs": [
        {
          "output_type": "stream",
          "name": "stdout",
          "text": [
            "Input french sentence : je ne suis pas flic .\n",
            "Reference english sentence : i m not a cop .\n",
            "Predicted english sentence : ['i', 'm', 'not', 'tired', '.']\n",
            "Perplexity : 1.5809927349913935\n",
            "***************************************************************************************************\n",
            "Input french sentence : je ne fais pas partie de ses admirateurs .\n",
            "Reference english sentence : i m not a fan .\n",
            "Predicted english sentence : ['i', 'm', 'not', 'in', 'a', '.', '.']\n",
            "Perplexity : 2.2440981235991035\n",
            "***************************************************************************************************\n",
            "Input french sentence : je ne fais pas partie de leurs admirateurs .\n",
            "Reference english sentence : i m not a fan .\n",
            "Predicted english sentence : ['i', 'm', 'not', 'in', '.', '.', '.']\n",
            "Perplexity : 1.9426498890771497\n",
            "***************************************************************************************************\n"
          ]
        }
      ]
    },
    {
      "cell_type": "code",
      "source": [
        "ppl_score = {}\n",
        "for i in range(1100,3100):\n",
        "  if len(pairs[i][1].split(' '))>3:\n",
        "    sample_num = i\n",
        "    sentence = pairs[sample_num][0]\n",
        "    #print(f'Input french sentence : {sentence}')\n",
        "    #print(f'Reference english sentence : {pairs[sample_num][1]}')\n",
        "    output_words, attention = evaluate(encoder1, attn_decoder1, pairs[sample_num][0])\n",
        "    output_words.pop(-1)\n",
        "    #print(f'Predicted english sentence : {output_words}')\n",
        "    perplexity, decoder_output = evaluate_ppl(encoder1, attn_decoder1, sentence, max_length=MAX_LENGTH)\n",
        "    #print(f'Perplexity : {perplexity}')\n",
        "    #print('***************************************************************************************************')\n",
        "    ppl_score[i] = perplexity\n",
        "max_key = max(ppl_score, key=ppl_score.get)\n",
        "print(f'Reference English sentence : {pairs[max_key][1]}')\n",
        "output_words, attention = evaluate(encoder1, attn_decoder1, pairs[max_key][0])\n",
        "print(f'Predicted english sentence : {output_words}')\n",
        "ppl_score[max_key]"
      ],
      "metadata": {
        "id": "OMDUGLdDe03w",
        "outputId": "cc6214a1-2cc8-4252-ff23-95fe0bb1a56b",
        "colab": {
          "base_uri": "https://localhost:8080/",
          "height": 356
        }
      },
      "execution_count": 37,
      "outputs": [
        {
          "output_type": "error",
          "ename": "KeyboardInterrupt",
          "evalue": "ignored",
          "traceback": [
            "\u001b[0;31m---------------------------------------------------------------------------\u001b[0m",
            "\u001b[0;31mKeyboardInterrupt\u001b[0m                         Traceback (most recent call last)",
            "\u001b[0;32m<ipython-input-37-6f99b6afcd84>\u001b[0m in \u001b[0;36m<module>\u001b[0;34m()\u001b[0m\n\u001b[1;32m      9\u001b[0m     \u001b[0moutput_words\u001b[0m\u001b[0;34m.\u001b[0m\u001b[0mpop\u001b[0m\u001b[0;34m(\u001b[0m\u001b[0;34m-\u001b[0m\u001b[0;36m1\u001b[0m\u001b[0;34m)\u001b[0m\u001b[0;34m\u001b[0m\u001b[0;34m\u001b[0m\u001b[0m\n\u001b[1;32m     10\u001b[0m     \u001b[0;31m#print(f'Predicted english sentence : {output_words}')\u001b[0m\u001b[0;34m\u001b[0m\u001b[0;34m\u001b[0m\u001b[0;34m\u001b[0m\u001b[0m\n\u001b[0;32m---> 11\u001b[0;31m     \u001b[0mperplexity\u001b[0m\u001b[0;34m,\u001b[0m \u001b[0mdecoder_output\u001b[0m \u001b[0;34m=\u001b[0m \u001b[0mevaluate_ppl\u001b[0m\u001b[0;34m(\u001b[0m\u001b[0mencoder1\u001b[0m\u001b[0;34m,\u001b[0m \u001b[0mattn_decoder1\u001b[0m\u001b[0;34m,\u001b[0m \u001b[0msentence\u001b[0m\u001b[0;34m,\u001b[0m \u001b[0mmax_length\u001b[0m\u001b[0;34m=\u001b[0m\u001b[0mMAX_LENGTH\u001b[0m\u001b[0;34m)\u001b[0m\u001b[0;34m\u001b[0m\u001b[0;34m\u001b[0m\u001b[0m\n\u001b[0m\u001b[1;32m     12\u001b[0m     \u001b[0;31m#print(f'Perplexity : {perplexity}')\u001b[0m\u001b[0;34m\u001b[0m\u001b[0;34m\u001b[0m\u001b[0;34m\u001b[0m\u001b[0m\n\u001b[1;32m     13\u001b[0m     \u001b[0;31m#print('***************************************************************************************************')\u001b[0m\u001b[0;34m\u001b[0m\u001b[0;34m\u001b[0m\u001b[0;34m\u001b[0m\u001b[0m\n",
            "\u001b[0;32m<ipython-input-32-0b7e6b110585>\u001b[0m in \u001b[0;36mevaluate_ppl\u001b[0;34m(encoder, decoder, sentence, max_length)\u001b[0m\n\u001b[1;32m     39\u001b[0m             \u001b[0mtopv\u001b[0m\u001b[0;34m,\u001b[0m \u001b[0mtopi\u001b[0m \u001b[0;34m=\u001b[0m \u001b[0mdecoder_output\u001b[0m\u001b[0;34m.\u001b[0m\u001b[0mdata\u001b[0m\u001b[0;34m.\u001b[0m\u001b[0mtopk\u001b[0m\u001b[0;34m(\u001b[0m\u001b[0;36m1\u001b[0m\u001b[0;34m)\u001b[0m\u001b[0;34m\u001b[0m\u001b[0;34m\u001b[0m\u001b[0m\n\u001b[1;32m     40\u001b[0m \u001b[0;34m\u001b[0m\u001b[0m\n\u001b[0;32m---> 41\u001b[0;31m             \u001b[0mppl\u001b[0m\u001b[0;34m.\u001b[0m\u001b[0mappend\u001b[0m\u001b[0;34m(\u001b[0m\u001b[0mmax\u001b[0m\u001b[0;34m(\u001b[0m\u001b[0mdecoder_output\u001b[0m\u001b[0;34m.\u001b[0m\u001b[0msqueeze\u001b[0m\u001b[0;34m(\u001b[0m\u001b[0;34m)\u001b[0m\u001b[0;34m)\u001b[0m\u001b[0;34m)\u001b[0m\u001b[0;34m\u001b[0m\u001b[0;34m\u001b[0m\u001b[0m\n\u001b[0m\u001b[1;32m     42\u001b[0m \u001b[0;34m\u001b[0m\u001b[0m\n\u001b[1;32m     43\u001b[0m             \u001b[0mcount\u001b[0m\u001b[0;34m+=\u001b[0m\u001b[0;36m1\u001b[0m\u001b[0;34m\u001b[0m\u001b[0;34m\u001b[0m\u001b[0m\n",
            "\u001b[0;31mKeyboardInterrupt\u001b[0m: "
          ]
        }
      ]
    },
    {
      "cell_type": "code",
      "source": [
        "ppl_score"
      ],
      "metadata": {
        "id": "RUGqbcTPgDSW"
      },
      "execution_count": null,
      "outputs": []
    },
    {
      "cell_type": "code",
      "metadata": {
        "colab": {
          "base_uri": "https://localhost:8080/"
        },
        "id": "N6wcgwod-_5G",
        "outputId": "7fe15d2c-8ec7-43cb-d400-efde47ca76fd"
      },
      "source": [
        "actual_output, predicted_output"
      ],
      "execution_count": null,
      "outputs": [
        {
          "output_type": "execute_result",
          "data": {
            "text/plain": [
              "(['you re doing the right thing .',\n",
              "  'he is bound to win the match .',\n",
              "  'you re moody .',\n",
              "  'i m staying .',\n",
              "  'you re wrong in this case .',\n",
              "  'i m engaged .',\n",
              "  'he is an authority on the humanities .',\n",
              "  'i m not sure i understand .',\n",
              "  'i m not interested in your opinion .',\n",
              "  'you aren t allowed to park there .'],\n",
              " ['you re doing the right thing . ',\n",
              "  'he s going to win the . . ',\n",
              "  'you re temperamental . ',\n",
              "  'i m undressing . ',\n",
              "  'you re out of this this . ',\n",
              "  'i m engaged . ',\n",
              "  'he is an authority on the . ',\n",
              "  'i m not sure about understand . ',\n",
              "  'i m not interested in your opinion . ',\n",
              "  'you re not allowed to park there . '])"
            ]
          },
          "metadata": {},
          "execution_count": 27
        }
      ]
    },
    {
      "cell_type": "markdown",
      "metadata": {
        "id": "zFMIaIRM868Z"
      },
      "source": [
        "## BERT SCORE\n",
        "\n",
        "![image.png](data:image/png;base64,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)"
      ]
    },
    {
      "cell_type": "code",
      "metadata": {
        "id": "uEgQrvzWmpxE",
        "colab": {
          "base_uri": "https://localhost:8080/"
        },
        "outputId": "2be45c3c-dd2e-4719-a8c0-aec9266d7e6f"
      },
      "source": [
        "# Installing huggingface transformers\n",
        "!pip install transformers==3.0.1"
      ],
      "execution_count": 63,
      "outputs": [
        {
          "output_type": "stream",
          "name": "stdout",
          "text": [
            "Collecting transformers==3.0.1\n",
            "  Downloading transformers-3.0.1-py3-none-any.whl (757 kB)\n",
            "\u001b[K     |████████████████████████████████| 757 kB 5.2 MB/s \n",
            "\u001b[?25hRequirement already satisfied: packaging in /usr/local/lib/python3.7/dist-packages (from transformers==3.0.1) (21.3)\n",
            "Collecting tokenizers==0.8.0-rc4\n",
            "  Downloading tokenizers-0.8.0rc4-cp37-cp37m-manylinux1_x86_64.whl (3.0 MB)\n",
            "\u001b[K     |████████████████████████████████| 3.0 MB 28.8 MB/s \n",
            "\u001b[?25hRequirement already satisfied: requests in /usr/local/lib/python3.7/dist-packages (from transformers==3.0.1) (2.23.0)\n",
            "Requirement already satisfied: numpy in /usr/local/lib/python3.7/dist-packages (from transformers==3.0.1) (1.19.5)\n",
            "Collecting sacremoses\n",
            "  Downloading sacremoses-0.0.46-py3-none-any.whl (895 kB)\n",
            "\u001b[K     |████████████████████████████████| 895 kB 50.3 MB/s \n",
            "\u001b[?25hCollecting sentencepiece!=0.1.92\n",
            "  Downloading sentencepiece-0.1.96-cp37-cp37m-manylinux_2_17_x86_64.manylinux2014_x86_64.whl (1.2 MB)\n",
            "\u001b[K     |████████████████████████████████| 1.2 MB 38.6 MB/s \n",
            "\u001b[?25hRequirement already satisfied: regex!=2019.12.17 in /usr/local/lib/python3.7/dist-packages (from transformers==3.0.1) (2019.12.20)\n",
            "Requirement already satisfied: filelock in /usr/local/lib/python3.7/dist-packages (from transformers==3.0.1) (3.4.0)\n",
            "Requirement already satisfied: tqdm>=4.27 in /usr/local/lib/python3.7/dist-packages (from transformers==3.0.1) (4.62.3)\n",
            "Requirement already satisfied: pyparsing!=3.0.5,>=2.0.2 in /usr/local/lib/python3.7/dist-packages (from packaging->transformers==3.0.1) (3.0.6)\n",
            "Requirement already satisfied: certifi>=2017.4.17 in /usr/local/lib/python3.7/dist-packages (from requests->transformers==3.0.1) (2021.10.8)\n",
            "Requirement already satisfied: idna<3,>=2.5 in /usr/local/lib/python3.7/dist-packages (from requests->transformers==3.0.1) (2.10)\n",
            "Requirement already satisfied: urllib3!=1.25.0,!=1.25.1,<1.26,>=1.21.1 in /usr/local/lib/python3.7/dist-packages (from requests->transformers==3.0.1) (1.24.3)\n",
            "Requirement already satisfied: chardet<4,>=3.0.2 in /usr/local/lib/python3.7/dist-packages (from requests->transformers==3.0.1) (3.0.4)\n",
            "Requirement already satisfied: click in /usr/local/lib/python3.7/dist-packages (from sacremoses->transformers==3.0.1) (7.1.2)\n",
            "Requirement already satisfied: six in /usr/local/lib/python3.7/dist-packages (from sacremoses->transformers==3.0.1) (1.15.0)\n",
            "Requirement already satisfied: joblib in /usr/local/lib/python3.7/dist-packages (from sacremoses->transformers==3.0.1) (1.1.0)\n",
            "Installing collected packages: tokenizers, sentencepiece, sacremoses, transformers\n",
            "Successfully installed sacremoses-0.0.46 sentencepiece-0.1.96 tokenizers-0.8.0rc4 transformers-3.0.1\n"
          ]
        }
      ]
    },
    {
      "cell_type": "code",
      "metadata": {
        "id": "PtzX3MHampt-",
        "colab": {
          "base_uri": "https://localhost:8080/"
        },
        "outputId": "74b2cfe4-f859-4a1f-f566-15f9225b0127"
      },
      "source": [
        "# Installing bertscore\n",
        "!pip install bert_score==0.3.4"
      ],
      "execution_count": 64,
      "outputs": [
        {
          "output_type": "stream",
          "name": "stdout",
          "text": [
            "Collecting bert_score==0.3.4\n",
            "  Downloading bert_score-0.3.4-py3-none-any.whl (52 kB)\n",
            "\u001b[?25l\r\u001b[K     |██████▎                         | 10 kB 28.0 MB/s eta 0:00:01\r\u001b[K     |████████████▌                   | 20 kB 29.9 MB/s eta 0:00:01\r\u001b[K     |██████████████████▊             | 30 kB 12.7 MB/s eta 0:00:01\r\u001b[K     |█████████████████████████       | 40 kB 9.9 MB/s eta 0:00:01\r\u001b[K     |███████████████████████████████▏| 51 kB 5.5 MB/s eta 0:00:01\r\u001b[K     |████████████████████████████████| 52 kB 907 kB/s \n",
            "\u001b[?25hRequirement already satisfied: torch>=1.0.0 in /usr/local/lib/python3.7/dist-packages (from bert_score==0.3.4) (1.10.0+cu111)\n",
            "Requirement already satisfied: requests in /usr/local/lib/python3.7/dist-packages (from bert_score==0.3.4) (2.23.0)\n",
            "Requirement already satisfied: transformers>=2.2.0 in /usr/local/lib/python3.7/dist-packages (from bert_score==0.3.4) (3.0.1)\n",
            "Requirement already satisfied: pandas>=1.0.1 in /usr/local/lib/python3.7/dist-packages (from bert_score==0.3.4) (1.1.5)\n",
            "Requirement already satisfied: numpy in /usr/local/lib/python3.7/dist-packages (from bert_score==0.3.4) (1.19.5)\n",
            "Requirement already satisfied: tqdm>=4.31.1 in /usr/local/lib/python3.7/dist-packages (from bert_score==0.3.4) (4.62.3)\n",
            "Requirement already satisfied: matplotlib in /usr/local/lib/python3.7/dist-packages (from bert_score==0.3.4) (3.2.2)\n",
            "Requirement already satisfied: pytz>=2017.2 in /usr/local/lib/python3.7/dist-packages (from pandas>=1.0.1->bert_score==0.3.4) (2018.9)\n",
            "Requirement already satisfied: python-dateutil>=2.7.3 in /usr/local/lib/python3.7/dist-packages (from pandas>=1.0.1->bert_score==0.3.4) (2.8.2)\n",
            "Requirement already satisfied: six>=1.5 in /usr/local/lib/python3.7/dist-packages (from python-dateutil>=2.7.3->pandas>=1.0.1->bert_score==0.3.4) (1.15.0)\n",
            "Requirement already satisfied: typing-extensions in /usr/local/lib/python3.7/dist-packages (from torch>=1.0.0->bert_score==0.3.4) (3.10.0.2)\n",
            "Requirement already satisfied: packaging in /usr/local/lib/python3.7/dist-packages (from transformers>=2.2.0->bert_score==0.3.4) (21.3)\n",
            "Requirement already satisfied: regex!=2019.12.17 in /usr/local/lib/python3.7/dist-packages (from transformers>=2.2.0->bert_score==0.3.4) (2019.12.20)\n",
            "Requirement already satisfied: tokenizers==0.8.0-rc4 in /usr/local/lib/python3.7/dist-packages (from transformers>=2.2.0->bert_score==0.3.4) (0.8.0rc4)\n",
            "Requirement already satisfied: filelock in /usr/local/lib/python3.7/dist-packages (from transformers>=2.2.0->bert_score==0.3.4) (3.4.0)\n",
            "Requirement already satisfied: sacremoses in /usr/local/lib/python3.7/dist-packages (from transformers>=2.2.0->bert_score==0.3.4) (0.0.46)\n",
            "Requirement already satisfied: sentencepiece!=0.1.92 in /usr/local/lib/python3.7/dist-packages (from transformers>=2.2.0->bert_score==0.3.4) (0.1.96)\n",
            "Requirement already satisfied: cycler>=0.10 in /usr/local/lib/python3.7/dist-packages (from matplotlib->bert_score==0.3.4) (0.11.0)\n",
            "Requirement already satisfied: kiwisolver>=1.0.1 in /usr/local/lib/python3.7/dist-packages (from matplotlib->bert_score==0.3.4) (1.3.2)\n",
            "Requirement already satisfied: pyparsing!=2.0.4,!=2.1.2,!=2.1.6,>=2.0.1 in /usr/local/lib/python3.7/dist-packages (from matplotlib->bert_score==0.3.4) (3.0.6)\n",
            "Requirement already satisfied: chardet<4,>=3.0.2 in /usr/local/lib/python3.7/dist-packages (from requests->bert_score==0.3.4) (3.0.4)\n",
            "Requirement already satisfied: urllib3!=1.25.0,!=1.25.1,<1.26,>=1.21.1 in /usr/local/lib/python3.7/dist-packages (from requests->bert_score==0.3.4) (1.24.3)\n",
            "Requirement already satisfied: certifi>=2017.4.17 in /usr/local/lib/python3.7/dist-packages (from requests->bert_score==0.3.4) (2021.10.8)\n",
            "Requirement already satisfied: idna<3,>=2.5 in /usr/local/lib/python3.7/dist-packages (from requests->bert_score==0.3.4) (2.10)\n",
            "Requirement already satisfied: click in /usr/local/lib/python3.7/dist-packages (from sacremoses->transformers>=2.2.0->bert_score==0.3.4) (7.1.2)\n",
            "Requirement already satisfied: joblib in /usr/local/lib/python3.7/dist-packages (from sacremoses->transformers>=2.2.0->bert_score==0.3.4) (1.1.0)\n",
            "Installing collected packages: bert-score\n",
            "Successfully installed bert-score-0.3.4\n"
          ]
        }
      ]
    },
    {
      "cell_type": "code",
      "metadata": {
        "id": "ANjOID2HmpnH"
      },
      "source": [
        "#https://tsdaemon.github.io/2018/07/08/nmt-with-pytorch-encoder-decoder.html\n",
        "\n"
      ],
      "execution_count": null,
      "outputs": []
    },
    {
      "cell_type": "markdown",
      "metadata": {
        "id": "3XbgLXXcyE3G"
      },
      "source": [
        "## We are now ready to call the score function. Besides candidates and references, we need to speicify the bert model we are using. Since we are dealing with English sentences, we will use the default English model, which is *roberta-large* model."
      ]
    },
    {
      "cell_type": "code",
      "metadata": {
        "id": "_9vFg15dmpj7",
        "outputId": "a7e0be19-5719-4935-c098-f5b363530dc7",
        "colab": {
          "base_uri": "https://localhost:8080/",
          "height": 524,
          "referenced_widgets": [
            "5ce2851e297c465496ec23f1b38a2468",
            "7d68f67876fd43079a2dc0ebe5b9952c",
            "730007aa155f4587b0414151c2755499",
            "d6422ecfb2c746ea8783deb3991cdf66",
            "69f1bd973c48409b9b18d95fa22b7dd9",
            "98eacbfa1cbb43688f70d56f97f38292",
            "9b89619b0ca24707a46477311023883e",
            "5c2a55f0f29941949142635a6ee8b01c",
            "b1e5c5b948cc42ecb755e88316562ef0",
            "e6a60cc4abb54ee4ba86744b4d412dd3",
            "9f84c4349e7141d2916ed0bef3220211",
            "cccf48b50cf14a51bbd768a3dad13fd8",
            "c132088252194929a5aec9bed41f954a",
            "1d520fc45d7e4f4885c9745fcc73aa22",
            "b1dfc4020d8c4c058a22931f5fca818c",
            "2be6639cf5264a0b991669f281417688",
            "2122fa3c714d488b980dbc025c7a7c9f",
            "b95c888daefe4625ac08c0b1d6205981",
            "024a66726d674c57b04166e20d37d9bc",
            "5b9a93a038424a688a407252813f53e7",
            "d0b5e57f553b4f4697c3e629d8c09e1f",
            "025dcd25bbb044debaac48e87937a73c",
            "b9c85cb035ac4c7ebe55a2d7c06c558b",
            "4380aba5627242d584ab1f2f3d3e1ead",
            "28e5d6833bfe4a6091d53e40495498f0",
            "ac4c846c7a7243b6b30d8c60e77423e4",
            "9d7972dd8dca4e7d81e32e2e60b9bc55",
            "6cb7d243099a4ef0b419862f1f497772",
            "ce6eba2fa5084554b3b9b81f85018440",
            "ab6f8caa83ce429ca0d744443062e440",
            "924218b6f1c949408a04cc356cf37278",
            "2a5b2931091147de968424c92340ceff",
            "7eca0d5d492f408cb9f3f10233f6e863",
            "eaca9c153a6344898fc4b725e2f84cb3",
            "50978f292ba941d2b147899ef9e1f1fd",
            "dfcf8458fcd842e69c34b87ea6caa04a",
            "b39b4dd6b7a7444e9a8096b97b78cc37",
            "51c35ae52e284d46b04de845e65552db",
            "b9acfefe59f24246aa75d7c61699dab6",
            "7f4b5f709b454d4abc43a8437fca52da",
            "c41e9909d5bd43fd8c5d8ce74cf6a30c",
            "204b0d95754b4f86ba281a4788d5c86b",
            "0fd12e2410314f468b5e5cbc0ea6c5f0",
            "c7326eaef86649cb9f1e1361ddfb4970",
            "b2f3b2351f634328b4f049b61659645d",
            "87ce616d6bea4246a3017b412c4ff088",
            "2e32ce8fedce4a3badcd9599ac35e595",
            "e26a730c2b7344eb9d0de99ddab2556c",
            "d17cf0d81bf640588fbbd954b7bed0f2",
            "12ed44a503c0423abab1c10d07abc2bb",
            "62455929fea44ebca426124f0abd9d7c",
            "83e25f8f3cba4ebc96f733de90c22b72",
            "aeabde4e7c0d4ae698c6ebee8ea60720",
            "a870c6a734a647e0a73ab976c49aff20",
            "4d020efbbfbc498c856432168bb6e3ad",
            "70ab70e2f74647ff8dac4cf671b34b49",
            "855db00c38ef47f2903e3259e1cffb45",
            "3e08cd71f5a243b58f276ad0a2bbda8f",
            "9cc9e85bcdc9420d82adf829c4bf23de",
            "f6bfccba11bf44cb9505d7297afa9fca",
            "b472bd778b0142549d42c453b260cf33",
            "1d81a856cede482db2ebff025ec75f0b",
            "157580ab639c4d379abe1f26fb75719a",
            "4d91c9bacc384ea183630b685d37ae13",
            "634f3ce417f846299ceb27ce553c573c",
            "1da79b4bf45b4df2b5434589dad792e1"
          ]
        }
      },
      "source": [
        "from bert_score import score\n",
        "\n",
        "# When you are running this cell for the first time, \n",
        "# it will download the BERT model which will take relatively longer. \n",
        "P, R, F1 = score(predicted_output_bertscore, actual_output_bertscore, lang=\"en\", verbose=True)"
      ],
      "execution_count": 65,
      "outputs": [
        {
          "output_type": "display_data",
          "data": {
            "application/vnd.jupyter.widget-view+json": {
              "model_id": "5ce2851e297c465496ec23f1b38a2468",
              "version_minor": 0,
              "version_major": 2
            },
            "text/plain": [
              "Downloading:   0%|          | 0.00/482 [00:00<?, ?B/s]"
            ]
          },
          "metadata": {}
        },
        {
          "output_type": "display_data",
          "data": {
            "application/vnd.jupyter.widget-view+json": {
              "model_id": "cccf48b50cf14a51bbd768a3dad13fd8",
              "version_minor": 0,
              "version_major": 2
            },
            "text/plain": [
              "Downloading:   0%|          | 0.00/899k [00:00<?, ?B/s]"
            ]
          },
          "metadata": {}
        },
        {
          "output_type": "display_data",
          "data": {
            "application/vnd.jupyter.widget-view+json": {
              "model_id": "b9c85cb035ac4c7ebe55a2d7c06c558b",
              "version_minor": 0,
              "version_major": 2
            },
            "text/plain": [
              "Downloading:   0%|          | 0.00/456k [00:00<?, ?B/s]"
            ]
          },
          "metadata": {}
        },
        {
          "output_type": "display_data",
          "data": {
            "application/vnd.jupyter.widget-view+json": {
              "model_id": "eaca9c153a6344898fc4b725e2f84cb3",
              "version_minor": 0,
              "version_major": 2
            },
            "text/plain": [
              "Downloading:   0%|          | 0.00/1.43G [00:00<?, ?B/s]"
            ]
          },
          "metadata": {}
        },
        {
          "output_type": "stream",
          "name": "stdout",
          "text": [
            "calculating scores...\n",
            "computing bert embedding.\n"
          ]
        },
        {
          "output_type": "display_data",
          "data": {
            "application/vnd.jupyter.widget-view+json": {
              "model_id": "b2f3b2351f634328b4f049b61659645d",
              "version_minor": 0,
              "version_major": 2
            },
            "text/plain": [
              "  0%|          | 0/1 [00:00<?, ?it/s]"
            ]
          },
          "metadata": {}
        },
        {
          "output_type": "stream",
          "name": "stderr",
          "text": [
            "Truncation was not explicitely activated but `max_length` is provided a specific value, please use `truncation=True` to explicitely truncate examples to max length. Defaulting to 'longest_first' truncation strategy. If you encode pairs of sequences (GLUE-style) with the tokenizer you can select this strategy more precisely by providing a specific strategy to `truncation`.\n",
            "Truncation was not explicitely activated but `max_length` is provided a specific value, please use `truncation=True` to explicitely truncate examples to max length. Defaulting to 'longest_first' truncation strategy. If you encode pairs of sequences (GLUE-style) with the tokenizer you can select this strategy more precisely by providing a specific strategy to `truncation`.\n",
            "Truncation was not explicitely activated but `max_length` is provided a specific value, please use `truncation=True` to explicitely truncate examples to max length. Defaulting to 'longest_first' truncation strategy. If you encode pairs of sequences (GLUE-style) with the tokenizer you can select this strategy more precisely by providing a specific strategy to `truncation`.\n",
            "Truncation was not explicitely activated but `max_length` is provided a specific value, please use `truncation=True` to explicitely truncate examples to max length. Defaulting to 'longest_first' truncation strategy. If you encode pairs of sequences (GLUE-style) with the tokenizer you can select this strategy more precisely by providing a specific strategy to `truncation`.\n",
            "Truncation was not explicitely activated but `max_length` is provided a specific value, please use `truncation=True` to explicitely truncate examples to max length. Defaulting to 'longest_first' truncation strategy. If you encode pairs of sequences (GLUE-style) with the tokenizer you can select this strategy more precisely by providing a specific strategy to `truncation`.\n",
            "Truncation was not explicitely activated but `max_length` is provided a specific value, please use `truncation=True` to explicitely truncate examples to max length. Defaulting to 'longest_first' truncation strategy. If you encode pairs of sequences (GLUE-style) with the tokenizer you can select this strategy more precisely by providing a specific strategy to `truncation`.\n",
            "Truncation was not explicitely activated but `max_length` is provided a specific value, please use `truncation=True` to explicitely truncate examples to max length. Defaulting to 'longest_first' truncation strategy. If you encode pairs of sequences (GLUE-style) with the tokenizer you can select this strategy more precisely by providing a specific strategy to `truncation`.\n",
            "Truncation was not explicitely activated but `max_length` is provided a specific value, please use `truncation=True` to explicitely truncate examples to max length. Defaulting to 'longest_first' truncation strategy. If you encode pairs of sequences (GLUE-style) with the tokenizer you can select this strategy more precisely by providing a specific strategy to `truncation`.\n",
            "Truncation was not explicitely activated but `max_length` is provided a specific value, please use `truncation=True` to explicitely truncate examples to max length. Defaulting to 'longest_first' truncation strategy. If you encode pairs of sequences (GLUE-style) with the tokenizer you can select this strategy more precisely by providing a specific strategy to `truncation`.\n",
            "Truncation was not explicitely activated but `max_length` is provided a specific value, please use `truncation=True` to explicitely truncate examples to max length. Defaulting to 'longest_first' truncation strategy. If you encode pairs of sequences (GLUE-style) with the tokenizer you can select this strategy more precisely by providing a specific strategy to `truncation`.\n",
            "Truncation was not explicitely activated but `max_length` is provided a specific value, please use `truncation=True` to explicitely truncate examples to max length. Defaulting to 'longest_first' truncation strategy. If you encode pairs of sequences (GLUE-style) with the tokenizer you can select this strategy more precisely by providing a specific strategy to `truncation`.\n",
            "Truncation was not explicitely activated but `max_length` is provided a specific value, please use `truncation=True` to explicitely truncate examples to max length. Defaulting to 'longest_first' truncation strategy. If you encode pairs of sequences (GLUE-style) with the tokenizer you can select this strategy more precisely by providing a specific strategy to `truncation`.\n",
            "Truncation was not explicitely activated but `max_length` is provided a specific value, please use `truncation=True` to explicitely truncate examples to max length. Defaulting to 'longest_first' truncation strategy. If you encode pairs of sequences (GLUE-style) with the tokenizer you can select this strategy more precisely by providing a specific strategy to `truncation`.\n"
          ]
        },
        {
          "output_type": "stream",
          "name": "stdout",
          "text": [
            "computing greedy matching.\n"
          ]
        },
        {
          "output_type": "display_data",
          "data": {
            "application/vnd.jupyter.widget-view+json": {
              "model_id": "70ab70e2f74647ff8dac4cf671b34b49",
              "version_minor": 0,
              "version_major": 2
            },
            "text/plain": [
              "  0%|          | 0/1 [00:00<?, ?it/s]"
            ]
          },
          "metadata": {}
        },
        {
          "output_type": "stream",
          "name": "stdout",
          "text": [
            "done in 0.26 seconds, 37.88 sentences/sec\n"
          ]
        }
      ]
    },
    {
      "cell_type": "code",
      "metadata": {
        "id": "cfpQsUxDmpgc",
        "outputId": "a3496c27-fa85-4ee6-d413-3bb137ee68c5",
        "colab": {
          "base_uri": "https://localhost:8080/"
        }
      },
      "source": [
        "print(f'Precision : {P}')\n",
        "print(f'Recall : {R}')\n",
        "print(f'F1 score : {F1}')\n",
        "\n",
        "print(f\"System level F1 score: {F1.mean():.3f}\")"
      ],
      "execution_count": 66,
      "outputs": [
        {
          "output_type": "stream",
          "name": "stdout",
          "text": [
            "Precision : tensor([0.9501, 0.8540, 0.8635, 0.9366, 0.9319, 0.9191, 0.9361, 0.9361, 0.9255,\n",
            "        0.9027])\n",
            "Recall : tensor([0.9809, 0.8556, 0.8859, 0.9366, 0.9331, 0.9260, 0.9438, 0.9438, 0.9178,\n",
            "        0.9151])\n",
            "F1 score : tensor([0.9652, 0.8548, 0.8746, 0.9366, 0.9325, 0.9225, 0.9399, 0.9399, 0.9217,\n",
            "        0.9089])\n",
            "System level F1 score: 0.920\n"
          ]
        }
      ]
    },
    {
      "cell_type": "code",
      "metadata": {
        "id": "fgbHdqKVmpdE"
      },
      "source": [
        "# # *It* might also be very interestig to see the distribution of BERTScore.\n",
        "\n",
        "# import matplotlib.pyplot as plt\n",
        "# plt.hist(F1, bins=20)\n",
        "# plt.show()"
      ],
      "execution_count": null,
      "outputs": []
    },
    {
      "cell_type": "markdown",
      "metadata": {
        "id": "yO-izZZKzqFp"
      },
      "source": [
        "## bert_score also provides a convenient function plot_example to support sentence-level visualization by plotting th e pairwise cosine similarity. \n",
        "# Note that here we have **not applied the idf weighting.**"
      ]
    },
    {
      "cell_type": "code",
      "metadata": {
        "id": "0LHczOJmzjVe"
      },
      "source": [
        "# from bert_score import plot_example\n",
        "\n",
        "# predicted_output1 = predicted_output[0]\n",
        "# actual_output1 = actual_output[0]\n",
        "# plot_example(predicted_output1, actual_output1, lang=\"en\")"
      ],
      "execution_count": null,
      "outputs": []
    },
    {
      "cell_type": "code",
      "metadata": {
        "id": "dQGLuFPH8S9u"
      },
      "source": [
        "# actual_output[0], predicted_output[0]"
      ],
      "execution_count": null,
      "outputs": []
    },
    {
      "cell_type": "code",
      "metadata": {
        "id": "Eqqob8m3bR54",
        "outputId": "fb4ae479-2ad1-4ebb-b580-3be42b6074ac",
        "colab": {
          "base_uri": "https://localhost:8080/",
          "height": 222,
          "referenced_widgets": [
            "3142881e0acf460398a7ff2a89d185db",
            "3c1e5fb9b1914b05b909ca716515fa84",
            "1cfa7139e1044c3492ac344aba34b446",
            "bdab62b37edd4cb1b52890a15bff3a5b",
            "78b7aad9f60b404c9386e2162c716f87",
            "3ed27577b48d415cb3488dbabca25e89",
            "3d0f4e30c4904879b129d75fcba2fbd3",
            "721df92b105e4608a9fe41faf8d57668",
            "31384c97b380439f9c896cc0c32ffe8d",
            "92a34c264fcd4421b89667154b1157e4",
            "8ae6d315f4f94661aa9076d4e912eb1e",
            "b25a2376d727495197f59599d1b66cca",
            "f7dfa27c60f84fff852f22aa9243660f",
            "2d892a4045b44119bd8fe93e244c9cfb",
            "1c099481f6ed4619a3c1ef1d707f7e1a",
            "e07f0e7d366c4fdfa1c1a539c650482c",
            "2c23940cdb864f069edc4d83eef39569",
            "5fe69b2c9a654a2088712093ff5a2cd6",
            "b381f58c76414fcdadadf99316ca39cf",
            "5cb57f2a9bd14dfc87cac798f2d97f2d",
            "02bda5ae9427425b905a1e3a15b0842e",
            "83ed75c121674b9482c36de91b67153a"
          ]
        }
      },
      "source": [
        "a1 = ['i m ill .']\n",
        "a2 = ['i m a student .']#['i m exhausted .']\n",
        "P, R, F1 = score(a1, a2, lang=\"en\", verbose=True)\n",
        "P, R, F1"
      ],
      "execution_count": 75,
      "outputs": [
        {
          "output_type": "stream",
          "name": "stdout",
          "text": [
            "calculating scores...\n",
            "computing bert embedding.\n"
          ]
        },
        {
          "output_type": "display_data",
          "data": {
            "application/vnd.jupyter.widget-view+json": {
              "model_id": "3142881e0acf460398a7ff2a89d185db",
              "version_minor": 0,
              "version_major": 2
            },
            "text/plain": [
              "  0%|          | 0/1 [00:00<?, ?it/s]"
            ]
          },
          "metadata": {}
        },
        {
          "output_type": "stream",
          "name": "stderr",
          "text": [
            "Truncation was not explicitely activated but `max_length` is provided a specific value, please use `truncation=True` to explicitely truncate examples to max length. Defaulting to 'longest_first' truncation strategy. If you encode pairs of sequences (GLUE-style) with the tokenizer you can select this strategy more precisely by providing a specific strategy to `truncation`.\n",
            "Truncation was not explicitely activated but `max_length` is provided a specific value, please use `truncation=True` to explicitely truncate examples to max length. Defaulting to 'longest_first' truncation strategy. If you encode pairs of sequences (GLUE-style) with the tokenizer you can select this strategy more precisely by providing a specific strategy to `truncation`.\n"
          ]
        },
        {
          "output_type": "stream",
          "name": "stdout",
          "text": [
            "computing greedy matching.\n"
          ]
        },
        {
          "output_type": "display_data",
          "data": {
            "application/vnd.jupyter.widget-view+json": {
              "model_id": "b25a2376d727495197f59599d1b66cca",
              "version_minor": 0,
              "version_major": 2
            },
            "text/plain": [
              "  0%|          | 0/1 [00:00<?, ?it/s]"
            ]
          },
          "metadata": {}
        },
        {
          "output_type": "stream",
          "name": "stdout",
          "text": [
            "done in 0.16 seconds, 6.31 sentences/sec\n"
          ]
        },
        {
          "output_type": "execute_result",
          "data": {
            "text/plain": [
              "(tensor([0.9227]), tensor([0.9071]), tensor([0.9148]))"
            ]
          },
          "metadata": {},
          "execution_count": 75
        }
      ]
    },
    {
      "cell_type": "code",
      "metadata": {
        "id": "zpeN1c2N8SoN"
      },
      "source": [
        "# actual_output, predicted_output\n",
        "# actual_set = set(actual_output)\n",
        "# actual_set"
      ],
      "execution_count": null,
      "outputs": []
    },
    {
      "cell_type": "markdown",
      "metadata": {
        "id": "i1w6omJT6Ll5"
      },
      "source": [
        "## Questions on the BERT Score\n",
        "1. BERT models used should be coming from the similar domain otherwise the embeddings will be different?. From paper on BERTSCORE : In contrast to prior word embeddings (Mikolov et al., 2013; Pennington et al., 2014), contextual embeddings, such as BERT (Devlin et al., 2019) and ELMO (Peters et al., 2018),\n",
        "can ***generate different vector representations for the same word in different sentences depending on the surrounding words, which form the context of the target word***. **Can you explain this point?**  \n",
        "2. If the vocabulary of the BERT model used for scoring doesnt match well with that of the data for which embeddings are taken then the BertScore will not be correct. Is there any guideline?. May be that is the reason still the NLP community is using BLEU score\n"
      ]
    },
    {
      "cell_type": "markdown",
      "metadata": {
        "id": "I9bpW0xBOKqi"
      },
      "source": [
        "## BERT Score paper Learnings\n",
        "\n",
        "1. **Existing metrics** for *Natural Language Generation* can be broadly categorized into using \n",
        "\n",
        "    1.   N-gram Matching\n",
        "    2.   Edit Distance\n",
        "    3. Embedding Matching or Learned functions\n",
        "\n",
        "2. BertScore computes the similarity of 2 sentences as a SUM OF COSINE SIMILARITY between their tokens embeddings\n",
        "3.   BERTSCore ***addresses 2 COMMON PIT FALLS  in N-GRAM-BASED (BLEU) metrics***:\n",
        "    > **N-Gram based methods often fail to ROBUSTLY match paraphrases.**   \n",
        "    Ex: Reference Sentence: \"People like foreign cars\"   \n",
        "        Prediction1 : \"People like visiting places abroad\"   \n",
        "        Prediction2 : \"Consumers prefer imported cars\"   \n",
        "\n",
        "        **BLEU (*STRING MATCHING*)** and **METEOR (*HEURISTICS MATCHING*)** give *higher score to Prediction1* and lower *score to Prediction2*. This results in performance underestimation of semantically correct phrases.   \n",
        "\n",
        "    > **Fail to capture *distant dependencies* and penalize semantically critical ordering changes**\n",
        "For example, given a small window of size two, BLEU will only mildly penalize\n",
        "swapping of cause and effect clauses (e.g. A because B instead of B because A), especially when the arguments A and B are long phrases.\n",
        "\n",
        "4. BERTSCORE with the contextualized embeddings can take care of: a) paraphrasing and b) effectively capture distant dependencies and ordering\n",
        "\n"
      ]
    },
    {
      "cell_type": "code",
      "metadata": {
        "id": "SOKMS0ErzjR_"
      },
      "source": [
        ""
      ],
      "execution_count": null,
      "outputs": []
    },
    {
      "cell_type": "markdown",
      "metadata": {
        "id": "SyyVPR435kW2"
      },
      "source": [
        "## Perplexity\n",
        "the PPL of fixed-length models should be evaluated with a sliding-window strategy. This involves **repeatedly sliding the context window so that the model has more context when making each prediction.**\n",
        "\n",
        "![image.png](data:image/png;base64,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)"
      ]
    },
    {
      "cell_type": "markdown",
      "metadata": {
        "id": "FkRy8HE57iZE"
      },
      "source": [
        "![image.png](data:image/png;base64,iVBORw0KGgoAAAANSUhEUgAABV8AAAGnCAYAAACgrSd3AAAgAElEQVR4nOy9f3Rb1Z3o+7kN1YyLwIMgVBmKyC0OvVFgjdXMWGTVgdY2BWXGlbvA6WWsPLApkYFIlGulWZEnL2ZyLR7FGkAyJEofVvpid6ZRs2o10yg0sVoasYLzJpXvAiuvwXSCUga1DGo9UetWg3vfH+fIlhTJOvLP/NiftbQS21t7f/f+fr/7+z377LPPf/noo4/+NwKBQCAQCAQCgUAgEAgEAoFAIJhXPrbUAggEAoFAIBAIBAKBQCAQCAQCweWIWHwVCAQCgUAgEAgEAoFAIBAIBIIF4KqlFkAgEAgEAoFAIBAIBAKBQLAUXC7LQh8ttQACQVEuFy8TCAQCgUAgEAgEAoFAsOiUWla4VBbFxPLIpc3Fpr9Lxe4Fi8HFZp0CgUAgEAgEAoFAIBAILhuylx0We0FKLHkIlgolticWaK8UxEwkEAgEAoFAIBAIBAKBYBHILEEsxKKTWN4QXGpchViAvTIQs5NAIBAIBAKBQCAQCASCRaSc3bBi2UJwOVPIvsWC7OKzsMeniFlMIBAIBAKBQCAQCAQCwRIhliUEglwu9yMLrjyf/9h8Vxh9sYGGhvzPBposW/GdSMx3czOTCGJvaKDhxeg8V5wk3LWBhsYuwsl5rjqf8TFC/7CVjduCJIDEoL3A+DawYWM7rsExUpPTX1WuiyjehgYabFIbxYj2NtG2w8+wEjUmw3Q1NrChK8xCD9FFw3thXF9tYkNDAw0NXsqyugWzVYFgoVjEeRBIveVn68YN0jxWYq66+EkQtM1inpgTi6svAE55aWhowD54aWvrsmZWOpp/+y2Y22xowuJwEzqTml2lc4nJC86FeVdsn4UNGyz4T5dRzWk/lg0bsOyLLYSQF3LZ53ZLMTcrbXMpZFscpOsVO8GLIlRcvuNckEvYp6MvQkMD03ZzGiwbwLJvScVaEsJd0NBITn6Xegu2bpTGqMEGiSLl5oOgTWon4zMX6OYSIr8vi0ISuhphQxez8MOrZvwEbVfR0HAV0WJlTkl/tw/OXM/CfK48FqjXWkz/w0btdfKP4zG+3x8gsKON0Sf78DRqF6bZpWQyTSqVBpUadcX8VJl6y4fj6wHG0io095lRA5lLEMPD3Txwq/zDRILId32EetsZ+cVz9G8xoJqqZf50cc31GpKHB+i0hKjd5qHrnstQj7MmTmCni/BZHWbHdtb8/j+5vlCxBbCTS4Irtd+XEhezjiYieL4+QLTCSKvzS2gmVaiXWqaLmYkUkirVqJYttTACgXKyc5vk2SGC3w7hfnyYuPcA1tXl1KQwJgsEguJk8oIKNWpV6eKLXt9c27gcY+Xl2CdB+UyA5+sQrYBWJ2gmuTTz5glke0bYs+CyYIEWXzVUfdaIcWptzoixdhWujV2E9wWJNVrRL0zDi4SGuq7D1GX/6oMQTouXWONzHHvSMOcW0iNe2hxBkstr6fhGF6abpd9nFl91q40Y106XN95tQGttwz/4XSKbDNRVTss6X7qoerCPwQ1RfF/vJPBsG/bfz7B4q6mj61Bd4b9djiSiHD8L3GfFdp+xeLl5tpNLhiu135cSZeuowDy4UMSihNNQ9YiNljpx06cU0b1NbD2kx9bvwTw1XIuoL4FgluTkNuuMmNauwPL4AMEfRrGuLiN2KI3JFxH6h/s5/HCZX1rdSv/h1gWRpyBXWm53pTPio2lbEP2WfjxN8xB757u+ObZROFZe2pTdp8vJp1dD/+GlFmJpqOsiN7+LIefN0FI3Q7mLnOhe2HoIbP1cNj5aEA10HVpqIQSLwbwfO1AUdS31dcD4KG9fglvQF5XJOIHeIEmVHlvP9MLrjCzTUW+qAoYZHStRdi66qDRgdXdjXp4mtruPyCyfBrxs+fhC3coXCATirrdAcIVxWzVGID0Wn91RIyImCwQCgeAKReTNAsHFxZIetpA6E8K3d4DhnyVIoqGq2kSrvRXjcrnAKS8N24JU3deM7v8LETmbompLP547h7FbvMRqW+i4Nob/R1GSk2q0ehM2hzVrl2dhkif9uPcNMXo2QbpCy5rPtWDdbKJKDalTXtq2BUnVOOl31aGRJCX6YhtbD4H52T5sa1MEbRa8p808d8wGLzawNXO34tBWGg4Bq2289NcRnuiJYnAc4Ln7NNMCTERwNXYRXtvBgWdNaPLkS5/oZ+AsaC12zDfNw0DPN2oDrY/WEnSFOXCsjdpCd5YTQUlH2bvoEsP4eryEYglSaRWa6npaN1sx3TbDgxCTCYb3unEfjpKcAFWljtpNTuyNVajlgBJ9sYGth6po2Wbi/e/4iZxNQaZcU1XOYxYz6b4o42MEX3Lhj8SlRx80BsxPdWBdp81qXy6b0X+B3YMFy6220e81MzWCv48zvPvbcn9VaKrNdGyzTvsEQGqM0F4fA2+MkkiC5jYDpoc7aK3Jt6QpZcj2WkvLFhXH90eIj4OmupntO5q55oQPX98Q0SSoV9Zi3enMXfAv0X+pieK6VdTvHFKMHfHh+eYQsXHpWRNdbStOu3laTwrsYmr+aLJiOBsgOJKU7OLRLhxr32fA4yN4Kk5qmQbD/dvZuckgfTdju7Ut2FTHpX5nynz5Go6/4puac3S1Vrq2mdBlJTeJEz7czweJJrNkf8JMVWY3eqb+e2x0XxuZWdc5apybXDPNtzPqaKrdZlpSQwRGkqQbn+PYkyty5sGMtSdP+nHvCTAcTwMF+jU+RvClHgZOjJGcUKFeacC8uZj9ZmxX+inWa6Ghl+kdLQpsMzM/mDbqGH01Qny8asYdITPNEbHdTdgPQvMLg1hvz/rSaR9NtgDc72HwMT1MJhne+0yOfRoesLF9o2HaPnOI4m3YSjDfL2QbztnB88EwvmfdBEeSpJHGr3nLdlqq1dM2Io0WXksDXsD87DFsaxMX6Ev53JnnkxU66h5ZT7p3gMiMvlyAmeSH8vzjg2H8Hh+BE3GprtvNtFRF8Q2OyX2WzhK19MamfpYbKWC7KcYGPbj2R4iPp6FCg+EL7dierMvxoxz7VqnRN7awasRH8J1cPyiZ3+QzZ/8O4vmGpMN0xu/y8yF53vQeGyUxjjRP337+Qlkmkwzvd+M/Nko8kUalXcN6ixXrfVXFH1ucTXxXwvivpUXXFdfn5Eoz+emMMbmMnKLgnFF2/JWH54QP90shRhMp0Biob9OTP/JSu9KOtfUjW9lYKH8cD9N5v4vhTP6YP0dk4t6DTky/7JfsiAIxFOW2nNuR/Nwu40t12HZdT0SOfSqNAbNjO9YS45Jd51jjcxzO5E3vBWh/yMdYXReHnbXSUVpy36NZ5cr2szxdpCs0GL7QWiAPPE/8hI9vz9SfkrZUaJ4pNIaFSZ0J4nlhgMgZKXcxNJrQppWNpaL5c8b4WTj2Zue25Y196fogTfLNIK6/myEWzRhblbSRN05SybxYmSmkxAZmMVfONjct1V6JPhWd1yhgj6kxQns9+I7FJNsock2VS4qxQXDth/g4UAGGL4DtSaZiVfRFaRej+TFIhCB6FtBA7d+CvZGsOVhZuQvHFhq2gX4LeJqmxCK0FwbeQJ6zwfQwtNZkmcMJcL8EowlIy3JbN1P82nASxg5Bz7dhLAmqSjA0Qscm0CwDEmC3QKwWOq4F/48gOQlaPdgc5MVlGN4P/mMQT4BKC+stYL0v95iAsSPg+SbExgEV6GrBaZ+WMWgD72l47hjE5f8DxHqR82ZpTLLLGRTWzSQM7wX3YWS/A8MDsH3jDLrIInkENvaAwQHP3Zf1hwlwNUJ4LRx4ltz1kMwYyj96Lcj2zJSPJk6A+3mIJrPkfoLp660ilOxvoe+UsG3GIfgSDJyQxki9Esybs+xMqc00wrEny5B1jropygfgexaCI5BG6k/zFmiplv+ekfce6L52un1NNXRsIy9XB78HAifkum6HlirwDU7rMzEIlt5c/UIRey2lCyB5Etx7YDgujZu+EVaNQPCd3LpSZ8C3F4Z/Jp21W1UNrXZmzCHmyuLtfE0NEzkBVK5hlVZe5HzczdDv1tP+Qj99Xc1oxwbobHNdsJty7EiQ2I1mbE4b9SuzPCMygPenV9P8VDcdG9dALEBnm53ge8XFSAzasTgDvLvCzE5fP54njJw/5sbeESA+Ceq1Nnoe1pE+2UOX/AKK5NFn6DyURP+YB9vaCz3TsHmQwZdbqQK4x8ngwUEGnzHxmbvN1Kkg+t0h4lnlk68FCaOirrH+goVXgLHYSdJoMX2+SuHgApMJjv94DDCyptTX8nQxG9TrGqgDYidjKNr8OhHB1dZJ4D09Vm8//T4H688P4X7czsDZIt+ZTBDsaKPz4CiaDR1073LSWp0m0ttOW280r90xBp71EV9rZafTSk1FgnCvnWeOTh9bXUr3BUlF8ba3442kqX7YSfeuDsw3jBLY0Tb1gpKC+t98YUJdzE5yVHDUy9OvyzZ9v47USIBOu49YRr5UFO+j7bh/dJ717R76/d003/g2A04LrpLbkCMMvBLH+OhOOpp0pEYG6LRsxO6JcvUDDpyba1CdDeP+el57JfpfSreK+p1F/IADe0+IsU+a6djVTcfGVaTCXux/FyQxSZl2AWODfo5XNuNwWqlRxQn3tNPU1kngQyPWHR2Y/zxFtL+TZ/JPn48M4PtFbpmNFrs85zix1qiIh904Xpl+0Uli0E7bjgCjN0iyOx+uJh3x0t7uJZovWCldF1Vj+XKVmm8V6SgSIPA7I1ZnB636wqcnpiIuLM4BoukarM5unFvq0cQCdNoz/Y8T6GjHG1Fh6upj0N9Ny6dk+32tkP1qMT0zyKBTekiq6pE9DB4cxLVBq8w2pxgjNBhjRaMN55Z6dEXOtC01R+g/b0JNiuBQ7jH8sR+HSKHG9Hk9kCa6u12yz3tl+7wjxfArW7EfjBduWCkTUbz2TgIxDSZHN93OVqp/O4zfYSdwDlhuwnVwEOc9AFW0vjzI4MFBrNUzVVp67ozta5d9sh6bsxvnI2uIvzJAZL7lz6aUfyTDdLV1MnAqjcHSQfcuG+ZPHMc/WOrRj8IkDjmx94ZJ3dGKc1c3HfdqGD3sor0nQma9Ixnuku3bQIujm267mWte9xN8J7eucvKbC5i1f3uJ/L6aVmc33Q4zmp/l5UNZ8yafaaZjl4Pmyije/jwtTiYIdljoPPAu2i/tZE+/B/ud5xnqseM4UMR+ZxPflZBOEN6zh2HUmO+tmTrLvpSfFo3JZeYUF8wZs4y/U3GBNTQ7unE8cDVRz8z+o1lnwghEf3A8Z8dv8kSIYcDYsL5g/jgl/T+6ZDtyYl2nJhH2YndNv1BHqS0rJ4x313GufsBBt6MZ3USUgLMdn5KXh2kNGG+C9E9OTl1op2IjjAFEoozKPp8eeYNhoLZ6jVRmFn6Wjrho2xHg3TusePr72fPUes4fc9P+tYG8PLBEf8rMQ8ol49PhcxrqtzjZ+aiRDw/6lOtHSS45Y/wsHHszuW35Yz9zfRKlYlGp2KqkDRlFsVKJDZQ5V2b3ttzctFR7ivqkIBeajBPosOM+PIa2sYPuXR00/9cU4V47zhlezCjFUEjdAc5d0HEvjB6G9h7Iv2cQ3A0froWdTqi/AcK90NbLBX6jtFxRUuB9FNw/gvXt0O+H5hthwAkueQJOR6BtB7x7B3j6Yc9TcP4YtH+NoteG8YPQ3guqe6HvIHR/Bd7uB8uzebJFwPtTaH4KOjYCMehsIysuQ7ADOg+A9kuwpx/sd8JQDzgOZLV3AOw9MPZJ6Ngl1ZUKg/3vkK6L8jA9A4NO6f9Vj8DgQXBtKNIXBXVHd0PnQdDcC927oPUOGH4F7AeVqUFzN/J6CHnrIRAG6hq5MJ4tB9dBZHuG1pelfmTsOTEo6W30Bklu58OSLtvbufB6q8z+5pM4REnbDnSANwKmLhj0Q8unZDt7TW5Xqc2UKetcdVOQCfDaIRADkwO6nVD9W/A7KJCrw9OvyzZ+P6RGoNNOVq4OXW0wcAoMFklG8yfAPzg70ZToIhkGixOiaWhxQLcdrnmdArk6tD0OQ7+D9hegrwu0Y5KPLuST3Qu08zXJ2E+HGc57ydPwuAr9k2b0xAnsDpKsbMbjtaJfBtBMV2eSpq8F6DtsoXajbqo2VZ2TPc7a6TtAmbl/tZW+F5rRLgMwYvr8AG1f9eP1hFhfYEcpExH69sZIr+3As0P++802XOk4G3v89J8w46xVoXvQhe1f2vDudRH45HqOPz8Mt9twFjs7qEKN+lq1dGHwp9ehrsxIWsNdd6sIHw0xfK4Z3c3S2Az/KAqqOu5aW+hxuBSJsylgPVUzHDcQPz3McMbKMi/cOgOapgeozbnjU0oXs6SiilW3QvhnbxOnrnQ9mTMbH2jDdKsW0GL7nzpqxuL89jdSopdP8qgb71tp9I/147lf+rtxXQ26Cgudh55m4IuDWS/gUGF09NMt7xAx6lXYLV6GfzRC6p461Ap1f4HY+58m+IEak2sPHTWSXo01BjRfs+Dr9RL+Qjd1lcX0nz9mCsotb6bnW7JP1BnRpjew9VCI42es6FdD/LCX4Adqml/YM7XzrnlHF8mNdgL7Qlhqm9FdWKuMjlbvHlpWAqyCcxtxn4K6HXtw3q0G6tB+2IT94HR7ivo/VkK3K7XKxgcgGcK7d4z0aiv9Gd9eZ2TNNVtxfj/I0BkzpnfLsYvc+aPuRmmOSX2ylT5vi3SX7DMQ3+ietpXMF1e2sievTHSyjq49TmrVwN1aadxfPU5ssx59MoS7N3aB7DUr3VicQZ7+dj2Dm7M8pYSui1KuXMQJKZhvS+oou12A/IeAJ2MMPB8mXWmie08HRjWAkZoboP2bw4ROtGC4I3MOYwuta3WAjmZHD1X3vk9iMkGaKvK9UKVWo6q8Rvp/hXpKttgrSnxzqhbqtmXsvAiK5ggTLSsD+F4NEdlsoLZC6vfxYylYacW0GkhHif3HesyP1NDyoBENYKyRdfKD48Q3tszgozOTfjPG+c+Zaa1poaVGAxgxyjYdfC1Os0WHulLFdX8q9Vl9rRp1iR0AJefOZAh/fyLXrjFS91c67A/5KOcd60rkn6KEf8S+4yEykaf/devR91joPFJu1pQg+vNbMDWZMD1momoZsE6eI4/+hJP2WmpVMQIvRS6wb2OtHvdDnYTGM3Up87eilOvfkzEGXEGS+XLdocH+kA/vS2HqXXUQ9uJ9K43u4T76MuO8ro71ejuW3dNaTJ/ow/dWGoPDQ5dsE7otLv5wbiPuff1EGp2S3Wczi/hejOC2BoJ5v9Nv6ceWyZcU+WnhWJs8Ul5OkT9nxA/MIv6Oh/H2xkivbKXPl5k/jdR9LjCz/1TWYrpHxfDRIMfPmWnOyx9NtTPvKFbVdNC/yyTtqFmnR/UrC96TQ4yM11GnVmrL5aCh+Rv98rjUYVyeZsO2IKHjMayrS2WIOgyfU+M/cJzoWSv6lWlG/t9hUKlQpYc4ecaGYTWMjkQAI3dWq5itn42eCpOmimaLiSotoLXh+lQNb//it3z4AeiyzsieqT/l5aflIvu0qo6uf5T9njqMtdXK9VNq/lSY2xaKvbMd+2KxPKvEzLFISWwt2YbMMpWCWDmzDcxqrszubZm5qUpJeyX7VCAXmsgtkTzqxfdOnm3XrEG9zUnwn4eINbUUuObLxFAwPYYcQ4Fz4D4KJ+3kjIXJBR3yjkBjHRhd0nmXA/XkPFWktFwx4och+AE0v0DWnA3JjRDYB5Za+PCUtGjTbEGeE8D1KXj7F+TNCdNEj0v/tjws7bbTbYSe2+D9BCTSMLUHajX0vYCcN4Hp89D2VfB6YP2zoD4BvrekHaFd8o5Q3Rb4wzlw74NII9ROgHcvpFdDf6audbDmGnB+H4bOQEveXKNSSzsgAVQVFM8DkwrqvhVi/wHmR6DlQWS/k8fwBxDfSOmctgLuuhvCR2H4HPJ6CAz/CFDBXWsLfGeZJLdkz6C+NqsfSXD3Xih3zUpp0e3pb8Pg5ln2t8C8Hf05M9v2OPK1DbTKfWl2QNW90iJpmjJsZrF1U4D0m3D+c9Ku3ZaM/90ITV+D4GuSr0yxHHq+hRxrQJuWdq0fP4Ocq0NkIs+X14G+BzqPlC9bSV2oIPASpCuhew9yfgPGWnA/RE78DO2GZCV4vLL8QFen1M++w1C7sXz5lLBAO18ThP6hk84d8qdHuuNvcu6RXtD03jBDZ0F9VzW6VIrUuPy5eRU1QHxkLOcuQJW+yGMOVVVTExoAK81YaoBTUWITBcq/OUw4DfqaNajGp9tVfbqaKtKcjMk7ZpZpMW+1oieGb4ePGEYc/6c5ty1FqKj9azNq4gz8s5xinxsicArUjU1FgnKK8+el7850Tkt0X9b4urwM/bsO4yPP0feYIW/xooQu5oBKBYyn+YOSwv91DUYVjO3rwj0YJnYuRVpThXFdHXXVheRIE/tpFDDS1JD9dzXGv5Z2nx0/lX3/rIqa6qzldq2OVQDnz0u2pFT3OcSJvpGCShOmmiwLXKbF9CUjMMwbI6WeASuTO2umJgCAFbdUASnSvwNIMDwUB3U91Tdn+U1Kx6oa4OwIYzMm5Qb0KzP/16D9c4Aq1nxmum+aFbqs9hT2v2zdFif9ZpQoYPySKcffdPc/R/+3+mhZXa5d5M0fN2ilQHSHfnoRUSP/LmMrGQqVuXXN9KMey+QxlH2gmOzqGhOmSki9Hs254zuzrmegTLnKnW8VtVuIc1GOj4P6XtNUsANQ13bQ/61+nPdoYPkq1iwHwl4694WIvpMgXaHDsM6IqfbChdfilOubuXZeEEVzhI71f6OHdISfnJLrHxkiOA6GB+olXaiMtDht2B40oh5PkRpPT+vkvSQfKu7jhahqWnBusdGyVi3JN8GUTSc+nG3NM8+dxeyam6qkcgsl/4z+UUT/qLmlajapphbTkx3YtpjQTUh6T09m5sgEH45T1L5R30LVn2f9PFd/K9e/i8l1k4mmGuDkG4xMyItZGLE05o6PdmWuFqNvhEmjp+a/qaZlH1exqroK0icZLbSTdR5jgOHhbrp3ZT4dtNRoGettY+sh+WbPrGI5zCanyJ0zZhd/M7s1jV8x586fJf1HRW2DCRVxQidkuRLHCc2YP2ZJX2OQFl4B0KKrAjjP+QmU23JZrKcmezHkJh1VQGpCUYaIfm09KhIMjyRgcpRoBLRNZmpJEY0lgBgnf5KGtbVUVzJrP7tFb0TFGP5uN8FwjHgqjeY2I8a6Ogw5pjpTf8rPQ8rirKyfpiZqZ6uf2cyfSnPb+copLqBEHr+AsbUwM9v0rObKLMrNTefantxqiVyoiG0v09Hc00///11o4RWmYyjoJiA1DulJ5BiKFEOzpcgL07Vflh6xPz4yu3LFGB4C1FB9syRTahxSKeQ5G8bG4RY9qAB/NwTDEE9JRxMY68ibE6ZZdYf0r3cHhEYgMQG6ajDeB1XZiWwVeesUyOsUEJuA6BvSwlzNf8uSbxxWVQNpGD0rLYRJORh510XQ/63Ci4VKUVS3ClqcYHsQ1LJ8LJN1+x6K/a72ryXdDfyz/ItzyOshlIxnSuVW1yBfb+XusC2rvwUwPcnMtr0c+doGOvdB9B35+Ip1YKqV7EuxzZQj6zzpJh9VDTi3QMta2SYngBuQc/W8wneSF2tk+eVr2egbQCWYanK/dksZD3dnU1IX55DzG/LyG/JydeQ4BrpUlv/djBzHythhXyYLtPO1xFsWEwnpcaJDnTQVerObHGjKPylMzXWfhKmLpfxm/+1dAGK722jaXeDr2UniTWZa6rx0HgF13ZeoVXBsVUFul3dKHZN2qahfCxJHh/Vviu0E0HD9CuD0eX47ARSZkHLPJZqJhXqLZ5rUfwA3aSj8AHIemjq2v/AHBvYHCPa6CIF0xtjGnbg2FToHMcmH7wNouS7/jt11UkIS+/BDlN7TKUv3U3xI8j1gtfaCXdRqjTSgiV8nKWdXz9x4n8Q7AEE678/fGwRTF1Yld7opRWH/y9ZtcZK/li6wtZpi3j+/djGfFJddvjg4LV0cLLpkCzbf5vFhkgSgv3GGyXKZHqunG/U3BwgccDPcD6BCV2e74AzLEo3Nu28qnSO0d5kw9LoJH45gr61l5FiINAbqss6BS77mxtETIp65CahSlbGwPAOTSSIvOnAdjk89XqOqWNgXCpX2yTKYN/mL63+2pM4EeGa7n+HxKclQZcdfJfYNi+dvJeXKzoeSUGzezCFB4l2AGL6vNuErUKLgzaF5jAG61UaMWbmNcd16Vrk20rV7D+G7utDPKpbD3GPH7OLvnPynuh5zZZDAd0LENlpR/yRIDDXN62f9zJKEUlteTKprMamCBE/GSFW/z3Bazfr1Law6GyB8KkZq7fscHwf9OoPk87P0M8092/FMDuA/EMTrCgGgqtTTvMNFa7VSHSm1pRUK68tjwfUzx/i52HNcFgsWW8tmlnPlRd/eDLZdAimGwnDW9bdK6aLadch+M0/lZBLyY8ad9xf++/kJ0NwDnknwHwCvS/q9qlLaIdta5Mgm/SPQfQ0MfBfcDvk7OrA9TcmXZEtxWV4oksIZvq9SVKfJX0v/1y7AdKC07uRr4Oghy+8o3+9uh5aV4DsGsc2gfk1aILX+TbkVzSy3dL1Fweut2Y5l6gwz2/YysHpA/U0IHEC+tgFdHXRtk3a6lmszi6qbfCYh8iK4DpOVq8+uKinWFDhWYpaU1MWHyPGzREUJ5DhGkTjGgsWxpXnh1idUqAHtY/3suX8+F65S/PqXAFqurwTyFmDVV0uPophcx6a2Phet6ZQX9xHpwjB1xI3vC30Fz3stjbRTytcbZDBSzfXfS8DaDuqLTs4qdDotECEag1pFC6xLQCLK8HtA3S2KlzfUt5mw7jJhnUyT+rdRQq88g69/K09r814oAUwvQif49Ti5FzS/ThAHtNcrWvaV2i5D99Ncj+Ym4N8S5KehqaR8QXXdYl68/In0GMkNVvp9zYuw5Ku8/+Xptjia68r1pa8AACAASURBVLRAjESy2JQ3v3YxnxSXPUni31B+o2K+WbD5No/rNWiB+K9KLHouN9LiNNICpBNjRL7bQ8+gG/t1t0gvq1LW2Lz7puI5QlOPuc5NNBzi+HsqokfTqO4xU59p7oyf9l0h0nVO+h11aJelSZ4J0NXhL+sR/UKM7W+n63Caum39OOq0qCaTxA504dg315qLU9onlTN/8hfX/6wYD9PzNR/Dt7bg+WYreg2kz4Xp+bqLcCahVWrfi+VvGYrKlZ0PaaR1oELzZg5qrrkGwET3qx0Yy1g0na8YUEimKn0VhCOMjkHNrGI5zD12zC7+zsl/lukxfVlLYF+I42/Vo/5BXDreRMHjtjOi1JYXk2VrMNRCMPwGQX2ChKqemtvUrKjRQ6/8O7SYMjupZ+1naqrus9J9nxXSKeJvhujr8THgeBrtgecwKTLVBc5DFlw/c4yfiz3HZVjA2Fo+s58rL+72ZrDtmZiKodLLgaQYCj1fZzqGzsSvkf1mnsrJSHM29Ptm9qSq+6D7PiAN8TehrwcGHKA9QOE5YRkYH5Q+TMDYCejpAffX4JYDzHgUnxSX4fpKSEvhjO5XKarTtLz9LpEs/Pe5oLlOQd1noH0XpOug3yHtwkyega4Oyva79X8Dvl4YjMD13wPWMsN6yOzklq63KHi9pai/+YxDz9cobdvLpV2o0rUNRL4LPYNgvw4GH6Nsm1ls3WQzth+6DkPdNnDUgWoSYgfAsa/8uqRYwzzl6gp0cT1y/CxR1yeQ4xjsKXJzZqFYvBduZXPbekyVMBYayj3MOhUj2OvFF1b4uM7YWO7hyGeD9J8E1hrQF1ihV6+txQAMHYvkbiV+L4K/10tgRP5tKoq/J0hyeTM9/d2YlycJunwMz3L/sfYuEwbShD3PEBov/aIE3d1mdKQJvRpZsC3PcyV+LEgMFXV31Si6w5IaCeDt9RI8nZbOWrrZQHO79PhK9GfvFviGCv1nDcAwg8eyz5ZMMfwD6eU269cq30OoWPc56DDcqYbxEKGTWX+fTBD6vvQIp3T22GKhZ32DGt4JMZTzeFGK2KAX795wwccsZo+y/pev2+Ko7jBgAIa/H8rx7fjBrVgeamPg9PzaxXxSTPbUyRChcVB/zrAE+3GZv/m2FDcbWF8JqVdDOXNlKuLG8pAF19EknA3j7fXij0i6U2mrqNtixQSkYm/nnyI7A/Pvm8rnCBU1d9WhIkpgRx9hVNR+LutlQLEoSWB9Qx1aFbBMhWZ1PfW3ztS6vLDzTpz3s3QUO3k8q0yC0VNJYD31dVrpWBqVBn1D/YVnRc0jxeya98Z4u6ya5lP+IvonxbtjufacWVR/+1yWdX0Q5WT2wftjo0TSUPV5E3o5OKtursN0Z1aZIvZN6l3G/i3r58Xyt1JyvRdi8CRQcyfVFcXmTUiczdaimuq7DMAQQ3lvG0i85sfbGyj4IgtFMWAiRWpWp/SkGJOP/NDeONtYDnPPKWYXf+fqP1I+mCL0Dy4C74Hui8a5xxGltryoqKj+KyMQYeDbMahew6ploK02os38rnI9hszRSbPysxTRA168vUHpaDKVGt3aZtq/ogeijP2rclmV2VJmwext4lnFkiMnmfG1gAuunznGz8We42RmF1sXitnNlRd/e0VsezJOwGHB8tWBwos6UzGUrBhKbgzNLp5nIpHvSbvM1lfPrlwx1jcA75A3Z0NsUDpPMw5ED4C3F3lOAN1aaP+K3H6ROSHcC95X5DcfVEBVHVjvBcbh7Q+yO5D3EqezyOsUoK+A6rukXw/lvX0x8ZokUzQFqjuQYwh510VgeQgGlLzUsAhK6k7EkP0O2e9As5pZ+Z32Lqm9sAd5PWR2OyKLyZ06iXy9VfgZllmN5RilbfuspC+/rEeVFuq2IF/bSHai2GbKkHU+dZPN6Cnp3/o65Fwd9A0FzqVVgOFOYBxCJ3N//25eEFRfLf37dvYLvT4gL1dXoIubkeMnefGTvFwdOY7lvVgvBcFe8IXL6GSZLM3i6zI9LU/VoTrrx7ErwPA7CeKnQ3g7HHgPv432MwpTy9M+2h7qIhAeJrSvE8vjfuIqPTZ7gZdtAWhM2DZXQdiFozdE7FyCsRMBuhxdDLwOVVVqIEXE00nwAz3WHiv6SgPWbWY04yGe9sywGLpcxyoV8KoffzhM8JWsRFxTj/keFYynSCl4UQI3m2irU5EOe/CfWsTl1/8YI3pimOELPmPk3Hh5L0jPt+OwsgXLOmULHGqtircPB/H+vYvAqTipxBihbw1IC7hr1xT8juaeDmy3q4jtbqN9d4jhE2ECu9p5+kgKTePO8s65UaT7C9Fv2ol5eYpQVztdB8IMnwjhs7XhO61Cv8WW9UIfhcxkJwrQb3JQVxHHv72LwIkxEudihHodOHpDvH2jft4X95T0X5FulfZb1pPqtI82m4/QiWFC+7bi2B0leZ2Z+tvm2S7mE42Jji36HNnDB7po7wqRWm5m59/O8VHR2aJ0vp2jbU61Mx7i6XZpXg4PunG4QiTSRkzrNPDJ6+D1IAOuLrzhMRLjcaKv+AkBuvWGsu6KzrtvljFHqNY1Ya6EeDwOlWaasuZB7Z316FUw5Oma8ofw7q4Sb/3Ws/5eDaSDdNp8hE6ECeyy4DiYPfNqMX5Rj4ohvK4A0XMpEu+E8f39hS/tWXGLHogx8K0gw0cGZliQUjYu03btJijrtf3R8l62VY78SsjWf+e+EMMnQvgdbRe8bEu9th6jCmJ7HZKdHPHR3uaefmElgL4W83LpzFJfxi4PdOF+NavMMj0tTjkXaO/Ef2SY4SN+tj6a9wKc+cpvlJIjl+R3w0d8tLf7iKn02J6QXiKouceG9VZp3rQ4/VM21rY7d/SlchB+1oH3SIx4YozhA13Ydw1wfLKKVQVCZckYcC5AW2MTTU0uIiV2QcVPZ+Ue4SA+Rxtd4TSqGou0Q2aWsVzq29xix6zib3ZMe0iym/CBLixK/efmeprXQioeJ4WB5oZ5sB+ltjxvpIn2bqShYQP2Q8VvsanvqEFPmnQa9DV6aZ/wSj1GlfQ71V0107uDZuVnalZUvE1o0EvXs5k5KETfd2KgqsNQRohWZktqqr9gREUMn0O+VtndjqVn+IK3v+eQFUs7H2zHPSjPWw/On34Ux8+bdOiB2Hf6CJ4IMXAgSmouc1yh+hTKrDi2ltHGXGLlbObKuaC0vbnG/+xYIdl2CP82B76RJJq/qS+8q3MqhkqLFolxaVEzJ4ZmEXJC+24YDoP7cegKg6YRWm6fXbli6DdBXQX4t0PgBCTOQagXHL3w9o3SAt2KCggNQtezED0nHVXQ9x1ARdE54Tog+I/Q1QtjCYifAv+rwMq8c2JPQ9tDEAhDaB9YHoe4Cmx2adFRcw+yTsF7BOIJGD4A9l1wfBJJpxqwbQbVaWizQeiEVJdjNySvg/rblI1FQRTUrb0T2e+kM1pTCQjvpkROW7w98z3AOKRU0nmopcicITrwLRg+AoERqZ6OLblyhw9AexeklsPOv519fy9AT2nb/iTwOgy4wJsp8wrytY20E1OxzZQh67zqJgvjF6WjC7yuaZ/w/f3sdtPqN0njF+qSzsMdPgF+x4Uv21KvRc7VoeuApOv2NvJydQW6WCbtQNaMw9Pt4D8i1bX1UfJydWh5ClRnwbELht+B+GnwdoD3MGg/M4vOKmRpjh0A1LVODrxswLd3gGdsPlKo0err6XjBiukmhZXUtmC7Nob/+U6Sk2q0+ma6HVaMM1zB6zbuoe9mP979fhyDbtIVGqqqW+i2t2JQQ2LQiSsM+i1OmmU5VNU2eh6O0rbPhVPfh6epQMXLDLR+o4W3dwYYcLlQVTbT80id/EcVtfeaUB8NgoIXJYCaWns35je3EtzWxodburA36rNenrBAvBfCvSNU4A9mnjtmQzOZJnHSR9euIGPosT3dovyMRq0ZT58W/0t+Al1t+CZUqFcaaHF10FpTZAF3mRazuw/tXjfuw246D4KqUkftlj3YG4u8hG0GSum+IGoDtj170L3kwr/PRSQNKo2B5l0dWNfNYgP9jHaiAHUtzv49GF7xMdBjxzcOau0a6h0erPctwONfSvqvRLdl9Fu3sQfPtT483wzi3hGQdqfU2XDZMy+9m1+7mE+0TR76PunD/XyW7LU29jxhZoY1gQVH0Xw7V9uU2+l3rcC9J4DPFQFUaKqb6d5mlX1MsqeqV3wMvGQnOJ5GpTFQ79iD9b4yFxXm2zcpY45YJu2CCxxMof2yKeewebRmXC+o8O0dYGBHGz7UaPXVGG4ak45qKYL+kT10Tz6D+3AA9w4Vmup6HJv/gGvv9O1XbaMLz8d9+PoH6Gz1QaWWNdUGtGeGc3YNaxudOGNOeo566Tyqwugw0TyrEZHra/Kw51o33j1DeF0hyd82t6DtHSBS+utly68ItQHbnufQ9Hil84PTKjTVZqxNUXyDWbfUNXVsf+E8nm/4iex1cbJSh+FvbRh/7GUgc0e9woDN043a4yf0fDuBCRWa22rR3wqJrCRWvdZGX4+GZ3oDBHqGSVdoMGywYh7xEcy6Oz8v+U05Q7HWRt/LOjzf8ON3RUhn/C47H1qmo9ntQb3Xx8DrAdwnQVNdj81yHnd/lhaX6Wh+uQ/dfi/+PgfBZBqVpgqDpZuOTYbC82upGJC8Hl0FJCpXoClxvza6r5Po1E8q1FodRksHHZuMUzfVZxXLYe45xSzjbyam+fqPE+gZBo2BensL53uU+I8G4xcMcCoKdVnHm8wRpbY8byxToSJN/P0ZHj7UGli/EmJntRinXtSWOY5AhanWkNuHWfiZttFD3w1+vPsDdLb6SKvU6NZKtmMs50w7hbakuWc7nt96cO2P4HOdlPziSSPHXxyYcffrVCzdF2Ko18VQpQ7D/VbWnJgn/SiNn1ozzm2jOD1hvDvCqGo6MG0EzWznuCL1KUJpbC2jjTnFytnMlXNBYXtzjv9TscKD79C0bddtcWFvKuK7UzH0c4Seh8CE9NKq/BiawfwYJELw9EFAI+0StDdeeDCL0nJFUYOzHwyvwEAP8pwN9Q6w3icV0TZC3w3g3Q+drZCWd7922yk6Jxgegz1V4OsH+6D8cqUG2LM5b8dlLdiuBf/zkJwErR66HWTFZWh+GXT7wd8HwSSoNGCwQMem6X7qNoLnWulRa/cOpB26deCyM4uXgedSsm4tuF4A314Y2CGdTavVg+EmZsxpi1F7L6iPAgpftKVtBGcMeo5C51EwOqAZ0DZB3yfB/XyW3LWw5wlmvN4qeywrwOYBtYfitl0Btj1Q9QoMvATBcUmP2Xam2GbKkXWedZNB2wiej0uydrYClbCmGrRnmEWuLo2Npkc+DzcNmmqwNoFvMKucBra/AJ5vQGQvnKwEw9+C8cdk5eoKdIG0kNvXA8/0QqBHHusNYB4hL1eHAy9L4/eMTdpVr9VDxwssSK6e4b989NFH/3vhql8gEkHsFi+xxuc49qShdPmLgPiBNtr2gtXfR7PS803Go/i3dzJwJg2rbfR7zUt6Olf0xQa2HgKVthbbM10lDxUXCAQCwSVOIko4lua6VWsw3JyV0Z4L0NbqI9H4HIcXPQ6nGYsM8eGyVayqqcq6MZkm8mwTXUer5v9Fk+kxIuEP+finV2G8LWsFbCKC6/4uwrcufYwWCBSxFLZ8doC2x2NY+rupu4je8yUQCOaTmfd0RV+ErYfA1s+M8VlpuYuWBNgtEGuEY08utTAXF/EDyOshKF8PEVyyjEXgw2WwqoacTYSRZ6Hr6AL4eBoiYfj4p8GYvZN5Alz3Q/hW6PfO9fzZj+b07SXb+XpFMRkj9J04rLaxvpyJptJA68uHMZ0OMfSmdkl39AFcr2/BVlNPfY2urLcXCwQCgeASZfkKzn+/DdcZHWa7HfM6HYyF6HtePubnK0txA1SFtmIM5zY31Frp2LSeNVenOPm9HnqOptE0tWKa7ws2lZarf+Zkaw/Ubu7Actca1L89SdDdQzitwfyISSy8Ci4NFt2WEwTdftSP9IuFV4FAILhSmYTQd4DVlLceIrhk0VaAcxtQK+3mXnM1nPyetJNZ08QC5Opw9c+Q8xuw3AXq30LQDeE0mB9Z+teMip2vi0A64qKpK8wax1zf+isQCAQCwSIzmWB4vxf/4ShjyTSqSi06fT2tT7TOeMzPQpM6E8K3d4DjsQSptArNTWswPmjFek/VwtwgnEwxdlR6fHw0kSJdoUH7GSMtm62Yblvq26MCQRkspi1Ppkml0qjUaunlHQKB4DJF7HwFLuOdr3Pb8Td/6yFi7+ClROqM9Gj/8Rik0qC5CYwPgvUeFihXh7Gj0rEJownp2AHtZ6BlM5jmckbyFHPzg0tz8VUgEAgEAoFAIBAIBALBRcCVsig2t8UXweXGlWL3Aglx7IBAIBAIBAKBQCAQCASCJSF7UeJSW2IQC6qC2aLEdi41fxAsFMISBAKBQCAQCAQCgUAgEMwDmQWpi3GpQSy0Chabj7g4fUGw2AgrEAgEAoFAIBAIBAKBQDCPLOZuWLGoKriYKWSfYinuSkNoXCAQCAQCgUAgEAgEAsECIRZHBYJcxJEFM3P5zRlXsjYFAoFAIBAIBAKBQCAQCASCi4zLbwHySuZjSy2AQCAQCAQCgUAgEAgEAoFAIBBcjoidrwKBQCAQCARLwmKnYWIHhUAgEAgEAoFAsNiIna8CgUAgEAgEAoFAIBAIBAKBQLAALMCWiytlM63YPSIQCAQCgeBSIjtHE3mMQCAQCAQCgUCwGFwpK6UCgUAgEAgEginyU0CxGHtlIFL/0ghfEAgEAoFAML+IDEwgEAgEAoHgimcuKaFYrLo4EGn9/DDbcRR+IBAIBAKBoDAiSxMIBAKBQCAQzIFy08lLeZFKpM6CYsyHbVzKviEQCAQCgaAYIoMUCAQCgUAgECwiIv0UCAozk2+IhdmFRcxLyhB2KBAIBLPhY0stwHzhbYAGGyTK+E7QBg0NEJ0PASZTjB1xs3XjVoLlCHExkgzT1djAhq4wyaWWZUFJELQ10NDgnbKB6IsNNDTY50eHp7w0NDRgH7zUDeJyIUm4awMNjV2EL2/Dvki40L8uQPjIxc+sdKRA99mlB7ey0eEmdCY1WynnmSjehgYabMHiOcVpP5YNG7Dsiy2mYBc1+TlV9EXp57Lj6Snpe/bB8mVIvQVbN0rfb7BBIgldjbChi0XNZxTlpJMQdkHTBkle76nFkm7xmNc8ezb1J8DeAA0vLpAAi85VRT6XMgrm20LfKitfLzxuQdtVNDRcRVT+ObYPNmwA/2n5a3OYi0rLL89T2Z9GaN8Bw3l98uaXy/vkz7n5nyYL+E5M15fxm5IfJX6TGMa/o42m3oXycsFSM3Hmp3xvyw/xb/oh/qff5MNyvvzWSfybfsh3f3gZXXjNqk9J3nj6h/g3neSMgtIXX14smC8u9Yh9cZCK4etwEHgnjUpjwlyx1AIpJ51KkZ5Uoa5ULbUogrkykSKVBpVajWrZUgsjEAgEylBfp4WfhXA/PkRwYw89m/Wol1qoS5B0CtKToK5cakmWiAnwfB2iFdDqBM0kF7UdxQ+CKwy6Rth+B/zn9UstkeDSReyWzeXSubw1/Q+ovU76f2IEAoegsw2c/VCnySp4E3S0g6ZAHbfMUCfj8P1+COyA0SfB0wjGR0A7MV0+eQLch8HwMDxwa1ZFN84se+JoF/ZnIyRVanSbrlHUX8Elxu/HCP9f/85v/rSC2x5fQcUfr6LgisHkH5j4XZqPPl7BNX966fjfxYrIiy9fhHfMlYko3ke3EvxAQ62jh677dEstURkkCG234D1t5rljNgyZX2vq6DpUt5SCCWZBdG8TWw/psfV7MGuXWpqLEQ11XYcRli0QXFyo7+7gQG0zoV0O3AfstKWfo3+LoXCCf7GwupX+w61LLUUOoe3gPQ3PHWM6nl9JxCCchqpHoCVrou86tHQizUT0uPSvdQsYxQ1TwYJR6lLvUl6cfVn+zA/6h+Hww/NWnSKqPgvGTM6+Duo/A00uGPwJ1DVlFbwWDOtASXqfUydgrAXXRgjvg1gj6Ktz60n8UvpXtxqMa5XJnThkp+3FGNzazHPfsGK4Um/6Xe6MJfnVf0LFxtV8bt0Nxcv9+gw/eOp9ztdX0frwpxdPvsuUSzIvFijisjl2YKmIH/QS/ECFfovnElt4FQgEAoHgImGZDtMOD7bbVSQHvQTOLrVAgkuVS+3Jj0tNXsHlRrGjDC6GIw1mkuvHSyjXwqHWgx6IvTuflUJ9HTAOb8/HKU+pCH27Y6SXm+l2i4XXK4GrPiaWjBYdkRdflsxzVE0QtEk7L1q2wPH9EB8HTTVs3wHXnABfH0SToF4J1p1gunn626kz4PkGRM5CGul7HY7cu3cAiRPgfglGE4AG6tvgfAFpkifBvQ9Gz0K6AtZ8DqyboarYvu1xCL4EAycgOSHJaN4MrTVFyk9E6P92HG5qwd6YJ+T4GMGXehg4MUZyQoV6pQHz5g5aazR5ZVz4I3HpcXGNAfNTHVjXZepKELRZ8J6upWWLiuP7I/J4NrN9RzPXnPDh6xuSx7MW605n3niG8O0dYPhnCZJoqKo20Wpvxbgc6Ry/bUG5ZJCtDUFA3jVJELvFS6zxOY49aVhYOUA6L/eQh55vRxhLplFV6jA0WunYZEQzw0VJ8qQf954Aw/E0oEJTbaZjmzWr3iTDe5/BfThKcgKp3gdsbN9oQF3OxU5qjNBeHwNvjJJIguY2A6aH83Q5mWB4rxvvsVES46Cprqf19kJWmUdJGaN4G7YSXG2j32uevlMt60+/pR/PncOSvgCI4bU04AXMzx7DJt/BTpzw4X4+SDSZBpUaXW0rzifMVGUSpoSs89pmWlJDBEaSpDP6n0wyvN+N/9go8UQalXYN6y1WrPdVZT0CkWLsiA/PN4eIjaehQkfdI+tJ9w4QmZJ92o6aLb9l6GCU5MT0ruuSdqLApxInfLhfCjGaSJGu0GD4QivWzSbZ5zPtS23+ye4m7Aeh+YVBrLdn6eS0jyZbAO73MPiYHpBtbd8Qo2cTpCu0rPlcS1a9RSjp39KZZVsPVWHaqGP01Qjx8aoZdi7njXFGj3bztBzzYU9NWgVjqaStWfLBML5n3QRHkqSR9Ny8ZTst1XLDGVu9x0b3tRG5/QL+L9fl9/gInIhLdd1upqUqim9wbMo/EoN2LL2xHH/JtxVDZvwHPbj2R4iPp6FCg+EL7dierEOX1d+ceUmlRt/YwqoRH8F3cp8wKGnv+Uz5aAs21XHJrpZpMNy/nZ1fvobjr/jw/yhKclKNrtZK1zZTjlypM0E83/ATOZsinZkvHdbc+Kp0HlM0J+ShJCYu02J+vJnA4wMMBKO0PFls/2ZpXWR8q2Wbife/I/WbSh21m5zYm3LlzLZ1NAbq2/QFc4oc8n1mFnFMkhFatsH735FyHyqhdhPYm8iTEdzPS/kTKtDVgvMJpDn8FDRsmy67tUH619bPBXNJYhAsvWB+lun4cBAsu6FuBzjvlkf4KDQ9m1uu7JxKCZMwvBe8x5BtDlpvL1x0pvYzuSdArBcaekG/BTx3gt0i7fY69qT090xZ2y6IyGOq0oDZAdbsfG8ShveD/xjEE6DSwnoLWO8roBsFOekURfSV2bE8o65BOsfUArFaaElBYATSWf0r1FZVExjOQnAEycYeBcdaGPBA8BSkloHhfti5ien5+wPwPSt9J42UEzdvgZbqwn1PV4DhCyVsYhLCu8AVAf1j4Llf+rUS20qdAc8LEDkj9cHQCNr0TANdXIbhvdJj1lLsAsMDsH3jdN8V20gKQnvBdwwpzuvAehd4+2X7a5rWwdTPMtEXYeuhXD8tdB3U/iTUZeXUfAB+DwROyHq5HVqqwDeY668Z2QbeQM5dwfTwDNc0Wf3OvYa7StE1XOYayh+Rx0ID5qfAui63jeL+kruYuuDXcAUopJN8Um+B4+swVgnde8BYyazGuii/hjigvYiPIYkf7iOchtpHWzHk6aNk7oiynLrsHImP+DA6wk/+n9/wm3//I/zpx/izdSv4q/++hk99AuDnHNk0xvtVK/jSzjuYGt63TuJ/9jdcs+kveeCLGvj3N/nuU+9z/i9vYPXHf8OZf/mIyWUf48/uq6Lhix/n7cDPeevEBJOTH6PiL1dwt3UNK+R548y+H/L60J/wqZarSf1zkt+Mw7JPXcPtts/y6Q9G+ck/JfnwF3+Eygo+/fhnuVt/9ZT0E//6JuG9v+RXv/gjAMv0f8ZfPPRZ/uLPr8qRs+IuDdf8/Df86hd/5JpNn+WzH4zw2hG4ZUcddbdlLZD+4n8xsP2XTN63mv+jJdtRszj/Hm/s/5nUx/8EKiv41CNrqDNoWEaSN57+F06PyUX3/wv+/UyPUxZSv+UfhsbwD41B3jh/9Jtf8sbLI1JbfIyKv/wktQ/fIesmMwajvPZPv+RXP5fLrNbwFw9Xs1pTZOF3DrqCP3L+X0f5Sc6Ya/irR6tZfUPW8thkktP/NMpPX58gfV7Sy+23/eeFskz+htODo/yvyAQT//5Hlt1QwY1f/jR333UTRU+jPP8eb+wf40z0D0z+HpZ96mpu+e9ruPsv/my6jOK8WHCpsGC3MQZeAeOj0NEEqRHotIDdA1c/AM7NoDoL7q9DbFIqnzoFbY9D5PfSWV3dDtD8TDr3JvjedL2JQWjbAaNAswMcD0DUA5G89hODYHHCuytgpw88T8D5Y2DvgPhkYZkDHeCNgKkLBv3Q8ikYcILrtSKdPDvKyTRo76mnKufiKk6gox1vRIWpq49Bfzctn3qbAacF12vywcmpKN72dryRNNUPO+ne1YH5hlECO9oKvNgkwsArcYyP7qSjSUdqZIBOy0bsnihXP+DAubkG1dkw7q/7ssbTS9vjboZ+t572F/rp62pGOzZAZ5uLSAqotjJ4cA+ttwLU4Tw4yOBBF6aiQW2BNUTjQwAAIABJREFU5ADiB+2090ZQ3dtN38E+ur+i4+3+TizPRih2zHQq4sLiHCCarsHq7Ma5pR5NLECn3Us0BZAmurudzoOjaO7toHuXk9Y7Ugy/shX7wfhMncxrKIr30XbcPzrP+nYP/f5umm+UdZnpwGSCYEcbnQdH4TPNdOxy0FwZxdufb5X5zJOMy024Dg7ivAegitaXBxk8OIhVvkBKDNpp2xFg9AYzHbu6cT5cTTripb09M1ZZRAIEfmfE6uygVX+93DcLnQfeRfulnezp92C/8zxDPXYcB6ZljO1rx94TYuyT9dic3TgfWUP8lYEL/FJuhMDB8xgfcdLxyBquR4mdlPapdMRF244A795hxdPfz56n1nP+mJv2rw0U9Hn9502oSREcyn1JQOzHIVKoMX1ePzV+FmeAd1eY2enrx/OEkfPH3Ng7AkXnkvL8e4zQYIwVjTacW+rRFYnS8QMOeYwlPXZsXEUq7MX+d0ESkzBv9oSSsZy/tnKYiOK1dxKIaTA5uul2tlL922H8DjuBc3llj3p5+vWraX6qm477daRGAnTap+cekmG62joZOJXGYOmge5cN8yeO4x/8/9m74/CoqnvR+99r6mh0YnAEGQoMFAc8DHjNiM3Ia4LHCR4ZvTQ5r4bWJj5KPJrYkmibcLxOyjWUZrzWpNpM1Aw+JvQlaU9JeZuUK0MPMh4lPCGpMHCFyVuIHBykDCJT04ymjMb7/rEnyUwySXZCAqi/z/PwhEz27L32Wmuvtfbaa6/VOa6gBbbZKar2ELppNfYN5RTfrePwdgcFFS303f8HPWWRcslMTkk55UWZJO2po/m92H2pKReH1dKA6wML+euKyfxmCG99Katyi3Duv5rsH9nJT9Xg91RS8trAQlDK8Zy0/D2F1fZyyksy0f25kdK8ooH6VW05prJMiKWiTuyzIAPbTAi/3c5wS1mpSQtFJw3PufAvyecZez6piQE81UU8u3NgkYT+8pFFZJeUU3L/1Xirhiu7hjeeeqxPw3PgXwLP2CE1ETzV8OzOqPPta/dMheINYH8Ywi1QUIBShqdA01Yi9TnYtyq/x6vP9ZHXTXdFLe7ki/y/5cDAZwf+pPw0mwbCMNY21ah6obkYSrcCNyrnlp2sdFwNNtrxbc9Ck13Z1viIcv6Oe0Y+vHOD0iYtLwFDDzTawdW30E5f2LaA/jtQUw9Ft8GuCijZEhsuNW3SGMOklxkVaR2tBRo/hXw7rDaNfK6dTbA7GUrskKoBTwVk5UHjWchfB5nfBG89POuJfKEHnEXQ6ANbCZTbIeUTqCuhvywOtyhhff8mqKqHmh8paVLw5DB5ohea7ZGO1zUDHa9q8lbfPYLnBGSsgWcehbNbGVK2quF9RclzuruhfAOsvgnaXoOirUO3HS2P1BUonbj65WDfAPmLwRUn/6oSAPuT4Pkk6j7IB458aOmbnzMIZXnQsA/MuUr4M6+CusELQoXA+ShUvgnpBVBfB9nXR+5pVBRuY72HIwTOAuUeKuXhSLimKvOMRi9WdUndw41DaB8URDpen391oOP1fOI6RhAaXBACspdPXLgJQUsrkAzzJ2Bass4DfsDK8qWxPa9q2uFq2tTjaSOF3/kTf/hFkE9vnMldL9zKXXnXcK7lJDs3HOTUeOqodz6iI3ANiwtnM2v6F3zcdITf/fgwB9+9jBvy5rLgZuhpPYlnSOP0HB9s+RsJtrnc8r2rSfigm4PPvMXvKz4ivHgmtz06hcRPezhWsZ/9XZGvfHSY1zec4sNPE1nwg3nc9ugUNEc/Zv9P/sShv8fuveftIB9fp+PmH8xgzqwrmHfnNBL5gvc9x6LaP19w7K0zhPkGN9w5TMfrp8fY8ZPDdLwDU+6by20/ns0sXQ8f/OIdfv/vHwFTuGXtUu7/gTKXb+KqRdz/8lLuvXPKkF3d8L2l3P/T6Uon4+1zuf/lpdy/dgHRzw96tp2IxOdcFpgvo6f1FDtf7uDjvr8fauf//R8nOdVzDTf/5FbufWIaV73/EXufauPQpxOfVj2H3uEP/+MUH/69L851XHUsyN5/3cPe00pnLL0fsdfxDnt39MC8qdz847ncoA1xsOmT2OP3fsReRzt7Xz/HVcuN3PvCTdx8y2ecevUwza+fGibQp9njUOJ/1hM3c/9zC7hB38OxinZeb++J3VRFu1h8eUza+ySrnZAzN/LLCajcFzuqQn9WaejsPgKmBdDggGDfU8RIWW65CYoeAudLkOEAbRc4qyE8F2pd9I9wsd6ubNefIXugdiOEl0DVusjk5LPBEYZVFVDfCva0QQEOwO7jwApYHXlqnF0Cxrsh0Ks8XR48z0boAz8hIH3BoOkGAt7IvnJYvcQAGMguqcB49ykCvQHCGOncvJ7mM1psjhqKU5UTtqSa0T2Zi6vaiefOcqz9r3EYWO2sicTnfDixKhKfNdjv0AJW9GezKNrqZveRfEwL/bhfaSaYnE2VMx9TAkA2ZaVBsp5spHZ7LmmrDGiTtWg1AElcm6xVMZHzZIRDg3e3H7CR87AZQwIYVpVQscDGqcBnBMJgHBzxvT4aXvAQTrZRXlMcyS8WUqdCwattuFtzMN9xFN/f0sl8JJWcByzoAEuqnuCqIhpf341/VQ5qJonwb3fSfEZL9os1/aMjs9eVKfvZ5CY3LRudx4nzUBjDw7XU5kb2utRKuqmI3FdGKCbD3gkJIwnKgmnXXgmgQXuNdmDBlaCbymof4YX51L+YjT4BWGohdW4lufZm1v86g6bHou7a5q6mxpnTf22FWxy4DoUxl1RRtkJ50mlY4+DciVVUbqqnZaWdtB43dfWB2GNgwfptA0UPueJUFNH5CMBP42j5ZNno19ThfR7CGMnOtWHUA/pCHLNSOfrBJ5w9A4bBDc6FNnLmNuL6o5uWx8ykJQK9Pna/EYK5+dgWAj0t1G70EV5STNU6W6QsKcQR9rOqoo761kzsaUNn4PGN6frWYH2q7xoaRtCNc2PnkHRclLQW+x+a2XUkk5wbJig/wehxqZu4Y0ULv+uj+/ZMVqfmkJOqAyxYrlfyQfNbfrJzo/Y6LZuKX0Xyi9WCPnwPa7f1lT3g+20VLT2D0mBpOqaKXEp3jHX10ADeY3OwZdmwPW5THrYtjZSBO9+mvSiNNI2PxpdahpRLljQTlQ+V4u5rZKOufB5W9DV6I/hXVeLttVJWYydNC9wRSYc/7sb3mAlTr48GRzPBweG6SUfRQy6cL3nIcFhBZTkWbq0dvUwY/ABBRZ04cBUZMN4E7PAT6ALTkNcZVaRF//E1WErqKY+E02LSUJTrpO3NA4TusqLt8uCs9hGeu5paV1+5Z8F6e+MwZddwAmOvx6JYSqB8ReT/JmVUY9ubELoLtEGorIbwQqh/kci1D6lzlc6J9b+GpseURba0kWNcmzzCQlNzIT0ZGveA/zGlQ2lvO2g0EH4bfE+AqRe8LUAqpCQyvjaVCiEPOA+B4WGozY18uBTSTcpI3H4qj6+J5BVNorpFx7J/Tn+9bpkG9zwF7t2QvxDCreA6BOYSKIukjWENnDuhjMZrWQlpYZVt0sEShkkvlWndby7UOIkZ4T4cjRVq7MpxrNdD1pMQmg61fd+/EfyrBvKd5l3ovl0ZuZcTGb1niXyv+S3IzoXD+5S2cXYukXoCHLPg6AcMrXMjHa/OfWB+Ap5fGflcZdo2OCCogbLfoJRzKPNYVj5EVNmqQhh8f4PMRyDnASJ1FwRXQePrShxEl74j5ZHgTmgIxI7gZSlY5gzKvyoFDsCce8BmA1ukY34+Sjy83Q5pd4Dvt0pHrM0BxX3pshRMFVC6Y2Bf/u3QfAayXySq7Ro5z02Qm8aIdfSY7uEWgm+zcryYcKWC7klwVYPnTrByad3DjVVoHxSsg6AOnq+hf8Tn+ca1Mxecgz6zOeKMvO2A3DgdsoNHVAN07oe2QQtutXUp247ynEaVo38GbpiPcVBdP2rbMVlNmzowrjbS8UPdwBXc8M8LmTUVmHorK/THOBX4jO6/wowRpiuNa9Z0VjxzszJSct4X/H7NST7uvZpvl9/O4quA1ETOFXbw/tunef97s2MWPbu+YCn3piYCRpI+9vDWji9IvO8m7s+aAcAMdvP7V3t4/1A3t9yexIe+T9DeqWPeslu4Zc5lUdt08/7/Psfi1CsGdr50Lv/3DxZEjabUM3vWaY60n+HIw0YWXwn0nuT4ni9g1jTmfTPeyX3Bsd8f41TwMmaULGXFzcreFv7Xaez92X46Nnewf2k6tyQloUlSLtRvXJFIUlL8RdUSrkwiKekypVPpym/E3+7mmfzzjxYxJQEwTyVh/Tt0HPyIY91wS9Jp9jd8TDhJxx3P3Mq8BAAd3/nhO/w/G4IcevM0i++dPnFp1XuC1pc/JpyUxG3lS1kYGX278MZ3+V3JKTo2/5lFJQthbwcdRyDxvpv4XiTtMBuZv2M3rzec6z982HuUjiMw5dFv851lyrlf/6CW3r+0cnDrcQ5lzFDSJdpHH3LqA2DZbKyLlXO7/dFEpi3rJtQbpJeZDFTto7WLxZfJpHW+muYO/F//TWAfLLpx4DNdJA+HPwVOwO4u0K4a6HgFYCZkpYKvHQ70QOoBaAMs3x3U2JypNFD6K+53lUUXTKmg6aJ/1IlmHhiBdh8wuOKeBoumgc8DpVPh/nRYNFeZ3Hw4oU+UF2WGzNc1bX5kX05Kpwa5P93MorkGzEv7Kgs/3r0hSM7Glhp1wgl6bN+x4OpoY++BMNY7+v5gjopPXSQ+jSy6ceC7uhkGwKfE58k2dh0H7coUDKHQwKib2fNJBTwHOgmtMoxj1bzJCIeV+TfpoGMXznU6gqvSMd9oxJBiGb6xcsIbyS+2mPyiTSumvj9dLeTYLQCEu0KE0KBNjoS5I8hZRm4MKQK07fKDNpOU2SFC/Q18A/NTgZ0H6OzKRPOnNsBC7srYPernxuTKoTQTEcaRhd/14gUs37FFOkUV2lQbtmQ3jXu8+B8zDRznJlPMteXd6yGMidR/0BDq6r+SmJ9ihH3tHD4OqR/GPwYzjcSPAXNM+aAqn9w32jUFc0wWNNvaqCuvRHO/DXOqEcMCC5YFw8WOgfT/ZsJV3cLb+8KkpWngwC6au8D8aIYSJ++2RcqSRWi6QlFlSQpGvLT7OiFtcFNW7fXddysQew3FM1w6Gu57nvq+m74JyfOK0eNycvKuJjUHeyrQG1bym0aLdqoeA+A7O2ivt6VGGuWKGXOM9Jc9w6UBWuYYlTJqbPTYnigGIBwKEeoFjbavDAxwtgv4e/xyCe0cjN8E+sqP8y2fo69RnRI33hsWDbyul9CXDmHOwbDlJTNtZKW68LXv5UBPGqgsx9SUCWkLB4V51DoxluZygG66e4AhjUwVadF/V2IkNSXq9Ti9QSmTursJAZoDeyNtisxBbYrhyq7h6Mdej0VJjXqNG32kPdOttF007xK59hlUhoMtuhNVdVghdZmyorY3AIaTyqizzCxo3AKHT4Lpb7ArDOZlkU7B8bSpVOgbXZu7MvZz/dxBG07S8VOjpzeYqezLFxlw4t2rdNik/gNRdT/MTwH2Ean7VLZJVQqPNa1vUtfxCmA0RXXIT1X24Yv+vk75zBvJd/pUImVx5Pw1oO373lnlK3NMoNkGdeWguR/MqWBYQNw6t64YfIcg7SkouyvqD2rSdtbAPUJabHEeW7aqoYGcyAjpcOR42uTIfUoHQ+qukfKIb7/yM2tQh9iQ/KuSfgUUA4QjcZ4Iusjo9cBflZ/evUAy2Aa9zj7HGPt72y5ACymzB+XfVGAndHaBYYQb+DHdww0XrgSwfUcZKbz3gHKJXkr3cGMR/A/IOwShG6CiEkxR+fB849r2Y0jr6yjtgZbfgbsMNBuippAAmAnFBZHO6CiaOIW/+xfgjvpdq1dGsOevUHO2owt3Ad8c2p09atuxXUWb+luHx9VGun5+IuzqoeOldrDNYN7N13P9t4xM+dY4T/LGpIFX1JMTSQQ+nnMNM/pek0+4mqumA51fcC7mi1dw3by+RshlJE+7HDjHFOOM/i2m6K4Aeuj9RHl9/fplqawA+OwTuru/4BtXXt2/Tc/HnwADna9JxqmDXmOfziJbIkde7eZoezeLlyUR9n7A+90w5XvzmEE8pznl/QKSdCy8OWpvCVNZtDyRjs4eTnWcg+hO3/OU9F9nKB2vAOjQzQE6vyB8Dvj0Q058AAkZU5j2affAtD0zruE6gnzYEaT73unE7/pl7Gl1Ksipbki4d1Z/xysA0+cy7+ZTHDwY5P2/n4ODPUAiCzKiY/Eyrp+VCP2p/gXvebuBRGbMg+7ugUmHrjNdAYc+4cMPUAqvaNdOQac7RXfrcX6vO8eiW6cze9Z0FpjjdzKP3C4WXyYXeyZ1xVkIAKbrh/7p2kgePNsFwUjjQz+45hkk8Bflp+8VyIr39LknzmcJkF8F2leVG5C2yGtDBiuUPRW/gau7Vg/46A4NeqaaYCK/qhztqw00bqmM7EuDwVoYmYfvLMGTwEL9kEpUq4vMt/jXIOMWCNAJsK2UrHir/EZuPM9nmraJDIfpkRrKk2po+F0jlSUNAGgMVgrXx84d2+9sMJJfRs4IwbcqKalw4+9Lb41mjE++TxF4D6CZ0vua4/y9m+6eIJwC0HPtOArD8w/jKPv/q/KKu143OLXVdJQFCLwP4MP1L1m44mwR/nSkY6ikJp8kWEe5pkB319NU9TZQt6UZp0NpdmqSTWSvc7A6JX7Y9MtsmKsr8WxvoSgtjQNvuAljxhqZhzLwF2XFA98recOUJefifKj2+lb/7pfaOJ6o/KQmLicl7/YGafllCY7t/v7XpzSJ49nr8GkwXqEjjTz7dB1tXf0hQxPdAlZZLl3w8nnYcGkj9WuAs11qyzF1ZcIQo9aJMXvgk0+UsFw3TFhGTQuVzrvsijLmekx1GImEcejfhuswGo05Tek0a38XzKchnAzp3wX/FjjgA8tppcMjrW/qmvG0qVQ4G3kbb7S6c7KOP+IxI4vduP6FEeo+5f+jtUnVmoy0HrdeaPklOLYTVRbHbqK7C6p6oW4LOB2RbZKVUX+rU2K39R1SfgYHva2pKm1HuEcYj+BbUFJBVN01vlGRavOvaiFodEBd+/BxrtRrQzvgBgtEpmMovS/+3yf6Bn64cGkjHwT+Cn13NZfKPdxYBCL5l7/B4Fbf+ca18ZbYtU0sd4A+H+oqwPabqD6ba5TOZDUtx745a30boWgLGO6H4gnqeAXQzQT+Fho0zc/obUdVbepxtpGm3H4rd/UeZv/rQTpe/pgOOiDpCuatuTVmbtVL0qcn2fNyB0cOfjHw2eCRkiOYkjqD6zcd48NWPx8vM/JBezdcnsT81OG6K3voPg0YrxgSj0nJ8Tt9J9WZHuWy3nWM3+06NvTvn3w+JK+dl4/PEQaSdIPzRRLaqQCfEwp9AmcArkA7bK8vwMd0/QWgh46nW+mIs0X473E+TJiN9ZnP2PNvJ3jv9RPsaVKmREhcOnPQ3LSgpl0svjwujc7X65TKxP/h0D/99XRkk2TQRZ4MBkbpl9RGrqXo119UmaY8Ec8BwgHl6WNFExRdC02PD91cM2cOeqDlwGG4Y9AEyNOUkWHKvjpp+V0FFU2VFF07h6bHr1Mqrr8EGNwFEwpGbgav1THQVBmjqzRoAf3j9dTcNwGT+4yX2nAk6LA8YMfyANAToLO1kYqKZiqfvI45W/JjRrcBcJ0ukl9G6MA6UkfBBjdhq536Eiv6hDDBI42UFdeNYTTKFcprjFPzqXdlD3OkMC0zgI4Af+1ibI3ZCQnjyPoeEASCg5sqQaWBO1PH8HP6a1HeHLFR/sdiLMM0XsOh4Y6hktp8MuI1ZQK0GFfkU74iH8Ih/O+6qa1w0VCyHv2W57HFa/DrMsi0VuL1uNl9UoN3ZxjNXZlkRLbVXq3UuDbHG2MoS9Re3+oNn45RJjQ/jRKXH01O3u3cXEDZ9jDWp+opserR9AbxbSmjZNNY9zp8GoxLl4eKJ1203ZBD1aurMekgfMJDxb868PTdCKopl+DCl8/DhisUqV/1XJesA1XlmLoyIa5Rr9+I3sPKK+8z58Sf/1hNWqik6rpSa6z1mOowKj/jtXuUMpwRyvBhmJSBY54/gekUaJYpr7GlLgRn5DNmgjmSXcbdphrFdTOADkatOyfr+CPpe2uy/I+MUPcpP0drk6o1KWk9Tp2boWw7WJ+CEitoesG3BUo2xW5nXBGZMiMM/nehtgIaSkC/hZg6N7sC9JuU186dswdG9KlK2+PD3yOM2REo2ABhK9SXKCOMg0egrHjsI5XV5l+1PBXgaoccJ6xeCPSApwocUfM/K/Uao9ZrStsV6l0TUP+pMFy4QpG8rL92oGP2UrmHGwttKlRkgd0OpT+B2sqB0ekTHtcJYLoJ2KYsSmY8j52aHoH8d5WpHxq/DdkzJyKAMOdGwNOGN5AzaEqvkduO6Wra1B3t42wjJTJr2a3MWgZ89gkf/rmTva+e5tiz+0mqTueWS7bTqpuDrx7myMErmPfMLaQZk+Dvpzm06V327/li9K8DXDmP+cuO8eGu0xw+BB+2QsKKWUNfde+XSNJ0OHX6HCFi65XuLuXxQuKUC9hhfeVlJACanFv43oqxzg8xDlOuQAN8GvyE2EdG3YQ+AvgGWu3VMA3oPEeoG4Yfdns5mqsBkrht01IWjqWtp5vH7T+Yx+18Ts9HZzji7mD/v59kZ/I1sYukjdYuFl8qk7bg1pjMVuYgC/0R2qKn4jsJTe30zzumuUlZkKDtD0QWmBnY7mjUr9olyna73hh4XaVvu7pqZWXYIY4rjcK6yOToGj1Y14ANCPmUp+5DzE0ncy6E/+iOnQD8uAdntZO6lkBkX0asa/Ij+zpKAAPm27TQ5cbdHvXF3gDuPyivft6Wch5jyBakY0uGTveu2InpQz6aq524POexIM6Eh8OPp9qJ87UWJY4T9RitheTfDXQd5uiZOPudbY7kF3dMfgm1VJL7UC6OnUECPi9BIH25Fb0GSNCgW5hBxg1jOQET6cu18J6bXcejPw/ha3Li3OjBjwbTLWagjaY3YnNJ4PhRRqIujJEO4Pf8MRPG+9p3qzoDzU3myDXjjrlmQu1u3F2gvd08wigaLSnLzMAudg2a4T7wVh3O6ka8oeGPwclORo6BCDX5ZNRrKoR3ixNndbPySqBGi2FJNgXfNQFeOv9z2BgidZkVDV4a19XiQUPa7an9o2C0S9IiZcmgRXNOtlBX7aTxQLy5Qyf++h4ujv1b15L7UB4NHROZn0aPy4m5vgYLcHhfEEgnw6pXpnPR6DAtzxjyts7ohkkDQrzfGVv+9XWwHz0Rdf2e8dIevZBL52FawmD8RxumSDtNM9uK7baobYYplwi9T+dfon6/0OXzcOE66Y7Ur7eRkqi2HFNXJgwx6vU7INTixh0Gw73p8csmNWmh0nmXXf3GUY+pDmP8dk+onUgZPo6RkIlwWyrQAg0dA4tqmS0Dn0Xvd1xtKhVMtyg/m96I/TxwPPb3yTr+SFKWKT93DVowJ/CW0lZU6j51bVK1JiWtx+lwZBG2DGtkai0NmJbHvjnp3aLEhVJPgGEJFHxX+dvgOjc1BTJ/BpnToHndwEK6qtJ2uHuEELFlqwoBH5G6i0jdBbqFjKvuUpt/uUp5tNP5ftRnvdC+N3azwy3ADSjzzQMkgnXQlAbm24AucLfHfv7+oHUk05cD7zGo7Qq+JnBuhIm+C4gbrl5w/0H5720pl+A93BgYUsGYClVrgENQVD0QtgmP617wvQtoOP9RbgmQ/d/BpAHXM+exOOIgSrvZR/Mb0Wc3ettRVZt6XG2kbo68/g47Nx/m/b8Dl1/N9Ytv5vZ7lVGcH54AuBxNEvB+D2f79/s5xw7+bWIiZdzOcOodYI6OhcYkEoCEK6dzc9o1Y9jHZSz4v3Qk8DnvvXyKj7mMWZaRXrmZzgzzZdD9MR0Ho55a937E4TeUV+1nLLxAo14BvjWdWUnQ89bJ2MXRPj3B3s3v4Gk9PbHHm6FjRhL0vv0BHdFva50+zrGDwM065lx5BbMWK5PeH9vzUdRGX/DhB9FP+pOYl5oIdHNsX0/sdu372bn5XY7FeyPsgw52bn6Ht94JAt8gceoMbn5wLjOA3s6PORu16ZB2cW+YUNeEjgUWF9Cl0fmaoDyt1HXB+gJo9EDbDmV1V58GCn8YGZOig8LHQNMBeQ9B3Q7wbIHcRwc9sY5shwdKqsF3AjpboawEGvaAMd6d/HRgjzKpv9MDgS7wvqbMmWNIH+5ppgHbg1Y0YQ9Vr3kHKpLp18KeZhocZTg9nQS6/Hhfq4vsy4weMD34DJnTQrjLCijb4qGt1Y2rMA9XhwbTmsKoxXjGE58mcn5kRXO8jpINjbS9F8Df4cZZXIJz+1H0N/Y13/UYjBrATd1rHjxNdXgGNxrPh6pw6LmW3TT/xkFZtYfOQAj/vjrq/gjMTe8feRN3v11u1heU0ehpw9NUSYnDTSBswbZUh/62DEwa2FVVRuM+P6FAJ55XygZWqVXJ9GAJ1kQ/dU+X0djaSeCED3d1CSXVbo5er8yVqrurkPwbNPheySPXXoe71UPjhlzyRlpsC1SG0UT63ToIN1Na6Orfd8nWoUMHZswxAT4aftVM244GpRGjs1G8xoSmw0VeoQt3axueLWUUlLkJTcvkme+PPPW+cm7gea4E5w4f/kAnbVvKKNrQwO5eI/O1DDpGJc2R9Ch4VOWCNWryyajXlJYZiUdxNzkpe64R74kQgffc1P7WBxprf+dCPJqlWWQmg9/vh+RMspZGdYzqbBQ+ZgSPg5JqN74Tyoi2spKySFkSf7TchF/fkXBEp6N701pKXvESvDaTjAUTmZ9Gj8uJur5i6bH8kwkNu3A6+o7rwfXTsSx8FHWmUWlQuslNW6ubupK8IYttaZdkYNGAb2OJklY7XBTkVdK712BiAAAgAElEQVQW3a4xpZE5DTo3leHqy39byqj8Y9Q2CSZy7JnoutysLyilbkcbbTvqWPtoaeyCMKrL5wkSEy6lvGzb4aKgwIVPY6Lwh1a0qC/HVJUJg6moEwEIeamr8RDWWMm7Z5h4UJMWakVfVw8paebZUkau2rKr3zjqMdVhhOI1kXZPIbhblXZPQRmEpsEz3x/Y1BBp29S9Bp4mRqzPTalAODKv6U2R7y8GTeSzjOi5BsfTplJzandB/g3K68W5duXcGjdA3uDXUSfp+GrC5nkOnDvAH4C2LVC0AXb3Eqn7VLZJVR9UfVpPNss/Ka/iOx3gPaG8Wu36aex5zUgEdxOUPTewTe1vAQ3x61wtFFYoC/44S5QObFVpmwA5P1Lm/yx9ACqbIvcID4xxsS1AfxuRugsa90EoAJ5XGFfdpbsLChcr+bfgF+BpheaKOPl3AdimQXgbFLwCbR4oewgaBz2UScsC3oOyV6AzAP59UPZC7DamB5UObHcZlG6CtlaoK4ldbKtvO2si1D0Nja0QOAHuaiWOj14/8Z340eEq26KEy1WoxKtpDUqb55K7hxs7fRaUr4TgNrA3DZz7+cR1534lvtpalXxd9gOoOw66LGIXr/wbeFujto36N+Jg4plgfxw0x6HkFSbk9W3N0lxy5oL/1xX9D1LUtB1VtanH1UZK4rorP+GDfz9Ji+sgR/7Szdn3O9j7+jm4PIlZRiUiblh2GXz2MXvWv8N+7xH2ON/mrR0qR5dOmpks+KfL4P1TvN1whA8+6ubDQwf5w2sfj203C2Zzwyzo7VYW2lo4Yr14GfP+eR4zdF9w6pet/OH1I3R4O9i5fj8dnZD04EJuGfFV+ziuvRrt5cDbJ/C0HmHvlg5Oqf1uwmyW5iXBB6fxVB+k4/0gH3Z2sNPRQcebn3DVvGljDIyK4/1gCprubvaW7mFPaycdb7/D735yiu7Lr2DhgzeSBEy53ciCOdDdsJ+Giv2RPPMfMYttEbXdhzWt7Hz7BB9+dIqO11vZ6fyID3uvHph7NtrURHgnyLGXD7Cz9RRnu09zZMsJTgGJt14/MBp5SLs4TEtFFln33UPelgs0mE5MqEtj2gGUJ521L0PVz6HOoVQOuhQoL4mdC8ewCqquAVc9NFYAOsgogu4KZdGI6O1qZ4NzM5Q0QTgRjClQXjSwQmWMRCisAeNr0PASNHeBRgcZo0xQrr2jiPIDB1i7bS15fy2krCgTk85MYU0NxtdcNLxURHNXGI3OTEZJDfkrIpWGVtnG8JKDuk0OWsKg0ZnJ3lBM/tLzbyZo0+xsedmMa2MDzxa6CKFFb8qg+MV8bFGvnZgfqSDnP+00/saBQ6Ml++ersY5hnpnzD4cG8+O11BhduOqrKGoKEU7UYV5eTM1jtmEbLdo0O/WOGVTWNOJytAAadCnZlD+Vr6SvNhPHixpcGxtoWJeHCy16UwrmmZ20nRxmp/EPhL2+BvNrLhoqinB1gVa/iIySKvJXRNIpwUB2ZRXajS4a9jRS2Q66lAwKc7uprG8Zft96dWE0PVJDee+zVG5vpHKdBl1KBiWPncOx0RO7u5V27D47FTudlO7UYCmxkQ3os6qone6i8oVmKtc1Kk+j0wqp+WEmw/QdDkgwkP1yLYbNTupqS2gOhtHojJhzyyl+0Nz/oq4+q4qaaypx1uzC6XCjSTaQ9lgO+uoGRoiBqGgeLZ+Mfk3pV1ZRO7UO5+ZGSle7CGu0GJbkUF60GstIr2kkKCOcG7eG0P+zbcjrwYZVNdTOrsO5uY6SpkrCiTqMKcp+45YlMCnXt2FVBVXXuKh6NSodrYU4ijKV198mMD+NGpeJE3R9DaJf6aDqcheu+gZKV7sgWc+iFDP6I21jH7miNVNY8zy6Cqcyz2hYgy4lk/wsL66mqGFCOitPv9hN1c/raNnooD3ZgPn7hVj+w0lD3+jXRDOFVeVoq+pwv1BAY48G3YI0TDdAIOqmXbukkNoKHc9WN9JY0aaUZffkk3nARXPUSFq15fNE0S4ppPZlA1U/r6PO0UK4r7wsyR+oX9WWYyrLhBiJo1+/wY5mqn7qpOWMjsznimIX1hm8LxVpoVbfdeWq301jRRvozGQU5dBdoa7sUoyvHlNLnwW106HyBahchzLKMA1qfkhMGW5+BHL+Exp/Aw6NslK7dbh9LlE6BfxR0wtwY2Q6As3AfK99xtymUiMBsitBu1HpVFHyHBTmQmX9BTj+aGF7GQyboa4WmoNKm9CcC8UPDkxSobZNqpbatJ5s+pVQdblyXqWrgWRYlAL6IwOjCPUroXaqkialqyEcGf1aXsTwde5McGyAvKcGXt9Wk7baNKh3QOUm2FUNu5LBfB8saiWmbB39xMDxIrg2QsM6ZT5fvQnMMxl73ZUAmZWQ9EuoeVOZH1c7F/JzwVkfu11+FfAcNG+F0kQw3wn5n4ErakoB8+NQroW67VCwVclvaSZih21qlXsVXUVkbtOwcs3kZ4GrKXY7ez2YX4OGCiJt19HvacYtEi7DS1C3iUibB7I3QH7UoleX2j3ceJjXQOF/xk6hcT5xPXhxLN3MYRbHOhkpE+J4/o2R5wHWr4SSVnA0gWvpoIW8xiPBQM76QtoedeJ8tAD/ujLyU/Wq2uFq2tTjaSNdl3E739H9b/b8/gx7njoNl19G4uKp3PZwCguvBLiMOdm3clvvu/zpP4Ic/EWQBNMUbvleL/v/rTv+Ti+IK5j3/Vs5d9VhDr55nJ07jkPyFVw//wr4KN66EsOZzqLliRzZ1MMU23ALbUW5ah4rfnYFezf/mSNbj7P3MyA5kVk/XoTVPI6JzBPmccd//5jXX/yI918+Dkk6rl+l/uuJt1q4/6cd7Pm3U/xp/Wl6uQzN/CncvO4mbpk+8WMFExffynd+epi3N57myMvKPLMJJh23PZrCwqmR4yXM4Hb7FyT+2zE63vmIgwc/IsE0hZuzPuNgU9QE5gkzuH39FeiaOji4pYPXu4DkK7guy8iyrHnErQ6vnMtdP7uc/Y3H6Nj8Ln/oBpITmfHoIu5Ypix4FL9drEE3XYeGIIapF7BRICbMf/n888//z8Tu8pLpz51knw/8tzeEd3MJpfWdhDFRWF9F5kWcalWICyrgxeMLc+38RZhnR1UEJxrJW+0isPJ5tj9hHv77Qky4MJ0tuzibMJ/5qUZ0CQOftzyXRdlO48SX0+FOWjxnuXzefCwLohquPS047ivDc0Mh9c7MCzL/3pdNoKmI3GofJBrJ2VAx7AJ5X01flzaTEF8tgQPKlAvGm8AQVWT5t0DeRsh8bgI6uQbpbIGzCTA/lah6DVqeg7KdAwstCTG5IvfAJ9yUPe2kJRCGlc/zhrT1L6JzHKp5iz+1J/Htl5eOMN+r+DL4ereLv9qk1T8RErSYH65h+wof7jcPo5fJkMXXybQZdP8hD8cRA5lFRWQuNUCnm9oX6vBrTBR+Vxpj4kLToE/sxP5UJaTlU/xgOouuDtH++woqdobRZa3GNtE3qBo9V//ZztoKSHusmNxli9B+0k5zZQWesI7MR2zS8ToM7dx0VpcUkHGXqX8Rk6+Pz0ffZEykWSfEhaCfBo5HoXM2FD4J6d+Eo39URudqFkP2BHe8AugTwf4UkKaMwF50NbT/Hip2Kq+pT3i9JsRIZtso+1U6/vZd7ApdqOUARVxdnRzdA2RMl47Xr4Cvd7v4q01Gvo7bRN8wCfEl1hugbbOTuu1eOoNhNMl6DKYMVv9wdcy0IUJcSKEjblwbG9jtCxAKa9DNXITlgXzy7zKinYzGTG+Izp3KK+yHA8qr5/obLeQ8lo9tgTy1FhfK16UdJsRFFoC6l8B9AII9yuvmi5ZD4YNM2g1z6IgybcJuH4TCymvqlgcg/y4mp14TYgi5B77UnHrdw45/+4I566xYF1waS/oIIYaahM5XIYQQQghxcUknrBBCiIkmna9CCDEe0jIXQgghhPjKGXyDLE0+ocbXoWNFrgUhhBBCXFjS+hBCCCGE+Mo7n041aS5+NXwdOlbVkGtBCCGEEBeWtCCEEEIIIcQIxtNZ9XVtYkoH51fb+abv1/W6EEIIIb7epAUghBBCCCEmmHRCCjHUSNeF3JZd2qRME0IIMX5SywshhBBCCCHERTVc557crk0u6VQVQggx+aQ2F0IIIYQQQohLkoyWnVjS2SqEEOLCkxpbCCGEEEIIIb50RutI/Drf6kknqxBCiEvH17lGFkIIIYQQQoivqK9y56x0rgohhPjy+DLXuEIIIYQQQgghxkU6MIUQQogL4bKLHQAhhBBCCCGEEEIIIYT4KpLOVyGEEEIIIYQQQgghhJgE0vkqhBBCCCGEEEIIIYQQk0A6X4UQQgghhBBCCCGEEGISSOerEEIIIYQQQgghhBBCTALpfBVCCCGEEEIIIYQQQohJIJ2vQgghhBBCCCGEEEIIMQmk81UIIYQQQgghhBBCCCEmgXS+CiGEEEIIIYQQQgghxCSQzlchhBBCCCGEEEIIIYSYBNL5KoQQQgghhBBCCCGEEJNAOl+FEEIIIYQQQgghhBBiEkjnqxBCCCGEEEIIIYQQQkwC6XwVQgghhBBCCCGEEEKISSCdr0IIIYQQQgghhBBCCDEJpPNVCCGEEEIIIYQQQgghJoF0vgohhBBCCCGEEEIIIcQkkM5XIYQQQgghhBBCCCGEmATS+SqEEEIIIYQQQgghhBCTQDpfhRBCCCGEEEIIIYQQYhJI56sQQgghhBBCCCGEEEJMAul8FUIIIYQQQgghhBBCiEkgna9CCCGEEEIIIYQQQggxCaTzVQghhBBCCCGEEEIIISaBdL4KIYQQQgghhBBCCCHEJJDOVyGEEEIIIYQQQgghhJgE0vkqhBBCCCGEEEIIIYQQk0A6X4UQQgghhBBCCCGEEGISSOerEEIIIYQQQgghhBBCTALpfBVCCCGEEEIIIYQQQohJIJ2vQgghhBBCCCGEEEIIMQmk81UIIYQQQgghhPiyOunBUejCG77YARETLbzPRZHDQ6D3YodECHE+vnGxAyCEEEIIIYQQQlw8ITxlWThahv7F+Hg9NffpCW4rYtUvfYP+aqLwN1VkTrsggYzvZDNFjzYwf0MtZs1FDIeYFJolOaxuySOvuJvaykz0CRc7REJcCJ3UPVBAw5nBn2uwbWiieKkGb/U9rG0a9MRJk8nz2wsxX6hgjsF/+fzzz//PxQ6EEEIIIYQQQghxsXmrs1jbFAIsFG8px6Yb+Jt/SwF5G/0Y73sG+8MWDIkXLZiKXj8N+Xk0p1ax5THTRQ6MmDS9Ply5Rey6U9JZfM30Bmm2r8K5D5iWTVV9PqaoBxBtzy2n9C09aY/ZKbrHhO4SfgA14dMOeH+5nOXLB/+7h6zctbhaAxN9uJEFmilavpzlv/RO8I6DeMruYfnKMjzBCd41QNBD2crl3FPmYcJ3v8/J8uXLKWoae1qEDtWxdtU9SpoWNhOYzHAO5zzCP1mUPF9E86UTpK8V36Zc7rknl7qOixyQSzBviolxwfLYpNVZox6Y5sLlLF/upO/IQ855ovL34P0MqUeGhuXi8eLsq+8mYG9D6tAJ2KeYQMNcf5dUukk9E9+FLjsvdPtX0v2CM2fY0ALgxeuLGlUV8tL8ez+mNbXUPH4JdLwCgW0V1P3FStH3pUPuKy3BRE6BldCWChpPTNxuL+n72IvWLr4Ivqz9VmPRG8DjyCPrHqWP0LlP5fcSdGQstyj/P9PG4b9E/e1kMw1v6cjcUENZ1sgdr5dCn8EkTTugx/bjQtKujfza5eMP9Y00rsvj8BO1VK3UT85hL6beMKFQGDRatJdARTzhelqo+tcGvIkWVtu/g65Xg5a/XuxQXVh9aZyoRXsJP1H5yprg+A+HQoR7NWiTJTFFRE8IpRjXopFXusREiluHikuepNuFI20scSlZaCNnbiOu42E823ZRkGZDF+qk4SelHL2/hqqsS+RetsdL42Yf2pUFpEnh9JWnTcsiM7mIul+3kPlUGmMqKi/xMlbuyy6gi9Rv5d9qx+HxY1hZzNM3hfnsOvXf1abZsL7Qhifsp+F/+ch+3ARnWnCUNDC/rJbCJV+OAnCSOl91GG+xYOmvlyxY0ubjWFWGZ1MzvpX5fLmfzemwlm3HGv3RGTf2XCe+lc/zxhPnOcOEzkrZNuvo211IPi+eMBgfKSTHOtDguOTCOZkOuMh6qhnTmvpLp9H1dTJM/Jsermf7w2PdWQD307k4OzJ5/o1Lc04YceF5N2axdpuJwvoqMqMu8fHlsS+3C3bOl2J9NxmGqUPFJU7S7cL5MrWxvi7l1teagfT/ZsJV7YN9HtrOmAmXF9H8rXJq7zNc7MD1C+9z4+7SYFv65b6zFiolmEi/W0tj09u0F6WRNpaOs0u6jJX7sskzyf1WqgXw7vYDNvLX2LCMdZBLYhq2uzV4toUJvbEb3/fPsavIQeC7tdhT1XW8Xgr3cxM+7cCwtGlkWIGuwxy9FIe1C1VkNJgQQggxPlKHfjlJugnx9aNfZot0Anlx5uXhIp+qNeZLavT74X0thEnDfOPFDom4UIw3pkK4Be/gdd+E+FLQjLtNZc7IVMrfrmZKckvZfVs5jkvuQcLIJmnkqzqhI25cGxto+3OAIDqMKTZWF63G0rda5D4ny59qxrgiG8P/56bleAjjmnqqbmujKNeJLy2H4mt81L3pJdirRW+yUViSHzXiNr5gex2Vm3Zx+HiAcKKeRbfnkP+YDaMWQvuc5D3VTCjVTr3DijK/egjvL/NYuw0yn6ulcEmI5sKBpzP8cjlrt0V2vm0ty7cBCwt56d4WfljhxVyyhedXRM3U3tOCY2UZniXFbHnOhm5wAAPNyvlFP40ItOGqcOL2BQiFNehSMlj9WD62BSM0AXoDtG2sxPnGYQJdKN9Z3B1nuyBtmyupe+Mw/kAYjX4R6bn55K8woiUQOVdlU191LsurUZ6a9aVDfzj7trVSuOE6Wl5oxhsMo9GZySx5mvxUncpjjjH8Q4TobKrCsbkFf1cYEnWY7yyg8Akrhr6LvauT5pcqaGjtJNijQTvXTOZjxaxOHZIaUecVGwfEPC0KE3y3GcdP6mg5HoJkA2kP2inKMsY00kbN8/GMGFd9eTOE5al6yu+KhD/kxfnoWprJ5PlXCzH/OXItZeVjOe2meZ+fUIIO49IcSn6YiTE5+nhKvFdu9xLsAU3fuaw0oo3En/eXy1m7zUjOUzZO/Xbkcx7pelO3r5HjX/l+7GjF0JFmqn6u7CuMcr0UPFGMdTb95YqimbXLm4Go71/EvBncsZZV8cqMLg+l9zloiyoz1MarbZWBw39swd9l7D/HEeOnz5k26qpcNLb6CaNBuziTHKMXV1Mnmc+9QeGSvlPqxL3RRcPewwSCoFtgxvbwcNcSTHg5QYjOHS6qXt2FrysMiQasj6QTrm6gZWEh9c5M9H372vhsTL4231/I06vMaM9Eylwlh+HMXY4T+s8zOo+lH1CfRuO63uPFWKuLykg8odFiSFuNffB1G+rEvbEK1xs+ZeoEg5X8ZWGc9S3jGuUQ77oaLHTIRcm/NtKZnEl5TSGWZMaeH+LVdwB042918esR88foZRXEy++ZFMdpKwRaXVS+5OZwIAQ6Mxl5JtRc1Up94qCuxa/Evc5M5o+KyV+qZ7j6Y/g0UVF/DdYbonNbFRW/bqEzGFby9sp8ih+0oOv7jqpraZg4qIi+lrw4l6+lOfragv5yNea8Rj3mGMqCwfk7Xn2j8hzVUZ9ugaYicqs7yXxue3+5GNhaQO4rnVjXbcd+h/IKZWhnKVnPeWO2G60cH074rI9mh13Jc0TKhKLMqO+NnI98r2RRtBWyX2wif3HUjjtcZBU2wn1VND1uGncYVdUxo8R1dBtL7TUc46SHshIHLV0m8l1VZM9m4vLk4HIrEF2HDBJ9ragpH8fbvlDTrlVz/Oj99GoxLMnENr0ttu6Pd70Tv95Qfa/3gB3b6foR8nQkL9Y00uYPQ18+eCo/pk6dqHoXAF0GmdZKvB4I96Ri/9mltsq8H9/+MNwwH+NwIyAj94+7A2FCPXpsT9mxddVS9uoBwoDunjIcD5smtkM5Uic5fucj3BNCs2Q19rz57P6fZbg/AjQpFGywY505kQe9RE1CXGiM8zHioa3DT+ESNaOwL9x97FjuD/uNdF/Wt83f/bS98utIey/+tT/2+5GB8GY+biHgbsZ7PAQ6I2nfL4nTlpR+q7j9VjB6ezxuGo9jlPNiG9kzG6k7GSasy8ExxodhQ+ooNe3nCXbhRr6G2mhpBZIXMV8fySw/qGTXp+kUvFhPbVk2+s4GSvMctIRiv9q5oxnf9ZkU2gvJmBsVxS0NOPdfTfaPyiletQh8jZTmFdF8cvhgBJqKyLU38v6MTJ5x1VP1Qwvdb1RSVNyIvxe0SwqpeNhAuL2CssjE9sGdz1K6LYjp8aq480mYH2ui6eXVGAHustO0tYmmZ23ceEcmVg14f7cLf9T2wbea8aDBujIjfgYerKcFR14pjSdN5DvrqXeVkN69i8ofFNFwfJjv9AZoLs6jdOthuDGb4g0lZCd7cda3xNkul9It76P/zjPU1FdRdFs3uyqKKNniB/TYnm2iya4MVjc+UkPT1iYc94xUUnhwbtjN1feXUF6SjaHHS6O9AFff5MajHnMM4Y8jsM1OUbWH0E2rsW8op/huHYe3OyioaEGZMt9PY3EBzhYNtrJamurKyZl1lAZ7Lo63QnH2GD8Omh6LLi46aXjOhX9JPs/Y80lNDOCpLuLZnQMzW48lz/cbNa60mNdUsHpumLYXyiJ5P4jHUUrzGRP5FYWYo7JsZ5OLxrMW8tfZKbxTh9/jpKDAiTcUfTwl3nX3FFO+wc7qlDAt1QXkVXuJDebo5zza9aZuX2riPzoDNGN/0onnkxRW28spL7Gh87lx5Dto6QFS8mnaWsPqGwCs2Lc20bTVgW2amvhmUvOmbqkNC+B9fXfMoi7BVjdtgGV5Oroxxqu7yceMlYXY12QoC0OMFj+gLCaSV0rDvjDm3GLKNxSSedVu6po6Y08o5MX5aAGVb3aTXlBFfV052ddHrqVhM3WfCSgnAN+mAooq3HROz6DQXo79kUX4X2sgNjXCeF8pUPL13ZF8fVOIttfWUrTVD9NsOLY2Yb8LwMjql5to2tpEfsrQUKtNo3Fd73EEmorIW9fI4amZFG8ox/5wCuGWwdetj7qCIiq3d6JfXoh9g538xX5cKvLkeIX2OSmIdLw+/2pfx+v55IfB1OSP0csqJR2ctPy9L79novvz0LZCfzyziOySckruvxpv1eB8FC8ivDgLCnC2hEl52E75hmIypx6mcV1eZHGcsdWho9dfQ/m3FlFQ3YLm7nJqt9ZS/l0DR+tLyX2uRYkHldfSuOMgHpXHVIyW1n4aiyP5e2Ux5RuKyf5WCE91Efa+BYjGdDw11KebPsWCnjC79vV1vYXw7VPKypYDhyOfhTnwpzYgDXPk7WD15fhQnb9x4PpAqcvzl2oJeJwUOQYWfxotH5n+0YaWEM27Yhf28P2HmxBabP9oGn8Y1dQxKuK6r45Xew3HONnM2gKl47Xw1b6O1wnMk4NF6pCm/n9bqHrAAGgwZVgiHa8qysdxty9UtGvVHL+vPPP40d1ZiH1dPpazjbgG1/0qjeleb5Q8HWpxkGtvwBtOJd9ejn1NBjpfI6VFA3XhRNW7AzSYUvramgc4Otw910hx0FJJ7kO5Y//3ixZGD/JZgieB666L3wFxspmiEjeGJ+qpr99CxcogjfZc8mqTKKx6GosmhK++hl1nxn5eI5wx3uoCKj60UfWreup/VYTB46QgtwTvP1ZQ8d05hPweKn7/NVhAabLiQnsd1wGBs2dVfuFC38eOvq8YI92X9dnpZP2eSJ/PfQZCBxopLXLh66uHzqv92UnzK42cXZLPM/ZCMqb68cRtS0q/1XAdr6O2x+Omcf44ppcwYPp25JxO+jjaNeYdxBi1/TwJJmnka5DO/W20DVpwq61Lg+mJTEz4aXylmWByNlXOfEwJANmUlQbJerKR2u25pK0aeJKjsdqpsacNVCx9d7wL86l9MTvyFNKC7R8byPuXOpxVbtLj9cz3tFC70Ud4STFV6yJ/n12II+xnVUUd9a2Z2NM0GB5wUPhOHs6NDhqnp7P7hTZYXIh9uJFDiVq012iVSa+vvBZtcl9IU1l2hwbPTjdtJ7IxzFbipu1NL2isLFuickLpvjnH7s/DdoMe0FP4MwOpnX4++Vi5uRss5HHiPBTG8HAttbmRuFxqJd1URO4rA8/mw621uA6FMZdUURZ5ymFY4+DciVVUbqqnZaWdNK0WTXKSkhaJ2qjzG46O7J/XR0ZTWLFMC3PPU824d/vIX2hSdcyUFnXhHyqA99gcbFk2bI/bMCYAS+fDiVVU7ozMj9PlZfdxYEUOq5cYAAPZJRUY7z5FoDdAGOOQCcw1o8aBBktJPeWR87GYNBTlOml78wChu6xo8eMeQ54fU/okGshZX0jbo05czzeiT99NRTuY1tjJHvQkVbuinPoSi3ItLbWSscTBqg3NrN+cQdPjJoI7K3EeCmN6vJ6q+5R8ZVmaiiExl9Jt62n4pybyF6o8Z5XXm6p9jSEPBg74mXNPJjZbIbYbACzMx8+qCg9vt5eQdocGbXLfZPNJXJus7S9bwi0XOW8mp2G7S0PbzmZ2n8hUbhijygxbmlZ1OdYXr9anarDfMRBfgdbR48f32ypaerTYHDUUR+bRsSxNx1SRS+mOgerIv91J8xkt2S/W9I+eyl5XRnBVEY2b3OSmZTP8M/nzLyfSetzU1QcIL8ynPqousH7bQNFDroFRSGEvvr+lk/lIKjkPWNABllS9Es7Xd+NflYMhWcO1Vypxpr1GizZ5aIgBUJNG47zehwi6qaz2xZ7fUgupcyvJtTez/tcZND1mIrizjoZA7HXLUiuWOT+09mwAACAASURBVKPlyfEJ7XNSsK6ZoC6T52sGHvCcX34YbOT8oaqsWuCjwdFMMNlGeU0xFi2ABctNOooecuF8yUOGw4q2y4Oz2kd47mpqXTmREaYWrLc3xuajOHyb19N8ZtC1kmpG92QurmonnjvLsSarLb9UlBFDRjcNzKGV87AZQwIYVpVQscDGqcBnBMJgaFd3LVWOMw7iUVd39W09Wlo7cb03KK1TF6F9yk7z/9qFLysH45iOp87o9X7EXDPpyXU07vHif8yEoecAe9tBo9EQfrsd3xNmTL2H8bYAqbeRksgYy/E4YUstpn6DTRmZsdSE5sNcnO27ONBlxZqsIh/1LSb0Rzctj5mVuOn1sfuNEMzNx7Zw/GFUUwerjutelddw9M5ONrO2wIkXM4WvPk9mpB00kXlyiITYRWLCB5yU/caPJureQU35qFPZdh8a6aO3awMqjh/avJ7mMxqs67b0txusS9NJGVT3qzO2enDEPK310fCCh/CgfJA6FQpebcPdmoP5rtDE1LvRTjZTVn0YjQbC4ZCS/ovHNreqNq2Y+rSxHVa1gJ+jANOvjdP5GsRd5UL/6BZskRHn4bCShuaHcjD/rZlnA2E0izOUkXuhThqfK2O3xoLu1G6CqeMcEXuogfXv2qhymZURb73wGUByJgUrdXRuOEwYHZlpi/q/Ej7Rhutn6wncv4Xyuy6lSR3O03jioqMZ164kMtdYh28vJV+r3Pl3+glgjtMLMNSFvY8dbV+DJAx/X9ZvWjYVv4oc12pBH76Htdvc7D6Sj2nh+bY/tdgc9QNtOGsGFscqyratpyGjifzFYyzLvmb9Vur6DlSksQqhfU6e3R5GA4Tx4mkPYluhaihjHKO3n42TsPbbJI18DeD+RSml6yL/KpSRFDZ7DVUr9XCyjV3HQbssBUMoRKgr8m/2fFIB/4HOmN5mo2mYYepGY+zrH3MzyU0F9nnxxXu6/m4bnjCYUheh6Ro4rmZeCkbCtPsiT3YT9GSuzceED9c6Fz4slPyP8bxqoiHt3ky0KKuyAXBiF437QLsyS/2NwLcWYdFA56YyKps8+E6ECOuMWJZasabEu7D6RlhYyF0ZW9To586P+d2710MYE6n/oBlIhy4N81OMEG7n8Die8kI6qdGvsc00YARCPedUHvP/Z+/+g9s67zvfv7vcPbm6QaI1FDVwVcPuNWXXkD0lVhMyvqXsW5JpAqUq2HGojEN6HDKxSDsmna6ouiajGq4quK7IJgGUmLBrQh6T8YSMNkTVCPaYQuuIGZnqqtAdW9CNRTcWvIqRqkaG9Um1OTGn9w+AFH8TJAGRoj6vGc/I4Pnx4JznOT++eJ7vk3v5Z3LgeWQ3zQ97cF7KbNsas+P4DYAU740CGzezZSMQC9J+KEr8rRTWOifuO8vwlM8MvOammNKSSY3f4WQzwPvvZ+ryIuv8uJzPzyYvbbtc8EaI9qcTUNqKb5aLrrP4xiltyXZ3Nd71YL4WJ4lF4p/iQBnVVZPXtVH22UwvmeOnJv8WtsB3zrW95bKtRXB8ppndDzfjuSG7TwvsGzP1KPXzOX51zVrxuolBeZUHgyTRE9ljnTpOdPI1Y5HHdcutU6+eCx+fJPHXTFjvwTMlgbmNG4snf+cUw8eSYKuk5IZJddp0srkUePs0I/P+Irnc6wRYr8eJA2V/6Jl6fd5UzJSzYZRR29ZM871l2EZNzFELirLH/kKaXPsOZDe28DlaYnufbq7vZyv14FkP5o/ma7ezXO+/WUVV1dT/WgYWl4Q9/Q9+Gh6NkL6hho6uyT3rl1sfppuvfuR4rXonzvFRsH3ak31ZH9+Wh+pS4ORrnL4E1unXMr2WP++dOrR/ej2aYY62UuTA84dlwDCvnZ6rv+pscrlGzFxn8x124BjBvWGip0dIXbLhLCmj7DPlFBuLbEuLPgazW9yzxRLOdZGTmo4eev6mFtei95dvLkrvMuDCMPEUkIgzhANvdTmMxjlzAXjzJMcscN9VkrkHL+o6PlNxqXvSkDgHzmKA93n/Uub/F65HmcmEsIb44alsHT19jMgouD9XmXlJXWIZl3MPniHHNjxhJEzLA0HitnLaui4HXiGfdXIBZpzQUxHSRkVmmHrmm+dwfVzG88WCz7W57H/8eual+u757v05Wuy73nx1eo56YCvfTc/zPbR9yp63++4EM06wNQS7uumozuzUPDIwR+/t1chOZVsfreXjByxJ/Ecm4KDkt+1wSz19g4Mc/YYXB2li/hZ6jSZ8e5vxBX1sOdJCy4tLGDVwSy09wdqJ+8j4/ZWtWyguslHhO8rgYB/NJQa8Eabu/j10PBMi8tZi7pVXicUci8wSnPx+kMiPzmEuMPoh//L5Hpu/d7oJnyzNBj0zrr+xGDCx/h2W//zppNg59ZpX/kfezLPk6aTiVvPGrRYbO1iGCxHa9h5n275uWkszH03vpbs4Cz8/F0KBer7OnyeOVIoRgCPtVB+Z5e/Zxrn4iLiN6z4Oc72kpH56HoDE0w1UPz3L6pMfqjZ5qa0I0v4S2Cr+kPKlBtVvz/YuGDxOYpcL26sRkjhp/INF/HJqr+Cxb/yS3hf6iRz0EwUwbLh2Po7/PveUfCQZad57F8DBdXP13gIgReo8QILQl6sJzbJE5qKWT7nsM9fyz858s58nHwszPDp+IzcwJl8wilw0BvZje7aX/r5OhnsyyzgrmvE96pk7r95yLKnOL+78OHbUUnmwnSg2KqvLc0tpQfaF7Gya9+arN9c5cAKJ996DHPuuLaq95ZM5Qr+/lfBJc2KYrrEulyvoKqibACWVeNdH6P9ulMTORmw/jJDARs227DDQ5R7XBY9PdhjbbY4F6tC7pN4CiNB+T2SWv2dfmpZwnHKt++mfZwKHDvvCd4v0q520dkRJjj/gGMYSf2hhwXOUr3vc3N8vx3Y7zY1/sJ/9pVM/M5x2IPeASOqN7APZv1lMrWk51oe8yPFa9V6aFOD69ek1eeqzwmLq0VRztxWbPRty+XkmdUqucrpGTOP6Uhf7P9JF7/f66WztzazlrKD5iTY8N+S/LS0sn88WudTvlXiWmcpd7sE4EuHk6ybunw1jrd/Gts9vJtkX43TCpOxnxzFxUZ59IS30/TGXeuS4y4P7YCexo0O0lJdzejCKhZuK0mWWccn34Fnk2IYnnE1kemmPpqfla75SdcRkKNBO5KId71MtTMS9cro+pmGpzxcLPtfmsv9c7/05yue73pz1oED7M+MEm9o59/nuTE7bd2px9oVIWnP33l6NjMm9Gy/GGb4ArN+G+6ZpC75zjJ6TFptbXZlzX+Si5E7ofyFC/N5F5mQ0pvZoO/N6JmVG2SdKZj5z3V5Pz/PAqSCxE3kK0KwmizkWAIxw5hTYtm4pzLvocuTYvlZGAd5HJj9LKm41T9wqv7GDOV2IsKepl837umneasO6VIFxMob1doTjb9dQO/2alqP5n5+XV+S5rMyEW/+ngQ1wPNhD1z25v5QszOTnPwNwsGE9MK0i2z6c6W7v8Q+yu3T6utO2dCpI50uZB0bzpU5Cv9c9a96MhWV6F4QORhgYKmHD91OwdTeVizyhtls8NO7z0DhmYf70DNHnniTUs4cnHNOSIgNgZ8P1wNkUPx9lnouNjY98BMDD/pd3U3ZFLvS57NNi6GVyKP8sRmN0fDXE8M21BJ6tx2UH650YHX/iJzb5xX9jGbVtZdQCVmqEoe910DHQSct1N05MMpFXS6rzizk/JvGDnUQxMNaZRL8eouLZqfleZ5cm9VNgk50N2PnFXPXm5ymSgGPDhhzLvrj2lj8msY4WQieLqQ36qL/NDpeSxAKt+OfKNTRhldTNIheeP3LQfyjK8Tcqsf0gmRkGmu2Fs7zjmsvx2YB9E/DTFPOHjT6EsR74WCM9oZpFhJdykVvdt0wHkCCVXuCx580wTfuiWBVt9LRW4CiySL/Zj293eNHDqYEFz1G+7nH26+b6fjm22+nbu7mMspuXXBwAbKW76ageoa0tQvvXnHR3jv+6nmN9mCe3Ve7mucdNvlZtsOMAkv8yvSZPfVaY+zgvZO62YqazwczrFvEEnOs1YroiO2X3tlF2L3ApxciJfjo6InR+dQM39tXmty3lJJ/PFrk8z6zEs8w0LjflRIj9YwTXuymMu0pxrb+e0tsgmP2MTR7c2UpS0PtjrvVoYjKhKMcvGMRfsTA+5aXSvpwyLucePIsc2/DE876zhgN/6iD81SDB1iDOieegK1NHUgNt+GMW9urHaJzyzpDL9dFiKMdr+azmfa7NZf9JenO69+con+96c9aDAuxvLEXka+0c/8R+usdHkN2wDe9tIYJnIXb0GE13zzHpzCzMoU6anl1CftPfaaLrv5fPfzVevwEHkPjVwr1GrcQZEpC5No1/OGZhXgLjn8+RBK4vuhwSNP4LYJ0jmWLiurV4SRL/aAEuSu+4/E0s04R1tiXPeH51mu9YWBzzt9A7YpEeBetEgKYvx2n+RvPUHv/jxqzMD1vXb8jPDyW5yLF9vXulyjNFAd5HJj9LKm41T9wqx+fx5ciOQvjlly5/J+NODx4jRsRK0R9NULvU2M28z8+NU3pb58uVm3Brslu24VkPI9FjUxP2mwkiB4OEYjn++jUyQmry+m9H6DkJbHXjmqWniG1rOW7g2OC0JLoXhggfDNJ/+nLC+XBHhPTGGjp69uPdmCbiDzG8xJ90HHd5cGMRCzxJdPTyhCy5Mk/3EzwYJHLWyuRFucFNTVN2qN2Pz8+yhoHrv7mBYQYGpw4pTb19btL/2Si5yw0c49i0bNGpV8MED/ZfntAlb3LZZ67ln8XIGYYsKP5/PLiyB9m4oQLPJyct83aM4MEg4aHMtg1HMRUPN+IBzMQ5FjcIN0dLqvO5nx/zVJgnj6Sx7+ygz+fFfjHCE13DM36FTI6cn/KZ+eoAkVGwfdKNc856YzL8g8wkHNtymlUzW/pc21tenePMkAU3b8NzW7YCrHNSUbUth3VXQd3Mct7txYlJ9K/99F8A5++XTfxmuLzjmsvxceL+pA1Go0RPTqktnB+ZXE9dbKuywVtRjk0ZrmmSGAgSfCa2jKEgudV94w43bmD4b6NT7wUXRph8NlKJOGlgW1UFDgMoMrDfVknlMgKR852jfN3j5vp+5sko0VGw/e587TaHOrkEzlI3xaXNBB52wRtBWiYmJChkfZgux2vVDW62rQfz5ejU+/eFKAMnmci/mWs9mmmOtjKWIvq3meHDnyxZRA+pRVwjLksSOxgk+NxQ5t61zkFxRTONnwZGz3DuYn7b0sRLzltJ3p20XOLk8UnL5PPZYo5zPZakv7WOui/3ksh1f2NWJuVIIawr4ZOlwFAvvWfB7doMOHCXOSY+y7TXjILeH3OuRwald1VgEKd/bzcxDMp/t3SiR9bSyrice/AscmzDE36nFPctXvz7Ms9B7V+LZOvzFXjevRDB/0wmR3fgQfe0nm25XB+XcS1f8Lk2l/3neu9nIhgxcn5SqGUswcnXJi2Tr3c9mLMejE9m5X8lnaf9mcQPthCikcCUWbQdbPtstv/nqSjHF/GiMJ4aYdH/LRR4BVj3YT5iAOdTM99dzDjBe6uo2u4jNmpx8rVMr8vyksv5RZMvNlH3wsjEyIeZkqR+Pul/x1IMPRck+OIw6TmGxacGWtheVcXOQyPwzjDHLgCbyi4HcM0hOnY+wbFFpCEy34gQPBgm+uY8jXQszchLESInkvP2wEy/GSUyMExyvoXMJMMDEaJvzvODUV6PhR3P3h66G0qwcFIf7KPnb+YIvAJcTHEeMD764aWP4FqsfLbnvFvu82eSkeTUa97Q9yOZZ8kSp+JW88at8hs7mGH8x7BP7sc/OZ1ikZvKHePpYI4RX1KajoWen5de7PmsTPC1yEXtH1dgvB2mdV8/w2+lSJ6NEtzdSvDoORy35niSzoZouN9Hf2yY6KF26h4KkzRcNLfM8Yuk3UPzrmKI+Wk9GCXxTibC7Wv10fsjKC62cXnIkIvGjkZc6900PurFPhrlicA8M59tdLLZAF4OE47FiDw3qaHbK/F+yoBRE3NiQpbc2RwG545GCP65n/5TSczUCNHne0lgULF1y6zr2D/VTOPNBomnG6hrCxM9EaN/Xx0N0xL2Z5aD2FOtBF9KkEyNMNzno2VfL8fHitlcgLznuewz1/LP4CrHuzGTHzcUGyE1miTe56Pz5UnLfPw6+FGEXr+P4Pgyz4WJAs5t8yQu3+TEBSS+203kRJTevvi8N/gplljnczo/5hCBvRHStzUS+JIL29ZGHqu2Y770BIFXp5bQfKmdnQ+FiJ6IEfnrJnbui2Ft9PL4fa7s/nbTfHvmuDc9HWX4RIz+fU088ZKJfcfj1N42SyHnklN7W4Scjv8Wyqvt8FYY39MxRlImyVP9+L4enbacA2exAUQJPxcjNhAm9vYqqJvjbqikZiuYySQmbmqqJtWPZR3X3I6P677H8W40ifqaaD8UZfhElHBrw4wJN1z3tVKxLkn4MR/9J0ZIvZMgerCV1oNRzv26a1mDTHKq+3YPux92YZwN0dDcSSQ2TGygk6YHpk4Q5PhkJS4DjgV8E9fQ2NO+GTNXX3+jC0jQ+3yE4Zd65w+AzHeO8nWPm/L9QkRPDBPr89Hki2Ju9PL4F2Zpt38dIXYiRqSjaeE6uQyOaj/7d9hJH2mfmHG+kPVhupyuVUUuatuy9++mzLPC8EshmppCJAwXzV/JTvyQbVPG2RAN97cTfilznOseWHiiqcltxdcXY/hElFBzA6GzBq6Hm6lYTO+1xVwjJji4juNEXvTjOzjepsOEXwZu2obbsYS2NO8xcLHt03awIrQ3hyauf62Hp76k5vPZYvI1N3Ouo4QfbSV0Oo39Dypx5bQ/i6GOaqrv2U7DjJnt88GGq9QFlpXJK5rt2eS8vQzDsrAwqNw6qWdGvu+Pky2iHhl3ZvK+J5PJTK7POye9yi+pjLneg2cx2z0+1zY8jW3rzB+ICvq8O5Yg1BokYTmpbazENjkvYDbgn8v1ccnPFzk81+ay/4nrWdvO7L0kSuihnTMn27plG56NYB1pz7TJWD+++1vpn/yymq/74ORtTaoHsYFOWv1RUlYZnjvty96flU4Q2ddE+xELzxdn5ku0l5Rne4wmiAyuliHym9lSQubHsOl/GhkiejHzw1rxv0Xoe2XqD0/mySCtP3BPPP/nwowF8b0YIfJcO52x2Z6P0gz/QwLLcLDtDhvD3+2dGvQaS9L/NT+pXbvx5NwLKUHv40EiA710PtY75z3ZjHXS1BEkuLeF3rNzLDQao/OhToIH22n5ztxtKvGdFtoPBul8qJPYHEHiQhyLM68PwXo3ro/PWbSMVJIRwH3rpFzQqQgt26uoujdIfK6RMivwHpu72d/LcrW858/sNe/pKMOxCJ0P7cQXszLPkrejuNUCcau8xg4msd4ZJtTcQPCNLdR/wT3jXu8qrcx8ZkWJDi0l0rzQ87NF/OBOqqq203Ikf13zVibtAGArb6Pv225Cz/TyZHMIExsOVyW7v9GIZ9PC6wNQXkvzRxOEv95OesyGw1XD/tZGyubpEe7c2UX3DWGCL4RpHejEWmenuKSW/S31uG3jQ4amzhRvlDTT8cU4DYf8tLm6CVTPsuEiN/V/Vcu5x/vp9fsx1tfQ8aWK7B8Nyj/twfZKBBYz0dY4h5dAt4Pwt8L0+xoIXTKw3eSm1r+b+tI5fvMqclLTGcD2TIjeH/XTeRLsJZU0171PZ8/Q1OW+3Y3zhSDh7lYiaQvDXoy7bj+775tZ0fMil33mWv7p1rlpDuzHFggT/XoT/ZcM7LeU47oZUmcnLdPVRfFzIXq/1UJk1MKwu6ls7aLxM/NcQB1e2h49Q1sgRnBvDKN0N56duX/tJdX5hY7VWIrI1/zEcNH8p+MzKBq4H+yg/nQD4afa2FIcwJvdXHF1I2U/ixLa149ZZKe4opnWr3iZeIcqcuDt7MbxTCedRztpPwzGeiflD3fRsmOOBOLzWKi9LUpOx9/A/WAX+22dhI920HQ4c7zKXcWQmvqg5f5SB7U/aaP/RT9+w0bNX9VTsdJ1c4Kdst9zw6k4VFweBrr845rj8bG5ae46gL0jmMkfZxnYS7w0VscJDUyaZMVWTltPF+7nQvR2tBAaBZtjC5WtARo/s8yhOTlemxzVAbo+2kmw6xhBfzRTX3fV4jjYy8TZcHjxf8Mg9EwvvXsbCGHD4SrBvWkkkwNtfLEdbbQl2uh4JUj7KwZlrR5q5izg/OcoL/e47Pfr/niIzq9H6NzbD4YNZ3kzXTPabRcf+WaQrr8P4j9qYLupnMY6B8H56uSy2HA/HKD5Jw0ED7YQvKGb5q0FrA/T5Xitsm1tpvvbTgJ/FSbsH8LCwF4y81nBubODwEdDhHqO098xDHY3lS21vN8xqR7Nehgy9xPnt/yED/kZssCwu6nZt5vGOxf5nRd1jRhn4H6wm67iEKGeAC0DJtY6O+6q3XTt8mReOBbRlro/HqLzW9F5j4HrS13sH3uSzqP9dO41sJdU0rrrl/ifiV1eKJ/PFhPX3AChI5fPdcXDflrGe0LksD/7x+0YpHF+rDCzaTu2bsNJguTknk23ZtMRGB7KS6Yun9f742SLqUdFmR5D/YdNHH/kmTHEbvFlzP0ePMMc93h7jm14xuaq/ew/38CeI+203dhNoLqAz7unj2UDj0l6v7qT3il/9HJgsBl3LvfL5TxfLPRcm8v+J65nHfT+fRD/oA3n1hoaq4en3vuzOWZ5qpPI4U7a19lx/14rjb/yE3rl8mL5ug+Ob6vHfz2dXf2E/EMwXg8ebZyoi0vZn3Wik+q9USaHJiOtO7F9u4/6WzL/n3immpa+yy/3yUMNVB0Cdhxg8JFFZUTNMxvFJU44OUt6gDtqaCw9Rnikn9bddjzf6KHpf/pp69hJ3bM2cFTyWFemHVvZ1DszOXFcN2lvd1RScdMZhn5qEf/xOfjU9O9up/K+GiL+KMNPtRAvaaE7DD2Pd9C0M4rdMHDVdRFY1PNAMdv+yM2x75/BzPZGc22c5Ui4SnEZw4zYKymda4i0zUXp7QbDb9qpnKc3nnNrJfa+CObWUlxzXBjyfywyaQmMO7aweYE4Qertc1g4KfntyYUz+FARcDHFzy1gtm2sxHvsIsz6XvZ/5Fy4ZTx/FuN9sIxUNMQTh02wF1PxcOvUZ0nFreaW59hB6nATdU9PntAzTue9Pj404KPCBmASa6vGf3L87xaxfdXE9oHr4Z5Mnu6cLPT8bPFekYGBRfLdvCTjAeDXPvjgg//Iy5aupFSElrogiRW/6eUu2ddAwzPQGO6mpkAJfEXmdCpI1aORRV6U5NpkMTJ0jPeKNrO5tHjS7MMWQ09V43uleP4JFa+kVJxYwuK6zVtw3zDp9v5OPw31IVI7DnD0KrlHLEfqdIzEpesovsPN5AlbM/edFN6njtK8deXKJ1ezOMGqPURua6Yn6M1zbmcRuRqkBlqoO5jA+9Sg7iWrTfZ5Z0PrbHOA5OjtXuq+HMY+8Y5gMeTfju+UlwM9zbinBV9Sh5toeq+FgV15miMj+45S9ugA+z81R6hmbJjOT/8t7sP7FzeipMDydixGY7Tf4+f9h3sI7DAYOWXiKHXOErhKE310J53vNdL9NzWTenSaDPl3EvhYB335Oi/XgPg3q9hzZIGJ4pdLcaur19u9NDyUoK5nPxV5SrC8MmkHrjVjCaLfTcJtXrZdyxVYRK4CBo51I3TubaIpO7wmM0y/Bf8rFvbqejyrJQKz8Xre/9sn2NOYHUY6mh3i+lhmKE/j56+Oh5zlcmx8n4F9e2jaHSR6NomZHWbcdiiJcXsjNXpZFhERWXuyKZDifz/MEqa0y7jJQ0OpQeL1kUwP4LERzpwyKP6cZ0bgFdLETyanplG5Es6e5vhtpbhWUeA1r8di5AzD2NhS7CB15Ek6Eubs+VzTw8ROGZR9vnLKUHrrVJiOU5Xs/oICr7JMiltlpYh0hrF9qTlvgVdYwbQD1xLrRGZSI/cD29RrRERWvcxQ7eLLw2ssA/umLZkhjJ8qvnIJ/hcyPtRlfBhph4Wx3oHTVcP+jvp5h/KsKZsup6YJ/0mEzksGNoeTLTv303Ffme47IiIia5Idz4P19H85RP8bHhpvX9o2Kto6eNfvp6F1mOIPzvCrqjZ8O4tnLGmeDBN6r5ZAySybWayLUXytvYyYmbDxcKCBuh4H3j8LUDN5QtSxFP2hCKWf61tVzzN5PRaucmocUY79dRMjt9fhe8Q167N24rsh4jfV0j0tGmS46unpsWFbbGpDkWkUt8oas1P5FwN4bPlNVXV1ph0QERERERERucalDrdQFy2jO1SLs2jh5ZfEGqbz3l6KAwG8ecjxmavUQBMt5xvpfqRAc5EsxUoci7Mhdu4+Q+2zV/b4i0j+KPgqIiIiIiIiclUyiX+zgSd5bHUFKSU/zDjBB56E1m6at+rsilytFHwVERERERERuYpZoybYbBiF6v0qK8MyMceUVkDkaqfgq4iIiIiIiIiIiEgB/KeVLoCIiIiIiIiIiIjIWqTgq4iIiIiIiIiIiEgBKPgqIiIiIiIiIiIiUgAKvoqIiIiIiIiIiIgUgIKvIiIiIiIiIiIiIgWg4KuIiIiIiIiIiIhIASj4KiIiIiIiIiIiIlIACr6KiIiIiIiIiIiIFICCryIiIiIiIiIiIiIFoOCriIiIiIiIiIiISAEo+CoiIiIiIiIiIiJSAAq+ioiIiIiIiIiIiBSAgq8iIiIiIiIiIiIiBaDgq4iIiIiIiIiIiEgBKPgqIiIiIiIiIiIiUgAKvoqIiIiIiIiIiIgUgIKvIiIiIiIiIiIiIgWg4KuIiIiIiIiIiIhIASj4KiIiIiIiIiIiIlIACr6KiIiIiIiIiIiIFICCryIiIiIiIiIiIiIFoOCriIiIiIiIiIiISAEoZVZMpgAAIABJREFU+CoiIiIiIiIiIiJSAAq+ioiIiIiIiIiIiBSAgq8iIiIiIiIiIiIiBaDgq4iIiIiIiIiIiEgBKPgqIiIiIiIiIiIiUgAKvoqIiIiIiIiIiIgUgIKvIiIiIiIiIiIiIgWg4KuIiIiIiIiIiIhIASj4KiIiIiIiIiIiIlIACr6KiIiIiIiIiIiIFICCryIiIiIiIiIiIiIFoOCriIiIiIiIiIiISAEo+CoiIiIiV04qTr+/ibrnEitdEpHV42IU3/176HxpBHNspQsjIiIi+aTgq4iIiIhcASYjAz521u0hnHBQs8250gUSWT3sZXg+8T7HOprY+VCQ4YsrXSARERHJl1/74IMP/mOlCyEiIiIia5lJ/GAT7QMpuL2ewF/UUmxb6TKJrD7pV/007YuRNlw0PxvAu2mlSyQiIiLLpZ6vIiIiIlJQqYE22gdSWOs9PK7Aq8ic7He3EXjQBVaCYGuQuLnSJRIREZHlUvBVRERERArnnX7aDiawMChrqqfsWgi8poYIH+wnPrrSBZGrkaO6lfqbgIsR2r81hLXSBRIREZFlUfBVRERERAom8Xe9JAHWe6mtsK9waa6M5GAXvUdP83NNnCRLUeTE8zk3ANYr3UTeWeHyiIiIyLIo+CoiIiIiBRLn2JHsuOk7S3AVrWxprgyTkUQKHC6Kr41YsxSA/Y5SigFIcvx0eoVLIyIiIsuh4KuIiIiIFEYqybnsmGlX8Y0rW5YrIPFcHXX3NxE4DaT6abu/hf63V7pUclXaVMyW7D8T/3x+RYsiIiIiy/OfV7oAIiIiIiJrgetLPfRU9lL35X5KfT20lV8LCW5FREREZD7q+SoiIiIia99oksQ7hZ86Pv36MCmcbClW4FVEREREFHwVERERkTXMMpPEBzppqmug5X+cK/TeSLyegI1utjgKvCsRERERuSoo7YCIiIiIrD2pCC11QUbsDhyGSfLSldjpCGdOge2uEpyYJE8nMVwuHMaV2LeIiIiIrEbq+SoiIiIia4/DS2BwkKN9Pfg/57wy+0yd48wobL71RqxTYfwDKVDgVUREROSapuCriIiIiEg+OMrwbDU409PKEwN2WlorUPYBERERkWub0g6IiIiIiOSFA89TR/GsdDFEREREZNVQz1cRERERERERERGRAlDwVURERERERERERKQAFHwVERERERERERERKQDlfBURERERmc2pIFWPRgq+G9s9AQYedBV8PyIiIiJy5Sn4KiIiIiIym5Iamm+PEnzDyn5g4Hq4m0C1Y3HbGbMwTQvzX89x/lyCoR8d49iJJONbNQ+HiX7+AB57PgsvIiIiIquB0g6IiIiIiMymyIH3z1opM8Y/sEgc9NN/YbHbMbCtt+G42U3ZZ2rZva+boy/3cGBXOQ4DIE7/YDKvRRcRERGR1UHBVxEREVnjTBKH9tB+NJW3LVqnQrT4Y6TG8rZJWa3sFTy2z8vlTqkJQq1B4uYyt1vkwL3TR8+L+/E6DJLfjZK4pupT/tvllK2fCNI+sBoC2imie/cQfmO5FUZERESuVko7ICIiIrlJRWipC5KYbxnDhsO1jdpdjXhusRVwPRfNPQG8C47+Nol/s4H2n9TS3TlzYTPmo9o/NHO1mxvpCdXguBih5d6ZZXA9Eqb+w7tp2P0+3Z1eHEULlUNWkmVlB/j/b2v+Bedg29rIY9XH2TOQznxwMcKTz5XT/Ygb23ILt76M5q798EA7AyfqcZUbU/8+3g7WGRiXLIof7ll82oNVZ/52mZc9/Owcw+ffA5wF2X7uHHiayml5oAFzXzfNW5ddY0REROQqo56vIiIikhuHl8DgIIMv76ci+1Hxgz0MDg5O/Hf02ccoe/8YnQ/tpOmZBGae1vOMr7erO7tOLoFXMF8N0P7yZlr/bPYAqa3Cl9leh3ciiFbW2sdgqAYHwEYvgXAjxYBxSw37w0cZHBwksOMG3A/78P4sSMtz84aVZaWkIrRUVVFVVUXDMyOZz15ppyr7WfDUYjZm4H4wQPPtlwOj6SPttB3JU69Nm5v6Vi/JHw6Rnv63bDvoqraztNDx6rNQu1xzNnnx/fFmonufJDbjBIuIiMhap+CriIiILE6RwUey/zSmBU6MTWU0767BgcVIn4/es/lZbzzkZRjTegXO51KccCCG4wuNVCw0kVFJJZ71mX/G/9/EpCCXSfx/9JO8vZnuYCNlN0zaf5GL2qYKzL4O+t/JvVjXlP9tTgQTP/LhK9zjbzx4P8d/zVsXub0iB949jbgm53992k9ksflf52Db2khXWwVzVVXbhjUyG9di2uUaYq9opPY3hul4dijHIPqHMLLXJH7xizUTeBcREbkWKfgqIiIi+XVLCWUApOn/wXDh15tD6uUwkVE3NdtzGXbswvP5zHLWKxGOpQFMRnraaP9JDV1zpBawlVfjXZ8k/J1cAyrXFuv8eTJ9Q204f3MNDLfe5MXv81xONWAlCLaGrrFcrcuzuHa5hhQ58XzOjfVKN5GcfqxxsvnW7D9/PN6ORERE5Gqk4KuIiIgUzvnU0oIGS11vQpLjf5eA28spy7F3nfMuLy4A4sROpkkNtNHyg83s/4sanHMNjS5yse3TNqxXf8jJS8sq8Jp05nQ2n+56D9tuWdmy5IuttJHHd0yqVBf78R2Mo+mUcrH4drmW2O/0UEaS6IlcJgKzUXKXO/PPC6c5o3QFIiIiVy1NuCUiIiL5NWZN9AI1ip3kPJ3OUtebTSrO8bfB8UX3nMO4Z3Bsw7M1SOIUxL9VR8NYMY3PNuNeoMNm8a2lYA0RT0D5Yoey59voCJFv+QmfMrFhYl5XTv2ftOC9xUb8m1XsOTJ1ce9Tg5QPTfv8tmbaioP4jxgYhoVlldPYdiOnv3eM87+wSF8wsZV42d3aSNl8J+nSENGXM2fUdZ8X15rJ7WnD/bCPmtda6L+Y+SR9pJ1ASR9td69A796xFMMvBAkdPYe1DkzTRunnm2m6x4198jGfXDeKLMyPllL7uc2c6wsTS4L7kW4O7CjwRF5LaZdryfpiXJtg+Hic1M6Fr3H2u7+A99k4kdE4/YNJPDuvsd7CIiIia4R6voqIiEh+nT3NcQDseH/fXfj1ZmH9+AwJwH3LYoIVdiq3Z6cEu2RR2urHu2nhtYzizRRjMXw2l95sBWTGCTY1EfoXD4G+Pnr6+mj5v4YIfrWNyAVwPzLI4OAAB7K9Nm07DtC8Fdyfy0woZi9vJtA3yGDQS8UjgwwebqXUAhii/4cOGr/RQ8/zfRwN1+NI9NPe0DJvvtPk4W5iFhi3N9NW6KDelVbkorGjeUr+19hTbXnL/5ozM07w/gaeOF2C78U+ep7vY6CrAb6/h7rdEVLj6RDGkvTubiJ4aguPPd9HT18Pj/32SUId/Vz/px3UbrQ4c3qk4L13l9Yu1xInxXcAZ88wkktP+XVu6tu82IHkoR6G1L1aRETkqqSeryIiIpI31jsxOvb3Y2LgfiRA422FXW8u6Z+nABu2jyy46BSGy42bGHHg9I+TUOFaeCXbBjYAI++9BywQVHqrn5Y/j8yc0X4hH/XiC9ZQPOcCFkPfaidy0UZN+3iaBBsVX6ilOxYm9L043kfcgA33rsfwvraHyJEgvd5uKk8fJ3lTPV17vVPTK6y/jg0AuKht8uAcDzTeUEPbruPUHUwQDETZ9pRnRi9G81SQ1kNJ2FhBW/sandF+kxffH5+k7qnhTI9tK0HwL/sp+0bNFfq+FvHnniCSslM/OTXGxnJamyqI7QviP1JGoNoBpyP0vg18ppwyG4CNsru2wUtR+qO/5OiLg9TPuo80Qx2tBE6kMNeX0/pEE85TXfi/cxprzMS8oYbHn6jHvX7WlWdubaF2OWYyciSA/3sJrEsmxtZ62ho2c/wvfUT/FTBKaNrXRkUOP4rMKTVMqCPI8ZSFecmB59E2PKPd+J49jQXYt/vwf9FFofowf+SjNiDFe6PAuoWXt22tx//Fc7QciuH/2ha658g/LSIiIquXgq8iIiKyZCMvtFL3/cmfXI+rqpkDn/Xinqez41LXy9W75xOAC8d1i1hpLEVkf5AzhgGWhTl4nMQu18LD5ddflxk+PJIkhXv+ocQ31xB4vmYRhcrRpZP88BULKGfLzZM+v6EYNxD9pwRJ3JnQ8Do39a1ejj8aIfxYHdFRg9pv186d13YWjk9W4jqYIHEqyvGLHrwbL//NPB2idW8E8+YaDvxVY86BuauR/VOPsT/RwJ4j2XD62RAtB4vpfsRdsODdhEsniR4xgW0U3zD1T8atW3ARI/H9YySrazHeOZcJEP8X4/JCRZl/W/PU2/Qrnfgv1tDzLQtfXRB//RDFO/cTeLENG3GCO/ewZ7dBdyi3+jN/uzSJH2witG43gefbsF2K4av20xQzcD3cRUdRkKZvxuj4voeKh92ARfzpBtoP22h8viunXupciNDyaBzPkz303AAjh+poaqujf6OXA4HHGGptJ9LTxbHPBqbU6dzkVh77rzuBBMkLkFtuFRvFdQG6PuajtSNIyz6Djr2eRbVXERERWVkKvoqIiMiSFd/XkelZd4XWm9PJTqq+U0zfN7xLzCVpEj/YQohGuv8qRdNX+zFHIwycqMdVbiy8+kr7cZzM1FZDBJrq6Jr4g5XpZXshzeR+ubat9Ty24zh7jqQwdxyg9qZF7s/hZDOQIEEyCWQDVearPnbuO82WXV303VOMbTEBInOIzq90EV9MOX6nia7/Xj4l0FlVVbWYLTA4OLio5aea1JN4Iv/rk4TLu2neWuDw68Q5NzDmOs4XholfrMXzMQcGCaxfWZf/Npb5t/GbG+ZoM2mGB4cp3/449mSQBEB5Kx27xgPL1+P8DeBsP9E3azO91ceSRJ/yETU3kHr9wzQ976Mi1wb5Ri9PvO4hEHJn6s0Y/ApgvZemHXZG9p3Bwo63fEt2BYPrXZV4/quLbTldStJEAyEcD/ThyQarLSszjt99fy3uf4vwZMrCuL2SskUHXpdSnsVxfsZHX8kQnY/6aKhL0fVi/Tw94UVERGQ1UfBVRERErnqpn56H36pYRuC1ifaf1GaH9Capvamf0NsWsR+epLW8nFUffh0jO1mZh8eeb2bhjLk2rv9NB5DGPBKm/3NuapYzlHt8q1vrqN96ktALHfTe5KexdBFnxFbO7ufLl12G5QVTl2Cdm+aOZs49ECRhAaSJfD2Cp6e2sMGxiXO+8HLGndV4N8boPzHEsFlGmc1k+IfHATveP5yrftupbBug0maQeC6Tjbnsd0snBbrfJfkWgIn172R6ju9uove/thLYV87IU9vxvRCn4pEc8zffUktP0DYRsLdOv8YwwNYtFBfZcPmOUjFtFcfd9TTntvXs9+mj0jb+DZLEf2QCDkp+2w431dM3OHvyhemsC8P0doVJ3NDI47su93JeXHkWyRwh8mwXxy46KG+pVOBVRETkKqLgq4iIiFzlLEYSCWwf+9DEJxs2OAALa2zutcalBtpo/1EZ+58dz6XoZNsfuAgdTEAswrGmcjzzxRDHrEwQ7Pq5ehBOUqicr04nLiDB+/ziEgvnkrwQwf8c1H6xgv5DMcIHImxbTC7JtxOZwBhlbJlcKFsxNf4eru9owtdWR3xnBx27Cpc/c9XY5KVt1zEaDiawDBfNTxU48AqTznm2nk8+d+N10tiM0wFc+iUWTtyuMzx5/05sRRbmR0tp/nYL3lvm3oWxPpOf9MwpE3BResekM/l2gmELxutA6qif0JvFND5bgaMI3v0w8NppRh5xTxyLedulYZtST868nunXW/aJkpnB4Qsx/F8fIPmTERxf6cGXY/fazPfJuhhn+AKwfhvuHHt+p89GCYf6Sd/q5XNf6aJ+vIfrYsozZgEO7Bty2+f49n2tfoZGXdR/w0/tLWu+RYmIiKwpCr6KiIjI1e1ChL4YOB++HPCwrbcDCVIpYJ4eneapIC3PQOOzzbgnxTMcd3lwH0wQJ070hyk886VIuJjiPGB89MML95AtVM7XjduoLg2RODnED0+alN896cu800/Dn5i0jQ9THksRORDC/EIX9XV2NieH8MVC+I+WEdgx2/ecGSxLDh0jBRgVHkqn53QtslPeGqDxf9UR6mul7de785tiYlWz493nzy3/6HJNnPPjnD67m7LbL//JGjnHCGCvrsz0gv7xENGLW3i8Zzdli80VOprg9FvA+i1snnQaU6eHSQFsLafEiNN7KAElbWzbBJAm+RPAsqb0zs21XUKSxD9aTA/4WqYJ60yif9nDhodaufEvW4j80znMirJFB/itxBkSgHFXKRPT6o1ZmJfAZpvUkscsUid7CT4X58OV1dQ90Y1zSp1PEVlEed79XyOAC9uHcyyoGSfY6mfoog2PX4FXERGRq9F/WukCiIiIyFVm7HJAJZeepflcb/rnqVNh9jSFSACO6y4HX+3FW7AB5346Rx9TK01iwEfT3gjW9vqZwbL1bsqzwazE3x0jOV95U0lGAPetm3P9RgVgp6KllfKNFrGuDqLvZD8eSxHpDHN9gzcTeE2PEO1oIfiGE8/vOQEb5Q2NuLBIPO0ncmG2bY8QPtA/cQzMk0FaDyVho5f9LeWzB5mKHNQ8VIMdi8TBNnrfzv83Xk3Sr/ppOZii9NFA4XK9ZnO0Xm47dipa26jYaBL5m15GzOzHo8OEumIYDi+PfSEbVnQ4KSZK56OdBA8Gs//1Ej0RZyQ9f/KCieH/d5ZMClImOfZ3mcmzGls82E5FiY7ClrtKsr2/z5N8Eyh2TplTar52mRpoYXtVFTsPjcA7wxy7AGwquzwBnzlEx84nOPavJkZJA16O03/BzraqHCc3M+ME762iaruP2KjFydcyPWvLS7ZMLJJ8sYm6F0ay3zFN4qVO9jQ/QeRnJTSHArTdWzEt8ApYiylPNii9fgubc8orazIUaCdyEYzSFupLFXgVERG5Gqnnq4iIiOQmFaGlLjvxTtbI03VUPQ3sOMDgXLkd87he4mAdVQdnX/wjk3ur3bSFUqOfoX8+D5OTAVjDdFa3E50cbxrYw05bF31fzA6OPhuiurmf8VgWb4dp+HQY8HJgcGY+1dTb57BwUvLbKxwYcVTg63ISfS5E7+7tBLFjX3c925q62X+nRaS5iuDZ8YXThL4Xp+aR64nszx5jK0Hw/iqCuGjuCeCdiJoV49mWJnh/He9ikk6Do6IZ/1e8FM/3lW+roX5rP52nkvQeiuH1VazJ9APmqSBN+4ZwPNyN71MF6OE7rR1k2s74OSqnrauL6HMhfA0RWAemaWPLjv1031d2OY3Exm3srAjji0WJnJ607QEAA8fdrXTsrWC20o/8+GTmH6dOEjfLcK8ziT/jI/xTB16/n5pNEP/+EBZwpruFuheBMZO0BbbfcEw953O1S9IM/0MCy3Cw7Q4bw9/tJTl5vbEk/V/zk9rVjefjDvhSMYmnOzA3VlJ+a44ZmUeGiF4EY6ub4n+L0PHK1KCzeTJI6w/cPP6sC7AY6fPR9j2o+Qs/tbfNU3ONYjy5lmcsE5Q27t6SW1qKs70EYhZgw/uFpea0FhERkZX2ax988MF/rHQhRERERPLLYuipanwnvQT6GnEtdqh1ztJEH91J53uNdP9NDc5C7WZFxAlW7SEyIxibu9RAC3UHE0AZbYf3UzG91+DV7kKElgeCpD59gO5HcuyBecWNt4Vy2r7VRsWk82ilE0QDPoJDJt6njtK8dfq6SXrvbyB8wUl5hcHJE2nshoXh8tL4lXrKHAAp+hvrCP2rlwM9zbjXjZ/3JBW+HtrKJx+VuduleSpEiz+KVWRglDThuw96Hu9gyLRjNwxcdT7aPpNtYWMJQjtbiN51gMDWBGeur8Fz89SgZ2qghbrz9Zd/3BlLEdnbRHjEhoEdz5+1UfY//bQdTmJbbwNHJbv31uOeXEetFPGBboJ/m6LsK2003jlHI8ihPAC8EaL6qxFKfQO0lS8cNE48U01LnwmGlwNHmnEX7DomIiIihaSeryIiIrIGGZR/1ovtlSjHzzbiun3hNZYkPUzslEHZo5VrLPCaH46bNmOQwGKYMyNQMSO4dxUbHSbYGiRV2kbg4dUaeAU4Q/wVCz5TOSXwCmDYXXgfqCE6FOLcOynYOm2BVHZSqk2VNLTV4pt1+++SeguM8i1sXgeQJn4iARu9eGakYJi7Xdq2NtJ9uHHK0m3dFbN/pdePERm14bnTItp1ji0dOfR+LXLg9Q/gnfzZ7QEGvjjPOoYD9842uu9Jk3glTEvdGRyfa6NlRzG2yYHQHMuTOB7F3Oil+s5ceuumOPd6tv/9LU5uVOBVRETkqqWcryIiIrI23V5La4VF/wtR5sj8umyJ74aI31RLY46zrV9VJnLtzjE7fS4czonh1efeSeWlWEuTJta2naqqFiIX87A5M06wqZ3ox5sJ7K24PLx/VXJTWefAiAXpjE07B+kEvQfCjGz0Ul81s1en9ePspFT/zTX/jwsGGOMpBlLHiZ4ycH2+Bve6WZbNR7u8tRyvwyLaEea9e5soL3TzK7Lj+sxuAs930fDx4zzZ2ED7oWFS4+0il/Kko4QPW1Q01ebYE/9dkuNpQn7LqZQDIiIiVzH1fBUREZE1ykZ5y+N47n+Crle30XZ3nvsmng3hO+Kk+dlanKs6+LZ48W9WsefI+P+NELq/itBtzfQEvbPmBV31Rk9z7KS1iImO5jGWIvK1diJ4OfAX3rwFXq3TIVoOO/Ht8+T9GLu+2EPf/x2l9wUfO7vSGOsMuGRhrbuRsj/aT88O96zf48zpzKRUbtd8k8ltZksJRC79EjAZ6g6RKm8lsGOub5GHdrnOTWPPURoXXjK/igwcd9az/8560m/FiB6O493pxrZgedLEOoKc37Gfx/N9HRIREZFVT8FXERERWbtsZewONNLS1EakOIB3U562a8YJ/vkxtu3rzt82VxH3I4MMPrLSpcgf6/RrDANszXGio7mMmQwfbCH4s3J8gWbc+YqjjSUIP9XPR+7vK1hw23aLh8Z9ntwClu/001Afmpj0avipaqq+O1deYxsVX2km2hKi/WcW73+slY5HF+gNXKh2eQXZb66g9ubclk0N+Oj490a6V3V6ChERESkUBV9FRERkbdvkJXC4EnOpQ+dnY2ymvrsP22zDqmXVGfnxSQDKPlFCLtk2Z2cSP9hA+8sOmp9to3y5PWgnNjtC79da6b/oZnfpKhlcfkMN3YM1uS+/ycuBw96Fl5u2Tt7b5SSOHR0MjC39bOeT/ff8DOywYayxHvIiIiKSGwVfRUREZO0zbPntcZbv7Un+Teu9CdkenE9B8YM9dN2zuD6mqYE22o+A9yl/fnpqjpkkX+3F//V+Ri4BFV4qV0ns9YopZDsqMqZOirWCjPW6WoiIiFzLFHwVERERkbVnvPfmaIz2e/wMr68hcLgR1xI2lX7VT8vBFB5/N81blxZIs0ZNrEspzv3kHIm/jxE5ESd9afyvBhV3lS6jV66IiIiIrFYKvoqIiIjImjWe79W4q3RJgVfzVJCmfTHSQKStmkieywfAei/Vdyr0KiIiIrIW/aeVLoCIiIiISKGcOT0EgNu1efErpyK07Y2QznOZprNVbcO1SobIi4iIiEh+qeeriIiIiKxRSRL/ZAEuSu9YQroAh5fA0UVOJCUiIiIiMol6voqIiIjI2pSKM3wB2FSGOzu/VvqtYUYurmipREREROQaouCriIiIiKxJ5usnSQDGJ1w4Acwhupp7OTO2wgUTERERkWuGgq8iIiIisqYV/+b1MJak/2t+Urva8DoKvMNUlD07qtj+18NYBd6ViIiIiKxuyvkqIiIiImuSraKZttfO0/FcCzu/Y6esqYtARaEjr4DtRso/XUvF72/BKPzeRERERGQVU/BVRERERNamIgcVe3uouNL7tbnwPuy60nsVERERkVVIaQdERERERPLCJHFoD3seamB7XZiEcsuKiIiIXPMUfBURERERyQPrVJiONz00f74YKz3MmXdWukQiIiIistIUfBURERERyQPTsuO9z8XIyzGMWzxsu2mlSyQiIiIiK03BVxEREREpjPUbGJ/eKvkv6RUtypVgv7MW78fjRE8aFFeWcQWm9pK16tIveD/7T9u6D61oUURERGR5FHwVERERkcJYV8yW2zL/NF8/R2plS3NFpE/GiFNM5R1pIj3DrP2QsxTEW2c4CYBB5VZN3iYiInI1U/BVRERERArEwbbPujP/PBvh+JrPgZrm+EtxuK2Szf9fmAgbsK90keQqZBE/FsUE2OilsmSlyyMiIiLLoeCriIiIiBSM/VPN1N8EkCT8wlAmoLRm2Sn7fTfGW2H8gy5aq4tXukByNXq7n+AREzCoaKrFVbTSBRIREZHl+LUPPvjgP1a6ECIiIiKyhl2I0PJAkIRl4Hq4m0C1sqGKzMqME3xgD5GLYN9xgO5H3NhWukwiIiKyLOr5KiIiIiKFtclL4Nk2yjdaJA624BsYWeM9YEWWYDROaHc7kYsGxTsDCryKiIisEer5KiIiIiJXhpkk9oKfjsMjcE+Aow9qIiERAC5G2XN/J2fWuajZ66e+RGFXERGRtULBVxERERG5si6ZmNiwrVvpgoisEmMWpmlh2GwYyvEqIiKypij4KiIiIiIiIiIiIlIAyvkqIiIiIiIiIiIiUgAKvoqIiIiIiIiIiIgUgIKvIiIiIiIiIiIiIgWg4KuIiIiIiIiIiIhIASj4KiIiIiIiIiIiIlIACr6KiIiIiIiIiIiIFICCryIiIiIiIiIiIiIFoOCriIiIiIiIiIiISAEo+CoiIiIiIiIiIiJSAAq+ioiIiIiIiIiIiBSAgq8iIiIiIiIiIiIiBaDgq4iIiIiIiIiIiEgBKPgqIiIiIiIiIiIiUgAKvoqIiIiIiIiIiIgUgIKvIiIiIiIiIiIiIgWg4KuIiIiIiIiIiIhIASj4KiIiIiIiIiIiIlIACr4GagBEAAAgAElEQVSKiIiIiIiIiIiIFICCryIiIiIiIiIiIiIFoOCriIiIiIiIiIiISAEo+CoiIiIiIiIiIiJSAAq+ioiIiIiIiIiIiBSAgq/XGjNBuLWd6IXCbD450E7whFmYjS/GhSjtrWESq6AoIiIiIiIiIiJybVLwdQ6pgRaqqqrYvmM7VVUtRFIrXaI8MOMEH2glXt6MZ1NhdvHe+WHO/WwVRDw3eWguj9P6QJD4KiiOiIiIiIiIiIhcexR8nYOjOsDgy13U2K2VLkqemAwF2on+Viu+asdKF+aKcFT7aP2tKO3+GOmVLoyIiIiIiIiIiFxzVj74eipIVVUVLQOrsGtpkQ37R1e6EPlhnQrTEXNQu6sC+0oX5oqxU7GrFsfJDrqGcgiip2P4dlSx3VeIYG2KSHMVVVVB4nnfNsS/WbUyPbSnt98ZxzBf33vmdhKH6ti+vY7w2TnKsoLGe84HT+VhY2MpYv4GqrdXLWGbha13M87BnMWI0FJVRdU3C1GKVbjfVWhGnTwbpm77duoOJRZYM03Mt52qHT5iq+1XrFXU5qdbsWvyVSNOsKqKquYImUO0iuvZHHSOryU5PIPIKjf9mpPjWots53l9/luMVXBPz/s1MefvtAqt1PPJKn4uWtmymSQO7WHnjqrVe3xWuxV5p1rFz4ZLfD//z4UtlawOKaKHIphbd+O5aaXLcoXd5KFma5jOQxHqymtwXol9XjIxLTBsNoyiK7FDWcuSh9vwx5I4d+zmsTssfrVhjgVXSb2zTBNrzMC23sjPBscs/n/23ji4res88P295et9VQ2ba9hK4LqGlTXkrCB7HvE0S1gvZNKAdGyoZcCOTGYcwGOTrgXGFuBkCFUVWK2oagnHMZk4BB0Tck0oYzCZENUsEW0EeyQiTQg/mepTwRlbUCPRuzJU18i6QpbVTdjclvPeHwBIkATACwqULPv8ZjQjkvee+53vfOf7vnPuuefIsgIbNGiqVKSgBB8RG7qhEPZ5Q1N1fyUQrCfCR3+sqbo/+jjay8exTmshn3tIGjQbrrcw1afafUGJD+IJJZDqO/C2aGGDpirlCqrHjZaPqR6fL+P6r3wVrD+XJomcA2OD+RO06jWPlsZmM1yMMnVptUst9B47yfHeq1sdnDjcSutOL9EPr6KQG5Uq6VANxidCHD8eomPLOj/oupImMZkCrDh3WzFbbDSUeIFyPexuZRukie5rpXVnoHorbacDtO5sxXtcvKWuKls6CB0/TugJ48KvituQFkvvcU4e68XyyQsgqyPss0pcDztbB38l+MRwPXKQT3R++bHnKv3RxzGmq67TJ5APo3h3ttJ6+OMYvaofm8+eiaFgwP6MHct2K5Y6Mfn60aJUm39U/ZX68flyxMrXtTI7Q/TVAMG33kOSFGRlM9YuF3aLnsLuLJ+PMPitIKf/WYM0L6PZZqfNcIHwazFSmHANv4BtnQ6/ypM+M0kKHR33f6Ss9pqh2WxExxSTZ9K03fXJ2O9W8HFD+mS/4RcIBAKBQCAQCASCNSHGUoJqU7lNVXXyNfHdHew5ZsAVGsSWm+Oa6m+m53UdHX8Vwp6bEU4ebsU9ps9el7tXuZwk4vMSjKeQ0aBv6MDrtmEomMmUz0cJHB5l6hdpMmgx1FnpcHdg3pi74Iyf5r0RDA+3of/7KPGLMobdIQZbdTCfYeq1AYInz5JKK0i6rTQ6nDgfNlDxu4/3I+zp8vNecx8jPzSjqQH5/Cjer3fS+fYLjDxrypZ5cRT300EyD/cR8pjRyFMMPN7DwNt2hr9lx+sKk5iRsd25TIK5FOFeD6MzMtzVhu8/W7nyIx8DP83AXAbNdhe9e63oVTW2wkwyCVgx3FXiktkZIi/5CCcV5DmJ+se8dBom8f1llAwg1XXh22tBdxUOK30qwMBLk3ygyMi/b2Xfn1v59Ugvw9MKoMX6n3103LdOb6HuMmACoskZlFYdJRezpyO4HX6SLS9w8llT7ndTBPr9RJNpZEVCW9dExy4n1nuLyJq/H4AkfkczfsD2/Elc2/IXXSF1KsAPvhMhkVGQtCZsnn046wsmxqtlq7l2DcZT2U90tCZs3+jGuX3pBHTmdJCB4TBTqeznK8YWO5unA0TetfHCSRemSp5ZTIfLmU8TO+TGF5cxfm2YwZ36RTmOTHD2Yhplg46tn7Pj3GVd4gMKSXy3mT3HjEv8Daj1JdmXIvGLMgoS2job3R4n5kLVzKeZOjzAwPEEmTmQavU0PObF3WJAU9gXZmeIvNTP6KkZMvMa9NtsWD+t7qC+9KkAAzlbQMrJ+owNQy0L/ixLhD3NEaBIm1xHu1vSBu8Xk9e4xM/zLymmXv5BTqc5ve91Lvrwpdoh4nLgz+2nlxxy0DwEFNiWqnZczvsxej0+4rNGnIFB2nJ+sbz95WWx4Dp0G/FyeizCkj5G8XqXtQVYbOcHXfTdEi+vQzU2mbMv4+4Qgw9MlbGhfN2X2t6quq9EXnmG6OEAo2+dJZ0B7b0mrE9007HEPrP90X/yLOlZsr74vitl9b5QfDVlXWyxVe0TFDJvR/D9RfbZ5H1I69I+VanvW8h1Wp2YfxklciaFXKPFsN2Op5jNNLRhlycIT2dQ8vKp6u8yM68HGHxlguRsgV0W+lOVfiObA0Q5m5ZBa6Kp08jS1ltpZ1n/YsC+18oHPyqnw2VybtBjebIRZWiU+BYXIb+NFS6hqH8tiCdq/f8SZJKHPXjGZtC09DGyO58fqsxdH/Vi/WWodOwq7NdzEppNJmy7lvWTYuTymMm0gjynw7rXi3V2hN5XplEA7Y5efE8YK8+FK+XDKQLPDxCZzqCQlb9t9z7shSuQ5BmihwcJnExm85Zi7a3mmlXzn7y9NdDm+DUTRxNk5hZtTz4fYfDFUeLnM1Crx9RiRbfMha7IQdS2I2vIu1TE+VVjSAlWuy897sYxlFyWU5Tur9Z2PWffiJOaNazIz5br3r5bYvK1OKlZ0Na1sW9/GzefChAYmSCRAc2mBpwHvFgLxi9q4/7qPqegLSrxv5WiJr6U80fvF8TqggOTS9lfpTH97tf30N6fwOQZ44WHC3zJbIyenT6mtnUz9rwVLSp82RLFRtnTPkCi4P4sCnHfDnpjJrrHXsBazn2prlOJ+z+cIjgYIHwqhQJFcjaZmfFBfK/FSc0qsEGL6YtduJ61LIyx1ceh4ij/MElwf5k4DepyoAKyMuV+OLaH5mPAslhXlbHQGZW2t0LXEpr7bNgNCQLjMyvaqKxsq8XmIpStR1HfWaa8+QxTh59bEvtNj7jY125ajP2VzA2UlLGJrme7seR9WwXxo6jMpfKw+SSBdjdh2hgcc2IsyF+y83HQ9uI4zvtQF6OXkMDfvIfI8jyrmN2UK7tsmxcfg1R1zLRCn6vkf2rH5yWo6rYDW+sagCSn35Zzv0kyfQogzdR0/pO8FIk3ZbjTjKnA6Gd+6CPwD2ac+704t2tIx/y4C06pl8/46Xx6gInfNNL1YoiR3jZ0M6P0dPqIyyxh5vUIyU/ZcHldNG3SwHyaSLeDnrH30H35AMOhQdwPXGGi341nLFVhLdNEvuknMWfBvcu80BE199rxfFVH5thBgmeyGVoiMkoKaPy8OeucNWYatgMfhon+poOxk8fp/cJKg06+5mF0Uy/jXivyO6O4291EP+NhbCzE2IiT22IDdD0fR15xZzEyXP4AqNVwc7EBg5zA/0w/6R2DhEIhQs/oiQ114fizBE0D/bR9RiYV6yf8doVqKiA97sbzhh7X90OEftiP7VdhehydDN/kYnCvGUlOMvpXE2s75CodZU9LMzu+PUXJ6a6am9HUAh9cruwZc3F8nT2E3zfi9IcIBTw0Xplg4Gk3oxeLXL/Riu/oON4HAQx0fG+c8aPjOOsKL4rhPzTJTY946PO0oZ9LEPZ2Ecgf2FAtW5UT+Lu68McV6p7w0neoG9vtZwnv71yyyXgm1ovDO0pCMWH39NHntnHzm0Ei71aiqAqYTxPxdmYnXnePLEy8psfdOLxh3rvDxoFAiMFnzFw5OYC7O0xqvrJHqPMlfuL/UkeHt48+jw3tL8L0dLqJvF8gZ3cnPUfPot3RTd8hLx11CvGhLjqHEot9L6/nWArtF1149zsxXw4TGJ9ZVc70uJvO/WHO3m6j+1Af3ifqUOJ+urr8JGSgzsn40WE67gGw4D06zvhR50rH/lGxu6Ly+rAWBrgTfg6+eRNt3+ije6ceeTpMjztAsmgb67A+N8641wKA4clhxo+OM74rN/Gqph2X836EPV3ZiVfXK4sTr+rtbxU9FkGO+3J9rB6ntw/v7ia0yTA97lw7o8IWCllNh2uxSVU2VFCnSnSvRt6nuhj46RUauwYJBfto+9QFRr0OfPngXtAf+Wwb3Yc8tNUm8Ifipeu0HrIuobx9Zplh9PkAqW1ODnid1G9IExty89yJxUh0Nb5vZjxA+HLW17m+qCUVK2Ez8TDh35hxervpMN6mur+nxjy4+6PMfDprl93tm5Fjftx/ESE9j+pyFuybrbR5+vA8chOJwVFWbz11Okwe6crJ2YTL24f3ya2kXl2l/HL+Sq3/X4JMYqgrN/H6AiPP5iZeK8ldy8auFOHuLvxxCWvvCOPBPux/kOsnPyuTDb4fwe2Jon82RCg0Rn9LhrDXQefIzbgG92GWZJKhYSbW9AmvQuJlBzuau0r73DxzCfzuHsJJLVZPH33eDup+PUXQ4yac3xJqPkW4283A8Rl0Ld30Heqm7TMysSE33nzeouYalflPljjho1cwP+ml+8mt3Maiz4hd0tK028uBp8xcPhpQnRetloOsKe9axUdXFEMKWOt9ZWpPdDzJHS0uvLub0JfdizLO6KspzE8doLtVjzw9So+jHfdggpse8eDdVY90McbAny36YLX+XK3PqWbuuSrl4oua/KkSKojp2u1WzEDiJ5NLDiLLnIoyBZibG7MTrxX4smzBTdgelOBMmInCbd8yE0RiID1oo6mSDzIrzFOQs2O40TMK9bu89HldNN16lrC3C/+ZrMDpY17cQzHk+zvwHuqj+yEtZ4/76OqPLxtTrh6HSrFqnFaTAy3DtGuc8e91YAB40JvNPZ6zLnnJWJWxkFoyMXpzujY5uuk75ML2e5MES+SdZWWrsC+sWo+idlOqPIXEy13Z2P9QLvbfLzP16h7cR3M5TaVzAwDpCN6v+4n9Oi+jFW0yis/pIz5XgW6KsVoeVmOk8SENzEaYmC68L8nkGzLUWmm8D3Uxeq2sVnaFbV7VMVNRfa6S/6kdn5egqitfpboHMBNj6m+nUR5sQLqYYHJWQpIUkqeTyK06NOkEU++Dpt205PAjqb6b0CEr2hpguxHpfzrwn55getaCpTZF9OUImdo2Bv35Wfs2ensytH49zMhxBw3ti6VJFi/D3oaFt1FKfJDAOwomzyC9ubd6+t0+fnupnYEjIeItXhrUblZ9cYLwOeCezRiW3aPfYgYiRN44jXObgdRM1nUXLkeWfgdA4cKlNGwr8splPsnkGxJtA0bSZwYB0Dl89D6cq99GPXogEYty+pkGLLXAbILgAT8zvyeRSJnp/35HwZuND0idA7boiu7BmXztIImHBxnJv9WY/1cANC1d2G6ZofdtBTbaaPhs/o400b2dDCSb6DvajXm1PZEzUQYO6+gay6/UVVBkABMdj5mQf/wcaUXC2LTG/Wg1d9PwkB3Ll7aWXtGKFt3vA+dSfAArV8CUIpkgpoDhkU6s9+gAHa7/oqd+JsWv/1d6ZUk12U2ib/1dAAnNLZrspO8yWdq+Fcq+YcKCeaPCjr0RopNJnFuMKKdGqmKrydcOEvlQg9U3THd9tm3N9Sa0X3cQGPIT+2IfFk2S8EtxlForfcPdmDUAZswNRgYe7yE6q1ZRKslNvPrPgOnZEV5oyelvLs7I4STKtm4G9+fejt/lwqekaO8PEjplw9ug/jFlfYkmyagvQmZ5ne/X4n48gP+lGE0+C8qJAfzvKBi/FmJwZ1ZO8/Z69Bsc9Bw7yOiXxnFugeQPDhL5UMKyfwxv7kWKZXsjdf0Oel4vM3LJRBkYSqJscRJ6sS27qny7mfpNAzi8EQ7+oInxXUY0tflDfG7m1lpN8TfsHxW7q5FWl3djG/3fz/lwixmdsoM9x6JMnndiLLJvnqTRINXenP3/Bg2a2ryfUteOS56f+2IhgQnXKwXbvVRkf+X1uIL5JKPfia3oY/W3Q9crU0RP2TFtm1JlC2p1uCabVGVDBXWqRPeryJs67ifyoYa2F4dzeoW2/b1k2t2Ej0RxNLShjfnxv6Ogf2KEEUcuFm630Gh043i5zCnIVZZ1OSXtc/EKzJ4Qfbk+ZTZKuB1+pn46jfygBY0q2ysd2TT5r2py+mja5qP9UISDrzUx/rUCm9nUwbDfvrCSR4n7Vu/vc1H8h2dW2OXWm/fg/XGEifM22i6r8BtKDP9QEmVTByOBvAxmLJ8L4348wOpnWK+iw0yUYCi9VE7MWP6Tvnz5ZfxV5nV1/n+R7MRrz3gGbesLDO/Off1Ehblrudg1l2DyIvCwnY5tekBPm6cfw0MfkJ5Po2AokgNliA4G0D01trByUMkmYJget2P65wjPpRWk+5rKrwIpicQdxias/95I4yqJlfJ2kiufs9FRb8derwXMmD+V1UPkZynaHHoyJ/wE3l2m9/qtaPZ6ify3CZKtdnQqrkFN/rPg3/R0+IcXvsyDJAFfhIxkofeHXho0ABbMDXWq86LVcpA15V3lfLTKfGIFa72vfO2x7B1eiD3lKdT9ZrjUzsAZsOzP329Bd7kV99GcD75XpT+fVelzrtL/VkzZ+KIif6qESmJ6bQPWByWmTkSYvGTLvZTOMPXTBEgWrA0aKvVlWSTqP9eAdCJG9FSKtrvyX7nFSCBh+Vx9mXHbVdYJSL7WT2xuuR+4DZ4ZZuqN09i3GUn897uxtlqxfs2KoQbYnrPDEz/ntLuhIO9dJQ6VEXu1OK0mB1pxWPQGDZpbNFn9/e6tRXKP6oyF1Npg8keDxJfrensjxhJ5Z/k5nwr6gtocT63dKAmS/9yI7cl67I9m5yXM9bpsW/xkklS7HX2lcwNAejrF3TtsWK0urPdkZdxMivb+GD8/7aHhC4s9obxuioisZvxmtaMfCxA9Gce5rSFrN+cmic6CfpcVI+pi9FpRU7bqNq80blWY12dUjf+vzl9X98CtWiP1W4B4grPzkJ6eIk0DtlYdnM7+Tn77NEk0WP/vpQHdUG/KGhoAOvQGgCtcmQPen2LiImg+X4delpFnc//u2kw9kJqeWbISwWBc+hlA4q0YCkbq/6O0eO+sxOY6AyinOVvqTUURMm9PZd8MSmVCRjzBWbTc9gfZa5SC2XXlXwEkdLeXmmo0YB8Zwb5JJnlmBtDQaDYs/vnDFBeABd3ICfxdPUwZPezzebHXjDJ8TP3BH4bHQgw/mu9QCtN/OwVAvdEAtRZ6j5/k5A9dmBYCkIa7t1uxP2Njq5qoWdvEgTFPLoEFLiaYnAXurGOrFgxPjHHy5HEGW1afEs2cizLg6aLneMFKPI0R2+6Oskv918xntmKWYOZILwPjMZKXZBStAfN2C5a6te4d20j9fQU/3qnHAMhzvwWqZaspEm9l32ZZ6wv0UqPD+mUzMMVb0wpcyraF5iFrLmDl0NyN4fcLfk5HcDc307zkn7/CTdAvEOzuxH9GQ8PegolXgLeniClgrN+KNLvYv6X/UIcBhdPJ1VeRFlLWl5Sq851WWuuB028xPaeQ/LsEYKa1ubCdNZj/yIoGmckzKRZW8dfaaF0y0NBwt6F8kFLeTpAAzF+2LtnOQ1NvxVoL8psJKl2TX55rYXcqeKB+yScvd9xtAGSU31RYjqp2LPj9TBD3U34Smga8y/fZrsj+yutRrZyahm5C3w/hfVBbuS2U1eHabVI1leq+rLxppiZSoGmi7q6C2C7r2VwPXJxmZjYfl8w4WpbWQbdp8zWUdS0YqK8riPU6PZsBrlzJ5ixX6fv0hruX5DqaL7RiqwX5rWU2c79xyTZFavp7KbvU73yB0PdHsG9RWc70W9nVU1+xLd0q6U4Dq7SeKh2WklN9+ctR6//zZJj4Zid7xjPo2/sLJl6pPHctF7s2bmbrRiDmp+dIlMS7aZQNekzbzVgbik28Amhp8o7hWUjAcv4BHXX/UQv3djB28iTHXyyyLcMKtaSZOtJDlydAomCCUPeFDlyPmgvkLo5Ub8e724V9myargzngdh16IH35MiX1XqOnrT9E6K/sGFVdozL/WcCEsfCQjFyOqmltXcxbYWVeVIY15SAVlL+cteYT65OHGNj6WbX5eKHuc4sklt2vvUPPgg9W6c9V+5wq556rUvX4Ui0kGpqtSKSInsq1eHqS6BnQtLRmJyAr9GULJW/PxqTUj6K5lWYpJv46kc1Rtq/nieYl/ICmge7vhwh5LWjRYX22G9duK/q5bH2U+bwdprm85EXIKrG8DCvidIMVq5SP02pyoLVp4OrHQmqfVELXZfLOsrJVQlXrAUhm7F4XrkfNaGZl5FkFanI28X6Gy7CmuQHdwy66d7uw5ttYAe3G3Jefv1q6prVS3agav93ViG0LKD/7Oadz5SQmIsiYaGvOyrF6jF471Sy7umOmFaVXmP+tjSofuKXD3GTEf26C0+edbE0mob4Ve+NtRMeiTJ938a9/OwWSLTtJq5Z0mhmAYz20Hivy95zzKx7u06TfA0gS+NNWAkWuqCTwKWo+Q1EAJBq+bEN7Iszkz6dw1mf3fI2fAjaWCTo1UvaNzHyCxGlAaqL+3oKik2ezb21rt7JZp5AYeo4IVl74qhENaTS3QHI6t8pYhaiSpvCqsyTiAGYeqCsVFDUYW12ofhdeI1H4iPzkteZzppVv8ooxr5A+PYr/1QQ3NbXi2D+MvhZAJnnkIMHTlzn7z43LVvtWCa2FfS/+ltHXwkSGfEQhuzdX+wF8j5nK7Pu2Vqplq5fJvE/R1c4abdaZpH+VAU2GNGD81CprjmvNdBzSLfsE5zbuViPKAkmS7wDIZH699C/pf3wve8XLnbS+XOTWUhNba+FyqTpruPXTkE24MvABgI5bl79lvDUbLJK5YFFKz6uR+VX2BYlOu7yX5ldpZ4N8labLVqG6PvKaoKodC359Lpn1m7OZFXu+rav9lZRzkeraQum+XzUq1X1ZPiD9LkCEnp2RIn+/wpW5Mv3xmspafapve2psRl1/L22X1S7n6qh++bmtmlb1/3ntpnOxDTLL2+uqctdl1BhxDvaheWWU8NgAUyEACb2l/BkAUuGKqA+zX55R24hJ5am8ZJJEjwwT/qet2Ha6GH4iNyB5P4bvO+Ok/scMumdC9K52DPF8hvh3PfiOpxZyCWlDYZ5ZRu8VXaMy/yl5u8q8aK2sQ/lrjSFq77ujapJeJSr9uVqfcE1zz486dU3YaiOEfxQl2e5E8/MISTS0NeZGeyp92QpqjFi/oid8OMrkOSdGzSSRi7nVdut68JG6XEg+H+a5fUGmZhe8EpLaL2HXSs0d6O8h17/U5EBApbnPalQ1N7oGeWfJR6usRwVtmvnZAJ7+KKn8ZKckLX25uZa5AXmGsM9D8LRcIv6tFbXjNx2Nf2TC3x8jGnfT0DBN9A0Ftlkw51W3aoy+CqpY9vqOnyvN/9ZGlSdfQVdnRkeSyakwShyMu4xo7r2VJim88DsaTGytxOn+noQG0H0txPDOSlccarj5ZgArfW90Y75KZ6/btBmJJIpSZIfR+dzv7tNzN6D8VgG9ia1//xyOdg3SvIxmm4vhZ2zZzxvKcX6aSYC6rWwuuPbsdHbHIk1zI8Z0FPd4Bm17EyYNwAek3gVuLizoNrR3AsXkXc7FJFMKsKUeY97o5hVkGTS1EvI7QQ4emeJyUqZxIERHJRPoACgk304CEk3bCqZv52Tkmvzy7fxzMyRPBBn+6wxb//gRXIGOJW84lDNB+s9b6f3KW3Q+P8XZSx1LVy8sf7IC3Knltgol1txrxXnIinNeQf7Hs0RffY5AaA8Hdcs2pq8K1bLVXJv/Y5oMSz+AkDM5p3WrFm7TogNS/3P5VcvYoMO0fa0rffPoaev3ojvixj/kxn/XCK5tWcepuSlrsFbfSbrrS92vfjV3WUrWWeZXvwTQcVutNjvaOJfmV7MsTXp+lSYF6G7LWlIpPa+G9lYdkCSdWT70zpD+R9Zkq2unuj7ymqCqHYF88qhv44U/1xH8uh+/x4/+FVfOZ66z/anoY9W1hdJ9v2pUqvuy/B9ItcDtTkKBthLyKsRL9cdrKmv1UWd7laDGZtT1d0UuZZfVLufqKN1/1lwit6n0/1k0mD39fPkXXnqO9eC9e2TxgImryl2LsNGM3WvGDijpGeJ/3U//+ADuW+9eus1ECfIv76XP1y++QJ9XkOdAo1k6EFLen2L0pQAJTROtX/UxsmnJ8WlEvhnitqc93P1NN5G/u4BsMZfV/sxrXfQeV7DsDeGx6JDmMyTHevEcyX8EXkbvC6i5RmX+U2oHPbV50VpZh/LXGkM+WnmIClT6c7U+ofr+9wamxoj1T3SEj0SZfKcJzU9SsMmJNf+lj0pf9kGR3+k/b8N42E/kJ3HqbgmTxkR383ovLVCRC83G6P96gKl77Ay+0oFRC8qlGP1/5iNW6QrMiijsX2pyoHVAbW6kau/Xa5B3lny0ynqo5XyQrkNRFIuXkMeCrkYhcz5Mb3dwyRZGlc0NyMT63QROG7D7e+nYooW5FLFBDz4VewaXR/34TfsFG5b+BLGTk6SlBDFFwtLStDBhvnqMXjvVLHt941al+d/aqO62AwCbTDTWQnpslKiiYetndVCzFVND/ndg/k91le3zcm8j1lqYiU4s3QBdThIZ8hOIlVsCrKHu8yZggollG1enfxbEPxSubFP5+5uwbQTePU1iWZ9JnU8AEuY/ym5OfjYeJWN8hL6/Gmd8LEmI6z8AACAASURBVMTY0XFGvKufPAqQOjOJDBi2FZxAK8ezbypqrex7zEgq92ayKb+Fw4cpLiiguatw1asGza3Au+mVQXE+TeTrO2hubid4HlKnJ0gDOrNpwYXJ8X7afRNk5hIEvz2DdbcDg5Jh6m11y67lM37am5vZ0RtDnjvNz+MADZjymf98ilGXg9HzuZ/zn7btHSYhteEL9OFsNS39nBCQFS22x4zMvBFDutdKY9lVHLk3i7dWtieHPB3GP+Qnck7JruC9y0Rblx0jkPjFexWUpJZq2aoe0wMamI0SPV1ww3ya6I+zn+8+UCfBXdm+Kr8RZaqwXPk9Zv7x6muzFBP1dQZs/6UP28YMkf3ehQ3dNdsaMAETJ5cdIvd+nOCQn/D0mk59KE6pOr8fZfw0UP8AdRskjP+XCZhi/GThpJvM1E+iyGhozO25V1TPyLw3U75/SPebMAFTP45mD67J33k6SnS2gpXhVaHKPvJaoKodC37/f9ZjuteG75AN7YcRevIHBrHO9ldCTjk+gONxB74TmSrbwtptUjWV6r4sRhqbNfBulIklW1vIJMf9+A/HSFGqP0L64oVrKGv1uVrbS828t+Q++WfjRGZB80A5m1HX30vZZeroHhyPdzJ67urK4f0ZVmk9VVS/fLX+P4+e+joD5t2DuO6D5JB74TCXq8tdl3Exhn/ITzCelUnSGbDsdmIF5OSF4q+H5AT+R5tp3tFLbFbh9FvZl/cNdVsXLkn9sAvHa4ufV+e3dzr44zR17hEGvXYsm5ZlToqMVNeJjUnC72tpbDatklulOXsmAzTSZNFlz0GQtBibm1jcVKuE3udThD0OHH86SlLVNSrzn1Ksd160DuWvNYaovS8/SXnhUoHOP0xwer0OZi2FSn+u1ies2f/OZT8bvmbkJj5n3isYxc0nOf1WdR+j/4INPTLRb/sIvw/6L5kX7eZqfJmuEes2UE7089xJGeqtNK77EskSfkCOM/C4A4cvRmbmLHEFDH9oxZiTR7rLgvWB6kqyIk7n+9cDJvSqcqB1QG1upMr2rkHeWYoq53jpZIIM0NhsQScBNRLaLU003bN4TeVzAxc4G1fgnkasW3KGtkGPpbmx0toWoYLx24Z6Pp87AM/7/RhIDXx+Wz4WqonRxci9PHg3xQcFfiF5erJQkjWWXZz1HT9Xmv+tjepPvmKk/vMSKArKwifzEsb7jdnfYaT+/gpXJ9QYsX/DgnQxiOdQmKl306TORfF3e/Afv4Dus+UVoX3QhfMeiD3vwf96klR6hqmxXtyHRpmcN7C5jDjZBaPK4nYDNUY6nnNilBIEX4mTyf/+Upj+H6SRtjlx5T6/uuMPDPD6AHu+7cc/lPv3wyhT0zNkygZumZlkttFTk1O5U4VTRHz9xGpMuF7sxqzJkPh/UoBC9JsOHI87cDyT3Uhef0dhVNOy2agBLpBafpptZoqJdxQkXSN1t0wR/tEyJ3kpjLc/jdNtRSsraP/EjvFClJhkwPp5dcZ34VSUDBJbtxnIHB8jVljveZmpIQ+R+w9gvw8gQ3zQy8E3bqLd48Vu0Zf8tF+73Y7t0wmipyUMTebyb9py++RqjJsr+iRCo5O4cDyC/y99hM+kkNMzRL+fHQBYtm0ted8ddxuBJKPfjzD1+mhFkzdXY6uFGB87gG2jTLS3i96xGFOnogRcnQTOSRh3u7KbdtcYsXttaGejHOzqIfj6FFOvB9nz1DoctpVHY8LV78JIEr8ndyqh1oprlwFiPjxDUZKX0sycCtPr6WX0TTAYqrhaakmdewnHpph6PUBXV4CkZMT1THaDee2D3bjuk0i+3EnXy1GmTsUIH+ri4Osy2pYD2HOrvo2PebBskIl62+n6doTYqSiBp9vLH7ZFts7du41I5wJ0ugJET00RG+ulqzeKvNHGga9WesjFR8PusvsTSUCU4KsxYuNBYle7X+ydeoxA8kcjRE5FGR1LIKtsx+VotrkY3G2Ed/y486dWrqf95WNXgZyx8QE8vihpxYx1u7bqtrBmm0SlDa1R9+XlTRHc10v41AzpS0miQx48Q1EufMqInrx9ZvujwxskeipG+JCDznKHba2DrEUpZp9q771K25Nf76H96QDRUzEi3+6i/VAMZaONA4+VtxlV/T0nW6FdRo/swfNygsytNpruXUM5j2fjTGysF8dTag7bUqfDxf4zQCTXx7pUlV/cX6n1/0uo0a18uXiVuesSPn0rvBlh1NeLPzZDejZF4tUgUUDfaCqeA83EiX6YHawY/jnC2Imliad82o/nJ6YFe1HOj9L7FwHe2+Zm3y4bplKJlWTA+mQDmb+JIm9spOGzqy2n0GH+khGJCfy+MIlLMul3YwT+cmkbFfbzrN6jBPd6CExn0P5xE0aV16jKf0pR4LN7Hu1iYDyW9RmPVikvusq8q6iPXmsMUXmfZlsTZgmShz1Zfb4eoKtzIPul3LVErT9X63PW4n8vhelsaaW1deUp5VdPifzp3kasG0E51pO1+ViY3sc9hJeP6YpQUV54VxNt20BOpZbsBQlcpS/T0tRiQSK7F6VlR/5AbIXEUDvNzTtwV3BWido6LeRCeT8QizDQ7SP6voL5oXq0xgZsG7N7dwbyPnWsl4E3VIuiihVx2pvrXzm/qyYHKspGPZsl4I0gwViMyKsVTNSq7Usqba/Q5/YcyfllT6eqvLM4KscSVc7xdA80YZRgYrB3Ydwfe7mXwLnFayqfG9hKQ6sW3g3S+3KMmbRM6kyY3u9EK1NJCdSP3yQa/siGhhSpVMF+ztmaq4rRKzHS+JAWlAg9rsBCbu45Wrg6UW3ZKtt8HcbPS4pfS/5XIVXfdgBg67YGpGMxlILtBbT3Z7cjSG9pwryGNemaBi9j3zMRODzKc64AMhp0xia6X3RivXOVm2v0tH1vBP1rfoIjHiIZBUlrwOToo/ux4m/s0+NuHEN5s5gh8HgzgS0uQn4buk1tDI7oCb4UpOvRQSRJQVY20+gexvegYWHCUPf5dixHeokdjyw5nCgCIOlo8PTTaymijLlp3joNSEbqbwvT2R5Gg4zuc06GQ9bsytn5C8y8A2xxMuzPHpaQ+O4O9hzTY1624bPBWI9EnFQKKDzRdmMTHTsjHDw5xXPuBHVdI4wQonewi/YTWqTfMWL/3mBOv2bsLRmie6eQ7nWpbkPTnzgx/zTIhR958NxuZTDUxdQ3vfgcDrQb4I7mfYwstIGWBs8IxzMzxH7kxnFGR9ufubGVOEwre2KmAdf9GSKh92h0mItPrqZSzCDRYKzwHYvOxuCIjuBLQcK9nQTmJDSbTNh93XTUlx5s6Fq8eJNe+k/46TkhYfZYaVP7zDXYalE0JlzDw+hf8hE84iOugKQ10XaoG2fBFgKabS5G+rU8NxQm3D+FskGLaYcT23SAyHqtarjThu9Qis69EXr+Qs/IgA19+zAjdwXxvxbEMz6AskGLoc5On7tj4fPwaqHZ5mLke3oGvxUk6IujIKGta6PP41y06xodtoERdIcHGDg+QM9RkGr1NOwext1ScKCfpgHvSB93DAaJ/tSP76QG/bY2nK1TBMbLH9agax1k5NMBBr4TYWB/GCQN+obctiRrqPNHwu4A05P92P+Hl/APffgkDW3f6sDyu5XXZwGdDe/es3gHY/j3x5Dqu7G2g1ZNOxYrrtVH33ud7Cn4RHg97U/T4CXku4OB4TABXxzycu51LpRdVVu4GptUaUOq+lAl8oaGMb0aYLTfTWAWNLqtNHkGcT6cK6xGT9vAIJrDAUbfDDNwGrR1TbgcVxgIxcsXX01Zi1HCPtVyNbZnaHVi/mWUwKEwco0Wg8WFR43NqOzv+vZ+Bm8JMPhKgV1aXPjcttzXKJWVEwhNEu6fAq2JJredK/2jlG89dehaBxm+ZQD/8AR+XzTrq3fZ0Q2tXn5Rf6XW/y8n93LxwlMF25tcTe5ayIZsTDe8GmD0JTeRWQVJa6LJM4zz4RLD8/vbcNZPEJwJ4+nWYn0xRNf/68Pb347jFQ3omtg3vGhn0r12BsfaSE9HGHT6SG9z4d1lXvHlEQDzSSZPymg+38BtZ0aJ3tGG9Z5yeZGPwd8JEAiN0tMRgFodW+tM6M5PLa7aXejngwSOLerdstuHu3W5Lyhzjcr8pxQLPvtIlIkhHxO1ekw7nWw9VZ286GryrlI+eq0xRNV9Wgv7XrzC4LeCxA/7OF2rx/RVF+a/8TN6jVe/qvXnan1Oxf73ptvQb4B07R1o1+G8qOL+KLvfM88PEDk6QM8GLaYvenD+q4/AifLlVZYXajF/0QRnEmCx0bRsQHU143BpuxWrJkakZtmZJzUSEgqpD9R/sK66Tgu5UIDwYR9xcn7Atw/nNg1gwjXYh2YwSPQ7XYTnJLT3NmC8B9LnihW4NlaN02pyoGLUmOj4lp0LB8KM+nxItW30P2lRLZe6sZBK29OYcA2/gLbfn92TXJHQ1tlwtiZWzTtLUbQvrLUeatHZ8L0oETg8yuj+TgJo0BnrMN05k90vPXdNZXMDEqavDdOnGSB4vJ+uo9k8qcFogHQVXkFXMn7b0oi1Nkx4VkebdekkpaoYXQTjk8P0zT/HwPEwA/sltHVNeHb9Ft/hWMVlq23zao+fl7DW/K8C/rd/+7d/+/+qUI5gOXNxfDt7Od3gZXivZTF5nVfInI8y+Jd+4rM2XjjmwrQ8sT3jZ8feCIqll+PehuJbNKQjuB1+0o5hxp4wwHySQLubyF0uRpafXJuXpWVQ1b5gJclE2dM+wG93j9BVM8mVz9kXN2rOkfhuM8G7Q4t7nl0NSpqpH/gJnLyC+RnvsqQ5Q+Tr7fjnXQz+UZz+f3Iy4ig+uZp8uRX3sXp6j3oL3vIIUGaIxy7zO/9hM+Z7CxoyZy+xe3IvG66fhAKBQCBYzhk/zXsjGHdXKdbeyKQTxJIKt27eiumugrT4UpjOjgDplhc4/qzp+sl3A5M5FyUYGOXsp9rwPrNsy6xpPzs8E1h9+5CGo2zt76Xhmp+2cgMi8i7BJ5GcP2bXCCPtBS+LLo7S+XQSR6iP1c7sE3xUUZiJT3C5ZjOb6w1oaxZ/H3++ld4TBlyhQWzCqQkEwLpsOyAAIJkgpuT2DSmcXK2R0G6x0fWIAZQiWwEAqXNTKIDRaCi9N26uzM13Zr2ZMj1BdFaL9bGmlUnbhgZaWzTIJydJzi//o3oyb0ZJYKTJcJbgf6WyTazXgqTD/EQfI9/vpXF2FLfDzcDrM8jzAFrMXzIhvRvEd9KIp7XEqtbc6gxta6uYeF2OpOOmXwzQ83QXvWNTzKRznwJ0+4gpWmxPWsUAQCAQCAQfXTbewZUfH2SPM/fJ3Wzuk759QVKSEedXxMTrWtFusdL9Yojhx3VM9nfS6Q0ylV+m8tkGbDqFaH+Qy492iYlXtYi8S/AJJPnfRklhxLZky7o0kYEgmiddYuL1hkZCt2GGgf1ddOW2pMh+ru/Gd0JB29qBVTg1gWABsfJ1vZhPEnzcQ5gmPP3dFO4ukDk3Sm93kPRDLzDy7PJPetNEXA785zS0+cdxltxbIklgp5uzj4UYbFEYdXYxWd9P/y5j8SXRchxfey+/chc7iU8l6Sh7nvJzoXYrtj8/QMd9K59U1ZWvy5lXSE9HiWZMdDyobq+0zOt7aB+8ld4xLw3VP2j5xmdeZuZE9tOss2kZZYMW3WfN2Hc5sZbY7kEgEAgE1xGx8nUp82mmXvMTPJ5gJqMg1erQG5voeKajOltLCLJkZoi9keDWHW2Y1vvl+8cZkXcJPknkV3Xf383Y89bF7eHmFWRZQdJosofwCG5o5PNRAodHmUymkRUJ7Z1bMT/qxFmwHaNAIBCTr+vLvMzMiVGCP57gwj9JSBtAmVOQ9GbaHrVj27Z0VKDEfezojS0t48Feju8tvvWAfMZP13dS3H37ZTC72NduKuvg5NMDOHp/i2cdJyLXdfK1UjIxehzD6A6N4NomElqBQCAQCAQCgUAgEAgEAsG1RUy+fsJIj7vp/JsmRgZsxQ9RuEo+MpOv82ki3Z1M/OHI9ZdFIBAIBAKBQCAQCAQCgUDwiURMvn4CUWQZNqzTZx6KjFLzEfiEZF5BngONZh2OIxUIBAKBQCAQCAQV8L+v8vd/uyZSCAQCgUBwPRCTrwKBQCAQCAQCgUAgWEfE5KtAIBAIPrn8u+stgEAgEAgEAoFAIBAIBAKBQCAQfBwRk68CgUAgEAgEAoFAIBAIBAKBQLAOiMlXgUAgEAgEAoFAIBAIBAKBQCBYB1bbfEcgEAgEAoFAIBAIBAKBQHBDIqZ9Ph6IvbFvZEQvFAgEAoFAIBAIBAKBQCC4oRDTOQLBjYLorQKBQCAQCAQCgUAgEAgE1wwxFSMQfJIQPV4gEAgEAoFAIBAIBNeRtQ5LxWe4gmuNmEIRCASVIzyHQCAQCAQCgUAgEAhuQMRw9uq4USavRTsLBIIbG+HFBAKBQCAQCAQCgUAg+MQhpgMEAoHgWvDvrrcAAoFAIBAIBAKBQCAQCAQCgUDwceSaTb4mvttMc7ObSPpaPXH9SY+7aW5uxn+mkpsiuJubaf5uIvvzuSCOHc3s6I2RWRcp1es+ecTBjh0Ogudyvzjjp7m5Gfd47sZMjN6W9ZX140OaiKuZ5mY/uZZeqd+PMkXbWiZ5ZA/tLc1L7eJ6sLwfCdbAShv9pCC/E2RP+w6am5tpdkW4IcKS2j5ZVT+dwL/OOvro5wYZYr07aG7pJSYC37VB+PfKuIb6UtdfRZ9ZKx8tf/jRzhES34XmZq6ZrmK90NzCNbPpa/28jwv+Zmh2cX3zujNZ23SPX08hqkPEla3L4lgWduzgozmWPQeOHeA4cr0FEVwb1jZGWRpnc/nKNZyfqf53BvMKsqzABg0aqeqlf+xQ/leGjALK2xdIY0F7vQWqlDkZWQFJo0GqufriFFlGmZfQ1ArjARb7k6RBs+H6iqLEB/GEEkj1HXhbtLBBc30FEqjmhu5XVfYxzMUZ/LNREhvMdHi/jHZe4ka15I9Kn7yh7UsgqAbXIlZfy3yg2n5XsJRrod9KxmPXo73nQZYBieue315X5sjpHtHXBIJifBL6iPCH1wmZyx8ASpqZf5Bhy/qPo6q/8nU6QOvOVrzHPxKvbT/ySPV2OraA8TEbxussi/GJEMePh+jYUuICrYXeYyc53rs4SZw43ErrTi/RD6shQZrovlZadwY+km/Zr5ZV9VuMD6N4d7bSevgaa6RIW589E0PBgP0ZO5btVix1N+qU1SeNG7tfVdfHAMkEMQUMX3Vht5ixPmi6MSZf1fbJItetLze2fa2OFkvvcU4e68Vyw70dFVwzrkWsvob5wNX5XdFnVqPqca0YFYzHrok8y/kQvDuh9fA1fOZVYOmFk8eouk0nDkPrTlbofr2eJxBcDcYn4PhxKhvLXiWl+sgKtkDoOISeuCZiVZcbzB9+fNBjfbIJTa2NRxquzWhQ7LB9ncnE/ATnOhhu0V1vUQQCFUgf37eOgk8UHx87Fn1SIBAIBAKBQCAQCFQzn2T0OxPUu8cwXaMVx1WcfE0TcTnw5/ZLSA45aB4CWl7g5LOm3DUKmbcj+P4iSPyiDLV6Gh7z4m41LFl5lDkdZODIBGcvplE26Nj6OTvOXVYMpSak0xHcDj/JBjsuaZJgPIVco8W0cx8H/uRmJl8NEPxpgsy8Bn2Dk969VvQFg9X0qQAD34mQyGTXtOsbOvA+Y8NQW/CM2RkiL/UzemomW842G9ZPKytlmc8w9doAwZNnSaUVJN1WGh1OnA8biq6u0mzfx9gXNGhqgHmZmWOD9P8gzkxGQarVY2px0v2YGW3JwbXMzPggvtfipGYV2KDF9MUuXM9altQRFFJvBumJRkhclEFroOGrHtwthuyzye6BseeYEVdoEFuxueC8nlte4ORXUtn/A5DE72jGD9ieP0nT6VbcR6HtxXGc9xXcf3EUx58GkXcOMv61Zet8z/hp3hvJ/RBhT3MEKJBlPs3U4QEGjifIzIGUt50C+UvK22Cn+5bkgg3ojFZcHidm3fLr2rDLE4SnMygFdqvGHuXzEQZfHCV+PgO1ekwtVnTLzKOYfjOngwwMh5lKKYCEts5G914n5o3563M3H9tD8zFgi4uQ38bK5kngb95DZPnfc3o17g4x2KpbrOuDLvpuief0ufS56tq6oB6zM0Re8mX7nQKS1oTtG904ty8oOOcbGmhz/JqJowkyczZeOOnClJPP0OrEdDFMZDqrv4anevFs+4DRwQCRMwX9+TFT0fZOvrwGmytsu29lfZKChLauia5nu7HctVSHa5JRhd1m29mAfa+VD36kwjfm7UXSYGyxs3k6QOTdnD6XV261fgXAFVKnAvwg5wMlrQmbZx/O+oLlFhX6NWCpz5yT0GwyYdvVTUdhufIM0cMBRt86SzoD2ntNWJ/IXZO3wWwLL/Exrm3lnlnKFovHqIW+Uan8BXZh/mV0wQYM2+14lsePcvVccs0ggZPJrOzLbUBtn6TgunzsVdl+6VMBBl6KcjYtg9ZEU6eRK6Xat0AHWarkt5FJHvbgGZtB09LHyG4zmhqQz0cJHB5l6hdpMmgx1FnpcHcs+qx8ezzqxfrLUNYGyMVzt23RX6uxyyXk7Sbfx/I/W3Aduo14uX5TpG7q4vXy21axjYV6lfPDi77G2q7n7BtxUrOGbFu9r86W0+NuHEPJZX1wuX7WouPVWIwh9t0Sk6/FSc2Ctq6NffvbuPlUgMDIBIkMaDY14DzgxXrX0jrbvmYmXSb/gWKxwEZ3Ya5QIpY5WyIEysRq1TGmjO2qzgfmkwTa3YRpY3DMibGgfqmQg84j8so4uUTVavzuarl8FWziKvP6Vf2Fir6oOjZXUreq6JesTz/83BLfanrExb52E5oaNeOxSuSpfo6Q+C4F9kzOniHkJ2vPsxB5CYLx3OfGWrB9A5zbixRWQPIweMZA0wIju8nFDggchqlfQAYw1EGHmwVbyMti3wsf/AjiF4FaaHgM3K0syB9xgf8cvHASTGT3Fo0UF2PhGj6EwPMQmQYF0GyCtt1grwPS4HaQ0z34HeR0D65tK58H2boMfisrowJo66DbQ8F4Jlfmg9B3Cwwch8xc7rq9FNj/SvLPs3sgOULWn+rA+sxSveeva3PAxNFs+XkZV5UPQIboYQiczLVtEV0zD1OvQfAkpNIg6aDRAc6HWZazwMBLcDYNaKGpkxU5i78ZIoW2Bdk9WfeCcTcMthborQHsMoSnQWmBk8+ql6UYymWI+HJ2DOgbwOtmyfhxZhx8r0FqFtgApi+C61kW/VmuL4yeyupaswlsu6CjvsyD52Hq8GL7S7VgegT2tVMm98q134sQPw/UgqmFImPZbH9xhcjmeTldGh4G/d9n296Q16sa3ZWzh1X6yArKtKtLyrVDDZh2woE/gclXIfhTyMxn26Z3LwX+P1tP29cgHYXERUALDV8Fd8tSPa7ahkDmNAwMw1Qq+3Nhn1zVHxZh1bkrtTlxMT6cIvD8AJHpDArZmNa2ex/2kl+8rj1HA1Tlrwt1VjFGqWwe0YB9eHxx27T0FIF+P9FkGlnJ5msdu5xY763eqtgqbjugw/rcOONeCwCGJ4cZPzrO+K7CQD/D6PMBUtucHPA6qd+QJjbk5rkTi7uJp8fdOLxh3rvDxoFAiMFnzFw5OYC7O0xqfhUR4qME/sGMc383tt+XSYR6aHe48f/dTbR9w4uzXiIVG8DzanLhlvS4m879Yc7ebqP7UB/eJ+pQ4n66uvwk5NxFcgJ/Vxf+WArtF1149zsxXw4TGJ9Z+vz5NJFuBz1j76H78gGGQ4O4H7jCRL8bz1iqqMiSZnEvptRRN11DcaSH+hg5OkLfV/RcCPXgeD6OXPRuSB/z4h6KId/fgfdQH90PaTl73EdXf5yl/nKGyMthLm9zcsDroun2FLGhLjqHEiXLLstGK76j43gfBDDQ8b1xxo+O46wD4x/b0SMT+clSGZLRMGn02P+4yCRYnZPxo8N03ANgwXt0nPGjPqwbyem1k56jZ9Hu6KbvkJeOOoW4Wvnjozkb6KO7fSskw/R0uom8v/y6MOHfmHF6u+kw3gaos0f5jJ/Op/3ELmlp2u3lwFNmLh8NEHm3vFhy3IfDO0pCqcfp7cO7uwltMkyPO2t7pl3jjH+vAwPAg95sf3rOWtIRV8QJPwffzOlkpx55OkyPO0CyWB8r2ta5tsn3jbhC3RNe+g51Y7v9LOH9nUUO5IoTPnoF85Neup/cym0Ff5kZDzJZ24bH66ReShHr76K1s4fw5aX9+bkSJw+syeYA0hG8X/cT+3UdHd4++jxWtMkoPqeP+NzSSyuWsSK7Xd03ZmK9OXsxYff00ee2cfObwfJ2Vq5fLRDDf2iSmx7x0OdpQz+XIOztIpDfeHwNfg1ShLu78MclrL0jjAf7sP/BBUa9Dnw/y9VcTuB/qouBn16hsWuQULCPtk/lronLZX1MUVa1xeIxyrejWI9SIX+OmfFAzga8uL6oJRUrEj/K1RNgPkW4283A8Rl0Ld30Heqm7TMysSE33mIH25Xrk8tR2X4LsZCttHn68DxyE4nBUeIl1A2sg9+WSQx15SZeX2Dk2dzE6xk/nU8PMPGbRrpeDDHS24ZuZpSeTh/xZQXN/NCXywO8OLdrSMf8uH35w8fUt+vqrNJviqA+XhegxjYq8sMzRMeT3NHiwru7CX3Bm/5VbVkV1dTxcuKMvprC/NQBulv1yNOj9DjacQ8muOkRD95d9UgXYwz82fJYtnr+k4/j8X/JxwIb2l+UyBWWxTJzuVhdSYwpY7uq84EaI9av6GE2wvipAquaTxL9r2nYZMdaauIVVPrd1ePVUq7CJtaQ16vxF5XkzuXrWmHdqqJfhcTLXVnf+lDOt94vM/XqHtxHU6gbj1UiT/VzBNMuGP8eOXuG8aMw/lxuokEGfxf441D3BPQdAtvtEN5f/gCjxFDBZrGZfgAAIABJREFUxOuzuYnXM9D5NEz8BrpehJFe0M1ATycrYsfo85DaBge8UL8BYkPw3InSz3Mezcmd+xfyZCeUtC2wGWAO/G4IJ8HqgT4v1P0agh4IXwI2gu8oOd1Dx/ey5ZTKcfJ1if8LdHihzwPaX2TrssJHnYCDb0LbN6B7J8jT0OOmeI6/jNFBuOmRbPlbKa338FEwPwndT8JtauWbh3B3dlJQ15Jt27bPZHXtHV+8JtINPWOg+zIMh8D9AEz0Z9s3T3ocOvfDWaDNA55HIDFI+ZxlNeIQ/g04vdBhVC9LKWZ+CIF/AOf+7AR2OgZuHwuHoaaPgXsI5PvBewi6H4Kzx6GrnwU/FO7O9gVrL4wHwf4HMOoF389KPzfxMvQcBe1DWR133A9Tr4L7aOl78u0XuwRNu+HAU3D5KKuOZRfq+jokPwUuLzRtUqm71eyhwj5SkvhiO9h+HxIhaHeA/++yfcRZD6kYeF5deWvkZbic8wtNt2dl6xxiIXdQ04ZyHBxeSChZ2/LuBm0y2yez4/0y/rAIquau8u1SNicuwlwCv7uHcFKL1dNHn7eDul9PEfS4s35rFUVXnKOpzF/VjlEqnkesKTivYi6Or7OH8PtGnP4QoYCHxisTDDztZvTianVXT1W3HZA0GqTam7P/36BBU7t8lljC7AnR93D2banZKOF2+Jn66TTygxY0c3FGDidRtnUzuN+a3a/uLhc+JUV7f5DQKRvehjK7xm/qYNhvz75p+Cyk2gdIzFvoHfbSoAG+oCPT7ib8xiTJXUaMmSgDQ0mULU5CL7ahqwG2m6nfNIDDG+HgD5oY32Uk+YODRD6UsOwfw/uFbJ0s2xup63fQ8/qilSunRgi8o2DyDNKbq6N+t4/fXmpn4EiIeIuXhpLCp0lMpgAr9idM6GtA3+6h/14rH6T/lbQChhVVT5P473djbbVi/ZoVQw2wfTNcamfgxM857W6gYWFgpcHqC9Fdn5XfbGnC7Gun99hBRpvKrIIoRc5Yb/1dAAnNLRo0+bctd5mxbgoQ+FmBDPNJJk/KsMmO+a5S5eUnom/m1lrNwluxzOsD+N9RMH4txODOrCsyb69Hv8FBz7GDjH5pHGe5vWe2OBnJty9mrH84SuefBvEPRml83rq4L2Kh/QCosscZRn0RMpKF3h/m7AwL5oY6Bh7vITpbQqb5JKPfiaHUWukb7sasycpWfzt0vTJF9JQd04NaNLdokAB+99Yi/ekq2NhG//dzq2IsZnTKDvYcizJ53olxuS7LtHXytYNEPtRg9Q0v2la9Ce3XHQSG/MS+2IdlYQWgng7/MPZNK8WRLF6GvQ1oAMunMrR+PYz86Q5GlvXnBV+xvIC12ByQnk5x9w4bVqsL6z0AZjaTor0/xs9Pe2j4wmKnq1RG5UQldruKb5xPEn4pvsJe/n/27ji4rfJO9P73ru+ee7Or1oNoWmWzEeyiwEaBGWvzXotMbdjKzoLYBvkOdRjWZqhDwYZGbjtWNi/y5sXZ1GIp9kItQ6ywWGGwu9OozFrNNoJJrF4aM0G+k1XegShTYu4NylLUZSKuN+rmVm899/3jHNuSLclHtpWE9PeZyRAUnaPnnPN7fs9zHj16jr3OWjrOStSreUaavzei5QAH9rVZ7tsTJnIiQfsmq768tvCnGqk4J84D97bQtsUMmGn29GG552NSMymyWEgd9RP+xEDzC0Nz+ad5b4+aow9FaK1rxlwsxxSgLxaXaqP0l382Mgz39jLisavndauDhi0+duwPs++1BsaesJLUcZyGY34CHyyIldrNGPZ4Cf/TOImmlvw1wUvl3wV0Xb9sFP9gguzNbQwHZnOgHceXQ3Q+EiBReNernLfVgdfusTTGpucY2jW7Fm+SyIEw6epmBvyzM/ma6elW6+Dw0Vbqdpjn9qLUdjGy36n+WmSrFeVfW/FPjnN62oHjsv7rurTS9WaxctrreWkdsUFZeVjBsWdori+Ta6lY1qWMulO+3DZEO3enwLF39ngcmC420fn6wrZsif7PpoTaji/Mr3cY6XwkgP/FKA2+3HanQFtWpK0uq40pFbvVBt39AfNWJ+aDASbeniRbV6duc/YEkWkwP2jHXHRLdOaWJdqrhW9fSUyU26/XlS+UMuriEsda7rGtxvnNxkn8Wz2uR2tpeciOEbDXaufhJydI7mjBvOT9WDnlqUAfYQ0YPo8Wz+R9ZuI1CH8CTh90abP77LVg/DYEBiH6FXLymSo+CN1jYGyCoV3zs+oiByBdDQN+5maB93RD07dh+CjU7Zjfh90Dvfdqf7eqM+ZiP4XMtsIzHJVq5q9tCrwDkFkLzz2uvj/7Llz6sjpDsWX2OL6ofnb4LXXmqKEa7dyr56NoH2cGRn3qsfQOoeUosN8BnY+A/0Vo8OWUcy30vaods0Odvbj7CJx4n8V9/AXaX4bm9dr+t8FoOwQHIXIXOHMmO7f5mc+BMxDQUb7sMQh8ANYnYOAB7T21YNgD4X+CRBNYTkLgPbB5oEe7HuZd8OsL0H8IJrZDXRb8g5C9GYYD8zMMHV9WP69on2UpN8OQf35/2QkdZSnxU2WlFkb2o+V0UP4V/JNwelqN4fj/AGcTOJ9Ay0PABeg/BpOdUDeNll+gTZvp2ewByz2QmlEH9xblziwk/g1cj0LLQ2j5AdI7IPQTSO6gYBsw6oO0Aj3/ALNLX9rroP8Rit9j5B6rA4a88zGo59xZ31o6Hqx660gpudf1NvUcxGegZ0g71ru18/MmJB4nr7+dl4ccYPdBzxEYbYD223VcQwVGn4fsgrqh3u9D5CTYthXPh4uk0TV2NXddSvYrFu8++26CS1920VbbQkutEbBj1+55w28laW4t1YMov4+m694NnfcoKx1HnH0myNd24rzFBJhwf9dM7VSSX/0vdRLPalj9B26VZKG2Jidzm8zqt4OXLqnfILwbI5oFa+1mlOkMGe2P8sc1WMgymZgqvNtZd1jnB86MJjW53LJ5fppxlRHTHwDTWX4NZN+NEwfs9zu1gTmVodaJsxoyb8dJkiT+dgaqXTTl3awYuMmSH4Dxd6JksVL7J8pc2TPTChtrLJCd5EzJUXMTG+8wAuP49waJnJ4iddmAucaO/d66AgOv6jbOb3Xh3uXEfFn9vOyMdoykuJiXLM1YzPnlr7vHiUKGE6eLzV5bLjMNX7NBNkr4LfW7lezJMcLTYPtaQ+mO/yJZEv8cB+w0NeYGvQH7XzgxkOHEqSXKb7HkXV9udtFaC5yKk8ideZIbP6AvHs/HOTENhqYm8tZpNtyE5Q9KlOmCtt09zrlEDGCo62Lk1RG82yq8wv6dtXk/R1x3kwXIkP33cnaSJP5OBqqdOGtzDqLKhPN+OxDjndO5c0hsWAsMvAJYrDk/TfuCVncL1efZXLHI8mLOdK+brl1unBu065sF41r13alP878XLK+M5cbtErmxSLwsGWe61FOb++XLejMWIHP518Ay89rajWxeC0T9dB+KEP8gRXaNGdtWO846CwopYuNJMDRQs2G+bmUyZjbWAudPM6Wjszev3FhcwpLln2e23JR3Y2a4uwlXNWTeiZPUdZxFYqXKTHPfCCN/37KihzHquX7Z0+8QA+wPuvJz4HqLGodlKzf+04z/7U52j6Ux7+jLGXgFPooxfh4Md9VgzuScww0bqQWSp6fycoKl1pazTI8JswXgEpcuU9Z1XVrperNYOe31LD2xUW7sW9h8W+GBmNKxrNOqnuOFctuQ2XOXfzzGdWYWt2UF+j//1aXG4elk8fy63klTLTD5DqfzZqkWb8sWKquNKRW75djQQPMWyB4LM54GyDLxkzAZbDQ3ltcDK2yJ9mqhlcREmf16ffminLq4xLFWJN6X+EzFTovXjfshO4bpDJnp7Px5+CjNxWV9ZikV6COUEH8HqAZn7s+qq8B5v/rXd07nv3/8b2H3GJh35A+88hFaLIA5A5lp7c8GtFggL15rc2fTmbTZq5dY+td1MxD+W0hkoe0Z5tYNVGrVGW4tW7TPvQx8QR34SpV7kS6g5SgW5Ci0HEV+jrqTBX189b96+viW9Tn/UwWuB9W/xt/Nf19eDtRZvsQ/qy83NeZ/RnMfjPy9OugVf0cdVKz9k5xrNg0ba4AsWp8Frc/Cgj4Ly+yzaO7I35+espRiqSVv2UA1pzOX053fAvcuMF9W95udQctDqHloLVp+ge5DEP8AsmvAthWcdQUGXgEUaPGC+yEwaOWlStvvRxTOD+e169fEgntZdN9jWKz5X1LoOXd64mFV5F5Xozb4fEvO8g+z52caFvbgFgz1UPdf1eM8oeWhJa9hkbphqIORV+dn9eqVfRcdY1c55S+zX6HUtuDd5aZli0HN5ZeZu+dNXVwqcZXbR9PXf9V9j7LSccQ/2oxdgalDPfSPRUlcyJA1WrBvdeCoWb1nM11TD9xK/eJDABIHdtJ0oMAbit7ULE/6U3U6s8m48EZEC5izaS5ykfRHwCbTEk+OTpH6ECBB4BtNBAq8I/vvwA3F92B9dIjezw0x+qMQ/Z5RABSzA/e+BWtj5Mi8H+KZp4LEpmdvrhQUvQsGax2oxMWLFP4ebPmMd7twDMSJ/jRG+t4GEj+LklUcuO4ud1AxzcWPAUzcsPAbmhvUZFB++Q3c8CUofsOr0hWPF9OkAOsXyzyu5W53TSleNwxGNUktvLmspGXFXGaKkM9DcDIz9/MQZc3KhgdUqxy3Vy1edOa1haqstA/0Ynh5lNDhfmIjAApmh1tbm+9jUh8AhOl+oNCqaVrHQPc33HpjUWfjuWT5S22c237oOc40FIuVFdN3/Yq3hctVbvynSLynbbmwnU+lmAI40k3TERbTBiR0lXxF13Xlym+vS5zHOasc+3lyYxnW6dnkKp9j3XLjsGh+XdBXWM7DGCrWxpRipGG7A/+pKNHJNM67E/zsWBZlm4uGq9HluJIxoTNfsJK+c66rFO/pt/rx9EVIzt5AK8oKv9hYrmX2EUpQ8xkF8pn2iZ/mvz7fdiwqmhYLFIkFHQOrOiT/AfzvqetM5s2Gn4GJ74PvKDl1f5kfchEtRy3+JzVHUfJ+ZiWKnfc8esv3sfZaib6OGk8Q+AYl+izq300Vzmd6yrISmffhmacglnPt8mKkCtoHwPAyhA6j5RcwO/LXJ10o/RZ4+sjJD0UGameVuH7LpefcXdQRD9ecG9D6Dur/LnkNV/nczsd+qbGrFYzqzKSZ+L4H39HkFeiz6Ou/qj20pe9RVjyOaHTw1Au/ZvS1EOFBHxFQn6+y42l8RZ45sxzX1OCr4ffVn8g4fcfnpnhXkvEGE5AglV5465Ym9QtgvZEbuRHjeuAXKUrfvhj43OcAnPS+2YW96EOgShSoyoj9IS/2h4DLKaZOhujrC9P/7Ru5acGDEwCYjtL37QCxW1oYeLkNqxGyF6L0/ZWPqJ6ZEp+mSAKmG29c8q1lW1OH8x6F6JEQ46dgMgqGB5pK/jyjMCM3rgPOpvh0mvzBmGWXP8OnvwQwcWM1UKTDoisezycwAcl/LfPm9kbj8ra7phSvG5m0lihvMELxlWVWV9kxlyHa10lg0kKLv4e2TUa4nCQ64MFXdO06vVY5bq9avOjMa4WstdPitdMCZFNTTPyoj76xfjpvuImxJ/4TSjXwhXZGAs2rcER6Y3G1yl/q+/jc9kPPcWaZKBYrK6bv+mUzxdrC5So3/g3YPX3c/3Mv3Ue68d40PP8QtN9TMACmJ0YYemAVYn/Z13WFltVelziPcyoQ+3NyY7kMV+sclyM3Dovm1wV9hbJVso0pTdnqxKlECf9onDiTRDHQ/Bd1V2mAjisXE3ryxXSUnpX0nRe60vH+fpCO/RGyDi8jHgemqizp90P0dAWX/3PrZVtBH6EINZ9RIJ+p/zUtmMRi98D9P4fuI+C9SXvQDsDvocUCDD1Q/PM+XkFZM6fAcwiU28HblP9vU69Bz1Fw7AGPA5QZSBxW31+2G9Fy1OJ/UnMUJe9nVqLYec+jt3zrgLOU7Ouo8QS9b1Kiz6L+N1Xh2ws9ZVm2aej7NsRugYGX0fIQ9P0V+XlorTqTVc0vMPEj6BuDzhtg7IkC+30fOvZD1qGuQ2yqgvT70NNVYjmGEtdvufScu4k3WTIerjmfovUd0HcNV/ncGrV6WHrsavmmXuug52gWx54RPA4TykyaxOEePIcq0bro67+qPbSl71FWYxzRcKuT9v1O2meyZH5xhsgrzxAY2c0+02Geu3d1vu25wssOlGbYUocNGD++4AFTH00QHPQTOr0a31HOU+6wYQNiP46QylmENzMZITINhi/bMGPGdqcBpiNEJnM/P8OHU7kTuw3U3GUDxhlfsIp76q0g/sHQEg+tSBId9ON/ZUIdn11jwuJw034PMH2Gc58U2GTqDBNZsPyZE6sWD8oGB847C+9/Kplf/thPImQwUF+zurNeZ9kaXBhIMuoLEMeA88+W0wlVsP6pDYgxdjx35Dqn/FuWKP/UVN715XyYkUlgiw1ricFgXfG4wUZ9NWTejBDLO70fMvWLEmUqsl1mop/WR1qXcWOmDfJ8kOTjnGNNTJ4ocz/lKFI3ZlJEfhwD7NxZc2Vv9cqLuXOcmcjCLfU4N2kVaI0ZR2P9KpRkFeI213LjbMWWmdfOR/EP+glOqMeumCw4drXjBDKJc6SwUt9ogA8ijOf9bCtDYsyP/2BU/8+cgVWPxSXLPy859WFefsi8pS53YbjThlnXcRaJlZkkIU8rrd8YXcENtb7rV6wt5KMpzi3rc8uNfzO1NRbsuwZw3w6JwU78p7Ty3lqPsxqmIuP5i+VnEoQH/QSiZURKGdd11ZXVXs/SExurF/ulY3m+Y3vuQk5ZPokzmftADj3neCZLJlPGMiArtrj/M/GP4fn+T7H8+lGEsUmg9k5qljVjrZJtzBKqbDRsN8D5Ufa9HIdqJ/Xlru2/Wq5kvdOTL5ZVF4u4CjkllYiTBuobHZgUoErBuKmBhlsq8GFLKreP8JucP4XZ7gSmITKZ8+IMRH6s/vXOBQ/bqa0B+y60tgP8p7R/uBUtFlgQCxAehEC0jMMsJAPBPnWd06e/u/hr8TNaORocoFQBClgbtYfqlGsDWo5iQY5Cy1EsM0ctNpX78K4ZCP9Q/avtjpWXz/qn6stjx/M/I+SB1m+og4M1d6kvjy94kk7qLXWdV7XPgtZnYUGfhUV9FvXeiAX3RiWOJYeesizbFFoeIicPkZ+HzqufE9Q+XzGBYxdafik8nyuVQMsPaPkBjJsonR+KXb8My77H0HPu9MTD1Ta1oIs58Y/qjPn6GvRdwyLnNjMBrY+Ar8RD/QqZj/1SY1fLleLMqTRQT4PDpOUtI9bGhuXlrSXp67/qvUdZ6Thi5nQI/6Cf8Nmsuh76BhvNHerSb/Gff7jCY523+oOv681YgcQPhwmfjDB6WMfT6GcZnbgft0DUh2cwQuKCOvuzx9PD6NtgsazWTyLnP69rlxXlbICd7gCRkzGih3vo6ImQWevi6b9UB26sD3twrMkQ8e6g4+/CRE9GCDy5I+9hWwDGbW7ab4Hosx78byRIpqaIHe6hc/8oJ2YsbCxZfBM3cILwP/joGYwylcqQPBUk+CZwcz22Ql/gW+twrVXXpghEp0hNJ4kf7qH/zUL718p/IEIsGqZfK79x+9O0rKBDvu4mK5Bg9NUwsTdG8wP7dictN0NmWn3okXOJRd7VtUgUIELwlSjRsSDR82Dc1oX7doXEgZ1q+U9GCe3vYN9s+Zfa79kAOx/pIRSNETnUTeuTQZKKFXens/RSEnriscpKy3ccKNMRuh/qoH8sSuyNAB0PlXgIEuRtt69DLVt0rB+PL0Iqa8e5VSvZWjMbFeDNIMFolPArxQalrNTfY4RsmG53gMjJKKH9rXher+zXwtaHn8a1NkOkp4Oew1FiJyME3DsJnFWw7nIXXMy7osqKuc3UNRnhgyA9B2brXIie5yOrUpQVx22uKistXhfG6Qj7OroJvhEj9kaQ3Y8tEWdAsXql/ziWkde+dAO8HWbU14N/Nje9EiQCmOttmJjNq0mCT/UQOjlF6kKCyKAHz2CEc1+0znUeSuaYHKsaizrKPyvzRjc7nlTrXPjvOtixP0p2rYunH85tP0ofp3qOc2MlQnCPh8DpNMavNqxo3Std10/LdcrZADsfUeMreriH1sdKPGxrzirm7SoTru/24lqbJrzXqz4heTZXng/i2R8i9kGK5NkI/i4P/qPnMN1WRjezjOu66spqr+fpiY3Viv2lYtmwpQG7AomDHvVz3gjQsbOfWO446pLnOEmo/T6amprwTVypAdjF/Z+eaHa+/5OXX9X2OPZGgI6OAAnFivubBR4itVDBtnqV2xjd/QGV9astmMmQmQbzg865PJI97WdHYyP3fTtcdHBQb97V5UrWOz35Ypl1cTWPbSXn13RnA1YFxgd6CJ1KkklNET3QQ+DsgjeWcT+2kvIs+95nLVo8QzAK4VfUGWXWh8G1FiI90HMYYich4IbAWfWn/QXzWRW4vqtuF96L1nZAy3dAOQ+e/RD7AJJnwd8F/qNguk33IRYU9akPBqt7DDbP5K9rmZ0B+5+rP/X2+yB+AVIfQOBvFg8oza7HOvoqxN6A0OmFn6QdixeM07CvA0JR9b0dHZBQwP3N1fnNCkDgMe28vwHdj0DwvHrenaVumHSWz7gN2m+BxAHoOKBe2+AeCJwG41fVNT5n3xN9FvxvQDIFscPQuR9OzKD1WcD9OChnYecjEHwDooeh9bHF57f+HiAL3W714Uah/eB5Xd+50FWW5bKi5SH1i4DUNMQPk5+HvgS8rT4Myz/7nlfQ8kvh38GZ7kTLDxA6BZkURA+wOD/kmq0r09D9EPSPadfvIX0P2ypEz7nTEw+gs45USMSrlS0K/U9CTxSM21H7DnquYc65na0b0THw+CCVBedW7X1F8uEiRnSNXS2PCfufW1EYx+8LEb+QIfVBlMDf6LkXWB5d/Ve99ygrHEc0mBTOHQ3j/xvfXNsaeXWUBAqOLZtX7ZhXf9kBkwvvnjN4B6L490ZRartw7lh6s1nmHUMMbwjify2IZ6yf7BojlpoWejvbsK3y2CuAqWmA4S8F6H8+TP/eECgGzHVuhr7pml+I2VCHd7iXdQNBIj/14ztuwLylmfamGIGxnMV7q8w0vzSM+TU/wWEP4XQWxWjB1tpL18O2JRpGBdsTwwxZAgRGBugcy5BdY8TW2MXQ487C32KsseEe6MUwECTyfAehywrGW+uw3gKpRUnWgusJO6lIgH2vZ8BowbHLQ+d2y4oabNN2L96El75jfrqPKdg9Tprn/tVMg8tK4PsJ3Q/asj3aR8v/9BL6Bx8+xUDz99pwVJlw9Q9jOthP/9F+ul8HpdpM3a4hfeWva8H9+QTB57tJzxgwWZvp9bRj19Hj1xOPhjovI7519B+KMD7oY7zajO2BdjafDBD+oPi+57YbChHwTQAKxppmeve0z8d6lY2277Vw7ukQoz4fSnUzfY86Cu7P+ugQvTPP0H80RP9eBWNNA57Hf43v4Eq/3i/BYMM9NIT5RR/BQz4msqAYbTTv76J969VYTqGcmFOwPTFEr6Gf4NE+Ol5X62ud1aJ+dbxSK43bBQxb3Az3GXlmMESoL6bmh/vacZ0uHWdQpF7pPo5l5LU1alxYXgkw+mIn4eksitFGg2eI9nu1q2KowzsyhO2VAKN9nQSmwWDaTINngPZ752OndI7JPUGrGIt6yq+xNLVj/2WEwP4QmSojFocbz8L2Y6njrDLT3D+A4eAAgSPzseLY5aOzaYX1SOf1M+/oY+DzAQIjJwj1xcBoo6GzhUt9o0yU/IBVztsGG+4+N+ce8+P3+DG/7MZW5+XwSzYCB0d5xh0ggwGTtYGuF9pxri+2owLKuK6rrqz2Ooee2Fil2F8ylo0OnnrhEgPfCzJx0MdktRnbX7qx/zc/o7M5aMlznObGP1TgF0bW3XilfhmxdP/HsMXN8EtmBr4XJOibIDvbHuvsKxRrq1e1jSmjPwDAhgZctwfwv7fwQVsKigLZC8WX09Kdd/W4wvXOsGS+WGZdXMVjW9H5NbnwvaAQODjK6N6dBDBgstZgWz9F7KP89+m9H1tReZZ771MFbd+Dc0+rg0tKNfQ9ChjAPQTmFyF4CC2fQfN+aN9abGfadn1w7jHwe8D8Mtjq4PBLEDgIz7jVGWsmK3S9QHltx0IpbUYnMNHHojbSPQKu7TDwuxAYge42oBo214Dp/fwZi6bt4E1A3zHoPqYuo1Do3Bu2wPBLMPA9CPrUdWSNNdDrQV+O0qmlExLD0J0Gg0nHeS+nfFXQ3A+GgxA4gtaeqbM5O5ty3vMSmF+D4DCE0+r1t7VC18Pk9Flg4PPq+Q31AUZo6IRLC66H9VHonYH+o9C/Vy2T53HwHdRxMnSWZVnWgHsADAMQeR5Cl8F4K/l5aI1aFyyvwOiLEJ5WP7/BA+33FtmvCXwvqDE/ulddb9VkBdt68vPDAoY6GPFB/yEYH4TxarA9AJtPsuQ9RkF6zp2eeEB/HakE1xOQisC+1wGjVrbtWvn1XENyzu0QBHzqa8Ya6N1Dzv1+kXxYgK6xq2Uybfcx8LsBAiOjdLcFoNrE5hobpvdjlfl1mM7+q957lBWNI5pcDAybCL4YJNSzk8BlBcPNNlp8XbTVrl5/9T/85je/+T+rtjch8mSZeLaJnrfq6Hndu4z1XlcoFaaz1U9i+3Mc/5btCn+4uDqucsxVSnaKiehFfvePN2K/NWf6weUJfA/0EL3FzYjf9ZldPfgz6ZSfxj1hrLtG5tcnFeKz6DqO5fj3G9l9xIp7ZADX9XVoS9Pah4m7exjbk7Pe60yS0fYOEg+O0Lvts/zQT/HZdk09duS3XtgN/rPw3HH1Z81C/DaLfx92H9G+SLnm+g7Fl20R1z5p+UTlpMcJH8uibHdeP4Ng4tp2vca+7hRcAAAgAElEQVScYuL3f+5ldx/UPd5F612bMfxqknB/H9GsEdejThl4FUIIMSf9VphoVsHVmP+grdSRPoJr2hhxyMCrEEKIWTKoN68RdeGDgatdEHGdkcFXUTHJ4yHiGGhukO9QxZVx/cacAduuYYZuCxAYeYbOg+qyJKbbGuh6qR3nrVftGdZCCCGuOUnGfxSH6mYaFjygyNjoY+w+A4bVfnq3EEKIa5AMqgpxrZBlB4QQQgghhBBCXCEy/0eIpcnAqRDXE2n5hBBCCCGEEEJcIeUMKsntqviskUFTIcRi0poJIYQQQgghhLgGyUDWyvy23O5LnAghrm2/LdlYCCGEEEIIIYT4LSKDkkIIcS34natdACGEEEIIIYQQQgghhLgeyeCrEEIIIYQQQgghhBBCVIAMvgohhBBCCCGEEEIIIUQFyOCrEEIIIYQQQgghhBBCVIAMvgohhBBCCCGEEEIIIUQFyOCrEEIIIYQQQgghhBBCVIAMvgohhBBCCCGEEEIIIUQFyOCrEEIIIYQQQgghhBBCVIAMvgohhBBCCCGEEEIIIUQFyOCrEEIIIYQQQgghhBBCVMD1PfiaCtPZ2Ejj9+Oru990lJ7tjdzXEyW9untetvj3G2ls7CScKvWuNNGe+2jc3kNUd8FThN2NNDb6WeWzCKf8NDY20jlWstCrS29MrFLZ9F2Xa9TVuD46XfXzeg3mgGvG2SCt991H66FEybelxjppbGzEf+oKlauExKFW7ruvleDZq12SIirVlokCltNOVsaiOlKwbmWYGvOxc3sjjY2N3HdA/bfMe0F277iPxsZGGt1hrr0sfu1aVm6SOiqEEEIIIUr4j1e7ANeNmSyZTBbWGDAoV7swQnwGzNYZxYBhzdUuzBV0OYN62AaUqqtdmN8ycu7FdSY7MUDnYBRucdH19c1kZwxweYKBvxolvsZOm/d+jDMKhqtd0FxSD4UQQgghxG8ZGXxdDqODniOO/NdOB2jaE8a6a4SBJtPVKdeSjDh6juJY+o1CVN4nEbytfhLbn+P4t2xXuzTlKZQDdIofbGL3ESvukQFc12qqWIlNbYwcbbvapSio2Lm3fn2Eo1+/euUS15JruJ0sULfOnIqSxUL7/+PGuV578VSYaBYsj7ppcVx7Sea6z4FCCCGEEEIscH0vOyCEEEIIcV1TCs4glVmlQgghhBBCXBtWeeZrirC7Ff/ZOlo8nyMxPE48DQbTZpzf7KJ9a/4Uh/RkkP5D45w5nyK7xsTmL7fQ/rgTi/b7uPj3G9l9xIJzh5kzb06QnLaoMyU+8tO4J4ylqR37LyOETyXJVBmxbG3B800XluoSRZxJE3utn+DxMyRTWRTTZupb22m/14KBDPHv72T3kQz2PSP0bjOq22Ti+B/bTRgXz73sxpYJ0zk3Y2+ddszqWxODrTQOAtuf4/BtP2BHXxyb5zDP3WucL8PlCXzbe4hu6eLws06MeeWL49++m/Atbkb8LkwAMzH67+kmsr6N4VdbMKufROCBTkJ/oL5PlSX9bhjfXweZOJ+BajN1D3vpbLJoPzmcvT4unjvuZnauYXoySP9QiFgyCygYa1x07WnHvja3YJdIngzwg+fDxNNZFKMNl+cp2mvzSp9veorwi32MnpwifVnBcLMN1+NdtC3YJnsxQdjnJTiRJIMBc10b3k7XXBwAZN4PM/A99biys2X0tGOfC6k4/sbdhDflnDdQ1y1dakbyTIrYwX78x8+QmgZjTQNtt18qflzzpWJqbADfaxMkp7OwxojtKx24v+XAXOimN6XGzdT25zg6O9PzoxAdjwSYcvRw1FuHAjAdpfsBH/HZ982kiR18hv6jcdKXQak2Y/uam6d22DCQILCjkxDNDBxux5rzucmRVnYeytD8whjtt0PqZID+FyOcSWXIrjFi+0pbXn0rJvsvJwjuXaKeZaaIHAww+s4ZUmkw3mrD+fXF13qWWre1/zmym8YjwNy1K/O8atcicdCD5/AUhu29DO+yY6iCzPsRAgdHif08RRojlhonbZ1t87GtxYflIS/OX46UjMFC13J+1u5s3XLg3n8jE4Xqyew2ACTwtzbiB1zPHse9RdvtyQD92rYoWjmWymlkmHojwMDL4ySmc7bLLb8W47kxVPewl87tFgxVudfEQsseJx//sFgOAVIxAn1+IokUmayi1pfH23Heasg7p3l1LjcXzBgwb3Hh/FK2wKEsEUez57CumZbMOKHTabKz16BUPfmk9LlXj33BTLzpKcIv+tSYyKJey+/ktmM6rnmh0BnrpHVwCtezR+ev++sdtB6YwrH3KN671XVrMse6aXo2rr5vdkbj/04SO/AD7RiL5Gq953Cbm97PT5TeV8HrM0DgeEI9J4Xio4xYcz1hI/nDsNpPuLmO9qc92D8epf9gmPj5DBhtNHufpq3GsOD6t9D1+QTBn8ZJzxgwWZ2489oD4JMYgWf7CZ9Ok0Vtf5p3PUXLon0tjKV1i9pJ3XVjYV1cY8bxaD3ZwVEmFrZNC+mpI7l1685YwZjONdsfmauLK61fRftOsFo5sNDxWprasZ0PET6dVs/7Yz14tnzM6EBgrl2yPfAUTz9sm4sx0JlPVys3FbDcNlcIIYQQQlx/KjTzdYLRgTi//zUPvZ5mNnOG0N6deQ/uSY110uoN8eE6F08HRhj4pp1Lx/vp7AqRnMnd1xSRsQTrtrvx7mrAnLM25NRYgNBFO+17vbi/YiQZ9dPR4SeeKVKsmRThrla6D3+I6f6nGRoZoPPOS4z3deI5nAQM2Hb10XZzltjzPYQ/AkgT9XUT/sRKe58b26JOswnnM2OMedUfKVoeHWLs9THGHrdhvNuFQ4H4j8ZJ5myRfitMFAXH9gYWddurNmOrA85OkpjWXnv/NCcAPooRnz2F5+OcmAaT3ZZzMzfF6LMBklvaedrbTu2aFNHBTp45VvypIZkJH63eUeLZWtq9vXh3NWBMhOjuXHgeo/j3n5i7pubLcULeDgJFH1CTJNTVgX9CwdkzzFiwl5Y/PMeotxXfW/kXaOoffAT+Rb2O7VsNpKJ+On3zDzLKnPKz80k/E/+7hjZvL70eF8afh+je2aldoxWYSRHu2kn362fgtma69ntoro7jH5lYctPUES+dg1Eyd7Th3d9L1z1Gzhz10dE3QYFbNzDZsK+H7M8mmX1cSiZxmimAiThntLjPnn6HGFBXsxnIEj/QQffrZzDe00Xvfi9td2SIvbKbzteTUGXF+aAZpsOMncz51JkEkX9Mwc0tOG+H7ISPnXtDfHhHOwMjIwx9p55Lx/vp+Pbogvq22JL1LBPH/1gH/T+9RH3HACPBXpq/qF3ricKV0fb4GGMvtWEB2OZV68wzTkzLOa9kiA92aAOvzzH8LW3g9ZSfnU/2M/7v9XS8MMJwTzOmqVG6d/pYWKylYlC/EvVkrRPf62N4twFYaHtpjLHXx2ivUbdMjXWyc2+IM19w0bW/F+/Xa8hOLJHTgORhD519Eaa+pG7XtWMjmaifzr8Ok5ohL8aN92kxVJNlYrCDnYNxFtTG0jnk8gS+nd2EPrLS7h9hJOCh/tI4/U92Mnq+SAEzcfwdHfijSYxfcePd2479YojA2NTi9+mNo4kQoX+30+7tos16I0vWkyXOfdEyT2Sp+bqX3v1duL6wuB1TlZcbTTV2TGQZPzWXBUicUs/FxOkz2mtZTv/3GFCHzZqz8TE/+97+fZq/00vXA2Yyp0N0dwZIzNbhcs7hUvtaaCZJqKuT/qNTmLZ30bu/i+Y/yhAd7MQ7e07KjLXwK+p58z5ei3I+Sv+TTbR6Q1zc0s7THhfmTJxR7zOLH3w1MYr/n7Wy79gMiQXtweU4/s5uQgkjTk8vvd42an4VI+jpJHRh4b4WxlIxS7eviUMdWl1swO3txfvoZpKvjLJka6K3juQqEtNjry/uj/juM62sfi3Zd8q1/BxY9MyPBTlR3YzH206tkiTa10HTzm6tXerC9QcZ4iPdPJMTKLryaSVyk2Ylba4QQgghhLj+VGjNVyvtLw/QrM3WsW9rYLR9J8HBfiJ3PYdzzQTDBxNkt3QxsFeb+bnBjS+bZEdfkJGTLrx1s0+tUnDsGcJ79+KpAoZ7exnx2NVZF1sdNGzxsWN/mH2vNTD2hHXR+7Mnhwm8l8XmGaBHm4lq3uXj1xd20H9ohIntXurWmGnZ5yb2mJ/AcyFM9SfomwTrLu/c8SykGAwo1Z9T/77GgKF6tqy13HW3QvRYhNiFZswbANLEfhoHxcFdWwo9mUuh5r/YIRrjndNZHHcrJE+dIKMoKNkEk+9mcJkMpE7HSGGgeYs5b1u7Z4Re7djsVoXOVj+xn54ms82x+IEbMwlGn4+SrXbSO9SF3QBgp/YL0PFyjMjJFmzbZt9spPl7I7TfDuDAvjbLfXvCRE4kaN+0+FyTinPiPHBvC21bzICZZk8flns+JjWTIouFuStc28XIfifGKmCrFeVfW/FPjnN62oHDkGDUFya9oIz2O4x0PhLA/2KUBl+BY9MpE/Xjfy+L+evDDLdq53Krg3prJ60HSj2tPUX8f9yEs8mJ8wknlipg60a4sIP+Yz9jsrOOukUPkTJj+7KB4OETxM+3Y71ZG2BRFJTsOJPvu7FtgjOnJwA7d9YokI2R+Ld6XI/W0vKQHSNgrzWR3tFJ6CcnSO5owbzViflggIm3J8nWabNnz54gMg3mB+2Ygbi2LmBzqxOLCTC58f1hLef+5Vdc/ATMJdbdW6qeJY/6CX9ioPmFIS0+oHlvj1rGQxFa65oxL9zpGgOGzxvUsv7nG3LqTLnnVR147R5LY2x6jqFdNi0WkkQOhElXNzPgn50R3ExPd5qmb4cYPtpK3Y75UpWMwZKzThcqXU8M1Qo3/GcABcPnDRhm952O0D+YILupnZEXmjFVAVvt1N7cT6s3zL4fNDD2eIF6lo7gPzi1aLvNn9uN98dhxt934fywH/97WaxPjDDwgHqh7VtrMa9ppfvIPkb/fIz2TXNnonQOScTVtSS/thPnLSbAhPu7Zmqnkvzqf6WgwLy+xA/2Ef5EwbH38Fwed2ytp6avle435gcuyoqjm9sY8rfMz4TWU0+KnfsCEq/tI/yJAadviK5atcz2WhvGb7cSGPQT/UpvTlyUmRtvtlFfHST0dpzk41bMl0/zziQoiqJ+MfMtG9aZM8QngNo7qVkDzH4Rt7aZvle1eHbYMWXvY/eRCCfeb8e6qcxzuMS+Fkof8xP4YEEc1W7GsMdL+J/GSTS1YDpWXqzNt+0OTBeb6Hw9g+nrwwxpuXgjSXb0xRg/lcGxLSfLb2pneDbeseP8s1F2fiOIfyBC/bNODO8muPRlF221LbTUGgE79i+qdT/8VpLm1pyMtDCWWDi4Pl/eknUjHSE4ksqvi9hx/BcznY8EKNWa6K0jeaqU4vmkQH8kObb8+pWd8OnoO81uvMwcWILi8DLkrcMAOLTrmPlSG8OzZbwNkjv6866FnnxakdykObOCNlcIIYQQQlx/KjTzdSOW3IHKKjOuB+1AnPi7WXg3RjQL1trNKNMZMtof5Y9rsJBlMpE768DC5tsKD62ZLTflDboZ7m7CVQ2Zd+IsnIsBEH8nShYrtX+izH1mZlphY40FspOcmZ25td6F93ErvBeg+0ACaj30LOshWgp1f+HCQJLRf9JuvS6MEzoFhu1NBQbntOO4oxYrs7OgUsRjKahz4VoPsf/3DJAhMZmAaif1t+ZuaaG2JmcurcnMRoBLlyh4+3ZBnT1ruMepDWpqn1/XxcirI3i35c7Lraf29pz/XW/GAmQu/7rwQazdyOa1QNRP96EI8Q9SZNeYsW2146ybH3gFsNTa1EEvtdCYLQCXuHS5eBlZ76SpFph8h9OXCxdhabOzy+y0bs+/dTLdvHGJbU04v9WFe5cT82U1lrIzRkx/AJDi4nThraxbGlBIETudAm2AxdTkoo4M8UQKSDD5syxsqaOmGlDstHjduB+yY5jOkJnOQpX2OR+luQiwoYHmLZA9FmY8rR7XxE/CZLDR3Kge101WOwpTBHv7CUcTJDNZjLfasTsc2JYI7UX1rM6JU5mtZyli40kwNFCzYb4uZzJmNtYC508zVeRcrPy8phn/253sHktj3tGXM/AKfBRj/DwY7qrBnMkp14aN1ALJ01N5daJkDJalzHqiyb4bJw7Y73dqgzYqQ60TZzVk3i6c04ptZ37gOUZeHaZlU5bEP8cBO02NuRfagP0vnBjIcOJU7p6XyCF/tBm7AlOHeugfi5K4kCFrtGDf6sBRUyiQksTfzkC1i6a8L9AM3GTJrXNlxtEd1vwlKPTUE92SxN/JQLUTZ21OmatMOO+3A+oXY/PKveZWau9S5n/JkIgzgQlXUx1MxznzEfD+JONZsN1Vk//F0p21eUuLrLvJAmTI/juUfQ5L7muhInFUZaa5b4SRv2/BWuw9JWItt203rlPjwbZpPi6Ma9W/X/rVghbMYsmLd2520VoLnIqTuAxKbQveXW5athjUc3AZ+IIJM5C6uCAaFsZSUaXrRrG6yHoLpVsTvXVkJVZWv3T3nYDl5sBSLNacpR2065hXRqP22hLXIj+fVig3aVbS5gohhBBCiOtPhWa+LmYwqr3N1KdpUp9+CEDiwE6aDhR487I76drN9ln1Zjv/tiVF6kOABIFvNBEosHXuTadpewsNg91EMNDQVLd4eQC9bnfScnOIwPETJB63YngrTBIz7V8tMCNq7sPtNGzyk/jZJInHN3PmLNjvb6H+CxFCb54mcfn/U2dKbc+/eS7bxTQpwPrFZR9dcVVW2gd6Mbw8SuhwP7ERAAWzw03PHqfOm91SZTRww5dgbkCuyEB2aWkufgxg4oayZjeqMu+HeOapILHp2YEYBWWpctTU4VTChCcTZGo+JpY1UF/fwsbzIaKnEmS2fMyJabButc3FXPqtfjx9EZKzA4GKQv6caSMN2x34T0WJTqZx3p3gZ8eyKNtcNGg7MW57ioGZUYKHw/h9EXU31Vaa9/rm11PUq2od5lvQ6tnHpD4ACNP9QLjAm7UBzDLOr/7zmiLxnvq39MKckUqpyzkc6abpyMLtmLtJv1aW3kt/qs62MxkXlqhUTiu13dw7isf4DeqAReJioT0XYXTw1Au/ZvS1EOFBHxEAxYB1x9P4Fqy3qLpI+iNgk2mJHKozjkpYup7oVbzMue3YStjqnChHwky+m8H2yxjZ6nrqH9xI8nCU04kM9l+eIIOVuppycvPKz2FxenLlKsdaWRa0B0qaie978B1Nzi1VoqxZXjTotXRdLEZvHVmJlcRGeX2na4G+fFrZ3LSqba4QQgghhPjMu2KDr5m01hm+wYghq/4kzuk7Tlftan5KmtQvgPVGFq/cZuBznwNw0vtmF/aSg38Z4oP9RFBQ1mSIPB/A8XKh9V71MFP/VSuBwTBjEzXc+I8p2NJFw4ZS25iw2U1w6ASx17NMYKX9DgNWYwPK4dnXZtcEXYEbjZiA5L+mKfRz4RVba6fFa6cFyKammPhRH31j/XTecFPBZSHKK2OGT38JYOLGZQycqozcuA44m+LTacoaIGQ6St+3A8RuaWHg5TasRsheiNL3Vz6ipQY4tDV9w9F3CFtTpJQGam81sK7WCoPaa5hwzs4ifD9Ix/4IWYeXEY8DU1WW9PsherqCeT9jVbY6cSpRwj8aJ84kUQw0/0VdzuCTAcu97fTe2w7ZDMl3Iwz3BRj17MN0+DmcZd3159az/4RSDXyhnZFA88qjqKzzasDu6eP+n3vpPtKN96bh+Qc8/Z6CATA9McLQA9f+NCPjDSYgQSq9cEi4VE4rtd3cO4rH+KcpkoDpxlLrXC5muNVJ+34n7TNZMr84Q+SVZwiM7GafacGDBQG4EeN64BcpSmcZnXFU7BfhOuuJPsXLnNuOsYwVgedYbdQRJvrfw1g/TqHcVYu1eh21m8CvvcZ6Z5kz5FZ4DkvSkytXP9b0y28Ppl7roOdoFseeETwOE8pMmsThHjyHyo8GvZaui8XorSMrsZLYKKfvdG3Ql08rnZtWs80VQgghhBCfdRVaduAcU7kPQppJEv5hDLBhu0PBsKUOGzB+fCL/5/AfTRAc9BM6XeLpMjmSUx/mbZ95a4zwNBjutBWYW2Og5i4bMM74ggckpN4K4h8MzT2EIXMqyDNH0hh39HG4x4XxkzD7hmKFf7qvg+kuJzayRAeeITIN9sb6JWe4mLfUYyBF6AcRstWb2WhCu2HXXptdE3QlNtior4bMmxFiOQeXmein9ZFWfCUe1LWk81H8g36CE+odiWKy4NjVjhPIJM7pv/8vUkY+ijA2yfyaiLM3SB8k+TjnYRaJyRMldq5g/VMbEGPseH6JUufPlS7X1BkmsmD5MydW7WIqGxw471zqgLQ1fZlg9AcJqNnMxqrZh/Bor1XXY7tZK0ciThqob3RgUoAqBeOmBhpuWbDbKhsN2w1wfpR9L8fVJSnmfvqZIX7Yj38wTOIy6lOftzTT8aAViDP1P0uXeFE9m4wQmatnVuobDfBBhPG8n55mSIz58R+MFvy5fFFlnVcztTUW7LsGcN8OicFO/Ke0kt5aj7MapiLj+Q83ySQID/oJRMsqVcUpd9iwAbEfR9SHZGnmzvWXC+W04tslX99N6yM7GT1bLMYzxH4SIYOB+i36ZyJmTofwD/oJn82qa05usNHc0YIViP/8wwJbmLHdaYDpCJHJvCjiw6nca7CyONJdT3QpUuaZFJEfq8uUrDj3rqnhzlpgYpTRs2CzbmTuSzfttWLXvLhVrot5isTRTJKQp5XWb4ySKJpPlxdrJU1N5cU758OMTAJbbFjXpDhzKg3U0+AwoVQBihFrY4P6gL8KKVYX+WiK0q2J3jqyEiuJDf19p2uFvnxaydyks829nCFT+CmSQgghhBDiOlOhwdcEgcda6TkcJfZGkO5HOgieV7Du6lK/7Tc6cT9ugagPz2CExIUUUydD9Hh6GH0bLBZ9s0Yyb3Sz48kAkZNRwn/XwY79UbJrXTz9cOFZlcZtbtpvgeizHvxvJEimpogd7qFz/ygnZixsNACZCQb2hklvamfgUSuGLe081WQk88Y+Bt4qcYex3owVSPxwmPDJCKOHc57sbGzAtU2B6QwZxYGzTsfx3VpLgwLZbFadFQWwxsrm29XX2FSLddkzPjVVVlq+40CZjrCvo4dQNEZ0rB+PL0Iqa8e5dQVTM750A7wdZtTXgz86RWo6SfyVIBHAXG/TP7unykqL14Uxp4yxNwJ0dARIKFbc35x92JaV+nuMkA3T7VZjIrS/Fc/rpQeQ1ZhQSBzYSas3OLfdzpIP2wKsdbjWqmtfBmaP73AP/W8ufUjqmr5Zslmw1lrV8t9sxa6or81db8B0ZwNWBcYHegidSpJJTRE90FPwSerWr7ZgJkNmGswPOpmvBQbWrTlHZMxPz7Mh4hcypD6IMPzDBCiO/KepF7ConnkjZHLqmfVhD441SYJP9RA6OUXqQoLIoAfPYIRzX7QWH0Baa2ajArwZJBiNEn4lSnI557XKhOu7vbjWpgnv9apPPJ+N7fNBPPtDxD5IkTwbwd/lwX/0HKbbKvHTZ33W3WQFEoy+Gib2xqj6ZZPRSdcuK8rZADvdASInY0QP99DRo53rvyxykbRcmrtd5NBuPAfipG9w0XArGLd14b5djfGOAxFiJ6OE9new740Mxu1P01Lg4UrFGEwK546G8f+Nby4eI6+qA2+OLYVn4qvxkSHi3UHH34WJnowQeHLHogcJLTuO0F9PCp77gmV+GtfaDJGeDrUdOxkh4N5J4KyCdZe7zIewFWLAWmuFbFZdS/MONYuZb7ejZLNkUWjYovPXAXnlXv45XEpurlTjKEJwj4fA6TTGrzZgZXVjraSzAXY+orYHkUPdtD4ZJKlYcXc6MWLC/udWFMbx+2bzXZTA35R+6NWK5dXhfsJae9rx2NKfq7eOrMRKYkNX36kMeuvhsunMp5XLTTra3Ashdm5voqnJx8SylwMRQgghhBCfFRVadqCOls7PkRjuozsNBtNmmvd30b51fsjNvGOI4Q1B/K8F8Yz1k11jxFLTQm9nm+6f91ua2rH/MkJgf4hMlRGLw43nmy6Kjt1WmWl+aRjza36Cwx7C6SyK0YKttZeuh20YZlKE/9pHFCvu/3v2acUKtif6aDu9k+CzXjZbBnAV+tmdyYV3zxm8A1H8e6MotV04d8z+o0LdPU4Mx8JQ4kFb+WXdjO1uhfCxbM7yAkZs/5cJ3kthbbCvys8TDXVeRnzr6B8KEfBNAArGmmZ697Qvc5kFzRob7qEhLK8EGH2xk/B0FsVoo8EzRPu95Q0BGLa4GX7JzMD3ggR9E2Rny+hpx55zEqyPDtE78wz9R0P071Uw1jTgefzX+A5Gi++8ykxz/wCGgwFG3w7RPwnGmgbcrZfoH5kofXwDvRgGgkSe7yB0WcF4ax3WWyBVYGA0j8lG/c2QOG/CPveQotnlCBScdbac97rwvaAQODjK6N6dBDBgstZgWz9F7KMF+93QgOv2AP735h+0Nbeb7QMMfyGI/7UQ3W0BsooB8xa1vtmXiMcl65mhDu/IELZXAoz2dRKYVut8g2eA9ntLRGmVjbbvtXDu6RCjPh9KdTN9j7Yv77wabLj73Jx7zI/f48f8shtbnZfDL9kIHBzlGXeADAZM1ga6XmjHub7EvirMtN2LN+Gl75if7mMKdo+TZsDUNMDwlwL0Px+mf29InS1V52aoVE4DzDv6GPh8gIGXc7ZzuPF1urQcZsLVP4zpYD/9R/vpfh2UajN1u4bo3G4pb91bk4uBYRPBF4OEenYSuKxguNlGi6+Lttois0ENdXiHe1k3ECTyUz++4+ossPamGIGxqfz3LSeOtHLpqSfFzv3iMqv5y/yij+AhHxNZUIy2Re3YSpi21GMmQXK9fX55gdu05QgUJ3U1y9jpSlz8OHkAACAASURBVM7hUuZy5QCBI/Nx5Njlo3N2uY+qVYy1UupacH8+QfD5btIzBkzW/PbAtN3HwO8GCIyM0t0WgGoTm2tsmN6PLW/VBZ1MTQMMfb4f/9A4fl9EPfbHWzANjlKiNdFfR1ZiJbGxVN+pzKLorocroCufVjA3Ldnm/v6NmNdAqnodxsouRyyEEEIIIa4B/+E3v/nN/1m93aUIu1vxn3Xx3HE3tqU3WJ5Tfhr3hLHuGplf4/Ealzy8k50HoT04THPJ9V6FWKbLE/ge6GHi7h7G9tQt82FDQghxjUqF6Wz1k9j+HMe/VbEexvKk4kQTWW7YuBnbhpzhyAshdrYFSG1/jqPXWpmFEEIIIYQQV8QVe+DWb7WZBJEfJmGTm3oZeBUVkn4rTDSr4GqUgVchhLii1q7j0o934nvfjKuzE9dWM0xFGH5eWxLhQRl4FUIIIYQQ4reVDL5eAdmT6oPAbI/VV+hJxkIkGf9RHKqbaVjOz5WFEEIs3+ySC7M/ze/LolSbMFub6e1ry1siRwghhBBCCPHbZZWXHRBCCCGEEEIIIYQQQggB8DtXuwBCCCGEEEIIIYQQQghxPZLBVyGEEEIIIYQQQgghhKgAGXwVQgghhBBCCCGEEEKICpDBVyGEEEIIIYQQQgghhKgAGXwVQgghhBBCCCGEEEKICpDBVyGEEEIIIYQQQgghhKgAGXwVQgghhBBCCCGEEEKICpDBVyGEEEIIIYQQQgghhKgAGXwVQgghhBBCCCGEEEKICpDBVyGEEEIIIYQQQgghhKgAGXwVQgghhBBCCCGEEEKICpDBVyGEEEIIIYQQQgghhKgAGXwVQgghhBBCCCGEEEKICpDBVyGEEEIIIYQQQgghhKgAGXwVQgghhBBCCCGEEEKICpDBVyGEEEIIIYQQQgghhKgAGXwVQgghhBBCCCGEEEKICpDBVyGEEEIIIYQQQgghhKgAGXwVQgghhBBCCCGEEEKICpDBVyGEEEIIIYQQQgghhKgAGXwVQgghhBBCCCGEEEKICpDBVyGEEEIIIYQQQgghhKgAGXwVQgghhBBCCCGEEEKICpDBVyGEEEIIIYQQQgghhKgAGXwVQgghhBBCCCGEEEKICpDBVyGEEEIIIYQQQgghhKgAGXwVQgghhBBCCCGEEEKICpDBVyGEEEIIIYQQQgghhKgAGXwVQgghhBBCCCGEEEKICpDBVyGEEEIIIYQQQgghhKgAGXwVQgghhBBCCCGEEEKICpDBVyGEEEIIIYQQQgghhKgAGXwVQgghhBBCCCGEEEKICpDBVyGEEEIIIYQQQgghhKgAGXwVQgghhBBCCCGEEEKICpDBVyGEEEIIIYQQQgghhKgAGXwVQgghhBBCCCGEEEKICpDBVyGEEEIIIYQQQgghhKiA/3hVNq2Y31ztAgghhBCaa7GdvFZIey1E5V0vOUjyhRBCCCE+266XXpnmWj4c6TgKIUTlXcvtgJin5zpJu3n9knoqynGl4kVyjhBCCCEqQ3q/V8xyT7V0BIUQ1wJpLsSVJjEnhLiS5EshIYQQQlSG3Nlc8/ReIukMCvHZJylZCCGEuHbNttPS7xZCCCGEfnKnf91YrUspnUkhSpO0KYQQQgghhBBCCH1+ZzV3lhqDxkZ9f+JA/Pvq38Op0vuN9kDjdoiml1+2/5+99w9vqzgT/T+2i1oXET8ohBXlRqQgQqOE71rrB4u0DhTbWVB2HXsLNpe1eYhNGxmIDL1WmiLfNKa5FgXsAlYgVrrY6Y1dvsRN1yJtFG4SdWncDQ6bKv1ClBLcNihLq5aNet0IXERtf/84R7Yk68eRY+cHzOd5/NiS58zMeeedd2be856Z2cgjI0FoKofyZ+ewjDnnUyl//Ns/xapVn6LneOo02f1I+J4tp7y8KaMefGwIumkqL6f8Wd/5rsk5ZLZ0ZhZ+Qp+iteJTrGr9FKGz0Nso58S2zIQx8DqgapVkZ51HsrtcqX0WfAL5WIx155jzJDNnOZRb4ePcjaNzz2xt3JxzRKpX00B2l7mtU/PkC5FEnZrVMfA41K2Cuu2zkNccEL/OKU/4+QTNY9MR8tJaUc6qVi/ndFqURbn+7XWsWlVHz/FzUjNFfOLWQmdFELe1nPJy5yzbyRDe1lWUV7ReeHN6pRxxUl5eTtNAakW6EPUfmOX18fluS4U6er7spRKi7RH3s4qquvV07B0mPDaVdE51Kmk9yimvqKHR4WZ4ZA7KnENmNYRLcxO0bY754k/g/C4Ei6CtKj7tNcA7s1m44CIkVv3+DXh+TkqJhCEyBuqCDAnHIBwGVKDOn4WCM+Z30ywUIkjJbLfnKIQjoFKDKm8W8ptjArvA4QVdBTx6I3w0P0XCi+y+Po4otlEfV6J9NR/UqvNdmbPnom/Pj1l7CC5AZnt8PscY18Bd17UlfKvimou1z18ojIbl+Yh6duYjs53fx5BIOExkTIW6QBj7pIxFCMuT5IvRViniYr9H0c8l5qodi+ppq9JLf48Mc+DlPjztjQwFOtm51pDyslm3LbH14H2Ch3bi2uOk8Y0AT3VbMV4kujurzlfV1WC6OuaLIPQBwc+Bafn09Eqdr6WtUHqWdZuNPD7pGNbAnjXnuxbZ43kUnMfhqf1gTJfwPbDXgb8C9j88CwXPdn6C7Eglfw207s4+O982WL8brL1QqZ36/kK1Lb6D0m/LOjClmYykui/BuUOxjfq4chSqNoBhHXRWZU5+oXPRt+fHrD0Ec8uMxsBU4/MS6N0zi5WbI3RLwFRkOt/VuDDRlNK6e2azIt+2KtbvNmDt7cx+PpKk3FT5Gdb0XpTrmdkniOfROpzHK3lqv/XiHK9mFQ2lrXvi7dl7Hux1TvwVT7H/4Y+HhKbp/0V+j8n7eZK2vBA5C3s5jblqx88ZMC2P5mfCtNLEVQ2N9A0cwHe/AWNeMps6B7Ylrh7A8lKMVzbQsN3NDwfrMa5Uz0Ypc86sbjsgEAgEgguLT/RTYIFAIBAIBAKBQCAQnD15egr/Doi8TeC981sV3W1m9MCQ/+3zW5EsuCBOjgm9AY7/CYMngQIouReaqiDqv3ZbE6JIRsD9HPQdgtAoqBdB5VqoL05dxmzkwXvgegLcRyGCdE31OqgtTHNNEFzt4PFLr/ZqCqF+LZgXTyUJn4DOJ6X7jyClabaBKcNT3/AJcG2DobcgBOgLob4JTAtiEsXe5xjoisD8N+AagMonwFok7WFVt2XqcyqZ+Z6NiZBTwfoa8BXBzidAE1Ok1w6Ow9C8E8waGB4Axw4IjAD5YLwNrA+DLp1TKAyebdD3GgRDoFkM5jUx7XMEyjeA/h4w/wF6BiEM6ErA3gR69VSaKOvLpd/JIvyi9wbAbijfjRSB4QRtjBx7BuVXtDVQ+XWwJInoVpQfwF9gaCt07JF0UFMIzRsS2i+THFIQOgwd2+HYSYjkw9IvgWWtJJfwEWjYAOFi6HVMtV20zlE9iLZ/rQ383eALgVoL5oem33fwEHQ8LaVBJbfDQ6CPvoKnpL2U3rOCvNLKPwhNiRE36fp2NL2c1FkHTqbLKTbKLWOfjua5EtrmZdCBJKSVdwq9nxaFl+G+omSyz5Be31LyHvR0Qv8hSUYqDVTawJLYzneA7ldS+fpoJJ6S/pjJxo/B8G5o/wEMh0BVAMYKaL4XNEoc1pn0VEkbp7NRyNeXQG0Y+o9CJEZnFfe5KjD9AdxHIJwH+uVgk9OF9kJNOxht8NQdMfc2Co4K8Cax73H8CTzfhZ6fSuOL1gDWJGNXOv2I9h8A/xYo3wJUQO8108el4C6o2wqlG8F+q9wM+6DqiZh0YzC0A3r2QyAIKi2sqAPLHdnpbNSG1G6A37+UXv8nydCewJza/eAh6HgOjgUBDZQ1wJnERGMwtG2qfFUBGO+CR2tAnZe6PaJ6N6PxPNPcKRt7mGJOk4nJ8WwdHJTrrymERzfCZYfAFR3jFoFlE5gXTl2raI4my9W5H4Jy3vXLktdlRvYyluCUbWiel6b/BdPYEIX9RIlOJRsDQ4ehowuGAtLn2LZMOz7LfSgu6jqJzpbcC00Vks5CFv1VwZx8VhgLMrStg449PrnOOkrutdNUoY+pcznrd+sx1+g49soggRF9iojPIG5rHc7jJdSuU3Fwx6Csv9U8urGayw65cHUfkPW3BMsme5z+MjKM+zkHPYMBebw0Uvn1ZizLtdPyr657nwO7fIRGp6KVQod76Nh+gGMng0TytSz9Ui2WtebU+hp00xQbfRX9vNJK27xBWSYqNIWVNG+wSP07mgYAP866cnk+sh9rkQ9n+XrcS6z0Oiun5tBHnJRvcGNY10tnlTa+3LsDafKLyj4+Ui58wk3nkz0MngwTQa6fzRLTz6NyKsW6eT6DT7vxhSKSPG2PYilOOVICYYYHOnHsGCQwEoF8DcbbGrE+XJpgOyMEft5Di8eN72QYNHpK/tkWpzeK6pooG5m4+35XSiPhZn25G0gddRzV18oHTAQz1s+Da1sfQ28FCaFBX2imvql+ypbL9dPfUY3uVx4GT4bRr+uls4opXbddhj+q19qlmB+K1dkUUk5TbviIk4YNbsLFdnodpfK8Jozv2QZ57dONtSgsly/pP8+Wx9iq9bKtstL7mIqOmg58Rc3sfMIcM0eKMOhYRavXSPPOpzAnU4mxEEPbHo+zDca7rDxaY5RlmIWeyXbGuf+YPO6UUb9s2qifoi2ltta9lOIe5b4WPOSi4zkPx4JhIvkajLfVp+3/ae1aeBjPNhd9rx2T5zZGzGuaqU/Xd94bwvVEB+6jISKoUC8yUr3uUWoL1RnsRjCuLafWZxn6jhJ7FU2qSDZnCBxy8YNU7ZjKXpbU0jzPT89PfYTG1GgNZqxx9iiZ3FO3Y+ZxIBvC/OkPAFrmF8SWr8y2ZKtTWTEWYmhHBz37jxEIRlBpl7KizoLlDr08D0g/3p0LLojI174nIFAEm+xQnA/eLfD4vtTp+5vBOQjmVhjogdr/Bn12cLyqvMys8xgFZxP0+8FsgzY7FL4PPTboP5X6GkcD9L8LFif0umDFGeh4EPpOSknCR6DhQRj8C9Tboc0GmregpQHc76auf/S6Ax9A4zPQ3QraYem6wXA0ETgbwekFzW1g3wim05Lj9azRgLkYOAIHY/f0DoHnMFAMKzQQ3A1NWyB8I9g3Q/PtcGwPNLZLi5jkNwfOr0HHT2FFI/T2QPWVcvsMxicdfhFc/wmWjZLjJeiFJofkjKYQBnZB/XVSWvsu6bM5iWPLuBYGngc9wEop3cDjsqM0KsdBKFwj7WtceQX0b0x9kEba/KLsg8d+DtVfh+Y7IXwUWprAH93AOgs5xBIcgDo7vHMVbHJB50NwZj80NUNgDNRF0L4GIoehVa5/aB+07AbDA/GON4C+Trj0Lkk3lzL9voMD0LARjl0BzZvBvgYig9DYCL5wfF5p2yvLe06XlyL5R8nUtxeAYxfYV0rJ65+X8rOkeOiSVZ/OpANJyCjvFHo/bVBReF+Z7HMmfUsuJMk29h2B4rWSzMsuh3779ENzhveC/0qw2qFsEYr7YyYbH9gFjVtAdTt074K2u+HtXqh7QnLmpyWbvpmujZXYqEHo/wAsdqg3TMlccZ8bgP7TUj+x3gYB71Q6za1QqgLfDyEQc03oVfACpRVpHK9y3Zy/kO+tBvBP1/NM+mF+HAbsUlr9/XJfXQvaQqm/HojRB7/89+DRqe+Ovi79NhqAMXA3Q8tO0K6Grl5ouhkOtINtp/I6xZLV/ERJe86h3W/YCMeAahvY7gJfJyRe4tsKLbtAc7vUd+pvhKEXoGmX9P9U7QEzHM+zmTspkc1Zzmn6XgDT16C5Ss6/DprkMc6+FlQnoeMbU2UqsudRvdsF3CD1yeoCcPZOL39G9jIVCvpfNF2cDcminyjRqUTCg9I9+iJSmfZ1oPFLbekLZzk+x8hWs0rW2UIY3AINW6bb6rT9VcGcfFYYC+JubqBl1zE0q5pp22ynvjDC4JZGGrb4Euo8jGfAz1UVVuzrytCl3bNukL4XApi+tonmKh3ho3201NXQ1Onj0rts2NcWozrppeMbrpg+48PZ2IhzMELhGjttm5upvOIY/RsbkhzIM0j/rjOY7rfTfP9S5gPBgSbq7P28c1Ulm1y9dD5k4sz+Dpqa+7PX131OHvv5pVR/vY3mO3WEj/bT0iTXdYEZx64BeT6ip/75AQZ2DaScZ2Uky/zCR5w0POhk8C+F1NvbaLNVonmrn5aGpiRrMS/OzQe59C4bbbZqdKM++u2NuNIcNBPcbadpi5fwjfXYN7fRfLuGY3scNLYPJtjOYdxb+zldZGGT3UrZFQG8CXqTXV3TUGhhYFeXPF6VYt81wMAuR9I1Uvb16+DABytofKaX7tZqtMN9tDQ4ptan0dz2uvFfWYnVbqVsUaznZZA+Wa/bbNUsJZXOTpGpXHWRlfY1OiKH22mV8wnte5yW3SEMD3RiLZru+TGuHWDg+XrZVtkZ2DXAwONmtJoyKleq4Eg/B2LHsdAB3F5QraykLOnkKYJva6NkG26XbcONYYZeWE/TrkBC2gx6FmNnuKGa5s02qgt8OHszWWiF9whEBh00bOznnRstdPb20vX1FZzZ30HjI30Z+n8Suxb24fxaIx0/PcOKxk56e9qovvJt+ux1OBIVI8qoD2dTC/1+DWZbG232egrfH6LH1iSvz+awn6ezV1nJJnt7AcBgH85fyOXXLAV/+j6erh2zGwcyMBYh6O2k6zCoK8wUJxuz0tiWmetUcoKvHWQYMBmul/tEHS0730G7ehNdvZ003XyGA+1N2HYm9q/p49254oKIfDXZoE2OujEZpCf1Qz+F8Mok0SVBOHgSuAPqZSdRtQ30t0NwTI6gylTgDPKIvAFnviRFntTK0SemK6HqEXC/CtV1ScrxgzcC+rvALC/GrP8Liofh/f8LjEGfA0IF0NYFJvlmTTdC033gfA7KHMkjbDxbpes6nWCQnza2tkj16d4DJTXg3wHu9+KjhEqXQ2E7tOzNJKTMlKwC1WFw/wwqa6TvQoelE3pLV0n1PvgbMFeB+QHQ5wHLgVPQsQ8ON0FJkk4b2CPVu/oZsMiRI9UbIVQD/duhrgR0clpVMfRuliPVloPqj+A8DEdHoLRAOvAkemDI5QUpopVAOlhkntzun4k/KCUqR7MDmqNtXwyaR8C1Bby3SWUpzW+SBdD+fbn9SkEbkSI3Dp4Aw5Ls5DDJKHRvg0gRdG6UHScLwRGRItx6D4G9BHT3gPU/wLkN+v8GDj4NLAN7kv39LN+DankvZ9NK6LNAzxbw3AJmoGMLRJZA7zOglduheJG0+HrsB1MLdyXtNattn0n+Mkr6troALv+M9D/1vDT5ZdunM+jANELK5K1I7/OU3Vda+6xQ3xLx7wDv6PQ+xUMw9ArUFk05/VSl0GWfugf/VgX9cTSzjY/uiVu7Rora09VA+2L4fRCCEdCnGUiy6psZ2jhjWy2CLmdMZKFCHYiivgN6bXK+y6GsCGo2w2M7YOABuOVW8O6DoVOgk6Olhn4KqOCWhAcx01gC3dE6AOYvQ8NXwdkJK54AjUL9UMl6p8qP0cFFsKIA+n8OgbWgG4XXDoNKBZGfgf9hMIyBbxAohsJ8yQHtelOK5G2VdVa3Dj48JUUaDlZACdnpbFbzkzwF7TkXdn8EnFsgsgi6XVO6Uvolye5Eo9uJgP/PUHk/1N4j3bupWM77JxCoAZ06RXsAvhmM51nNnTLIxv+Ds5/T1DuhdpH84RR0HInPT3tackQfPAGGxcrsOV5wvgm6NdAdvZ/lsMIgRWpPMkN7mZJM/S+aLsGGKOonEYU6lcgY9D0NkQSZFV8Bjd8DzyEwrlQ+Pof2SbI1PACdd0rfmZaDLl96YNz392CJGSvT9tdMc/IscG8AN+XxX8pRRqp9HTjfjGB4oJfOO7VynYvR5dfRsvsx+v5+IKbOKko3dGG/VUnIj456Z5esv9fDqRpZf6PXl6I9XUXTLg8HT1ikPrPjMdzvqTE7umgulsowFRvRPFKHa4sT721tMfPX2PyB0UEc2/xEiprp3ChH9y204ogEqGnvofdQJfaSLA5SWVBN+/ctcv82oY2sYv3uaF2lQ1mk+YgK9Tz12R1YmJdFfmN++hxuQgVm2rqaZZ01YbpRQ9N9LpzPeSlzlMbYcg3VT/bK9rkU04IIqza48Rz0Y1mS7PCZIL7fXIO5yoz5AbNsO+X22/czDjeVxNhONWZH71RblZZhctTQuvsx+soGsCzJtq6ZZKSWx6vLuLxAreC6DPVbFsCz1U2ooJpOp9zWVNPaEqLqkX6699RRUjM1gqlK7XTZS2LKjTrhDFi+1xmz9iijz9JAz5YOPLckiyhVVq7uHgfW/2jAuc1B/9+s4ODTQ7DMir0qRfRfvhr1PLVsqy5HXTBV0+IvlaDa58VzKED1QumeQoe9+FBR+qXi5L6IiA//n1dQeX8xtfeY5DFYS6imif6fHCRQUxszvqfXs7DXifPNCLo13XTXyVctL2WFoYm6rSktdFb3eOyIlwh6quvM6LWA1orjvxXz9n++z+n3QJcyaHK6XQvsdOJ+T031M10xc5tW6d63e6grqZ42t4m84efMlyqpL66ltlgDmDBdKbWp+9UA1XW6uevnae1VNrLJ1l7ILLHQ/Uy1PL6bMH+5j4av9uDs9LAiLtpaJk07ZjcOJCEaSRvLMiu964zJ9TyNbfHNWKeA3/kZOhR9XBU9cGsYFlRyV4mayKFOXG9GMNo6ab1DkpBunYMPT9XQsb2XwQp7jK1NGO/OIRdE5Gtx7BMKLVwPcCZF9NECWLoA8ELLdvD9Wnpty7gczCUKHK8zzENVLD29ry2C8AiER4ErpEVQ8HSKcj4PJhUMb4eOAfCfgohGmjiWFgKn4OAIqG+fmqACcDVUFQOH4ehoknzfhQMnQX0L6MJyfUYgvBCKgcBRSXa+14ACqLo1/vJr9EnynAGq5WBWQeD/TEVNHfyJXKb8+q/5YbCukxbO4RHpBGjt56T/nR5Jnu/QAUANhQtj7i0M1xcDJ2E45jp9cfwrwjr53s4kk9sMicrRHPvKZx6YV0t/vnY02VUKuHnKcQ5w1TXS78gH0u9s5DDJG9LiwlAMqpGp61TXSlEmh6PjcR5UrgcD4NooLaRs35paxMWijz1ELw8q75b+9L0hLax9gGl1/LXqYjAXQPjn8RF1mdrrfLT9jPp2KrLt0xl0IJFs5T0bpLXPSvUtgaR9Sg3N34dee3y0pd4Q78BS1B8V2Pjrb5TSOzeC5ygER0FXCKY7JMer71koL4//iUbWZtU3s2zjadwY/0p3tjqg08fLT30rVBZA+DUpXck/SP/v+7Gc4BT0HwF1RXJnWhz6BJuxCCqXAEfAP8qM9SNK8S3Au+ALAn4p4q5S3nbi2LvACTgQAeMt0j34XpMc68VfiGmXEbi+EIhIr3lnW6es5idKmAO7HzkKQ4Dp7oTX/6+W6xtFBbV2sN4Dajlv8uQx+V3IZO5mMp5nZV8zyMb3c856TmOImWhH6770hqnvNFfFlKnQnkejr+sq4svSJk7qz7I/TCNJ/6uT30jyx44zCTZEST9RrFOJpJCZugR6vz/1poVS/L+Qflcl+DlNst06mPCmRNr+mmlOngXGNdC2uS3+534TGiL4f+EDTFSVx64i1Zj+wYyaMAePxM2KWHqD0nctjTH6q5H1N/56zVU6ICz3mQC+18JQYMZcHFNGnhbzahMwxGtHY+MujXH9gzeGZH1dimokTFj+UV1biJ4Ih/3DCustc3NxQv/Wx9T1PHLKJ+usOaGfm+V+/lrCWmwFxbFbilytQw+ERz9MUYAW88PNWNeZ0Y1KMoyMRdsvmGA7deh1cSM2JbebURHm4NHADOo62ySp3z9VSnp9NADvDsnr00J04SmdCS+8Xl6fDseNnXqDPoXD9/qEtYeOyrtNgA/fG0nes1Babp6WyvUWDPhxbXThx4TtW5VJ1z6ZUC2vorIAAi955GjIAAd+6IOCSqqWp/BGqEzU2q1Y7zGhHgkTHolAnqwL74YSxuB0ehbh6OtDgIm6iniXpXZRWgudFdcYTKgYpqetA7fXTyAcQbPYhKm0FGPat9UT7VqQoQMBUJdRuDCmfcI6eW5zNOncRlVci32dldoitZR+FLhCK88fslygZdt3Mtgr5bLJ1l7I6PUJ43ulPL774sf3jGQ7DiShqD5urGuuM6E94aTB7iaYZbTqzHUKONJDy8YW+ceB86chdMvrearLijEffK95iWCg+AuqKR0bUXF9oR4ih6U1wCQJ49055IKIfM2KPLB0gvp70L8ThuTXunSl0Lohw75jZ5PHGAw+C449U6/XqTItTDXw6DPQtwPcW8ADoAJDDTjuBfVpCAKGK6dferm8h9lpeV+1OIIwDLAbqpKd2i5PNEPvAksyvDZ6NuRBWQW4d4HnOFjU4D4O6junFlDhE/D4ozAUY1QzyS34a+l3y53J/z+bjlUlpJKjOrpdy5/mplxFckh4UhX8nfTbvxWqtk67BGJldzXUlkoRQ+pSKFGoKLH3Hd0uQJvkWu3ngOPSgn5apFYKzkvbz6Rvp0Jpn54hIVnXZkveZ0tW+hbD2dgmRf1RgY033A9tl0HfD6HDJv1fpQPrY9J+j9f8I7Ql7LGpkgV7Pm3UbOhAXLplUiSgaz/414L6Vckpa/nHmdVPp5fzHpm5fkQxloBqNxx+A4x/kKLpVtwNgZ1w1C/tZRsGSmTHSfAd6bfrq+BKkl/kg7Ov01wzE7ufTicSCb0KtnYIRO9TpfChNTMbz2fTvs75nCYRpfb89/J3GSL1zoXuKRlnlPSTbHQqjjQymwmnU8n2csnG+bNZf2eak2fhgNEtAVORKcl/gnKdtUnqrJXrfK5G6dNyn9EmGS+lVW7wT6FpV0UJ/k5SFP/WhhT6msF5cLFwOiTr7DQpyf0pmHwtlgXhaBx0bwAAIABJREFUE/08/mgPQyOTVlC5HZSdNf7Tp5XX9VwSq9fBoLw+bUmxPj1DmDRvIaYhrc5mU+7VldSWOuW1z2rFa59p5Bkw362jf5uHg8ctGNQHcZ8E3VpznNMukdCrHdjaPTFjsErxGByTS2o7M4toVj5K51gfPTvdOB0eAFQFBqo3OqgvzKYVfy/Pbdy03OlO8v8zyefNYyEGn7Xh2BOImT9kLy1g1vvO7MlGKTO1R0rHgTSez88ZMC2P2bxuuYkVn3dQs9lF16tltJYqv9+zklt0X9ykBOW5jR/XV6tSzm0uBC4+5yvAAil6oxaIBGHwh9A+AE2XS69RzkUewzugdQ+UbgBbKajGwL8TbNvTF6NeDJbNYBmD8O/A8wK4euExLTz1BUnVA3+cfp20kTGTGxnH8VlpANE+AF0pFmgAmquB30kOsplsp6wEgxm0u8Dzb1B2WcKifQTaH4Gh66Dze2DQQOQUtH9DeuU4FaoC4AppP66U9c5mX6OzJJUcw/L4r718bspVJIcE1JdKv2NfyU5F+Ah07JUWwuG94Lpt+n6vSa+Lue+oIQ8mmwv9DriarPZROR9tP9O+nZT5Cvv0DCfHGlnXZkveZ0s2+hbL2dgmxf0xk43PA9M90g+jMHwI2tuh4xG4ZicYrgPTdcnroEhPs9xGSSmzoQOJ6Vb8o7Rlw8AgzP9XoAjKFqbJIA2xej5T/ZjEIG0T4H0dDL8H1S1gKIDiJeCUv+NqJp+WX3aZ9LvtFTClWPxE9WTGdZpjZmL30+lEHCegcTNESqWtKLR5EDoBrc1pXiOPMsPxfDbt67mY08Sh1J5fBRyHP40wzTEey1n3BwUoGWeU9JOIHJ6WUacSSSOzmTA/lWz/JM03tVkOeGnn5Hdkvj4zGrnOwSR1Dsp1Plej9Hy5zwSTjJfSAKW9XEPMrvtxqC+VFMXs2H9B2spZY75G1tlpUpp2qMyMGPHS/oiLoetq6fxevWw7vbR/w5HWdk4SqzdK63oO10hx9fusSl6f9tJ15+xa6bQ6m0W54SNOee2jIry3A9dt3Un3e1WC7pZKDNucuH8ySOG8foIYaS5P82DlRA+Nmz1ESu302krR5kUIneintbkn8xgcRxo7M6uo0d9hoe0OC0TCBN7w0N3uos/2GNpUB4ol5dPy3MZCr6ta8bx5eEcjrXsilG7oxVaqRTUWwr+zFdv2bF8TQXnfUbw+my3ZKGWm9kjpOJAd6huWosfL4BtvQ2k2R1XNldzU8tzGTNsrzSnnNhcCF8S2A1lxUtqHqkfeT1qlhdJ10t6TYb/C9e4M8jgmv9pUVgqqPKSn5eXygQEpCB+VynEfR9oLbiFUN0qvevveAhZKe9qFX4Gh2Pcw3oUB+dCqwmRPNhZLr5cOexIOaAhLT/NdXumj8WZgRD4AK4Z3Et4Uii4I3o7dNPw9OPzrNDcXZRFULoLwfnD8q/TZFF20D8NgBPRflhZqAKqFYL45fZYryoFfS1srxOIfkPYone3XqjORVI5j4HlZ+vPmmR4IkIGZyEFdJB2sdGB/wmux70r7tPZHt0gIQ087hBZAey9ULgC3I0EPZYZjJ3Fj4H5J+tN4I6hulMobepm4Vw/Ch8EzAuovZRffcT7afiZ9OyUz7dMKmW15ny2K9S2BpH0qDB33QZ0j1VIwzbWJ/VGBjfduAecLsr3PB30pWG6X8n77vfT3fT5tVLY6EBiOb5vwq+AeAfXNU+m0t0h5ejulPEzlCqMLh+PrMKnnRWDIn7l+TJIPNxcDg9B3XD5UCzCapr6Lvd/CW6TfBxLOmwi+KumDLzwLdZpjZqJbqXSCd+HtmI9Bv9S3VpSDVgXkgWYJlKV4yBDHDMfz2bSvSuc0s4ZCe274O+nrgf3xlwcT2nDWdS+x/52E3pj+lwol/USpTk0jhczCg1B3HzjSHKabjFSyHfqJJMMVCh4YT9Yh05wcYBTCGd7ATI8Kw98ZgSEG9seuJsIM/cRDGDUris7VKK3DeLMaRjx4Dsc0xlgQz8vSK8s3F6aOIlMXlcj6Opigr4P0bHHSf3TGm69kiey4+XWA38foov/wwdnJfqFR1llPQj/3yP385rOatzF8TLad5hjbWZrCdgYYDsSN2FN6U6hTXlfZGTn8zu+n0oz5OfzaWdxHivoN/qt7qn6LV8jr0wMJ61M/7i1OXF6ls6O3E9YeAdwvDQFGjDcm0Vml5YZ99LS7CS2opr23jcoFIdwOV9K1jyK0KzAXQWRfO4/vD0OxmRVpJk9Bv08eg0vlMViFZkmZsjE4jlR2BoIn01roLAjj2+nEucUtveauUqMrqqbxbgPgY/i32eRlYEW5Gn7tSZjbhPEPOHFu8yaZ2wQ5diQErKCsVCvPHzQYystmuD6bzX4+m7JJwfBwwvjulsd3Y9rxfTpnNw6kIvzWMYYB3VXZPEycS7mpKbzFCBzgQMIBbsFXe3Bu6Z92IPH54uJzvv4N8HPpEASnF4Ij4HtBen1It0JhNMQM8jD9vfRqntMBvlPSq4Gub6ePFlFr4e094Py2tIdeOAie70vXlBYBeVJklmYEHmuEfi8M7ZVOovarwPpQ6oNyar8uncpr2wxDv4bAcXA2g3MPaOX9ywz3Sk41jx0avwveQ+B6cPrBFOoiaR8s/zZo3SnXoQGGFE5Ay+4CRiAwAsa7Yhb+Bqn84e2SQzg4Ar6d0PFK+vwM90JpPvQ8Cv2HIHgKPFvAtgXevjJ751J0L9CeF8A7AN5Up9ougOtVwCvQ4wX3C9JCd1KOrbJ8DoHLCq7jYFiX5LCtDPkpZUZy0IB1LeCV0vlPSRF9rTbo+znoZVkMdkoHl1japUgyywZZDzun72Xo+tqUXrTcBz0npfs2a6TymteB6jg0WKXDNLw7obEVwgtg0z9nccMzvedUKJS/0r4d3X+w7/uSLJIulGfap5Uyy/JWfF9p6qNE3xKJtvNkn/JCRzN43gXT7ekdf4r6owIbfzngfhFat8BwEAJHoOcVYBEZ9x06bzYKstaB8F6oeVBK5/6udNhWZAFsujc+z8qVwAiEVdK+uIo4Dg33SXru2Q51X5P1vEluQ6X6cbXkAPG/BO5D0Lcz5tiNYiAi71Ep79OrWwYq+buyGOeLZiVYrgPvE+DcC4EgDO2Eps1wcAyuV2dRp7Mgq/ZM4Gzsvkpuj569kk7UfS3ejmlvBoMKDnROzUm8W5l+6m6y9pjheD6TuVMm2WSa08waCu15VO/8W6VD7zyHoH8zNCS+qj3bupfY/x6EQGz/S0E2/SSTTiWV2delPW2jMvMOgM0hHWRols8DUDo+a1aCdZkk28atkr3v3wyP7QVNBdQmO5gyBRnn5KegoQKqqmDwLLaA0KxsxrpMhX9rA41bPQwd8tK/uZHH9obRVGzKqs5ni+HeTVQuCONpbaR1p5ehQx5c1gZcx1UY1lnTH7KiMWNdqwevA9sWD/5TQYYP9dNqa5X1dfZfrb3qGgPgp+/7bob29skOXgMrbtdAxE2L1YXnkJf+zXXYdmUOy06eXwJ5BmrtlWhGPDzW2Eq/d4ihvS4aG134VQasDyk8wCoVhhLZdrbi8g4THAng29mawnaG8dhrJL3xuul4sIaWqN4sy6Kui1dIJ4vvbpHz6qf1Phv90x4sa9HpVYCHnhe8eAd6MoxX0+vX6o3E1+/rpahO9mDb3M/Qr4MEjntwNttw7nkb7Q1KZ0d+XF+rk3R2bw8t9zXSc1KFYV1z8sg4ReWGGexswf2eAUu7BUOBEcsGWZadg9PWPpMs0Mm2qocerxf3C7GOQg1lFaWokPaWLF1VklZXtDeXyWNwK/1HAoSDw3i3tk4fgxWgWWnFcp1kZ+rsPZP9oiGbw7aiJL1HNVflv41nwEnrE/34ToUJ/tpD90t+UJVOPgxXiuFeG6X5AXoebaX/0DDBU348W2zYtnh4+0pDkrmNFtPfG1BxAKcjWr4X17ddSdZn57qfz65sknLcRcN9Uj0921uoe7CHgMqAtSnJYVtRUujqWY0DIB90NST/eHFvXU/DZi8RlYm6lJHeyWzL3MpN6hPgfcKGc6+fQHCYoZ2tNG3u4+CYXprbXABcfNsO5IO1C/QvQN9zUgSPSgNlNrAofWVoBnloK6DzEun1pJZ6oACWFoL2RJpoWy10dkPPc9DfCq5RUC+CWod08i9Ijs/u56HzSehxSItJTSG02cCUxgGgLoGdz4NrGzxulRaqWgM0PwPm6Cblauk+dc9B30/BsR90RWCpAtdATGbyPlidT8LgNjhcAMZ/BtO/QZ+C6FdNsRQh4QMqYw/CyAdrJ6g7wfM09I+CZrH0Om8w3UCjBnsvGF+AvnZwjUiT5qzaOAbj/VD7W+h/ERwqqH4SSpMlzIP6J+HtTZLTRlUA7fcTJ8ee7VL0j0oD1ZvBsjxZRhnyU8oM5aCrge6F4NwBtgHpoCF9IbQ1gVENwQFweCVHVfQkUVUhtK+Bhu1gN0Bn1VR+tU3g74aWkFR+4n1rq6D7b6DjaejYCKhAVwJdD0HWc/PZbHuF8lfat7UVYPdD+z5o2Sedqlyd7BZm2KeVMqvyRvl9pSKTviVFDfZuuKoT+rdJBympNFDtAEumSCYl/VGBjTc+AF16qd2b5Hoby6FrrQLn6bmwUZ9JnT4bHdBXSXujujZDOE+K8LUlSVdyO6j3AUoO2pq8CKzzoOdpCI1JY1CinivSDy3YN4C9UzoATVUM5hr5X0VSewRithfgBnk7AtXUfq8A5EH186DbAT3d4A5J7W6sg+Z7px58zEhnsyDb9ozjLOx+5zxJn/vbAQ2UNcGZdql/AaAFxzPSvKFvo7Tfp9YAxqthKDbKKEV7zGQ8n9HcKZ1sZLvhSTenmUUU2fM8qO4A9TbJidpxWEpjrYOO3vj8ZlX3FPS/pGTRTzLqVDKZlUCvAzq6wOWQvtMUQtuGmHtUOj/Kg8oO0G6Djj3QsktKW7IOmiqyfJiZaU4eAl0+BAtAM8NtBaU6a6ns6Ea7rYOOPR1ynXWUrOuiqSLVAUNzhNqItasL3XMOerY75PHSSPXmZizLM09IdDVddC/swbmjB9tAB5F8DfrCWtqa6mfFViairbBj99tp3+ekZZ8Kk81MNWC4v4u2scfp2NNPx0YVmsIybGs/xLHNO6P8ElEXWel+Xkfnkz30OAaJoEJTWE2bzXL287Z8I9bONtSdPXiebqR/VIVmcUkK26mn8gETQY+Lx3aFQaOndJ0tTm8U1TXPgKWzDZ7owL2rg5Z8DcbbbFg+cuBKiD433t9O7W/t9L/owKFSU/1kffI1ktL6ldjZ+bwR17Y+Hre6CKNGayij+RnL1Po0IyXUNl2Gv7tdXnsszaizmcoNDtjltY89Zu1jpX2Nj4btDuyG7ri1zyR5RuqfrOXtTf30ORyoCqppv39KQqrlZsxqL+68NAdtRdFW4nhGhWtbH30bG3ChRmsoxHj1cPwYrIQ8HdUdnai3uej7eb887pRhrTtDR286C638Hg0VnXRf0YNzRz8t9S4iKjW6Iqn/m7KNBleXYO/twviCi772Jnlus5QyWyeWO5K3q7bCQeclLly9fbTUu6BAy9JCI9oTQwnrs3Pfz7WzKZtklNRineen5+kWQmNqtAYF9Uylq2c5DnCkh5aYwy1VBVp0y2tpbqrHlOZJb1LbMpdyy9NR/Xw3uh1OerptuEMRVBo9xro2mu81ntuxNw05f/3rXydmdunF57cVSAQHoG4LVD6hbI9PwScTtxWcx+Gp/ZJzXSAQXEQcgfIN0kOWpAuKBAI7oWEbWHqgeob7vQoEgnNAEJrqwF8B+x8+35X5JPPX810BgeCc4Xu2nPW7DVh7O6mcs023g7itdTiPV/LUfuvFsfY41U9DvQvWdtNdcy43/hJ8LAm6aapz4k97uJTgYubi23ZAIBAIBALB7DEGnpeAJbBCOF4FAoFAIBAIMuL/cR8BDFTeIhyvAoEgM8L5KhAIBALBJ5jIIWlrBuM/nKNT5AUCgUAgEAguZkYHGdgdhiIzK8TkSSAQKOAsth04H4itDgQCgUDwceHj/NqqGK8FggufC8UGXYz24kKRnUAgEAgEgouBi2y2cyFPdC4yUQoEAsEnkgt5HPk4oUTOYtwUpEL0008W57K9hd0RCAQCgUBw7hEzkFljphNH0QQCgeDjgHCWCLJF6IxAIDjXiAdDAoFAIBAIzj1idnHeUbr4FE0lEAiEs0ogEAgEgrlFjLUCgUAgEAhmF+HRu2iYrYmgaHKBYG4RizaBQCAQCAQCgUAgEAgEEsIT94lD7KsluBARDkuBQCAQCAQCgUAgEAgEHz+Ed0wwhwiHmkAgEAgEAoFAIBAIBAKB4JNL7vmugEAgEAgEAoFAIBAIBAKBQCAQfBwRzleBQCAQCAQCgUAgEAgEAoFAIJgDhPNVIBAIBAKBQCAQCAQCgUAgEAjmAOF8FQgEAoFAIBAIBAKBQCAQCASCOUA4XwUCgUAgEAgEAoFAIBAIBAKBYA4QzleBQCAQCAQCgUAgEAgEAoFAIJgDhPNVIBAIBAKBQCAQCAQCgUAgEAjmgE/NVcbhEx76drg5cHSY0CioNHqMq+qx3mtCmycnCrppqnPir3iK/Q8b56oqFy8jw3hecNHzhxI6n6iEgSbqtvjj06jUaA0rqF1rwbxYPfm179ly1u9OzFCFWrsU80PNWJZr4/81FmZ4Xx89Lx/AdyJEBBWaxUbM91qpn0zrw3mnk2CFJb4dzxtB3NY6nMcreWq/law06IiT8g1uDOt66azSZk4vOK/4t9dh2wnVHb3ULznftUnCOdYnqX8bsPZ2Unkxq69Cuc1W+4/+KpdnXszh1PvAlRN86xvjXMziA3jrR3k8+xrc+tUx7l48w0z+mMu3n8wh+LcTPH/v+NmnE5wluWyz5XBUQUrt7eN8629zzk27nMll/0AO+38Ff/4Q+BRoF05gvnuCm66YmLtygeC+PL79ChSuGWPtMuBELt/8lxy4eYLvfEXookAgEAgEAoHgwmZOnK/B3etpeNZHJF+P+X47JfPOcHR/P+7eFupeqeSp71kxqjPnc8ExGiYcAZVajWqOHY/hN13YvtHPcESF5o5K1EBY/p9xTRt3XSf9HTp5APcPPHQ8OETAuRNLnGNCi/l/WCm5XP444ufl3n76NzZw7OFuOitkt8NYELe9AeeRCKrFZiz2Ei7781EO/NBN38Y6PBVP0f2wETWXobk8hKe3hbpXSrC3t1J69dzK4YLjHOqAQHBBMxYhLHUG1PkK0+arUavOSe2m82EuPd05nPo0lFdPMO8j+OwsF/HR+zmMjkP+ZRNcMst589cc/jwKl6gmyP/0bGcumOSCkPME5bXEPVD8zWAOr74Dhf84gbFg6vv8q85NjUZ/m8szW3M4BWhvnGD1Mvjzr3L4N18OPd/JwbdmnLXL5tYBey75aDSH0b9C/qUTXCLeERMIBAKBQCAQnCWz7nyNHHXS9KwPllno7qhGJzuoTKWVVA400bDFTctzRgY2lHC+1uAzxbet6pxEm0WOOmmwuQktKKH5yVbMC6Xvo85X3RITpiL5w3IT5qKrqHuwD/f/8WFZErtc06D/OxOmybqaMJVcj6OmFe92N/4KCwYi+LY24TwChge66bxTN5m2tKISd3MDzt0tdBYNYC/RU/svA1QedWGz9+P4WhNnui/yyLssOVc6IIjHsKaXPWvOdy0Ecbznwa70zYWjLqrOIjJ4Vtr/7RzeHIf5JeN8xTQXTqIcDjyXy8t/hLXtYxTOdva/yuWb2+VIx5VT9b/hK2M8/5XZLuwTTAo5n1smuNY4wbUx31zyZh6vvgM6wzg3XZmQ/I85c1ud0Vx2bJccr3c8Ms7qz8lyMcIdt+Xy+HdzOPq/c3l98xg3nSuH9eJxvvPk3GV/7Ie5bPslrP7GGHckylsgEAgEAoFAIMiSWX6eH+LAi25CGLB8c8rxGkVbZcNSqEXjH+JwOHkOn3jGAvRvcRNSGbC2Tzle07K4EBMQGQ4QzJRWXUJZKTByjLeDQOgAPxgIwRIL9knHq0yelspmC8arNfgPH550/qoLLbRvrkQT8ePqHkQ0pUAguFgQUWwCQXacOpDD0ffh2tUxjtco2nHuLgHG4fX/b46dwAKBQCAQCAQCwUXK7Ea+jvrxHQGKqyhLGtyko7K9l8rox6jX7i8Bhrb+gI49PkKjKjSFlTRvsGBaMHVl+ISbzid7GDwZlvYjLSyj8eFmSqPOSXnvQP0d1eh+5WHwZBh9NMrqvSFcT3TgPirtZapeZKR63aPUFsbsfRAexrOtE9d+v/RaeYGOknvtNFXpUUf3pgXAj7OuHCdQ+cR+rEXAWIihHR307D9GIBhBpV3KijoLljv0SCVE9yYtobrufQ7s8hEaTb5PaeRQL30nQVvXRKXSV/pH/iQ5Xa+aj0bhJZPlveHDB5hWlyXf+3BhJU99v3La1+qiehpL3Di8OznQUJIyClRxu91jx/yHXnoGA4RRoyupx95UiV6dkNczfQyeCEGBDmOFGW1EwU2OBRna1oFz/zGCI6ApLKN+2Znp6dLpiRId2Pa4rMOS/hjvsvJojRF1uu0J3huip9NF/6EAEUClMVJpexRL8VRLTpdhJc02y1REc7RuJbVYVQclGeZpMN75KJv+6TIOvuCi56c+QmNqdCUWWjeYJx+MSHuH6ql8wETQ48Z3MgwaPSX/bKOpQj9Z92g6c42OY68MEhjRT0X/hofxbHPR99oxgiGkvYLXNFMfvYexMMO7O2n/wSDDoYgkmwoLzfea0Ezu/zyEq92Jxx8kHJH0pD5mH+Nke5xmlMtkvyvFunk+g0+78YUiSWWcEQXtBBA57cftsGfQYw+ubX0MvRUkhAZ9oZn6pvo4e6e0vJhc8W+zYds5jLqije51ppR6FzzkokOWBSq5jg9VopdfZQ7Ke0tP6nacLCW7Reye0rvXU74bWGKl11mZYEei10mf/FvqKN8CJETLZpLbtPZXolOT5LD3SSkiFSD4Si4PvhIT2RjKpXdHDq+fgo+ASzRwa9U4XzHITqboPqeGCeovzeH/9SG9jrwQ/vu9Y9ykAd7M48HtUyVus0mVmIyay1QGOZw+ksu2H8OpM8CnYOHSCe6+a5xr85PXH3l/z6M78qZH6IVyeenFHP79t3J5l8JNVePUGTNEcr4P+3fk4TkGo+Mw72q4s3Y8w36ect1fRtpLNxfmL56g7u5xbrgsJtloLvt/mMPuN+CjcbikAMw3wsuD6aJMp+791tXwmwNSGZdcBjf94zh3F8Vv7/Dn4Vx6d+bwZkj6nL8Q/ntc/Wcu56T8NYfXd+VO6gSfhmVfnqCubJx5spM/2j63Vk1w+mdy3eR09SvHybRjR1Z8BK+/lJdcR6OM5/D6QC6eNyB4RpLl0tsmuPeWVHXJ5XUfkAu33pRcD65dPcbzq2O+kPvD/GUTXPU76Z6jbTz621x6Xoxvo9XV49wa69Q9k8vel3LYNyzp4fxrJuLvIaaMON3JeG9Tbbz6HvDJOhvXP6L9XS7m5SfzeJmYvWYFAoFAIBAIBIIZMLsxQCePcRjQGqJOR4Xsc/LYzy+l+uttNN+pI3y0n5YmF/4x+f9BN/ZHnHjfL6Te3kabzYzG78FhcTA4Gp/V8F43/isrsdqtlC1Sw6gPZ1ML/X4NZlsbbfZ6Ct8fosfWRP8p+aKxAP3NTXTsGUZb0Uzb5maqPx/Gu6UJ+0AQFphx7BrAvhJAT/3zAwzsGsBSiLRfanMdLTvfQbt6E129nTTdfIYD7U3YdgYSbnSQ/l1nMN1vp/n+pcxPIoph/2EiaDF/Wa9MdpEg3q4uhlBTeXtx5q0cwkMMHgIKlnK9FobfOgxoMVyf7Sa8akpuKwX8HH4jRexrNu32ogPXf5qwbLRjWa4m6HXS5PASilb7iJOGB514T2koW2dn09dMnN7lwv3rDNUcC+JubqBl1zG4oZrmzTaqC3w4ewfj02XSk3Q6QATf1kZadh1Dc3szbZvt1N8YZuiF9TTtStSBGMKDOBpa6DsSoXitnTa7lbLLj9Fvb8R5JBx334N/icqwEs1b/bQ0NOF+NyG/wT5Zhs1Ufi6Mr7eFmromnL+4lOqv27EUqwh4O7C9kHBoG8O4t/ZzusjCJruVsisCeLc00rDFlxDVPIxnwM9VFVbs68rQ5QNhH86vNdLx0zOsaOykt6eN6ivfps9eh2NQujqwq4nGLYOobm+je1c3bXfreLu3hbon5KjpUUkO/e8asDh76XXZWHHmAB0PNtF3MoXospELXpybD3LpXTbabNXoRn302xtxHU/dNNm206SEFOlxBwc+WEHjM710t1ajHe6jpcHBYDj78uQL8G1plB2vT9H9cBrH60ATDRv7OXZFJc2b27CvKSQy6KSx0YkvixB249oBBp6vRw+w0s7ArgEGHjcneYCjxfz4AAP2UgD093dJadfGP3bKJLdEMupUHBOUPTTOd6qlT/NvmeA7m8ZZf8uEtA/sszn8+7tQuHqC+uoJrv0Q9nfn8qPfJWTjz6HnV/Clf5rgKzfBX09Bz7O5vDUOfGGc72yaoPwKKWndpnG+s2mcsitQVMZHR3LZ+CL818IJbN8cx/ZP8MEbObQ/nctvxpPX/zt3pXCIjuby/JPS/qDXflkqb2k+/HtfLtvezBCZOJzDj34j3+PNwLvQ82Que9O8UhHcJ9U9eCl8pXaCulvgoxM5PNuex9GonR/P5aUnc/jRL2H+jRPU1U5gXgSewdT5JvLqj+GzN01Qv3qChcC/v5hL+76p+xl9M4/HunJ48yNpT9/61VDw+/j6z6qcx3PY25lLz+tQYJygvnaC8mvgzVdyeKwvl4QhjlcHcviv66T2uEElpXtucJYjRdPpaLTOz+TS8xoUFE3w6DcnuHsxHH05B8ePU0wHx+G/RoBrJrghyy0FTr+ZQ+CyCb5SPUHx1cAfpX1j3/xwqo0++y4BjjaRAAAaOElEQVS89Ewur38oXzSay7b2HF7+FRQsnaDunglueD+HvUcyFJblvb38UlSfYP6HUv/oPQFcMcH6TePUGaR05Y1SX773C9ndu0AgEAgEAoFAEMvsRr5+ECEM6LI9UWVBNe3ft2DIA0pNaCOrWL/bw8ETFgxLIHg0wDWrKjGbrZivAzBxPQFq2r387LCNklunylOV2umyl0w6fyOH/Zz5UiX1xbXUFmsAE6YrQ1Q90o/71QDVdTpC+5y4fh3B8EAvnXdK7gNT8VLUG+y4f3wAf1UthgIVl38GQIV6nhq1HCUWGezG9WYEo62T1juk0AzdOgcfnqqhY3svgxV2SibDSXTUO7uoXZRKEGGCJ8PACvRpthtwbyjHnfCdYV0v1qJEuYcY/sUQQwkHbg2NqDA8XIkB8I2GAR3qz6QuLxUq/fXo8XLstwHAMO3/WbVbcTO9m81S1NpyA6o/1uE8fICjI6WUFvjpc7gJqUppfdFOiRqgFFNJIR33teAZSV3HsNeJ880IujXddNfJ2yosL2WFoYm6rVNOyMgbmfVEnUIHiPjw/3kFlfcXU3uPCQ1gKtYSqmmi/ycHCdTUkrChAwD+He14R9WYHV00F0saayqeDw91MfTKYWoLtfQ73IQKzLR1NWNSSzI03aih6T4Xzue8lDlKpx50LKqny1krRbXeAIGaDnxjpbR2yTK7Va7TKwfxrzXEtJgas6N3qg6lZZgcNbTufoy+sgEsk9E+Kko3dGG/dcpRH9jpxP2emupnuibTVW9slcrZ7qGuZAW+gwHATO0aI7o80NXYaF9s5vfBjwhGQO/34Y2A/q4GzNdpAS3W/6WjeDjA+/83CIkuvTFZH5TKBQ3VT/bK9SvFtCDCqg1uPAf9WJZM19us26modDLiPL0eB/BsdRMqqKbTKds7qmltkfSse08dJTU6ReVNITleWwZCaKqeomudMfWDr5CHji1+Ikss9D5TjTYPWG6ieFEHdXY3j/2gjIG1meUBSAdnzVNLD3s+cznqgtQPb1RqNaoCKQRSla9Omja93BJTBzPrVIIpvOTSCS65VP47f4J5l0kOtY9+CaNfgHLDOF/5W+m7mwpyaf6XHA7/Ry5fWR0T8XjpBA+2jLPsU4AJrojkse2XObw+DDcsnmDeZfDZXMmZ9tnLJpgnX/bRrzKXcUw2RbeuGufaK4Arxnhkfi6/OQ0fhOCSK5LXPxlvvpzDm3+Fwtpx1sqRrjf9P5JD6zev5XB62UTSB38AXDnBt2zjaGVfVXlRLhudObz8Ui5ffHh88p4mGcml5xXpukej1xnBeHUe/7MPdvw4l8Lqcf48mMOrZ0C7cpxv3T61X2jhlXl8e1/KW4njjv8xxmrZFNxUksuPvpPD/ldy2V88Rvlluex6CUbzof4bY9wkj7k3Lc7l2+05vLwrly8+NM5vZlHOfx7M5eXfxd/TTcYcFm7PpeeXOewyQd3iqfTXrh7Hdouc7vNSdOVvfpnDn0smpst1pqTVUfjIJ9V54epxHpbrsvCeHD74Yy4/+lkOr69k+p6t/4UUBTqP7Ov5hQk2fXUqojY4mMt8I3zxi2Pceo303Q3k8c2XpS0Lbrppgrd+LG1xsOzucR6UI22/aMzhhu259LyZuqhs7+2LDePUfUFuD40URev7ZS51i8fJvww+K4dUf3ae1LcFAoFAIBAIBIKzYXadr59VoQZCYSXvgsdwc7HsiJC46ho94CfygfRZe4eVZoBImPAIkK9Gs0AH+Aj+KUSsc0afEHWrKq7FXox02vZIWDqZ+wotOsB/+jSgxf8LH2CiqjzGyZOno7q9l+oMVfe95iWCgeIvqKT8pVK5vlAPRw5z7CSULImmNmJI6XgFCHPmjHS9Ks2r6sY1bdx1XfRTCP/uPvq3NLA+r5unKmIdVUE8323BMyUN1NqlmO1WmkuldJ/OVwMhwn/JcKPJyFOhAsKjHyb9d1btVmyMeV1Yi04PHD/DmVHgTz4OjoC6pkp2vMqor0H/OSCl8zXC0deHABN1FfHuT+2i64Ep52tmPUnmPo1ebKLWbpJKHAkTRoW6QIP2c8DxEMmvDuB7LQwF1ZiLY25KXULz90ukv0/2yfdtlh2MMlebqSp24T/8GkdHSymJfn+jYWqfZY1Ud991S6deec+L1ilCfIvp0OviBEvJP1Wi9vZz8GgAy7Jo7fUsvSE2XZChAwFQV1K4UG5jOb/ri4F9Rxkeqeb6GzVw/ADOjRpCNSsw3qBHV2iaksnnl2JSuRna3kpHXg3momL0n9NjWp4i+vuUT5lcJh96rKA49nXRq3XoAX8KvY1HQTvFkFaPw0McOAnqikJ04fBUhObC6ykGvEeHCdegqLx3AAhx4DsN+N8Mo69pp32tIe0bB1NbjJglx2s062Iz5gIP/T/3EVhrOC8HIaaV2zTnqzazTinkkr8d58G/RTrh/kwOfArmaaQig4l2RY/k1IrWQgv8Ej7IMNwpKePaz0t5HfjfeahunWDpsgkW6seZr/AFiClyOXECyJ/g1tgtBvLHWbtRweVXMel4BeCaCb50ZQ4vn5KiFb+YkPyjE9IhTNd+cSLuunzjBMYf5fDvv4LfkEPwhPT9rV+Md2ZqlW6tA+hih7bcccpvyeP/b+/uo6Mq7wSOf+9NMzTrkOgE8bJsBrUpQoinmWUhLBtkzySuxFMIlSJLE86a2AJWhm4PQ13DukYpsauJ1YQqk9aMPSYHIQWZ6GH0QFJjU1pgPcEVQoEUS3IoUypRyGiW0czdPyaBmTBvIROwPb/PP3m7L8/bTGZ+8zy/Z+8uOH5coWAiHO6HlFz9UuA1cAOd+bcpbPsgUP7shLWzwuGwddKZNVfn1cMKh3+nwtTLwfvsaUHHTQz89/N8Ap9yFUHNSGKM0UPvB77OuI3AWByUcRvQA8dOwayggHF0KnV2hUPBv5qo818/8F/6z65N0UNSGWh5A6wEuKhwoQ+SDTqpg59cffhx4JpHfgek6OTPCm3XjMlAlODrSOsW2h86Ggqeq3kdJIQQQgghRBwSG3y9dQazaaK1swsv5pGlHojG20VTpR3nAS9D73MNKXGGCAZ6aX/eTuXu7gjn9nLuDIDGTVe8yY/Fg+cUQCeOby/GEeaIoQByfEykTwKO9vFJP0RKBmeenkvuzMs/5/7jPL5aeT8VL26h9a6KoJlioTkyw8m8YzbQSucJL9w6wh77Py+9gJYeYR7VaPot2LlePEDWxJFmtB1B38YcJzHu1FaNvcpN99BaU4MhRhDrHL2ngela5Dy9Eett5KZbADycizLrd1RuiifwfAbP7wFcbFgyfC42QCB4Zn1wC5vGb6HxF01U2xsBMJit2J4oD2woZ7Ly6HMXaXylCdfmysCHBQYjWfc/TuWKMDlz422XhCRTjKOf4uXx0AXw+gYWvx7m7319eEd0Pw+dg8GI3jgCyb0fBdZea6bhj/PQDwomxbzS9ZcVa0zFy6+wr1Fl23uB3KhAov8rxnWP1Dw/dr/KzjZoblJoblJgHMwv9rMsK0ae1mE+PA9MDBOzvio62iTgLFwI81xz7uPA19Qbh5dRZ8J4Bc4qXEDnwmD+iLQEziBMvTHw9cOPgRSFC4AWphxpg5HNC+cT284R63RjhOD9dadwbjCf7ZvPq7wZ5oiwHyRMhAwVPKcDM2Avv5zQKSjmUt76tkaFk18iJAfvFfpVdv5MYe+py79KHvZYuLrxe5V1E0IIIYQQ4hpJ7NvMlCwsM6H1wC5aPNYwQb9uXPZymv48D9tPV5Eb10W9tFatxXEgk+LaCkqnm6C/m9YaO5V7ImUEvKzrldVU7PZhfaQBu1XDMNBL5/YK7C8PzXocCnh6+Og8I3zFb2T8eIBCNr21jtxoGyvFxYDZrAHtdHRC3syYJ1wqR2ZWJrS2c6QLrHGfB4Y7LVhoZX9zC567h2+WA/S4WP+fTZyZY6P+odyQgKLn0H48gDUjXHR3dP0WIt2EBnSfDZ0tG1v8fRt7nERx3MnqjW581nIa7Fa0JB+9x5uoWOck8tnpmCYDf/QQsVYR6+3loz8BaKSnEWXm7yh85KGbKIF1AMZhSAMmrKLBsTRKz5jIXV5O7nKg30PXb5qoqnJR/e/pTNkeWH5vnFrIqo2FrBrw4f3jEdwvPYWjYT1PaNt5ZsGwMGS87ZIQcfRTvAZXBmgPNbBlSaQrdY/gfkZy7VUsOlbOhtc3UD6lPrDBYASmmzSgE0+vF0I+GuvF80dgsinycvQvmqTYYyoeJ3epNLwH2Yv9fGeuTvJnCsfeUnn+ncQVNb576Nx+1wD2u4CLCj0nFHY2KbTVq6Q/NkDBCMbzhDSgL/C0MKrxCoDC+QuB71LDPNekDwZAL3ysAHrIeR/2AWmBJfWfmoCzcL4PSFAA9sJg4HfCjcB4nVQUzocpR0j5E9jOqZHq9HGgmVIT9hyUOCmDKRVKnx5gVtwZ/3Wypykc7FTYdwrum3L597dbdG4H+J3Kq0BqJlGeQxTafh4IvM5f6ee+qTr0KxzcqtIQ9I/yasfv1dVNCCGEEEKIayPBL1FN5C8vwkQnjh810T0Q+lfPriochzz0Zs3AEvekwhMcaffBV+ZROH0wCJNixlowL45zPRx5txeYR75VCyzlN5jIKsjn8ipDA1l/bwH2s2tv0K4iA9002Uso+XZjlACakZy7LEALLe2h27x42pzUbm4a0SY2AOb5RZjx4X4r3MYxkXjp6uwCzGgTYx4cypTPtxab4KiDyuGbQw14cFU76DjdS9adltCZnAPdtLzRCQYrd80O15mj6bdhMizMSwPvW272BzeK9xRdwzfFCRGhbwHPH04E/xTHOInM09lBLzCvwIpmAJIMmKbnk/+VaGeZscwxwnk37gNBlfK2U/1vJZRUttIbqd6n3ew6AMyeQ05CZnd209Ud0rC0v+bCi5F5OdEWcmcxr8AIv3fTErIxlpfOXbXU1rXSTTetm2upfak9kDcwRSPTamPVPcD5I5z4M3gPNVG7uRbXUR8kGTBmWFi6ujiQk/jYqStve83aBeLqp3gvNXUehWnQ5W4JfW70duLaXIujtXuE9zMzOyeT3DU12LKhc/PaCBtyBQQ+aIH9zW48Qff3HnDjPg/Gf7JgBow3BCJJJ3qCHjN/7uBArM3trpnYYyo+Cse7At/NmquTrALjdO6YoycgaDmSeygc3p2Ec6vKsYuBv2dk+1k2mGXiZM8VF43Cz9SpQL9CW0fQZk79KnUbk/iPn6mci3b6GfAEpbnFo9D2AZChkx1ms6XkqYHNr07uU0LO6+9Q6OiHlGlwOzrZg8u92/aFbjDluWJzvMi6g5/C/Sp7B4PXU6fqkAHZKdD/vwoHg3e6Gir/bTrZ4xLZzpHqpHBwn0I/kD3NH+7E60jHcmfgu4PvDuuH/SrOrSqHPwl/3qx7dTJU2FsftInakM8VmncH6vzPc6LVWeFYFzBBZ/5UnWQCeXXnzg4+JsL4RaEn6li52rpdhX4vI82sJYQQQgghRKIXWGLIsVHzvW7KnndQtriFwgfvJ++Wi4G8pAc8+G4u4pmH80aQV3AGeYtNuHY5qXgxHfs3ZmM47ab+x+7Yp6KR+y9ZOI62UFtpxvBAIZN8B3BVO0ICqqa7bax6bTWOF8tYfdZGaQ507nDSeMhL1pr8SxsTTZqSBXTS+HMX2te8dGtFLB0697/tjO9fS1GOgTPvNFBd1w4Ln6F0pLkXMgopszqpaK3BeU8OtplXXqD76H72D7347/dwaHcjTYd8GGaXkD+SJbcAGLA8VIOtp4zaF8u4t6WQVd/MQ/MNbs7l8WFa+Axr80J7zPN6FY1/APMDJUG5NYONpt+GScqi+PtWXBVuNiw/ERhTXz6B8ydNdA1/IzhMcN+WvLuU4oVT8O6tx9kW/E4+vnECEcbAnHyy6jppqanA/P0yCif7OPBaFY6j0cuWtcKOdXcF7orV9D1QRuGEPtq3OXCfNlK0djamJCPF5UW0POLiidV9lJYVYvYdCtTbkIXtYWuCUnt4cZffz4klNkrv8NH+Cwfu4z5MCzdRnB39zKE6OB+twLC2hHl/56PDVUPtrm4y1yzFjIlz/ArXVjdH+u3Yvzkbw+mmwCY9t87DooERAyd2u3D9+hw+e6D9fvXzRjoxYJ0548qbJmUlsF18dGwuYf0uL1nfq6dm4ZVht5j9FO+tLo1jJ/aNBtatmMckXweu52px9WRi+4Y57vuFhKSTNIp+uInu76zH9Vg55p/WUBQul6apkHVr3JRtdlBm68W2IodxPW7qX27He3MRz3wr8ExnnJlPrmE/++vsVPjKKEwdfKwNDzjcbOarBuh8y4nzzo8wfQCWB63hk1RMNpMFdG6rx3WLBW+PRtH9UTYHi0rjphhjKj46Of8Azbthx89Ukr+uk/GZgnubgif2yWGvN7RE371T5dPx8Nk0fxz30JnwZTjYqnD4vMqKRYFjdrYDKli+OnjYUF7KdpU3J+h8egYK7r0y2JW9SCe7Q+HQVpXnT+vMvRk6fqlw6DzkfCPKZlsAZxWe3JhEwQKd1NMKe38LF1RYtCzMZlsAaX5K70niybcUnqpKYuHdOn9zWqH5Hei/AVZ+PVC+1Dw/i/5HpXmPypNndQqy4cJ7Cs1RcngO9+azSXxwl87cVGj7pcLJPsi4xz84W9XPkmVJdLwMzqeT6Fmgk3FRwb0bPCosWhIo/2jaeXj9Q+r0sU7hVOg5qLD3OKR8TWdJ3LlTr53UPJ2CfQp7m1Sc/ToFWeD5rcKrbwNf0/nXGyKcqPlZuTSJym1Q93gSt1t05k6DT08r7PsNeC5Cxr1+FkT98Fdn7kyFQ+8q1G1TKcnXSfYo7NwRetSl8duo8uThwFg5uUdh39kxqlukKg/my93zhkp6JpyZoLNo/HbKSh10G6xU7CiP8NpHCCGEEEKIKyU8+AqgLXyG7Xe4aXzFRctLlbj7wWDKxFKyCduK3JDNXmIzYHloC5uM1Th3V7F6hw+DKZO8rEzwxF4Sri2spCbZgaOhkQ2lDkjTmJFjQTu+//Kb3yQzS6trMNbV4Hi9mg07wJBmxrqmkrVBy3i1heWUd5ZTtaeWDXsM5NoLWZpjZukL9ZhfqcVZb8fV67tU13Urria4YCRv7SaK3l+P65Eyzq2pYO3CrKDNaKDj5Q10BLWPUTOTW7KOdStyry4vZZJGUeV2ZuxpxNncgqPSjQ8DpqkWih+2UfqPQdEMn4f9dRU8sasLsm1ULo80M3J0/TacMa+chspJVL/spmVzJS1pZixLVjHjNw5c0WbkXepbB42/bqL6AJhy8rGV9FHd0H7psLjGCZHGQBGVzxlw1DXS+FgZDoxoWTlYJnexP9psHWMe5fWbmFTjoKmuknbAYLKwtPJRVg0G3Y0zbdS/YKbmaSfOyvZAv+QsZZN9FbkJm56XSdFDuXjcDp7Y4QVTJtY1dtYuzIw9fo15lDdswfKSg8aqtTjOg1GbQb69hlULAgW0PFTPlkwHjoYa1u7y4ksxYSlYx5aVhYFAnVZETb2G8ydOmirKcPQbMN5qobhyHaVhZ1UnuF2SDBjw0X0mwkL/OPopXsa8cra/YMFR18hTNgdejGhZ+ax7bhWFky8dNPL7GS3Yqmyc+E4ttfZazD+1YQlzqLa4hvpbHFT/2EX1Y01gMGLOs7Hl4aLLG7OZrDz6XB81Tztpr6vkQJoZy7ds5L5dS2PwYy3JQunTxZx4vInGykoMaUupetAavnxaEeWPHKG8ppXax1oxzF5H4f0jaroghthjKk6a1Y/9SyrbfqlQ92wg/2fGFEg9CxeuomQ539SZ/yeFtn0KDSrMzYD5cdxDs/rZmKbgbFFwPqvwmQrpU3RKl/sv79A+0c/KxUk89wY0NyokT9GZH64QKX6++wOVbVsV9r2tcAxIvgHmFvspyY6R1zRT574bFNyvKfT7IXUylBb7mTUh8ina3X42mlTqmmFnowIqpE/V+d4yP3cMBadUnQVr/aRsVWk+otDwHiSbYFEeNLdHvnaw+V+Hky0Kzk8geTzMXe5n2czL9UnJHuDx1SoN2xX2NgVmP6ZkhJY/oe08WKf0HSqvdig4DwLjIPsenZJ8f2JSTiea6uc+u0JGs4q7ReGp5sDYyJirU7o4epnTZw3wo9tUWtwKbx9WaHgX+BJoGToli3TmZsTKmauTvcxP6TgV93sKVQcVkm+AOyYBfUGHBY3fA0cUGt4P9NGCmQpvvjs2dQtHy/ez7JTKzk4FZyfcvlgHLR1zCnjSJmG6HjsTCiGEEEKIv1jK559/PrJdJsS1cb4D56MbaDzug+k2GmrD5GO95jqoLViPCwPafBuV5YWYR53nVlxPHc8XsP712Buz/VX7QyNl3+2kpGET1lHvqiWEGO5cZ2Cpf8Y0PxlBUbCeN5J46m3IeWCAlWFn2Su8+bRK81lYWTVAzrUqsBBCCCGEEEIk0JjMfBUJkGah9IXdFB510/K+lqDl5aOVzozlNmbn55N76xejREKMjgdXtRPjgw0SeBVijKSboO1ZhR5TEvfd52f2JDjZpvLqO8Df6iyKkd5ECCGEEEIIIf6SSfD1C06bXkjx9OtdiiFmrA+OZFGvEF9wAybyf7iLQqN8mCDEmNH82H+gsnObgrteZefngdQBGXN01i/yR89DK4QQQgghhBB/4STtgBBCCCGEEEIIIYQQQowB9XoXQAghhBBCCCGEEEIIIf4aSfBVCCGEEEIIIYQQQgghxoAEX4UQQgghhBBCCCGEEGIMSPBVCCGEEEIIIYQQQgghxoAEX4UQQgghhBBCCCGEEGIMSPBVCCGEEEIIIYQQQgghxoAEX4UQQgghhBBCCCGEEGIMSPBVCCGEEEIIIYQQQgghxoAEX4UQQgghhBBCCCGEEGIMSPBVCCGEEEIIIYQQQgghxoAEX4UQQgghhBBCCCGEEGIMSPBVCCGEEEIIIYQQQgghxoAEX4UQQgghhBBCCCGEEGIM/D9kqXWM9CZayQAAAABJRU5ErkJggg==)"
      ]
    },
    {
      "cell_type": "markdown",
      "metadata": {
        "id": "oX7zTteP7nbm"
      },
      "source": [
        "# Questions Perplexity\n",
        "1. How is PERPLEXITY calculation == EXPONENTIATION of the CROSS-ENTROPY between DATA and MODEL PREDICTIONS"
      ]
    },
    {
      "cell_type": "code",
      "metadata": {
        "id": "FXRUVhLZzjOg"
      },
      "source": [
        "# criterion = nn.NLLLoss()\n",
        "# total_loss = 0.\n",
        "\n",
        "# for i in range(10): #len(pairs)):\n",
        "#   pred_words_index = []\n",
        "#   output_words, attention = evaluate(encoder1, attn_decoder1, pairs[i][0])\n",
        "#   output_words.pop(1) # removing <EOS> token\n",
        "#   pred_words_index.append([for i in len(output_words)])\n",
        "#   for  \n",
        "#   loss = criterion(output.view(-1, ntokens), targets)\n",
        "#   loss.backward()\n",
        "#   total_loss += loss.item()\n",
        "#   log_interval = 200\n",
        "#   if batch % log_interval == 0 and batch > 0:\n",
        "#       cur_loss = total_loss / log_interval\n",
        "#       ...\n",
        "#       print('ppl {:8.2f}'.format(math.exp(cur_loss)))"
      ],
      "execution_count": null,
      "outputs": []
    },
    {
      "cell_type": "code",
      "metadata": {
        "id": "LgmeDYCFzjKP"
      },
      "source": [
        "# output_words"
      ],
      "execution_count": null,
      "outputs": []
    },
    {
      "cell_type": "code",
      "source": [
        ""
      ],
      "metadata": {
        "id": "FSfd_BpqE5Bs"
      },
      "execution_count": null,
      "outputs": []
    }
  ]
}