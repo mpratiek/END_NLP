{
  "nbformat": 4,
  "nbformat_minor": 0,
  "metadata": {
    "colab": {
      "name": "END3_ASSIGNMENT_1.ipynb",
      "provenance": [],
      "collapsed_sections": [],
      "authorship_tag": "ABX9TyM1+WpA/d+IsSWYn1hWmXL2",
      "include_colab_link": true
    },
    "kernelspec": {
      "name": "python3",
      "display_name": "Python 3"
    },
    "language_info": {
      "name": "python"
    }
  },
  "cells": [
    {
      "cell_type": "markdown",
      "metadata": {
        "id": "view-in-github",
        "colab_type": "text"
      },
      "source": [
        "<a href=\"https://colab.research.google.com/github/mpratiek/END_NLP/blob/main/END3_ASSIGNMENT_1.ipynb\" target=\"_parent\"><img src=\"https://colab.research.google.com/assets/colab-badge.svg\" alt=\"Open In Colab\"/></a>"
      ]
    },
    {
      "cell_type": "code",
      "metadata": {
        "colab": {
          "base_uri": "https://localhost:8080/"
        },
        "id": "Ed85i1s1GhO3",
        "outputId": "29e07c5f-2abd-48b4-f28e-bc2439302a94"
      },
      "source": [
        "import torch\n",
        "from torch.autograd import Variable\n",
        "import torch.nn as nn\n",
        "import torch.nn.functional as F\n",
        "import torch.optim as optim\n",
        "import numpy as np\n",
        "import matplotlib.pyplot as plt\n",
        "%matplotlib inline\n",
        "torch.manual_seed(2)"
      ],
      "execution_count": 1,
      "outputs": [
        {
          "output_type": "execute_result",
          "data": {
            "text/plain": [
              "<torch._C.Generator at 0x7f4808c9ea90>"
            ]
          },
          "metadata": {},
          "execution_count": 1
        }
      ]
    },
    {
      "cell_type": "code",
      "metadata": {
        "colab": {
          "base_uri": "https://localhost:8080/"
        },
        "id": "4T5Vx0uQsWoH",
        "outputId": "1ff2720b-c52b-4665-9323-5bd603b16ea8"
      },
      "source": [
        "print(torch.__version__)"
      ],
      "execution_count": 2,
      "outputs": [
        {
          "output_type": "stream",
          "name": "stdout",
          "text": [
            "1.9.0+cu102\n"
          ]
        }
      ]
    },
    {
      "cell_type": "code",
      "metadata": {
        "id": "svE5WiswGjPm"
      },
      "source": [
        "X = torch.Tensor([[0,0], [0,1], [1,0], [1,1]])\n",
        "Y = torch.Tensor([0, 1, 1, 0]).view(-1,1)"
      ],
      "execution_count": 3,
      "outputs": []
    },
    {
      "cell_type": "code",
      "metadata": {
        "id": "WvuIeGgxGldk"
      },
      "source": [
        "# XOR_method1 : Uses 3 Linear layers to get the total parameters 44, changed activations from \"tanh\" to \"sigmoid\", removed activation from last layer\n",
        "class XOR_method1(nn.Module):\n",
        "    def __init__(self, input_dim = 2, output_dim=1):\n",
        "        super(XOR_method1, self).__init__()\n",
        "        self.lin1 = nn.Linear(input_dim, 5)\n",
        "        self.lin2 = nn.Linear(5, 4)\n",
        "        self.lin3 = nn.Linear(4, output_dim)\n",
        "    \n",
        "    def forward(self, x):\n",
        "        x = self.lin1(x)\n",
        "        x = F.sigmoid(x)      # Changed activation from tanh to sigmoid for better predictions\n",
        "        x = self.lin2(x)\n",
        "        x = F.sigmoid(x)\n",
        "        x = self.lin3(x)\n",
        "        return x"
      ],
      "execution_count": 4,
      "outputs": []
    },
    {
      "cell_type": "code",
      "metadata": {
        "id": "CekqgkguGou4"
      },
      "source": [
        "# XOR_method2 : Uses 2 Linear layers to get the total parameters 44, changed activations from \"tanh\" to \"sigmoid\", removed activation from last layer\n",
        "class XOR_method2(nn.Module):\n",
        "    def __init__(self, input_dim = 2, output_dim=1):\n",
        "        super(XOR_method2, self).__init__()\n",
        "        self.lin1 = nn.Linear(input_dim, 11)\n",
        "        self.lin2 = nn.Linear(11, output_dim, bias = False)\n",
        "    \n",
        "    def forward(self, x):\n",
        "        x = self.lin1(x)\n",
        "        x = F.sigmoid(x)      # Changed activation from tanh to sigmoid for better predictions\n",
        "        x = self.lin2(x)\n",
        "        return x"
      ],
      "execution_count": 5,
      "outputs": []
    },
    {
      "cell_type": "code",
      "metadata": {
        "id": "_TdktUMeXTCQ"
      },
      "source": [
        "class XOR_method3(nn.Module):\n",
        "    def __init__(self, input_dim = 2, output_dim=1):\n",
        "        super(XOR_method3, self).__init__()\n",
        "        self.lin1 = nn.Linear(input_dim, 2)\n",
        "        self.lin2 = nn.Linear(2, 2)\n",
        "        self.lin3 = nn.Linear(2, 2)\n",
        "        self.lin4 = nn.Linear(2, 2)\n",
        "        self.lin5 = nn.Linear(2, 2)\n",
        "        self.lin6 = nn.Linear(2, 2)\n",
        "        self.lin7 = nn.Linear(2, 2)\n",
        "        self.lin8 = nn.Linear(2, 2)\n",
        "        \n",
        "\n",
        "        self.lin9 = nn.Linear(2, output_dim, bias = False)\n",
        "    \n",
        "    def forward(self, x):\n",
        "        x = self.lin1(x)\n",
        "        x = F.sigmoid(x)      # Changed activation from tanh to sigmoid for better predictions\n",
        "        x = self.lin3(x)\n",
        "        x = F.sigmoid(x)      # Changed activation from tanh to sigmoid for better predictions\n",
        "        x = self.lin4(x)\n",
        "        x = F.sigmoid(x)      # Changed activation from tanh to sigmoid for better predictions\n",
        "        x = self.lin5(x)\n",
        "        x = F.sigmoid(x)      # Changed activation from tanh to sigmoid for better predictions\n",
        "        x = self.lin6(x)\n",
        "        x = F.sigmoid(x)\n",
        "        x = self.lin7(x)\n",
        "        x = F.sigmoid(x)\n",
        "        x = self.lin8(x)\n",
        "        x = F.sigmoid(x)\n",
        "       \n",
        "        x = self.lin9(x)\n",
        "        \n",
        "    \n",
        "        return x"
      ],
      "execution_count": 6,
      "outputs": []
    },
    {
      "cell_type": "code",
      "metadata": {
        "colab": {
          "base_uri": "https://localhost:8080/"
        },
        "id": "xbLIYkl1Gtet",
        "outputId": "47af1b2c-b040-48a1-e19b-47b8c0f4fa5d"
      },
      "source": [
        "# Model Summary for XOR_Method1\n",
        "model_1 = XOR_method1()\n",
        "print(model_1)\n",
        "from torchsummary import summary\n",
        "summary(model_1, (2,2))"
      ],
      "execution_count": 7,
      "outputs": [
        {
          "output_type": "stream",
          "name": "stdout",
          "text": [
            "XOR_method1(\n",
            "  (lin1): Linear(in_features=2, out_features=5, bias=True)\n",
            "  (lin2): Linear(in_features=5, out_features=4, bias=True)\n",
            "  (lin3): Linear(in_features=4, out_features=1, bias=True)\n",
            ")\n",
            "----------------------------------------------------------------\n",
            "        Layer (type)               Output Shape         Param #\n",
            "================================================================\n",
            "            Linear-1                 [-1, 2, 5]              15\n",
            "            Linear-2                 [-1, 2, 4]              24\n",
            "            Linear-3                 [-1, 2, 1]               5\n",
            "================================================================\n",
            "Total params: 44\n",
            "Trainable params: 44\n",
            "Non-trainable params: 0\n",
            "----------------------------------------------------------------\n",
            "Input size (MB): 0.00\n",
            "Forward/backward pass size (MB): 0.00\n",
            "Params size (MB): 0.00\n",
            "Estimated Total Size (MB): 0.00\n",
            "----------------------------------------------------------------\n"
          ]
        },
        {
          "output_type": "stream",
          "name": "stderr",
          "text": [
            "/usr/local/lib/python3.7/dist-packages/torch/nn/functional.py:1805: UserWarning: nn.functional.sigmoid is deprecated. Use torch.sigmoid instead.\n",
            "  warnings.warn(\"nn.functional.sigmoid is deprecated. Use torch.sigmoid instead.\")\n"
          ]
        }
      ]
    },
    {
      "cell_type": "code",
      "metadata": {
        "colab": {
          "base_uri": "https://localhost:8080/"
        },
        "id": "uXrjlX-_GwJj",
        "outputId": "45dbe2be-fe9f-4d2e-c803-971509f62d80"
      },
      "source": [
        "## Model Summary for XOR_Method2\n",
        "model_2 = XOR_method2()\n",
        "print(model_2)\n",
        "from torchsummary import summary\n",
        "summary(model_2, (2,2))"
      ],
      "execution_count": 8,
      "outputs": [
        {
          "output_type": "stream",
          "name": "stdout",
          "text": [
            "XOR_method2(\n",
            "  (lin1): Linear(in_features=2, out_features=11, bias=True)\n",
            "  (lin2): Linear(in_features=11, out_features=1, bias=False)\n",
            ")\n",
            "----------------------------------------------------------------\n",
            "        Layer (type)               Output Shape         Param #\n",
            "================================================================\n",
            "            Linear-1                [-1, 2, 11]              33\n",
            "            Linear-2                 [-1, 2, 1]              11\n",
            "================================================================\n",
            "Total params: 44\n",
            "Trainable params: 44\n",
            "Non-trainable params: 0\n",
            "----------------------------------------------------------------\n",
            "Input size (MB): 0.00\n",
            "Forward/backward pass size (MB): 0.00\n",
            "Params size (MB): 0.00\n",
            "Estimated Total Size (MB): 0.00\n",
            "----------------------------------------------------------------\n"
          ]
        },
        {
          "output_type": "stream",
          "name": "stderr",
          "text": [
            "/usr/local/lib/python3.7/dist-packages/torch/nn/functional.py:1805: UserWarning: nn.functional.sigmoid is deprecated. Use torch.sigmoid instead.\n",
            "  warnings.warn(\"nn.functional.sigmoid is deprecated. Use torch.sigmoid instead.\")\n"
          ]
        }
      ]
    },
    {
      "cell_type": "code",
      "metadata": {
        "colab": {
          "base_uri": "https://localhost:8080/"
        },
        "id": "D1rN-w_QCgIP",
        "outputId": "aa6d3b1d-b1bf-4fca-b2ae-7162b44dab08"
      },
      "source": [
        "# Model Summary for XOR_Method3\n",
        "model_3 = XOR_method3()\n",
        "print(model_3)\n",
        "from torchsummary import summary\n",
        "summary(model_3, (2,2))"
      ],
      "execution_count": 9,
      "outputs": [
        {
          "output_type": "stream",
          "name": "stdout",
          "text": [
            "XOR_method3(\n",
            "  (lin1): Linear(in_features=2, out_features=2, bias=True)\n",
            "  (lin2): Linear(in_features=2, out_features=2, bias=True)\n",
            "  (lin3): Linear(in_features=2, out_features=2, bias=True)\n",
            "  (lin4): Linear(in_features=2, out_features=2, bias=True)\n",
            "  (lin5): Linear(in_features=2, out_features=2, bias=True)\n",
            "  (lin6): Linear(in_features=2, out_features=2, bias=True)\n",
            "  (lin7): Linear(in_features=2, out_features=2, bias=True)\n",
            "  (lin8): Linear(in_features=2, out_features=2, bias=True)\n",
            "  (lin9): Linear(in_features=2, out_features=1, bias=False)\n",
            ")\n",
            "----------------------------------------------------------------\n",
            "        Layer (type)               Output Shape         Param #\n",
            "================================================================\n",
            "            Linear-1                 [-1, 2, 2]               6\n",
            "            Linear-2                 [-1, 2, 2]               6\n",
            "            Linear-3                 [-1, 2, 2]               6\n",
            "            Linear-4                 [-1, 2, 2]               6\n",
            "            Linear-5                 [-1, 2, 2]               6\n",
            "            Linear-6                 [-1, 2, 2]               6\n",
            "            Linear-7                 [-1, 2, 2]               6\n",
            "            Linear-8                 [-1, 2, 1]               2\n",
            "================================================================\n",
            "Total params: 44\n",
            "Trainable params: 44\n",
            "Non-trainable params: 0\n",
            "----------------------------------------------------------------\n",
            "Input size (MB): 0.00\n",
            "Forward/backward pass size (MB): 0.00\n",
            "Params size (MB): 0.00\n",
            "Estimated Total Size (MB): 0.00\n",
            "----------------------------------------------------------------\n"
          ]
        },
        {
          "output_type": "stream",
          "name": "stderr",
          "text": [
            "/usr/local/lib/python3.7/dist-packages/torch/nn/functional.py:1805: UserWarning: nn.functional.sigmoid is deprecated. Use torch.sigmoid instead.\n",
            "  warnings.warn(\"nn.functional.sigmoid is deprecated. Use torch.sigmoid instead.\")\n"
          ]
        }
      ]
    },
    {
      "cell_type": "code",
      "metadata": {
        "id": "DOPgRhofG2wC"
      },
      "source": [
        "#weight initialization for different models\n",
        "def weights_init(model):\n",
        "    for m in model.modules():\n",
        "        if isinstance(m, nn.Linear):\n",
        "            # initialize the weight tensor, here we use a normal distribution\n",
        "            m.weight.data.normal_(0, 1)\n",
        "\n",
        "weights_init(model_1)\n",
        "weights_init(model_2)\n",
        "weights_init(model_3)"
      ],
      "execution_count": 10,
      "outputs": []
    },
    {
      "cell_type": "code",
      "metadata": {
        "id": "ND4Y9McBQFIZ"
      },
      "source": [
        "# for param in model_1.parameters():\n",
        "#   print(param.data)"
      ],
      "execution_count": 11,
      "outputs": []
    },
    {
      "cell_type": "code",
      "metadata": {
        "id": "uvYN_TE5RwCq"
      },
      "source": [
        "# for param in model_2.parameters():\n",
        "#   print(param.data)"
      ],
      "execution_count": 12,
      "outputs": []
    },
    {
      "cell_type": "code",
      "metadata": {
        "id": "XOowZMjxG5Ou"
      },
      "source": [
        "loss_func = nn.MSELoss() #nn.L1Loss() # Modified loss function to get better predictions"
      ],
      "execution_count": 13,
      "outputs": []
    },
    {
      "cell_type": "code",
      "metadata": {
        "id": "Kf30xZnVG8MJ"
      },
      "source": [
        "# Modified optimizer from SGD to Adam \n",
        "optimizer_1 = optim.Adam(model_1.parameters(), lr=0.02) #optim.SGD(model_1.parameters(), lr=0.02, momentum=0.9)\n",
        "optimizer_2 = optim.Adam(model_2.parameters(), lr=0.02) #optim.SGD(model_2.parameters(), lr=0.02, momentum=0.9)\n",
        "optimizer_3 = optim.Adam(model_3.parameters(), lr=0.02) #optim.SGD(model_2.parameters(), lr=0.02, momentum=0.9)"
      ],
      "execution_count": 14,
      "outputs": []
    },
    {
      "cell_type": "code",
      "metadata": {
        "id": "-oW7GVCBuH6m"
      },
      "source": [
        "#Function to plot the gradient flow for every model\n",
        "def plot_grad_flow(named_parameters):\n",
        "    ave_grads = []\n",
        "    layers = []\n",
        "    for n, p in named_parameters:\n",
        "        if(p.requires_grad) and (\"bias\" not in n):\n",
        "            layers.append(n)\n",
        "            if p.grad == None:\n",
        "              continue\n",
        "            else:\n",
        "              ave_grads.append(p.grad.abs().mean())\n",
        "            \n",
        "    plt.plot(ave_grads, alpha=0.3, color=\"b\")\n",
        "    plt.hlines(0, 0, len(ave_grads)+1, linewidth=1, color=\"k\" )\n",
        "    plt.xticks(range(0,len(ave_grads), 1), layers, rotation=\"vertical\")\n",
        "    plt.xlim(xmin=0, xmax=len(ave_grads))\n",
        "    plt.xlabel(\"Layers\")\n",
        "    plt.ylabel(\"average gradient\")\n",
        "    plt.title(\"Gradient flow\")\n",
        "    plt.grid(True)\n",
        "    return ave_grads"
      ],
      "execution_count": 15,
      "outputs": []
    },
    {
      "cell_type": "code",
      "metadata": {
        "colab": {
          "base_uri": "https://localhost:8080/",
          "height": 1000
        },
        "id": "MxYRhBFwG-_y",
        "outputId": "baad03dd-704b-48f5-fb05-d31a3570e3e8"
      },
      "source": [
        "epochs = 2100          # Number of epochs changed to 2100\n",
        "steps = X.size(0)\n",
        "Loss_method1 = []\n",
        "Loss_method2 = []\n",
        "Loss_method3 = []\n",
        "\n",
        "\n",
        "for i in range(epochs):\n",
        "    for j in range(steps):\n",
        "        data_point = np.random.randint(X.size(0))\n",
        "        x_var = Variable(X[data_point], requires_grad=False)\n",
        "        y_var = Variable(Y[data_point], requires_grad=False)\n",
        "        \n",
        "        ########### Training Method-1 Model ###################################\n",
        "        optimizer_1.zero_grad()\n",
        "        y_hat_1 = model_1(x_var)\n",
        "        loss_1 = loss_func.forward(y_hat_1, y_var)\n",
        "        loss_1.backward()\n",
        "        if i% 100 == 0:\n",
        "          plot_grad_flow(model_1.named_parameters())\n",
        "        optimizer_1.step()\n",
        "\n",
        "    \n",
        "    ## Collecting losses separately for each method\n",
        "    Loss_method1.append(loss_1) \n",
        "    \n",
        "\n",
        "    # Printing out Loss values for every 50 epochs\n",
        "    if i % 50 == 0:\n",
        "        print( \"Epoch: {0}, Loss_method1: {1} \".format(i, loss_1.data.numpy()))"
      ],
      "execution_count": 17,
      "outputs": [
        {
          "output_type": "stream",
          "name": "stderr",
          "text": [
            "/usr/local/lib/python3.7/dist-packages/torch/nn/functional.py:1805: UserWarning: nn.functional.sigmoid is deprecated. Use torch.sigmoid instead.\n",
            "  warnings.warn(\"nn.functional.sigmoid is deprecated. Use torch.sigmoid instead.\")\n"
          ]
        },
        {
          "output_type": "stream",
          "name": "stdout",
          "text": [
            "Epoch: 0, Loss_method1: 1.3328378200531006 \n",
            "Epoch: 50, Loss_method1: 0.21762734651565552 \n",
            "Epoch: 100, Loss_method1: 0.22125749289989471 \n",
            "Epoch: 150, Loss_method1: 0.10103107988834381 \n",
            "Epoch: 200, Loss_method1: 0.32561445236206055 \n",
            "Epoch: 250, Loss_method1: 0.015146980993449688 \n",
            "Epoch: 300, Loss_method1: 7.98646651674062e-05 \n",
            "Epoch: 350, Loss_method1: 9.298679515268304e-08 \n",
            "Epoch: 400, Loss_method1: 1.0510348147363402e-10 \n",
            "Epoch: 450, Loss_method1: 5.115907697472721e-13 \n",
            "Epoch: 500, Loss_method1: 1.5010215292932116e-13 \n",
            "Epoch: 550, Loss_method1: 2.220446049250313e-14 \n",
            "Epoch: 600, Loss_method1: 4.3520742565306136e-14 \n",
            "Epoch: 650, Loss_method1: 3.197442310920451e-14 \n",
            "Epoch: 700, Loss_method1: 3.197442310920451e-14 \n",
            "Epoch: 750, Loss_method1: 1.4210854715202004e-14 \n",
            "Epoch: 800, Loss_method1: 1.4210854715202004e-14 \n",
            "Epoch: 850, Loss_method1: 1.4210854715202004e-14 \n",
            "Epoch: 900, Loss_method1: 7.993605777301127e-15 \n",
            "Epoch: 950, Loss_method1: 0.0 \n",
            "Epoch: 1000, Loss_method1: 8.881784197001252e-16 \n",
            "Epoch: 1050, Loss_method1: 0.0 \n",
            "Epoch: 1100, Loss_method1: 8.881784197001252e-16 \n",
            "Epoch: 1150, Loss_method1: 0.0 \n",
            "Epoch: 1200, Loss_method1: 0.0 \n",
            "Epoch: 1250, Loss_method1: 7.993605777301127e-15 \n",
            "Epoch: 1300, Loss_method1: 8.881784197001252e-16 \n",
            "Epoch: 1350, Loss_method1: 8.881784197001252e-16 \n",
            "Epoch: 1400, Loss_method1: 0.0 \n",
            "Epoch: 1450, Loss_method1: 0.0 \n",
            "Epoch: 1500, Loss_method1: 0.0 \n",
            "Epoch: 1550, Loss_method1: 0.0 \n",
            "Epoch: 1600, Loss_method1: 0.0 \n",
            "Epoch: 1650, Loss_method1: 0.0 \n",
            "Epoch: 1700, Loss_method1: 0.0 \n",
            "Epoch: 1750, Loss_method1: 0.0 \n",
            "Epoch: 1800, Loss_method1: 0.0 \n",
            "Epoch: 1850, Loss_method1: 0.0 \n",
            "Epoch: 1900, Loss_method1: 0.0 \n",
            "Epoch: 1950, Loss_method1: 0.0 \n",
            "Epoch: 2000, Loss_method1: 0.0 \n",
            "Epoch: 2050, Loss_method1: 0.0 \n"
          ]
        },
        {
          "output_type": "display_data",
          "data": {
            "image/png": "[encoded data removed]",
            "text/plain": [
              "<Figure size 432x288 with 1 Axes>"
            ]
          },
          "metadata": {
            "needs_background": "light"
          }
        }
      ]
    },
    {
      "cell_type": "code",
      "metadata": {
        "colab": {
          "base_uri": "https://localhost:8080/",
          "height": 1000
        },
        "id": "ASl0JBO3HIsL",
        "outputId": "e7d6fed1-33be-46b5-c0f4-13dbc13feb99"
      },
      "source": [
        "for i in range(epochs):\n",
        "  for j in range(steps):\n",
        "      data_point = np.random.randint(X.size(0))\n",
        "      x_var = Variable(X[data_point], requires_grad=False)\n",
        "      y_var = Variable(Y[data_point], requires_grad=False)\n",
        "\n",
        "########### Training Method-2 Model ###################################\n",
        "      optimizer_2.zero_grad()\n",
        "      y_hat_2 = model_2(x_var)\n",
        "      loss_2 = loss_func.forward(y_hat_2, y_var)\n",
        "      loss_2.backward()\n",
        "      if i% 100 == 0:\n",
        "        plot_grad_flow(model_2.named_parameters())\n",
        "      optimizer_2.step()   \n",
        "  Loss_method2.append(loss_2)\n",
        "\n",
        "# Printing out Loss values for every 50 epochs\n",
        "  if i % 50 == 0:\n",
        "    print( \"Epoch: {0}, Loss_method2: {1} \".format(i, loss_2.data.numpy()))"
      ],
      "execution_count": 18,
      "outputs": [
        {
          "output_type": "stream",
          "name": "stderr",
          "text": [
            "/usr/local/lib/python3.7/dist-packages/torch/nn/functional.py:1805: UserWarning: nn.functional.sigmoid is deprecated. Use torch.sigmoid instead.\n",
            "  warnings.warn(\"nn.functional.sigmoid is deprecated. Use torch.sigmoid instead.\")\n"
          ]
        },
        {
          "output_type": "stream",
          "name": "stdout",
          "text": [
            "Epoch: 0, Loss_method2: 0.013936261646449566 \n",
            "Epoch: 50, Loss_method2: 0.05041102319955826 \n",
            "Epoch: 100, Loss_method2: 1.1269069091213169e-06 \n",
            "Epoch: 150, Loss_method2: 0.0006681084050796926 \n",
            "Epoch: 200, Loss_method2: 3.280835016994388e-07 \n",
            "Epoch: 250, Loss_method2: 2.0806112388527254e-10 \n",
            "Epoch: 300, Loss_method2: 4.105604745063829e-13 \n",
            "Epoch: 350, Loss_method2: 5.684341886080802e-14 \n",
            "Epoch: 400, Loss_method2: 1.2789769243681803e-13 \n",
            "Epoch: 450, Loss_method2: 0.0 \n",
            "Epoch: 500, Loss_method2: 7.993605777301127e-15 \n",
            "Epoch: 550, Loss_method2: 9.381384558082573e-15 \n",
            "Epoch: 600, Loss_method2: 3.197442310920451e-14 \n",
            "Epoch: 650, Loss_method2: 1.4210854715202004e-14 \n",
            "Epoch: 700, Loss_method2: 0.0 \n",
            "Epoch: 750, Loss_method2: 0.0 \n",
            "Epoch: 800, Loss_method2: 3.552713678800501e-15 \n",
            "Epoch: 850, Loss_method2: 0.0 \n",
            "Epoch: 900, Loss_method2: 1.9984014443252818e-15 \n",
            "Epoch: 950, Loss_method2: 2.220446049250313e-16 \n",
            "Epoch: 1000, Loss_method2: 2.220446049250313e-16 \n",
            "Epoch: 1050, Loss_method2: 2.220446049250313e-16 \n",
            "Epoch: 1100, Loss_method2: 0.0 \n",
            "Epoch: 1150, Loss_method2: 5.551115123125783e-17 \n",
            "Epoch: 1200, Loss_method2: 0.0 \n",
            "Epoch: 1250, Loss_method2: 0.0 \n",
            "Epoch: 1300, Loss_method2: 4.6984638402136625e-11 \n",
            "Epoch: 1350, Loss_method2: 0.0017875470221042633 \n",
            "Epoch: 1400, Loss_method2: 1.7082378462873749e-06 \n",
            "Epoch: 1450, Loss_method2: 2.589928271845565e-12 \n",
            "Epoch: 1500, Loss_method2: 2.220446049250313e-16 \n",
            "Epoch: 1550, Loss_method2: 2.220446049250313e-16 \n",
            "Epoch: 1600, Loss_method2: 2.220446049250313e-16 \n",
            "Epoch: 1650, Loss_method2: 2.220446049250313e-16 \n",
            "Epoch: 1700, Loss_method2: 0.0 \n",
            "Epoch: 1750, Loss_method2: 0.0 \n",
            "Epoch: 1800, Loss_method2: 0.0 \n",
            "Epoch: 1850, Loss_method2: 0.0 \n",
            "Epoch: 1900, Loss_method2: 0.0 \n",
            "Epoch: 1950, Loss_method2: 0.0 \n",
            "Epoch: 2000, Loss_method2: 5.551115123125783e-15 \n",
            "Epoch: 2050, Loss_method2: 0.0 \n"
          ]
        },
        {
          "output_type": "display_data",
          "data": {
            "image/png": "[encoded data removed]",
            "text/plain": [
              "<Figure size 432x288 with 1 Axes>"
            ]
          },
          "metadata": {
            "needs_background": "light"
          }
        }
      ]
    },
    {
      "cell_type": "code",
      "metadata": {
        "colab": {
          "base_uri": "https://localhost:8080/",
          "height": 1000
        },
        "id": "LiVyZSqyHIu7",
        "outputId": "ebae2f1e-31d0-42c8-b3ff-9fc5ff13304a"
      },
      "source": [
        "for i in range(epochs):\n",
        "  for j in range(steps):\n",
        "    data_point = np.random.randint(X.size(0))\n",
        "    x_var = Variable(X[data_point], requires_grad=False)\n",
        "    y_var = Variable(Y[data_point], requires_grad=False)\n",
        "\n",
        "    ########### Training Method-3 Model ###################################\n",
        "    optimizer_3.zero_grad()\n",
        "    y_hat_3 = model_3(x_var)\n",
        "    loss_3 = loss_func.forward(y_hat_3, y_var)\n",
        "    loss_3.backward()\n",
        "    if i% 100 == 0:\n",
        "      plot_grad_flow(model_3.named_parameters())\n",
        "    optimizer_3.step()\n",
        "\n",
        "  Loss_method3.append(loss_3)\n",
        "  \n",
        "  # Printing out Loss values for every 50 epochs\n",
        "  if i % 50 == 0:\n",
        "    print( \"Epoch: {0}, Loss_method3: {1} \".format(i, loss_3.data.numpy()))"
      ],
      "execution_count": 21,
      "outputs": [
        {
          "output_type": "stream",
          "name": "stderr",
          "text": [
            "/usr/local/lib/python3.7/dist-packages/torch/nn/functional.py:1805: UserWarning: nn.functional.sigmoid is deprecated. Use torch.sigmoid instead.\n",
            "  warnings.warn(\"nn.functional.sigmoid is deprecated. Use torch.sigmoid instead.\")\n"
          ]
        },
        {
          "output_type": "stream",
          "name": "stdout",
          "text": [
            "Epoch: 0, Loss_method3: 1.1700987815856934 \n",
            "Epoch: 50, Loss_method3: 0.19177751243114471 \n",
            "Epoch: 100, Loss_method3: 0.3406815528869629 \n",
            "Epoch: 150, Loss_method3: 0.3050433099269867 \n",
            "Epoch: 200, Loss_method3: 0.29037871956825256 \n",
            "Epoch: 250, Loss_method3: 0.19318778812885284 \n",
            "Epoch: 300, Loss_method3: 0.35131165385246277 \n",
            "Epoch: 350, Loss_method3: 0.17052024602890015 \n",
            "Epoch: 400, Loss_method3: 0.0478728711605072 \n",
            "Epoch: 450, Loss_method3: 0.4586763083934784 \n",
            "Epoch: 500, Loss_method3: 0.05950276553630829 \n",
            "Epoch: 550, Loss_method3: 0.18328848481178284 \n",
            "Epoch: 600, Loss_method3: 0.5193588733673096 \n",
            "Epoch: 650, Loss_method3: 0.5465608239173889 \n",
            "Epoch: 700, Loss_method3: 3.7604672797897365e-06 \n",
            "Epoch: 750, Loss_method3: 0.269278347492218 \n",
            "Epoch: 800, Loss_method3: 0.4484104812145233 \n",
            "Epoch: 850, Loss_method3: 0.08014635741710663 \n",
            "Epoch: 900, Loss_method3: 0.0003930474631488323 \n",
            "Epoch: 950, Loss_method3: 0.0704863965511322 \n",
            "Epoch: 1000, Loss_method3: 0.12460313737392426 \n",
            "Epoch: 1050, Loss_method3: 0.07698473334312439 \n",
            "Epoch: 1100, Loss_method3: 0.0880468413233757 \n",
            "Epoch: 1150, Loss_method3: 0.26274025440216064 \n",
            "Epoch: 1200, Loss_method3: 0.09787710011005402 \n",
            "Epoch: 1250, Loss_method3: 0.10569799691438675 \n",
            "Epoch: 1300, Loss_method3: 0.14854726195335388 \n",
            "Epoch: 1350, Loss_method3: 4.82907751120365e-07 \n",
            "Epoch: 1400, Loss_method3: 0.11840365827083588 \n",
            "Epoch: 1450, Loss_method3: 0.07783733308315277 \n",
            "Epoch: 1500, Loss_method3: 0.28262224793434143 \n",
            "Epoch: 1550, Loss_method3: 0.12334691733121872 \n",
            "Epoch: 1600, Loss_method3: 0.23330383002758026 \n",
            "Epoch: 1650, Loss_method3: 0.15615582466125488 \n",
            "Epoch: 1700, Loss_method3: 0.5257088541984558 \n",
            "Epoch: 1750, Loss_method3: 0.00043500104220584035 \n",
            "Epoch: 1800, Loss_method3: 0.34520336985588074 \n",
            "Epoch: 1850, Loss_method3: 0.3182513415813446 \n",
            "Epoch: 1900, Loss_method3: 0.00011496675870148465 \n",
            "Epoch: 1950, Loss_method3: 0.07864680886268616 \n",
            "Epoch: 2000, Loss_method3: 0.22976267337799072 \n",
            "Epoch: 2050, Loss_method3: 0.587981104850769 \n"
          ]
        },
        {
          "output_type": "display_data",
          "data": {
            "image/png": "[encoded data removed]",
            "text/plain": [
              "<Figure size 432x288 with 1 Axes>"
            ]
          },
          "metadata": {
            "needs_background": "light"
          }
        }
      ]
    },
    {
      "cell_type": "code",
      "metadata": {
        "colab": {
          "base_uri": "https://localhost:8080/",
          "height": 367
        },
        "id": "IMyzz3XqICv_",
        "outputId": "ea723aa7-61d8-4f9c-eea3-68a86750ec13"
      },
      "source": [
        "# Plotting - Loss Vs Epochs\n",
        "import matplotlib.pyplot as plt\n",
        "plt.rcParams['figure.figsize'] = [20, 5]\n",
        "plt.plot(range(0,2100,50), [x for x in Loss_method1[0::50]],label='Method_1 - 3 Linear Layers')\n",
        "plt.plot(range(0,2100,50), [x for x in Loss_method2[0::50]],label='Method_2 - 2 Linear Layers')\n",
        "plt.plot(range(0,2100,50), [x for x in Loss_method3[0::50]],label='Method_3 - 9 Linear Layers')\n",
        "plt.legend()\n",
        "plt.title(\"Method1-3Linear layers Vs Method2-2Linear Layers Vs Method3-9layers --> Loss Vs Epochs\")\n",
        "plt.xlabel(\"Epochs\")\n",
        "plt.ylabel(\"Loss\")"
      ],
      "execution_count": 27,
      "outputs": [
        {
          "output_type": "execute_result",
          "data": {
            "text/plain": [
              "Text(0, 0.5, 'Loss')"
            ]
          },
          "metadata": {},
          "execution_count": 27
        },
        {
          "output_type": "display_data",
          "data": {
            "image/png": "[encoded data removed]",
            "text/plain": [
              "<Figure size 1440x360 with 1 Axes>"
            ]
          },
          "metadata": {
            "needs_background": "light"
          }
        }
      ]
    },
    {
      "cell_type": "code",
      "metadata": {
        "colab": {
          "base_uri": "https://localhost:8080/"
        },
        "id": "Wxn6fu96IIiR",
        "outputId": "dbafbef6-9ff0-4610-8613-ff71fc6a4156"
      },
      "source": [
        "### Predictions ##########################\n",
        "y_hat_method1 = model_1(X)\n",
        "y_hat_method2 = model_2(X)\n",
        "y_hat_method3 = model_3(X)\n",
        "y_hat_method1"
      ],
      "execution_count": 23,
      "outputs": [
        {
          "output_type": "stream",
          "name": "stderr",
          "text": [
            "/usr/local/lib/python3.7/dist-packages/torch/nn/functional.py:1805: UserWarning: nn.functional.sigmoid is deprecated. Use torch.sigmoid instead.\n",
            "  warnings.warn(\"nn.functional.sigmoid is deprecated. Use torch.sigmoid instead.\")\n"
          ]
        },
        {
          "output_type": "execute_result",
          "data": {
            "text/plain": [
              "tensor([[0.],\n",
              "        [1.],\n",
              "        [1.],\n",
              "        [0.]], grad_fn=<AddmmBackward>)"
            ]
          },
          "metadata": {},
          "execution_count": 23
        }
      ]
    },
    {
      "cell_type": "code",
      "metadata": {
        "colab": {
          "base_uri": "https://localhost:8080/"
        },
        "id": "UB4U1gVJIO5i",
        "outputId": "a688c6a9-003b-4343-f708-4487874e6f34"
      },
      "source": [
        "y_hat_method3"
      ],
      "execution_count": 24,
      "outputs": [
        {
          "output_type": "execute_result",
          "data": {
            "text/plain": [
              "tensor([[-0.0011],\n",
              "        [ 0.5824],\n",
              "        [ 0.5824],\n",
              "        [ 0.5824]], grad_fn=<MmBackward>)"
            ]
          },
          "metadata": {},
          "execution_count": 24
        }
      ]
    },
    {
      "cell_type": "code",
      "metadata": {
        "colab": {
          "base_uri": "https://localhost:8080/",
          "height": 172
        },
        "id": "p8PdaI2CIRpL",
        "outputId": "6b5067ea-fbd6-4e47-9184-e371d1b55119"
      },
      "source": [
        "# Final Predictions comparison\n",
        "y_hat_method1_n,y_hat_method2_n,y_hat_method3_n,Y_actual = y_hat_method1.detach().cpu().numpy(),y_hat_method2.detach().cpu().numpy(),y_hat_method3.detach().cpu().numpy(), Y.detach().cpu().numpy() # Detaching to convert to array and send it to Dataframe\n",
        "\n",
        "import pandas as pd\n",
        "predictions_df = pd.DataFrame(data = [Y_actual.reshape(-1), y_hat_method1_n.reshape(-1),y_hat_method2_n.reshape(-1),y_hat_method3_n.reshape(-1)]).T\n",
        "predictions_df.columns=['Y_Actual','Y_method1_predi','Y_method2_predi','Y_method3_predi']\n",
        "predictions_df"
      ],
      "execution_count": 25,
      "outputs": [
        {
          "output_type": "execute_result",
          "data": {
            "text/html": [
              "<div>\n",
              "<style scoped>\n",
              "    .dataframe tbody tr th:only-of-type {\n",
              "        vertical-align: middle;\n",
              "    }\n",
              "\n",
              "    .dataframe tbody tr th {\n",
              "        vertical-align: top;\n",
              "    }\n",
              "\n",
              "    .dataframe thead th {\n",
              "        text-align: right;\n",
              "    }\n",
              "</style>\n",
              "<table border=\"1\" class=\"dataframe\">\n",
              "  <thead>\n",
              "    <tr style=\"text-align: right;\">\n",
              "      <th></th>\n",
              "      <th>Y_Actual</th>\n",
              "      <th>Y_method1_predi</th>\n",
              "      <th>Y_method2_predi</th>\n",
              "      <th>Y_method3_predi</th>\n",
              "    </tr>\n",
              "  </thead>\n",
              "  <tbody>\n",
              "    <tr>\n",
              "      <th>0</th>\n",
              "      <td>0.0</td>\n",
              "      <td>0.0</td>\n",
              "      <td>0.000000e+00</td>\n",
              "      <td>-0.001136</td>\n",
              "    </tr>\n",
              "    <tr>\n",
              "      <th>1</th>\n",
              "      <td>1.0</td>\n",
              "      <td>1.0</td>\n",
              "      <td>1.000000e+00</td>\n",
              "      <td>0.582393</td>\n",
              "    </tr>\n",
              "    <tr>\n",
              "      <th>2</th>\n",
              "      <td>1.0</td>\n",
              "      <td>1.0</td>\n",
              "      <td>1.000000e+00</td>\n",
              "      <td>0.582393</td>\n",
              "    </tr>\n",
              "    <tr>\n",
              "      <th>3</th>\n",
              "      <td>0.0</td>\n",
              "      <td>0.0</td>\n",
              "      <td>-2.980232e-08</td>\n",
              "      <td>0.582393</td>\n",
              "    </tr>\n",
              "  </tbody>\n",
              "</table>\n",
              "</div>"
            ],
            "text/plain": [
              "   Y_Actual  Y_method1_predi  Y_method2_predi  Y_method3_predi\n",
              "0       0.0              0.0     0.000000e+00        -0.001136\n",
              "1       1.0              1.0     1.000000e+00         0.582393\n",
              "2       1.0              1.0     1.000000e+00         0.582393\n",
              "3       0.0              0.0    -2.980232e-08         0.582393"
            ]
          },
          "metadata": {},
          "execution_count": 25
        }
      ]
    },
    {
      "cell_type": "markdown",
      "metadata": {
        "id": "els1zg7QoHvA"
      },
      "source": [
        "**Conclusions**\n",
        "1. Tried out 3 different neural network architectures that meet the total parameter requirement of 44.\n",
        "2. We have changed \n",
        "    * A. optimizer from SGD to ADAM, \n",
        "    * B. loss from L1 loss to MSE,\n",
        "    * C. Activation function from tanh to Sigmoid.\n",
        "    * D. Number of epochs from 300 to 2100.\n",
        "    * E. Removed activation from the last layer of all the networks\n",
        "3. Model 3 is having most number of layers (9), and observed *vanishing gradient* issue since for inner layers gradients are zero and but loss is high as well as predictions are bad.\n",
        "\n",
        "4. Model 1 and Model 2 have better predictions.\n",
        "\n"
      ]
    }
  ]
}